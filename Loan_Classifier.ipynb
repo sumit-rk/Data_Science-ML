{
  "nbformat": 4,
  "nbformat_minor": 0,
  "metadata": {
    "colab": {
      "name": "Loan_Classifier.ipynb",
      "provenance": [],
      "authorship_tag": "ABX9TyPHAQPYC47FPBxE9LDGzInq",
      "include_colab_link": true
    },
    "kernelspec": {
      "name": "python3",
      "display_name": "Python 3"
    }
  },
  "cells": [
    {
      "cell_type": "markdown",
      "metadata": {
        "id": "view-in-github",
        "colab_type": "text"
      },
      "source": [
        "<a href=\"https://colab.research.google.com/github/sumit-rk/Data_Science-ML/blob/master/Loan_Classifier.ipynb\" target=\"_parent\"><img src=\"https://colab.research.google.com/assets/colab-badge.svg\" alt=\"Open In Colab\"/></a>"
      ]
    },
    {
      "cell_type": "code",
      "metadata": {
        "id": "ylytU8q8fcen",
        "colab_type": "code",
        "colab": {}
      },
      "source": [
        "import itertools\n",
        "import numpy as np\n",
        "import matplotlib.pyplot as plt\n",
        "import pandas as pd\n",
        "import matplotlib.ticker as ticker\n",
        "from sklearn import preprocessing\n",
        "%matplotlib inline"
      ],
      "execution_count": 0,
      "outputs": []
    },
    {
      "cell_type": "code",
      "metadata": {
        "id": "jKd3CIw82Gxg",
        "colab_type": "code",
        "outputId": "0f6819a0-cbd7-4686-9db2-e180fea8d9f4",
        "colab": {
          "base_uri": "https://localhost:8080/",
          "height": 204
        }
      },
      "source": [
        "!wget -O loan_train.csv https://s3-api.us-geo.objectstorage.softlayer.net/cf-courses-data/CognitiveClass/ML0101ENv3/labs/loan_train.csv"
      ],
      "execution_count": 2,
      "outputs": [
        {
          "output_type": "stream",
          "text": [
            "--2020-05-16 07:30:11--  https://s3-api.us-geo.objectstorage.softlayer.net/cf-courses-data/CognitiveClass/ML0101ENv3/labs/loan_train.csv\n",
            "Resolving s3-api.us-geo.objectstorage.softlayer.net (s3-api.us-geo.objectstorage.softlayer.net)... 67.228.254.196\n",
            "Connecting to s3-api.us-geo.objectstorage.softlayer.net (s3-api.us-geo.objectstorage.softlayer.net)|67.228.254.196|:443... connected.\n",
            "HTTP request sent, awaiting response... 200 OK\n",
            "Length: 23101 (23K) [text/csv]\n",
            "Saving to: ‘loan_train.csv’\n",
            "\n",
            "\rloan_train.csv        0%[                    ]       0  --.-KB/s               \rloan_train.csv      100%[===================>]  22.56K  --.-KB/s    in 0.08s   \n",
            "\n",
            "2020-05-16 07:30:12 (272 KB/s) - ‘loan_train.csv’ saved [23101/23101]\n",
            "\n"
          ],
          "name": "stdout"
        }
      ]
    },
    {
      "cell_type": "code",
      "metadata": {
        "id": "DTx21RT22atH",
        "colab_type": "code",
        "outputId": "60975c4e-3098-4204-eb38-c3f58cd8897b",
        "colab": {
          "base_uri": "https://localhost:8080/",
          "height": 204
        }
      },
      "source": [
        "df = pd.read_csv('loan_train.csv')\n",
        "df.head()"
      ],
      "execution_count": 3,
      "outputs": [
        {
          "output_type": "execute_result",
          "data": {
            "text/html": [
              "<div>\n",
              "<style scoped>\n",
              "    .dataframe tbody tr th:only-of-type {\n",
              "        vertical-align: middle;\n",
              "    }\n",
              "\n",
              "    .dataframe tbody tr th {\n",
              "        vertical-align: top;\n",
              "    }\n",
              "\n",
              "    .dataframe thead th {\n",
              "        text-align: right;\n",
              "    }\n",
              "</style>\n",
              "<table border=\"1\" class=\"dataframe\">\n",
              "  <thead>\n",
              "    <tr style=\"text-align: right;\">\n",
              "      <th></th>\n",
              "      <th>Unnamed: 0</th>\n",
              "      <th>Unnamed: 0.1</th>\n",
              "      <th>loan_status</th>\n",
              "      <th>Principal</th>\n",
              "      <th>terms</th>\n",
              "      <th>effective_date</th>\n",
              "      <th>due_date</th>\n",
              "      <th>age</th>\n",
              "      <th>education</th>\n",
              "      <th>Gender</th>\n",
              "    </tr>\n",
              "  </thead>\n",
              "  <tbody>\n",
              "    <tr>\n",
              "      <th>0</th>\n",
              "      <td>0</td>\n",
              "      <td>0</td>\n",
              "      <td>PAIDOFF</td>\n",
              "      <td>1000</td>\n",
              "      <td>30</td>\n",
              "      <td>9/8/2016</td>\n",
              "      <td>10/7/2016</td>\n",
              "      <td>45</td>\n",
              "      <td>High School or Below</td>\n",
              "      <td>male</td>\n",
              "    </tr>\n",
              "    <tr>\n",
              "      <th>1</th>\n",
              "      <td>2</td>\n",
              "      <td>2</td>\n",
              "      <td>PAIDOFF</td>\n",
              "      <td>1000</td>\n",
              "      <td>30</td>\n",
              "      <td>9/8/2016</td>\n",
              "      <td>10/7/2016</td>\n",
              "      <td>33</td>\n",
              "      <td>Bechalor</td>\n",
              "      <td>female</td>\n",
              "    </tr>\n",
              "    <tr>\n",
              "      <th>2</th>\n",
              "      <td>3</td>\n",
              "      <td>3</td>\n",
              "      <td>PAIDOFF</td>\n",
              "      <td>1000</td>\n",
              "      <td>15</td>\n",
              "      <td>9/8/2016</td>\n",
              "      <td>9/22/2016</td>\n",
              "      <td>27</td>\n",
              "      <td>college</td>\n",
              "      <td>male</td>\n",
              "    </tr>\n",
              "    <tr>\n",
              "      <th>3</th>\n",
              "      <td>4</td>\n",
              "      <td>4</td>\n",
              "      <td>PAIDOFF</td>\n",
              "      <td>1000</td>\n",
              "      <td>30</td>\n",
              "      <td>9/9/2016</td>\n",
              "      <td>10/8/2016</td>\n",
              "      <td>28</td>\n",
              "      <td>college</td>\n",
              "      <td>female</td>\n",
              "    </tr>\n",
              "    <tr>\n",
              "      <th>4</th>\n",
              "      <td>6</td>\n",
              "      <td>6</td>\n",
              "      <td>PAIDOFF</td>\n",
              "      <td>1000</td>\n",
              "      <td>30</td>\n",
              "      <td>9/9/2016</td>\n",
              "      <td>10/8/2016</td>\n",
              "      <td>29</td>\n",
              "      <td>college</td>\n",
              "      <td>male</td>\n",
              "    </tr>\n",
              "  </tbody>\n",
              "</table>\n",
              "</div>"
            ],
            "text/plain": [
              "   Unnamed: 0  Unnamed: 0.1 loan_status  ...  age             education  Gender\n",
              "0           0             0     PAIDOFF  ...   45  High School or Below    male\n",
              "1           2             2     PAIDOFF  ...   33              Bechalor  female\n",
              "2           3             3     PAIDOFF  ...   27               college    male\n",
              "3           4             4     PAIDOFF  ...   28               college  female\n",
              "4           6             6     PAIDOFF  ...   29               college    male\n",
              "\n",
              "[5 rows x 10 columns]"
            ]
          },
          "metadata": {
            "tags": []
          },
          "execution_count": 3
        }
      ]
    },
    {
      "cell_type": "code",
      "metadata": {
        "id": "Yg-EOM8b2nmA",
        "colab_type": "code",
        "outputId": "3c1c88b0-eda6-4b85-e1ad-749ab240480d",
        "colab": {
          "base_uri": "https://localhost:8080/",
          "height": 34
        }
      },
      "source": [
        "df.shape"
      ],
      "execution_count": 4,
      "outputs": [
        {
          "output_type": "execute_result",
          "data": {
            "text/plain": [
              "(346, 10)"
            ]
          },
          "metadata": {
            "tags": []
          },
          "execution_count": 4
        }
      ]
    },
    {
      "cell_type": "markdown",
      "metadata": {
        "id": "w_-QTcEL2ym_",
        "colab_type": "text"
      },
      "source": [
        "# Converting to date-time object"
      ]
    },
    {
      "cell_type": "code",
      "metadata": {
        "id": "pHyxiEc23EeI",
        "colab_type": "code",
        "outputId": "08e70738-a941-42cc-afe2-72e8c4ffd4a9",
        "colab": {
          "base_uri": "https://localhost:8080/",
          "height": 204
        }
      },
      "source": [
        "df['due_date'] = pd.to_datetime(df['due_date'])\n",
        "df['effective_date'] = pd.to_datetime(df['effective_date'])\n",
        "df.head()"
      ],
      "execution_count": 5,
      "outputs": [
        {
          "output_type": "execute_result",
          "data": {
            "text/html": [
              "<div>\n",
              "<style scoped>\n",
              "    .dataframe tbody tr th:only-of-type {\n",
              "        vertical-align: middle;\n",
              "    }\n",
              "\n",
              "    .dataframe tbody tr th {\n",
              "        vertical-align: top;\n",
              "    }\n",
              "\n",
              "    .dataframe thead th {\n",
              "        text-align: right;\n",
              "    }\n",
              "</style>\n",
              "<table border=\"1\" class=\"dataframe\">\n",
              "  <thead>\n",
              "    <tr style=\"text-align: right;\">\n",
              "      <th></th>\n",
              "      <th>Unnamed: 0</th>\n",
              "      <th>Unnamed: 0.1</th>\n",
              "      <th>loan_status</th>\n",
              "      <th>Principal</th>\n",
              "      <th>terms</th>\n",
              "      <th>effective_date</th>\n",
              "      <th>due_date</th>\n",
              "      <th>age</th>\n",
              "      <th>education</th>\n",
              "      <th>Gender</th>\n",
              "    </tr>\n",
              "  </thead>\n",
              "  <tbody>\n",
              "    <tr>\n",
              "      <th>0</th>\n",
              "      <td>0</td>\n",
              "      <td>0</td>\n",
              "      <td>PAIDOFF</td>\n",
              "      <td>1000</td>\n",
              "      <td>30</td>\n",
              "      <td>2016-09-08</td>\n",
              "      <td>2016-10-07</td>\n",
              "      <td>45</td>\n",
              "      <td>High School or Below</td>\n",
              "      <td>male</td>\n",
              "    </tr>\n",
              "    <tr>\n",
              "      <th>1</th>\n",
              "      <td>2</td>\n",
              "      <td>2</td>\n",
              "      <td>PAIDOFF</td>\n",
              "      <td>1000</td>\n",
              "      <td>30</td>\n",
              "      <td>2016-09-08</td>\n",
              "      <td>2016-10-07</td>\n",
              "      <td>33</td>\n",
              "      <td>Bechalor</td>\n",
              "      <td>female</td>\n",
              "    </tr>\n",
              "    <tr>\n",
              "      <th>2</th>\n",
              "      <td>3</td>\n",
              "      <td>3</td>\n",
              "      <td>PAIDOFF</td>\n",
              "      <td>1000</td>\n",
              "      <td>15</td>\n",
              "      <td>2016-09-08</td>\n",
              "      <td>2016-09-22</td>\n",
              "      <td>27</td>\n",
              "      <td>college</td>\n",
              "      <td>male</td>\n",
              "    </tr>\n",
              "    <tr>\n",
              "      <th>3</th>\n",
              "      <td>4</td>\n",
              "      <td>4</td>\n",
              "      <td>PAIDOFF</td>\n",
              "      <td>1000</td>\n",
              "      <td>30</td>\n",
              "      <td>2016-09-09</td>\n",
              "      <td>2016-10-08</td>\n",
              "      <td>28</td>\n",
              "      <td>college</td>\n",
              "      <td>female</td>\n",
              "    </tr>\n",
              "    <tr>\n",
              "      <th>4</th>\n",
              "      <td>6</td>\n",
              "      <td>6</td>\n",
              "      <td>PAIDOFF</td>\n",
              "      <td>1000</td>\n",
              "      <td>30</td>\n",
              "      <td>2016-09-09</td>\n",
              "      <td>2016-10-08</td>\n",
              "      <td>29</td>\n",
              "      <td>college</td>\n",
              "      <td>male</td>\n",
              "    </tr>\n",
              "  </tbody>\n",
              "</table>\n",
              "</div>"
            ],
            "text/plain": [
              "   Unnamed: 0  Unnamed: 0.1 loan_status  ...  age             education  Gender\n",
              "0           0             0     PAIDOFF  ...   45  High School or Below    male\n",
              "1           2             2     PAIDOFF  ...   33              Bechalor  female\n",
              "2           3             3     PAIDOFF  ...   27               college    male\n",
              "3           4             4     PAIDOFF  ...   28               college  female\n",
              "4           6             6     PAIDOFF  ...   29               college    male\n",
              "\n",
              "[5 rows x 10 columns]"
            ]
          },
          "metadata": {
            "tags": []
          },
          "execution_count": 5
        }
      ]
    },
    {
      "cell_type": "markdown",
      "metadata": {
        "id": "qSkAVz_T33CU",
        "colab_type": "text"
      },
      "source": [
        "# Data Visualization and Preprocessing"
      ]
    },
    {
      "cell_type": "markdown",
      "metadata": {
        "id": "HnWFsJEH4NB2",
        "colab_type": "text"
      },
      "source": [
        "Let's see how many candidates paid the loans and how many didn't "
      ]
    },
    {
      "cell_type": "code",
      "metadata": {
        "id": "aU0J7_v631A2",
        "colab_type": "code",
        "outputId": "d73bb7ad-ea86-4e41-d921-3090fe4bbe17",
        "colab": {
          "base_uri": "https://localhost:8080/",
          "height": 68
        }
      },
      "source": [
        "df['loan_status'].value_counts()"
      ],
      "execution_count": 6,
      "outputs": [
        {
          "output_type": "execute_result",
          "data": {
            "text/plain": [
              "PAIDOFF       260\n",
              "COLLECTION     86\n",
              "Name: loan_status, dtype: int64"
            ]
          },
          "metadata": {
            "tags": []
          },
          "execution_count": 6
        }
      ]
    },
    {
      "cell_type": "markdown",
      "metadata": {
        "id": "bqIqQcyu4vI8",
        "colab_type": "text"
      },
      "source": [
        "So we can see that 260 candidates paid off the loans."
      ]
    },
    {
      "cell_type": "markdown",
      "metadata": {
        "id": "_QYiZRuR46nz",
        "colab_type": "text"
      },
      "source": [
        "For better understanding let's plot some graphs."
      ]
    },
    {
      "cell_type": "code",
      "metadata": {
        "id": "zMklb-4s4497",
        "colab_type": "code",
        "outputId": "75e9587e-e781-487a-87aa-042d03848718",
        "colab": {
          "base_uri": "https://localhost:8080/",
          "height": 259
        }
      },
      "source": [
        "import seaborn as sns\n",
        "\n",
        "bins = np.linspace(df.Principal.min(),df.Principal.max(),10)\n",
        "g = sns.FacetGrid(df,col=\"Gender\",hue=\"loan_status\",palette=\"Set3\",col_wrap=2)\n",
        "g.map(plt.hist,'Principal',bins=bins,ec=\"k\")\n",
        "\n",
        "g.axes[1].legend()\n",
        "plt.show()"
      ],
      "execution_count": 7,
      "outputs": [
        {
          "output_type": "stream",
          "text": [
            "/usr/local/lib/python3.6/dist-packages/statsmodels/tools/_testing.py:19: FutureWarning: pandas.util.testing is deprecated. Use the functions in the public API at pandas.testing instead.\n",
            "  import pandas.util.testing as tm\n"
          ],
          "name": "stderr"
        },
        {
          "output_type": "display_data",
          "data": {
            "image/png": "[encoded data removed]",
            "text/plain": [
              "<Figure size 432x216 with 2 Axes>"
            ]
          },
          "metadata": {
            "tags": [],
            "needs_background": "light"
          }
        }
      ]
    },
    {
      "cell_type": "code",
      "metadata": {
        "id": "2518go0p95Cd",
        "colab_type": "code",
        "outputId": "d54c7774-933e-4ecc-cd1b-9a51ce9ddfb5",
        "colab": {
          "base_uri": "https://localhost:8080/",
          "height": 225
        }
      },
      "source": [
        "bins = np.linspace(df.age.min(),df.age.max(),10)\n",
        "\n",
        "g = sns.FacetGrid(df,col=\"Gender\",hue = \"loan_status\",palette=\"Set3\",col_wrap=2)\n",
        "g.map(plt.hist,'age',bins=bins,ec=\"k\")\n",
        "\n",
        "g.axes[1].legend()\n",
        "plt.show()"
      ],
      "execution_count": 8,
      "outputs": [
        {
          "output_type": "display_data",
          "data": {
            "image/png": "[encoded data removed]",
            "text/plain": [
              "<Figure size 432x216 with 2 Axes>"
            ]
          },
          "metadata": {
            "tags": [],
            "needs_background": "light"
          }
        }
      ]
    },
    {
      "cell_type": "markdown",
      "metadata": {
        "id": "M_l6e-hG_xJT",
        "colab_type": "text"
      },
      "source": [
        "# Pre-processing : Feature Selection and Extraction for model"
      ]
    },
    {
      "cell_type": "code",
      "metadata": {
        "id": "VZzt-RPFAQmE",
        "colab_type": "code",
        "outputId": "525864f1-4bf0-4bd3-e2b3-a305ec7f438f",
        "colab": {
          "base_uri": "https://localhost:8080/",
          "height": 225
        }
      },
      "source": [
        "df['dayofweek'] = df['effective_date'].dt.dayofweek\n",
        "bins = np.linspace(df.dayofweek.min(),df.dayofweek.max(),10)\n",
        "g = sns.FacetGrid(df,col=\"Gender\",hue=\"loan_status\",palette=\"Set3\",col_wrap=2)\n",
        "g.map(plt.hist,'dayofweek',bins=bins,ec=\"k\")\n",
        "g.axes[-1].legend()\n",
        "plt.show()"
      ],
      "execution_count": 9,
      "outputs": [
        {
          "output_type": "display_data",
          "data": {
            "image/png": "[encoded data removed]",
            "text/plain": [
              "<Figure size 432x216 with 2 Axes>"
            ]
          },
          "metadata": {
            "tags": [],
            "needs_background": "light"
          }
        }
      ]
    },
    {
      "cell_type": "markdown",
      "metadata": {
        "id": "NEq402YQB7ar",
        "colab_type": "text"
      },
      "source": [
        "As we can observe that people who took loan at the end of week, didn't pay off."
      ]
    },
    {
      "cell_type": "code",
      "metadata": {
        "id": "4zzl6FP1CMvX",
        "colab_type": "code",
        "outputId": "008411f9-955d-47a1-8242-9642ef59e68b",
        "colab": {
          "base_uri": "https://localhost:8080/",
          "height": 204
        }
      },
      "source": [
        "df['weekend'] = df['dayofweek'].apply(lambda x: 1 if (x>3) else 0)\n",
        "df.head()"
      ],
      "execution_count": 10,
      "outputs": [
        {
          "output_type": "execute_result",
          "data": {
            "text/html": [
              "<div>\n",
              "<style scoped>\n",
              "    .dataframe tbody tr th:only-of-type {\n",
              "        vertical-align: middle;\n",
              "    }\n",
              "\n",
              "    .dataframe tbody tr th {\n",
              "        vertical-align: top;\n",
              "    }\n",
              "\n",
              "    .dataframe thead th {\n",
              "        text-align: right;\n",
              "    }\n",
              "</style>\n",
              "<table border=\"1\" class=\"dataframe\">\n",
              "  <thead>\n",
              "    <tr style=\"text-align: right;\">\n",
              "      <th></th>\n",
              "      <th>Unnamed: 0</th>\n",
              "      <th>Unnamed: 0.1</th>\n",
              "      <th>loan_status</th>\n",
              "      <th>Principal</th>\n",
              "      <th>terms</th>\n",
              "      <th>effective_date</th>\n",
              "      <th>due_date</th>\n",
              "      <th>age</th>\n",
              "      <th>education</th>\n",
              "      <th>Gender</th>\n",
              "      <th>dayofweek</th>\n",
              "      <th>weekend</th>\n",
              "    </tr>\n",
              "  </thead>\n",
              "  <tbody>\n",
              "    <tr>\n",
              "      <th>0</th>\n",
              "      <td>0</td>\n",
              "      <td>0</td>\n",
              "      <td>PAIDOFF</td>\n",
              "      <td>1000</td>\n",
              "      <td>30</td>\n",
              "      <td>2016-09-08</td>\n",
              "      <td>2016-10-07</td>\n",
              "      <td>45</td>\n",
              "      <td>High School or Below</td>\n",
              "      <td>male</td>\n",
              "      <td>3</td>\n",
              "      <td>0</td>\n",
              "    </tr>\n",
              "    <tr>\n",
              "      <th>1</th>\n",
              "      <td>2</td>\n",
              "      <td>2</td>\n",
              "      <td>PAIDOFF</td>\n",
              "      <td>1000</td>\n",
              "      <td>30</td>\n",
              "      <td>2016-09-08</td>\n",
              "      <td>2016-10-07</td>\n",
              "      <td>33</td>\n",
              "      <td>Bechalor</td>\n",
              "      <td>female</td>\n",
              "      <td>3</td>\n",
              "      <td>0</td>\n",
              "    </tr>\n",
              "    <tr>\n",
              "      <th>2</th>\n",
              "      <td>3</td>\n",
              "      <td>3</td>\n",
              "      <td>PAIDOFF</td>\n",
              "      <td>1000</td>\n",
              "      <td>15</td>\n",
              "      <td>2016-09-08</td>\n",
              "      <td>2016-09-22</td>\n",
              "      <td>27</td>\n",
              "      <td>college</td>\n",
              "      <td>male</td>\n",
              "      <td>3</td>\n",
              "      <td>0</td>\n",
              "    </tr>\n",
              "    <tr>\n",
              "      <th>3</th>\n",
              "      <td>4</td>\n",
              "      <td>4</td>\n",
              "      <td>PAIDOFF</td>\n",
              "      <td>1000</td>\n",
              "      <td>30</td>\n",
              "      <td>2016-09-09</td>\n",
              "      <td>2016-10-08</td>\n",
              "      <td>28</td>\n",
              "      <td>college</td>\n",
              "      <td>female</td>\n",
              "      <td>4</td>\n",
              "      <td>1</td>\n",
              "    </tr>\n",
              "    <tr>\n",
              "      <th>4</th>\n",
              "      <td>6</td>\n",
              "      <td>6</td>\n",
              "      <td>PAIDOFF</td>\n",
              "      <td>1000</td>\n",
              "      <td>30</td>\n",
              "      <td>2016-09-09</td>\n",
              "      <td>2016-10-08</td>\n",
              "      <td>29</td>\n",
              "      <td>college</td>\n",
              "      <td>male</td>\n",
              "      <td>4</td>\n",
              "      <td>1</td>\n",
              "    </tr>\n",
              "  </tbody>\n",
              "</table>\n",
              "</div>"
            ],
            "text/plain": [
              "   Unnamed: 0  Unnamed: 0.1 loan_status  ...  Gender  dayofweek weekend\n",
              "0           0             0     PAIDOFF  ...    male          3       0\n",
              "1           2             2     PAIDOFF  ...  female          3       0\n",
              "2           3             3     PAIDOFF  ...    male          3       0\n",
              "3           4             4     PAIDOFF  ...  female          4       1\n",
              "4           6             6     PAIDOFF  ...    male          4       1\n",
              "\n",
              "[5 rows x 12 columns]"
            ]
          },
          "metadata": {
            "tags": []
          },
          "execution_count": 10
        }
      ]
    },
    {
      "cell_type": "markdown",
      "metadata": {
        "id": "Bay9YzJd4p4T",
        "colab_type": "text"
      },
      "source": [
        "**Let's look at the months of the loans**"
      ]
    },
    {
      "cell_type": "code",
      "metadata": {
        "id": "o7b3Prg04-PW",
        "colab_type": "code",
        "outputId": "bcc1516e-9209-46d6-c93b-d7d7a22eca05",
        "colab": {
          "base_uri": "https://localhost:8080/",
          "height": 225
        }
      },
      "source": [
        "df['Month'] = df.due_date.dt.month\n",
        "bins = np.linspace(df.Month.min()-1,df.Month.max()+1,10)\n",
        "g = sns.FacetGrid(df,col=\"Gender\",hue = \"loan_status\",palette =\"Set3\",col_wrap=2)\n",
        "g.map(plt.hist,'Month',bins = bins, ec=\"k\")\n",
        "g.axes[-1].legend()\n",
        "plt.show()"
      ],
      "execution_count": 11,
      "outputs": [
        {
          "output_type": "display_data",
          "data": {
            "image/png": "[encoded data removed]",
            "text/plain": [
              "<Figure size 432x216 with 2 Axes>"
            ]
          },
          "metadata": {
            "tags": [],
            "needs_background": "light"
          }
        }
      ]
    },
    {
      "cell_type": "markdown",
      "metadata": {
        "id": "wITEyayJDT0Z",
        "colab_type": "text"
      },
      "source": [
        "# Converting Categorical features to numerical values "
      ]
    },
    {
      "cell_type": "markdown",
      "metadata": {
        "id": "qW_uwuRkDluc",
        "colab_type": "text"
      },
      "source": [
        "**GENDER**"
      ]
    },
    {
      "cell_type": "code",
      "metadata": {
        "id": "u9rOUtWgDRuc",
        "colab_type": "code",
        "outputId": "224d39a4-b959-41c1-e2af-ab60bd6614f8",
        "colab": {
          "base_uri": "https://localhost:8080/",
          "height": 119
        }
      },
      "source": [
        "df.groupby(['Gender'])['loan_status'].value_counts(normalize=True)"
      ],
      "execution_count": 12,
      "outputs": [
        {
          "output_type": "execute_result",
          "data": {
            "text/plain": [
              "Gender  loan_status\n",
              "female  PAIDOFF        0.865385\n",
              "        COLLECTION     0.134615\n",
              "male    PAIDOFF        0.731293\n",
              "        COLLECTION     0.268707\n",
              "Name: loan_status, dtype: float64"
            ]
          },
          "metadata": {
            "tags": []
          },
          "execution_count": 12
        }
      ]
    },
    {
      "cell_type": "markdown",
      "metadata": {
        "id": "_WbxPFepEFQl",
        "colab_type": "text"
      },
      "source": [
        "86% of female paid their loans and 73% of males paid their loan."
      ]
    },
    {
      "cell_type": "markdown",
      "metadata": {
        "id": "rONz-zE5EWku",
        "colab_type": "text"
      },
      "source": [
        "Let's do the binarization of Gender\n",
        "by setting Male to 0 and Female to 1."
      ]
    },
    {
      "cell_type": "code",
      "metadata": {
        "id": "KTkg9XFrEkGR",
        "colab_type": "code",
        "outputId": "8c592648-5186-44dd-f0c2-9b28ea8424fd",
        "colab": {
          "base_uri": "https://localhost:8080/",
          "height": 204
        }
      },
      "source": [
        "#df.Gender[df.Gender =='male'] =0\n",
        "#df.Gender[df.Gender =='female']=1\n",
        "df.replace(to_replace=['male','female'],value=[0,1],inplace=True)\n",
        "df.head()"
      ],
      "execution_count": 13,
      "outputs": [
        {
          "output_type": "execute_result",
          "data": {
            "text/html": [
              "<div>\n",
              "<style scoped>\n",
              "    .dataframe tbody tr th:only-of-type {\n",
              "        vertical-align: middle;\n",
              "    }\n",
              "\n",
              "    .dataframe tbody tr th {\n",
              "        vertical-align: top;\n",
              "    }\n",
              "\n",
              "    .dataframe thead th {\n",
              "        text-align: right;\n",
              "    }\n",
              "</style>\n",
              "<table border=\"1\" class=\"dataframe\">\n",
              "  <thead>\n",
              "    <tr style=\"text-align: right;\">\n",
              "      <th></th>\n",
              "      <th>Unnamed: 0</th>\n",
              "      <th>Unnamed: 0.1</th>\n",
              "      <th>loan_status</th>\n",
              "      <th>Principal</th>\n",
              "      <th>terms</th>\n",
              "      <th>effective_date</th>\n",
              "      <th>due_date</th>\n",
              "      <th>age</th>\n",
              "      <th>education</th>\n",
              "      <th>Gender</th>\n",
              "      <th>dayofweek</th>\n",
              "      <th>weekend</th>\n",
              "      <th>Month</th>\n",
              "    </tr>\n",
              "  </thead>\n",
              "  <tbody>\n",
              "    <tr>\n",
              "      <th>0</th>\n",
              "      <td>0</td>\n",
              "      <td>0</td>\n",
              "      <td>PAIDOFF</td>\n",
              "      <td>1000</td>\n",
              "      <td>30</td>\n",
              "      <td>2016-09-08</td>\n",
              "      <td>2016-10-07</td>\n",
              "      <td>45</td>\n",
              "      <td>High School or Below</td>\n",
              "      <td>0</td>\n",
              "      <td>3</td>\n",
              "      <td>0</td>\n",
              "      <td>10</td>\n",
              "    </tr>\n",
              "    <tr>\n",
              "      <th>1</th>\n",
              "      <td>2</td>\n",
              "      <td>2</td>\n",
              "      <td>PAIDOFF</td>\n",
              "      <td>1000</td>\n",
              "      <td>30</td>\n",
              "      <td>2016-09-08</td>\n",
              "      <td>2016-10-07</td>\n",
              "      <td>33</td>\n",
              "      <td>Bechalor</td>\n",
              "      <td>1</td>\n",
              "      <td>3</td>\n",
              "      <td>0</td>\n",
              "      <td>10</td>\n",
              "    </tr>\n",
              "    <tr>\n",
              "      <th>2</th>\n",
              "      <td>3</td>\n",
              "      <td>3</td>\n",
              "      <td>PAIDOFF</td>\n",
              "      <td>1000</td>\n",
              "      <td>15</td>\n",
              "      <td>2016-09-08</td>\n",
              "      <td>2016-09-22</td>\n",
              "      <td>27</td>\n",
              "      <td>college</td>\n",
              "      <td>0</td>\n",
              "      <td>3</td>\n",
              "      <td>0</td>\n",
              "      <td>9</td>\n",
              "    </tr>\n",
              "    <tr>\n",
              "      <th>3</th>\n",
              "      <td>4</td>\n",
              "      <td>4</td>\n",
              "      <td>PAIDOFF</td>\n",
              "      <td>1000</td>\n",
              "      <td>30</td>\n",
              "      <td>2016-09-09</td>\n",
              "      <td>2016-10-08</td>\n",
              "      <td>28</td>\n",
              "      <td>college</td>\n",
              "      <td>1</td>\n",
              "      <td>4</td>\n",
              "      <td>1</td>\n",
              "      <td>10</td>\n",
              "    </tr>\n",
              "    <tr>\n",
              "      <th>4</th>\n",
              "      <td>6</td>\n",
              "      <td>6</td>\n",
              "      <td>PAIDOFF</td>\n",
              "      <td>1000</td>\n",
              "      <td>30</td>\n",
              "      <td>2016-09-09</td>\n",
              "      <td>2016-10-08</td>\n",
              "      <td>29</td>\n",
              "      <td>college</td>\n",
              "      <td>0</td>\n",
              "      <td>4</td>\n",
              "      <td>1</td>\n",
              "      <td>10</td>\n",
              "    </tr>\n",
              "  </tbody>\n",
              "</table>\n",
              "</div>"
            ],
            "text/plain": [
              "   Unnamed: 0  Unnamed: 0.1 loan_status  ...  dayofweek  weekend Month\n",
              "0           0             0     PAIDOFF  ...          3        0    10\n",
              "1           2             2     PAIDOFF  ...          3        0    10\n",
              "2           3             3     PAIDOFF  ...          3        0     9\n",
              "3           4             4     PAIDOFF  ...          4        1    10\n",
              "4           6             6     PAIDOFF  ...          4        1    10\n",
              "\n",
              "[5 rows x 13 columns]"
            ]
          },
          "metadata": {
            "tags": []
          },
          "execution_count": 13
        }
      ]
    },
    {
      "cell_type": "code",
      "metadata": {
        "id": "h4bKo1Sw7YZV",
        "colab_type": "code",
        "outputId": "41f7785e-b819-4da9-ee75-9299736b6f7d",
        "colab": {
          "base_uri": "https://localhost:8080/",
          "height": 204
        }
      },
      "source": [
        "df['deadline'] = df['due_date']-df['effective_date']\n",
        "df.head()"
      ],
      "execution_count": 14,
      "outputs": [
        {
          "output_type": "execute_result",
          "data": {
            "text/html": [
              "<div>\n",
              "<style scoped>\n",
              "    .dataframe tbody tr th:only-of-type {\n",
              "        vertical-align: middle;\n",
              "    }\n",
              "\n",
              "    .dataframe tbody tr th {\n",
              "        vertical-align: top;\n",
              "    }\n",
              "\n",
              "    .dataframe thead th {\n",
              "        text-align: right;\n",
              "    }\n",
              "</style>\n",
              "<table border=\"1\" class=\"dataframe\">\n",
              "  <thead>\n",
              "    <tr style=\"text-align: right;\">\n",
              "      <th></th>\n",
              "      <th>Unnamed: 0</th>\n",
              "      <th>Unnamed: 0.1</th>\n",
              "      <th>loan_status</th>\n",
              "      <th>Principal</th>\n",
              "      <th>terms</th>\n",
              "      <th>effective_date</th>\n",
              "      <th>due_date</th>\n",
              "      <th>age</th>\n",
              "      <th>education</th>\n",
              "      <th>Gender</th>\n",
              "      <th>dayofweek</th>\n",
              "      <th>weekend</th>\n",
              "      <th>Month</th>\n",
              "      <th>deadline</th>\n",
              "    </tr>\n",
              "  </thead>\n",
              "  <tbody>\n",
              "    <tr>\n",
              "      <th>0</th>\n",
              "      <td>0</td>\n",
              "      <td>0</td>\n",
              "      <td>PAIDOFF</td>\n",
              "      <td>1000</td>\n",
              "      <td>30</td>\n",
              "      <td>2016-09-08</td>\n",
              "      <td>2016-10-07</td>\n",
              "      <td>45</td>\n",
              "      <td>High School or Below</td>\n",
              "      <td>0</td>\n",
              "      <td>3</td>\n",
              "      <td>0</td>\n",
              "      <td>10</td>\n",
              "      <td>29 days</td>\n",
              "    </tr>\n",
              "    <tr>\n",
              "      <th>1</th>\n",
              "      <td>2</td>\n",
              "      <td>2</td>\n",
              "      <td>PAIDOFF</td>\n",
              "      <td>1000</td>\n",
              "      <td>30</td>\n",
              "      <td>2016-09-08</td>\n",
              "      <td>2016-10-07</td>\n",
              "      <td>33</td>\n",
              "      <td>Bechalor</td>\n",
              "      <td>1</td>\n",
              "      <td>3</td>\n",
              "      <td>0</td>\n",
              "      <td>10</td>\n",
              "      <td>29 days</td>\n",
              "    </tr>\n",
              "    <tr>\n",
              "      <th>2</th>\n",
              "      <td>3</td>\n",
              "      <td>3</td>\n",
              "      <td>PAIDOFF</td>\n",
              "      <td>1000</td>\n",
              "      <td>15</td>\n",
              "      <td>2016-09-08</td>\n",
              "      <td>2016-09-22</td>\n",
              "      <td>27</td>\n",
              "      <td>college</td>\n",
              "      <td>0</td>\n",
              "      <td>3</td>\n",
              "      <td>0</td>\n",
              "      <td>9</td>\n",
              "      <td>14 days</td>\n",
              "    </tr>\n",
              "    <tr>\n",
              "      <th>3</th>\n",
              "      <td>4</td>\n",
              "      <td>4</td>\n",
              "      <td>PAIDOFF</td>\n",
              "      <td>1000</td>\n",
              "      <td>30</td>\n",
              "      <td>2016-09-09</td>\n",
              "      <td>2016-10-08</td>\n",
              "      <td>28</td>\n",
              "      <td>college</td>\n",
              "      <td>1</td>\n",
              "      <td>4</td>\n",
              "      <td>1</td>\n",
              "      <td>10</td>\n",
              "      <td>29 days</td>\n",
              "    </tr>\n",
              "    <tr>\n",
              "      <th>4</th>\n",
              "      <td>6</td>\n",
              "      <td>6</td>\n",
              "      <td>PAIDOFF</td>\n",
              "      <td>1000</td>\n",
              "      <td>30</td>\n",
              "      <td>2016-09-09</td>\n",
              "      <td>2016-10-08</td>\n",
              "      <td>29</td>\n",
              "      <td>college</td>\n",
              "      <td>0</td>\n",
              "      <td>4</td>\n",
              "      <td>1</td>\n",
              "      <td>10</td>\n",
              "      <td>29 days</td>\n",
              "    </tr>\n",
              "  </tbody>\n",
              "</table>\n",
              "</div>"
            ],
            "text/plain": [
              "   Unnamed: 0  Unnamed: 0.1 loan_status  ...  weekend  Month deadline\n",
              "0           0             0     PAIDOFF  ...        0     10  29 days\n",
              "1           2             2     PAIDOFF  ...        0     10  29 days\n",
              "2           3             3     PAIDOFF  ...        0      9  14 days\n",
              "3           4             4     PAIDOFF  ...        1     10  29 days\n",
              "4           6             6     PAIDOFF  ...        1     10  29 days\n",
              "\n",
              "[5 rows x 14 columns]"
            ]
          },
          "metadata": {
            "tags": []
          },
          "execution_count": 14
        }
      ]
    },
    {
      "cell_type": "code",
      "metadata": {
        "id": "Wkqw3jUM7t4l",
        "colab_type": "code",
        "outputId": "80ff7a2c-f263-4fd4-e538-a6230cba30b1",
        "colab": {
          "base_uri": "https://localhost:8080/",
          "height": 204
        }
      },
      "source": [
        "df['deadline']=df['deadline'].dt.days\n",
        "df.head()"
      ],
      "execution_count": 15,
      "outputs": [
        {
          "output_type": "execute_result",
          "data": {
            "text/html": [
              "<div>\n",
              "<style scoped>\n",
              "    .dataframe tbody tr th:only-of-type {\n",
              "        vertical-align: middle;\n",
              "    }\n",
              "\n",
              "    .dataframe tbody tr th {\n",
              "        vertical-align: top;\n",
              "    }\n",
              "\n",
              "    .dataframe thead th {\n",
              "        text-align: right;\n",
              "    }\n",
              "</style>\n",
              "<table border=\"1\" class=\"dataframe\">\n",
              "  <thead>\n",
              "    <tr style=\"text-align: right;\">\n",
              "      <th></th>\n",
              "      <th>Unnamed: 0</th>\n",
              "      <th>Unnamed: 0.1</th>\n",
              "      <th>loan_status</th>\n",
              "      <th>Principal</th>\n",
              "      <th>terms</th>\n",
              "      <th>effective_date</th>\n",
              "      <th>due_date</th>\n",
              "      <th>age</th>\n",
              "      <th>education</th>\n",
              "      <th>Gender</th>\n",
              "      <th>dayofweek</th>\n",
              "      <th>weekend</th>\n",
              "      <th>Month</th>\n",
              "      <th>deadline</th>\n",
              "    </tr>\n",
              "  </thead>\n",
              "  <tbody>\n",
              "    <tr>\n",
              "      <th>0</th>\n",
              "      <td>0</td>\n",
              "      <td>0</td>\n",
              "      <td>PAIDOFF</td>\n",
              "      <td>1000</td>\n",
              "      <td>30</td>\n",
              "      <td>2016-09-08</td>\n",
              "      <td>2016-10-07</td>\n",
              "      <td>45</td>\n",
              "      <td>High School or Below</td>\n",
              "      <td>0</td>\n",
              "      <td>3</td>\n",
              "      <td>0</td>\n",
              "      <td>10</td>\n",
              "      <td>29</td>\n",
              "    </tr>\n",
              "    <tr>\n",
              "      <th>1</th>\n",
              "      <td>2</td>\n",
              "      <td>2</td>\n",
              "      <td>PAIDOFF</td>\n",
              "      <td>1000</td>\n",
              "      <td>30</td>\n",
              "      <td>2016-09-08</td>\n",
              "      <td>2016-10-07</td>\n",
              "      <td>33</td>\n",
              "      <td>Bechalor</td>\n",
              "      <td>1</td>\n",
              "      <td>3</td>\n",
              "      <td>0</td>\n",
              "      <td>10</td>\n",
              "      <td>29</td>\n",
              "    </tr>\n",
              "    <tr>\n",
              "      <th>2</th>\n",
              "      <td>3</td>\n",
              "      <td>3</td>\n",
              "      <td>PAIDOFF</td>\n",
              "      <td>1000</td>\n",
              "      <td>15</td>\n",
              "      <td>2016-09-08</td>\n",
              "      <td>2016-09-22</td>\n",
              "      <td>27</td>\n",
              "      <td>college</td>\n",
              "      <td>0</td>\n",
              "      <td>3</td>\n",
              "      <td>0</td>\n",
              "      <td>9</td>\n",
              "      <td>14</td>\n",
              "    </tr>\n",
              "    <tr>\n",
              "      <th>3</th>\n",
              "      <td>4</td>\n",
              "      <td>4</td>\n",
              "      <td>PAIDOFF</td>\n",
              "      <td>1000</td>\n",
              "      <td>30</td>\n",
              "      <td>2016-09-09</td>\n",
              "      <td>2016-10-08</td>\n",
              "      <td>28</td>\n",
              "      <td>college</td>\n",
              "      <td>1</td>\n",
              "      <td>4</td>\n",
              "      <td>1</td>\n",
              "      <td>10</td>\n",
              "      <td>29</td>\n",
              "    </tr>\n",
              "    <tr>\n",
              "      <th>4</th>\n",
              "      <td>6</td>\n",
              "      <td>6</td>\n",
              "      <td>PAIDOFF</td>\n",
              "      <td>1000</td>\n",
              "      <td>30</td>\n",
              "      <td>2016-09-09</td>\n",
              "      <td>2016-10-08</td>\n",
              "      <td>29</td>\n",
              "      <td>college</td>\n",
              "      <td>0</td>\n",
              "      <td>4</td>\n",
              "      <td>1</td>\n",
              "      <td>10</td>\n",
              "      <td>29</td>\n",
              "    </tr>\n",
              "  </tbody>\n",
              "</table>\n",
              "</div>"
            ],
            "text/plain": [
              "   Unnamed: 0  Unnamed: 0.1 loan_status  ...  weekend  Month deadline\n",
              "0           0             0     PAIDOFF  ...        0     10       29\n",
              "1           2             2     PAIDOFF  ...        0     10       29\n",
              "2           3             3     PAIDOFF  ...        0      9       14\n",
              "3           4             4     PAIDOFF  ...        1     10       29\n",
              "4           6             6     PAIDOFF  ...        1     10       29\n",
              "\n",
              "[5 rows x 14 columns]"
            ]
          },
          "metadata": {
            "tags": []
          },
          "execution_count": 15
        }
      ]
    },
    {
      "cell_type": "markdown",
      "metadata": {
        "id": "gtN67nSfHkZT",
        "colab_type": "text"
      },
      "source": [
        "**EDUCATION**"
      ]
    },
    {
      "cell_type": "code",
      "metadata": {
        "id": "680WTI9lHqZZ",
        "colab_type": "code",
        "outputId": "aa8193e1-6d9e-4ceb-bd63-fbd2ea866cad",
        "colab": {
          "base_uri": "https://localhost:8080/",
          "height": 187
        }
      },
      "source": [
        "df.groupby(['education'])['loan_status'].value_counts(normalize=True)"
      ],
      "execution_count": 16,
      "outputs": [
        {
          "output_type": "execute_result",
          "data": {
            "text/plain": [
              "education             loan_status\n",
              "Bechalor              PAIDOFF        0.750000\n",
              "                      COLLECTION     0.250000\n",
              "High School or Below  PAIDOFF        0.741722\n",
              "                      COLLECTION     0.258278\n",
              "Master or Above       COLLECTION     0.500000\n",
              "                      PAIDOFF        0.500000\n",
              "college               PAIDOFF        0.765101\n",
              "                      COLLECTION     0.234899\n",
              "Name: loan_status, dtype: float64"
            ]
          },
          "metadata": {
            "tags": []
          },
          "execution_count": 16
        }
      ]
    },
    {
      "cell_type": "markdown",
      "metadata": {
        "id": "uyyV9CWFILI9",
        "colab_type": "text"
      },
      "source": [
        "**Features before Encoding** "
      ]
    },
    {
      "cell_type": "code",
      "metadata": {
        "id": "Tyqun1b3IJ_S",
        "colab_type": "code",
        "outputId": "5f834635-f175-4f47-9974-8918df547815",
        "colab": {
          "base_uri": "https://localhost:8080/",
          "height": 204
        }
      },
      "source": [
        "df[['Principal','terms','age','Gender','education']].head()"
      ],
      "execution_count": 17,
      "outputs": [
        {
          "output_type": "execute_result",
          "data": {
            "text/html": [
              "<div>\n",
              "<style scoped>\n",
              "    .dataframe tbody tr th:only-of-type {\n",
              "        vertical-align: middle;\n",
              "    }\n",
              "\n",
              "    .dataframe tbody tr th {\n",
              "        vertical-align: top;\n",
              "    }\n",
              "\n",
              "    .dataframe thead th {\n",
              "        text-align: right;\n",
              "    }\n",
              "</style>\n",
              "<table border=\"1\" class=\"dataframe\">\n",
              "  <thead>\n",
              "    <tr style=\"text-align: right;\">\n",
              "      <th></th>\n",
              "      <th>Principal</th>\n",
              "      <th>terms</th>\n",
              "      <th>age</th>\n",
              "      <th>Gender</th>\n",
              "      <th>education</th>\n",
              "    </tr>\n",
              "  </thead>\n",
              "  <tbody>\n",
              "    <tr>\n",
              "      <th>0</th>\n",
              "      <td>1000</td>\n",
              "      <td>30</td>\n",
              "      <td>45</td>\n",
              "      <td>0</td>\n",
              "      <td>High School or Below</td>\n",
              "    </tr>\n",
              "    <tr>\n",
              "      <th>1</th>\n",
              "      <td>1000</td>\n",
              "      <td>30</td>\n",
              "      <td>33</td>\n",
              "      <td>1</td>\n",
              "      <td>Bechalor</td>\n",
              "    </tr>\n",
              "    <tr>\n",
              "      <th>2</th>\n",
              "      <td>1000</td>\n",
              "      <td>15</td>\n",
              "      <td>27</td>\n",
              "      <td>0</td>\n",
              "      <td>college</td>\n",
              "    </tr>\n",
              "    <tr>\n",
              "      <th>3</th>\n",
              "      <td>1000</td>\n",
              "      <td>30</td>\n",
              "      <td>28</td>\n",
              "      <td>1</td>\n",
              "      <td>college</td>\n",
              "    </tr>\n",
              "    <tr>\n",
              "      <th>4</th>\n",
              "      <td>1000</td>\n",
              "      <td>30</td>\n",
              "      <td>29</td>\n",
              "      <td>0</td>\n",
              "      <td>college</td>\n",
              "    </tr>\n",
              "  </tbody>\n",
              "</table>\n",
              "</div>"
            ],
            "text/plain": [
              "   Principal  terms  age  Gender             education\n",
              "0       1000     30   45       0  High School or Below\n",
              "1       1000     30   33       1              Bechalor\n",
              "2       1000     15   27       0               college\n",
              "3       1000     30   28       1               college\n",
              "4       1000     30   29       0               college"
            ]
          },
          "metadata": {
            "tags": []
          },
          "execution_count": 17
        }
      ]
    },
    {
      "cell_type": "markdown",
      "metadata": {
        "id": "yfm24WZII8LF",
        "colab_type": "text"
      },
      "source": [
        "**Encoding the features of the data into Feature dataframe** "
      ]
    },
    {
      "cell_type": "code",
      "metadata": {
        "id": "Fp7IX2snIJ-R",
        "colab_type": "code",
        "outputId": "4ecd216a-ed11-476d-baa2-1ada986c1920",
        "colab": {
          "base_uri": "https://localhost:8080/",
          "height": 204
        }
      },
      "source": [
        "Feature = df[['Principal','terms','age','Gender','weekend','dayofweek']]\n",
        "Feature = pd.concat([Feature,pd.get_dummies(df['education'])],axis=1)\n",
        "Feature.drop(['Master or Above'], axis=1,inplace=True)\n",
        "Feature.head()"
      ],
      "execution_count": 18,
      "outputs": [
        {
          "output_type": "execute_result",
          "data": {
            "text/html": [
              "<div>\n",
              "<style scoped>\n",
              "    .dataframe tbody tr th:only-of-type {\n",
              "        vertical-align: middle;\n",
              "    }\n",
              "\n",
              "    .dataframe tbody tr th {\n",
              "        vertical-align: top;\n",
              "    }\n",
              "\n",
              "    .dataframe thead th {\n",
              "        text-align: right;\n",
              "    }\n",
              "</style>\n",
              "<table border=\"1\" class=\"dataframe\">\n",
              "  <thead>\n",
              "    <tr style=\"text-align: right;\">\n",
              "      <th></th>\n",
              "      <th>Principal</th>\n",
              "      <th>terms</th>\n",
              "      <th>age</th>\n",
              "      <th>Gender</th>\n",
              "      <th>weekend</th>\n",
              "      <th>dayofweek</th>\n",
              "      <th>Bechalor</th>\n",
              "      <th>High School or Below</th>\n",
              "      <th>college</th>\n",
              "    </tr>\n",
              "  </thead>\n",
              "  <tbody>\n",
              "    <tr>\n",
              "      <th>0</th>\n",
              "      <td>1000</td>\n",
              "      <td>30</td>\n",
              "      <td>45</td>\n",
              "      <td>0</td>\n",
              "      <td>0</td>\n",
              "      <td>3</td>\n",
              "      <td>0</td>\n",
              "      <td>1</td>\n",
              "      <td>0</td>\n",
              "    </tr>\n",
              "    <tr>\n",
              "      <th>1</th>\n",
              "      <td>1000</td>\n",
              "      <td>30</td>\n",
              "      <td>33</td>\n",
              "      <td>1</td>\n",
              "      <td>0</td>\n",
              "      <td>3</td>\n",
              "      <td>1</td>\n",
              "      <td>0</td>\n",
              "      <td>0</td>\n",
              "    </tr>\n",
              "    <tr>\n",
              "      <th>2</th>\n",
              "      <td>1000</td>\n",
              "      <td>15</td>\n",
              "      <td>27</td>\n",
              "      <td>0</td>\n",
              "      <td>0</td>\n",
              "      <td>3</td>\n",
              "      <td>0</td>\n",
              "      <td>0</td>\n",
              "      <td>1</td>\n",
              "    </tr>\n",
              "    <tr>\n",
              "      <th>3</th>\n",
              "      <td>1000</td>\n",
              "      <td>30</td>\n",
              "      <td>28</td>\n",
              "      <td>1</td>\n",
              "      <td>1</td>\n",
              "      <td>4</td>\n",
              "      <td>0</td>\n",
              "      <td>0</td>\n",
              "      <td>1</td>\n",
              "    </tr>\n",
              "    <tr>\n",
              "      <th>4</th>\n",
              "      <td>1000</td>\n",
              "      <td>30</td>\n",
              "      <td>29</td>\n",
              "      <td>0</td>\n",
              "      <td>1</td>\n",
              "      <td>4</td>\n",
              "      <td>0</td>\n",
              "      <td>0</td>\n",
              "      <td>1</td>\n",
              "    </tr>\n",
              "  </tbody>\n",
              "</table>\n",
              "</div>"
            ],
            "text/plain": [
              "   Principal  terms  age  ...  Bechalor  High School or Below  college\n",
              "0       1000     30   45  ...         0                     1        0\n",
              "1       1000     30   33  ...         1                     0        0\n",
              "2       1000     15   27  ...         0                     0        1\n",
              "3       1000     30   28  ...         0                     0        1\n",
              "4       1000     30   29  ...         0                     0        1\n",
              "\n",
              "[5 rows x 9 columns]"
            ]
          },
          "metadata": {
            "tags": []
          },
          "execution_count": 18
        }
      ]
    },
    {
      "cell_type": "markdown",
      "metadata": {
        "id": "pFsjV7g-Ko_r",
        "colab_type": "text"
      },
      "source": [
        "# **Feature Selection**"
      ]
    },
    {
      "cell_type": "code",
      "metadata": {
        "id": "-Ui3PQfLKuJr",
        "colab_type": "code",
        "outputId": "febf098d-d43e-4c54-d7f6-bb90752fcb9e",
        "colab": {
          "base_uri": "https://localhost:8080/",
          "height": 204
        }
      },
      "source": [
        "X = Feature\n",
        "X[0:5]"
      ],
      "execution_count": 19,
      "outputs": [
        {
          "output_type": "execute_result",
          "data": {
            "text/html": [
              "<div>\n",
              "<style scoped>\n",
              "    .dataframe tbody tr th:only-of-type {\n",
              "        vertical-align: middle;\n",
              "    }\n",
              "\n",
              "    .dataframe tbody tr th {\n",
              "        vertical-align: top;\n",
              "    }\n",
              "\n",
              "    .dataframe thead th {\n",
              "        text-align: right;\n",
              "    }\n",
              "</style>\n",
              "<table border=\"1\" class=\"dataframe\">\n",
              "  <thead>\n",
              "    <tr style=\"text-align: right;\">\n",
              "      <th></th>\n",
              "      <th>Principal</th>\n",
              "      <th>terms</th>\n",
              "      <th>age</th>\n",
              "      <th>Gender</th>\n",
              "      <th>weekend</th>\n",
              "      <th>dayofweek</th>\n",
              "      <th>Bechalor</th>\n",
              "      <th>High School or Below</th>\n",
              "      <th>college</th>\n",
              "    </tr>\n",
              "  </thead>\n",
              "  <tbody>\n",
              "    <tr>\n",
              "      <th>0</th>\n",
              "      <td>1000</td>\n",
              "      <td>30</td>\n",
              "      <td>45</td>\n",
              "      <td>0</td>\n",
              "      <td>0</td>\n",
              "      <td>3</td>\n",
              "      <td>0</td>\n",
              "      <td>1</td>\n",
              "      <td>0</td>\n",
              "    </tr>\n",
              "    <tr>\n",
              "      <th>1</th>\n",
              "      <td>1000</td>\n",
              "      <td>30</td>\n",
              "      <td>33</td>\n",
              "      <td>1</td>\n",
              "      <td>0</td>\n",
              "      <td>3</td>\n",
              "      <td>1</td>\n",
              "      <td>0</td>\n",
              "      <td>0</td>\n",
              "    </tr>\n",
              "    <tr>\n",
              "      <th>2</th>\n",
              "      <td>1000</td>\n",
              "      <td>15</td>\n",
              "      <td>27</td>\n",
              "      <td>0</td>\n",
              "      <td>0</td>\n",
              "      <td>3</td>\n",
              "      <td>0</td>\n",
              "      <td>0</td>\n",
              "      <td>1</td>\n",
              "    </tr>\n",
              "    <tr>\n",
              "      <th>3</th>\n",
              "      <td>1000</td>\n",
              "      <td>30</td>\n",
              "      <td>28</td>\n",
              "      <td>1</td>\n",
              "      <td>1</td>\n",
              "      <td>4</td>\n",
              "      <td>0</td>\n",
              "      <td>0</td>\n",
              "      <td>1</td>\n",
              "    </tr>\n",
              "    <tr>\n",
              "      <th>4</th>\n",
              "      <td>1000</td>\n",
              "      <td>30</td>\n",
              "      <td>29</td>\n",
              "      <td>0</td>\n",
              "      <td>1</td>\n",
              "      <td>4</td>\n",
              "      <td>0</td>\n",
              "      <td>0</td>\n",
              "      <td>1</td>\n",
              "    </tr>\n",
              "  </tbody>\n",
              "</table>\n",
              "</div>"
            ],
            "text/plain": [
              "   Principal  terms  age  ...  Bechalor  High School or Below  college\n",
              "0       1000     30   45  ...         0                     1        0\n",
              "1       1000     30   33  ...         1                     0        0\n",
              "2       1000     15   27  ...         0                     0        1\n",
              "3       1000     30   28  ...         0                     0        1\n",
              "4       1000     30   29  ...         0                     0        1\n",
              "\n",
              "[5 rows x 9 columns]"
            ]
          },
          "metadata": {
            "tags": []
          },
          "execution_count": 19
        }
      ]
    },
    {
      "cell_type": "code",
      "metadata": {
        "id": "FbiTDWCFK84H",
        "colab_type": "code",
        "outputId": "e5276a3a-d60f-4ac9-f6b2-e54444eab11a",
        "colab": {
          "base_uri": "https://localhost:8080/",
          "height": 34
        }
      },
      "source": [
        "y =df['loan_status'].replace(to_replace=['PAIDOFF','COLLECTION'],value=[0,1]).values\n",
        "y[0:10]"
      ],
      "execution_count": 20,
      "outputs": [
        {
          "output_type": "execute_result",
          "data": {
            "text/plain": [
              "array([0, 0, 0, 0, 0, 0, 0, 0, 0, 0])"
            ]
          },
          "metadata": {
            "tags": []
          },
          "execution_count": 20
        }
      ]
    },
    {
      "cell_type": "markdown",
      "metadata": {
        "id": "1vWNVqM4LWYy",
        "colab_type": "text"
      },
      "source": [
        "# **Normalize Data** "
      ]
    },
    {
      "cell_type": "markdown",
      "metadata": {
        "id": "ZLW-q0JmLelz",
        "colab_type": "text"
      },
      "source": [
        "Data Standardization give data zero mean and unit variance "
      ]
    },
    {
      "cell_type": "code",
      "metadata": {
        "id": "ADpq6YbALqqY",
        "colab_type": "code",
        "outputId": "9c529896-702f-4b32-ab31-e666bfa2f44f",
        "colab": {
          "base_uri": "https://localhost:8080/",
          "height": 187
        }
      },
      "source": [
        "X = preprocessing.StandardScaler().fit_transform(X)\n",
        "X[0:5]"
      ],
      "execution_count": 21,
      "outputs": [
        {
          "output_type": "execute_result",
          "data": {
            "text/plain": [
              "array([[ 0.51578458,  0.92071769,  2.33152555, -0.42056004, -1.20577805,\n",
              "        -0.26122054, -0.38170062,  1.13639374, -0.86968108],\n",
              "       [ 0.51578458,  0.92071769,  0.34170148,  2.37778177, -1.20577805,\n",
              "        -0.26122054,  2.61985426, -0.87997669, -0.86968108],\n",
              "       [ 0.51578458, -0.95911111, -0.65321055, -0.42056004, -1.20577805,\n",
              "        -0.26122054, -0.38170062, -0.87997669,  1.14984679],\n",
              "       [ 0.51578458,  0.92071769, -0.48739188,  2.37778177,  0.82934003,\n",
              "         0.12175534, -0.38170062, -0.87997669,  1.14984679],\n",
              "       [ 0.51578458,  0.92071769, -0.3215732 , -0.42056004,  0.82934003,\n",
              "         0.12175534, -0.38170062, -0.87997669,  1.14984679]])"
            ]
          },
          "metadata": {
            "tags": []
          },
          "execution_count": 21
        }
      ]
    },
    {
      "cell_type": "markdown",
      "metadata": {
        "id": "CEqhcq49L89w",
        "colab_type": "text"
      },
      "source": [
        "# **Classification**"
      ]
    },
    {
      "cell_type": "markdown",
      "metadata": {
        "id": "jeZ4WHi8MCLg",
        "colab_type": "text"
      },
      "source": [
        "**Using K- Nearest Neighbour (kNN)**"
      ]
    },
    {
      "cell_type": "code",
      "metadata": {
        "id": "ZwrJz6iY9leF",
        "colab_type": "code",
        "colab": {}
      },
      "source": [
        "from sklearn.metrics import jaccard_similarity_score\n",
        "from sklearn.metrics import f1_score\n",
        "from sklearn.metrics import log_loss\n",
        "from sklearn.model_selection import cross_val_score"
      ],
      "execution_count": 0,
      "outputs": []
    },
    {
      "cell_type": "code",
      "metadata": {
        "id": "xWNiVncGMA_Q",
        "colab_type": "code",
        "colab": {}
      },
      "source": [
        "X_train, y_train = X, y"
      ],
      "execution_count": 0,
      "outputs": []
    },
    {
      "cell_type": "code",
      "metadata": {
        "id": "oyAiZoyh9OV9",
        "colab_type": "code",
        "outputId": "1740f3ae-b48a-4151-9f04-e575e1a9ea68",
        "colab": {
          "base_uri": "https://localhost:8080/",
          "height": 34
        }
      },
      "source": [
        "X_train.shape, y_train.shape"
      ],
      "execution_count": 24,
      "outputs": [
        {
          "output_type": "execute_result",
          "data": {
            "text/plain": [
              "((346, 9), (346,))"
            ]
          },
          "metadata": {
            "tags": []
          },
          "execution_count": 24
        }
      ]
    },
    {
      "cell_type": "code",
      "metadata": {
        "id": "n1kg6AdO9Z0Q",
        "colab_type": "code",
        "colab": {}
      },
      "source": [
        "trainScores ={}"
      ],
      "execution_count": 0,
      "outputs": []
    },
    {
      "cell_type": "markdown",
      "metadata": {
        "id": "KlYbpnzV9dpM",
        "colab_type": "text"
      },
      "source": [
        "# kNN"
      ]
    },
    {
      "cell_type": "code",
      "metadata": {
        "id": "lNiyZSEl9jHC",
        "colab_type": "code",
        "outputId": "cd3605e7-90c5-47c4-be29-3ff7a24f1f85",
        "colab": {
          "base_uri": "https://localhost:8080/",
          "height": 34
        }
      },
      "source": [
        "from sklearn.neighbors import KNeighborsClassifier\n",
        "\n",
        "bestScore =0.0\n",
        "accList = []\n",
        "\n",
        "for k in range(3,15):\n",
        "\n",
        "  clf_knn = KNeighborsClassifier(n_neighbors = k, algorithm ='auto')\n",
        "\n",
        "  scores = cross_val_score(clf_knn,X,y,cv=10)\n",
        "  score = scores.mean()\n",
        "  accList.append(score)\n",
        "\n",
        "  if score > bestScore:\n",
        "    bestScore = score\n",
        "    best_clf = clf_knn\n",
        "    bestK = k\n",
        "\n",
        "print(\"Best value of K is : \",bestK,\" |  Cross Validation Score/ Accuracy : \",bestScore)\n",
        "clf_knn = best_clf"
      ],
      "execution_count": 26,
      "outputs": [
        {
          "output_type": "stream",
          "text": [
            "Best value of K is :  8  |  Cross Validation Score/ Accuracy :  0.7522689075630252\n"
          ],
          "name": "stdout"
        }
      ]
    },
    {
      "cell_type": "code",
      "metadata": {
        "id": "VdD_lItg_jvV",
        "colab_type": "code",
        "colab": {}
      },
      "source": [
        "clf_knn.fit(X_train, y_train)\n",
        "y_pred = best_clf.predict(X_train) "
      ],
      "execution_count": 0,
      "outputs": []
    },
    {
      "cell_type": "code",
      "metadata": {
        "id": "8l7BB42T_zAg",
        "colab_type": "code",
        "outputId": "4055c134-5bae-412e-fad1-165cb27642ba",
        "colab": {
          "base_uri": "https://localhost:8080/",
          "height": 71
        }
      },
      "source": [
        "trainScores['kNN- jaccard'] =jaccard_similarity_score(y_train, y_pred)\n",
        "trainScores['kNN- f1-score'] = f1_score(y_train, y_pred,average='weighted')\n",
        "#trainScores['kNN- logloss'] = log_loss(y_train, y_pred)\n",
        "#trainScores.drop(['kNN-logloss'],axis=1,inplace=True)"
      ],
      "execution_count": 28,
      "outputs": [
        {
          "output_type": "stream",
          "text": [
            "/usr/local/lib/python3.6/dist-packages/sklearn/metrics/_classification.py:664: FutureWarning: jaccard_similarity_score has been deprecated and replaced with jaccard_score. It will be removed in version 0.23. This implementation has surprising behavior for binary and multiclass classification tasks.\n",
            "  FutureWarning)\n"
          ],
          "name": "stderr"
        }
      ]
    },
    {
      "cell_type": "code",
      "metadata": {
        "id": "Ud707AgaAZn4",
        "colab_type": "code",
        "outputId": "258a193c-4dff-420e-ade0-e4992d215f3d",
        "colab": {
          "base_uri": "https://localhost:8080/",
          "height": 34
        }
      },
      "source": [
        "trainScores"
      ],
      "execution_count": 29,
      "outputs": [
        {
          "output_type": "execute_result",
          "data": {
            "text/plain": [
              "{'kNN- f1-score': 0.7701843558681992, 'kNN- jaccard': 0.7947976878612717}"
            ]
          },
          "metadata": {
            "tags": []
          },
          "execution_count": 29
        }
      ]
    },
    {
      "cell_type": "code",
      "metadata": {
        "id": "_x_8OyPlBS2g",
        "colab_type": "code",
        "outputId": "a12c29aa-d0c8-42ed-cdc2-8e0f9b16f4cd",
        "colab": {
          "base_uri": "https://localhost:8080/",
          "height": 279
        }
      },
      "source": [
        "plt.plot(range(3,15),accList)\n",
        "plt.xlabel('Values of K')\n",
        "plt.ylabel('C-V Accuracy Score')\n",
        "plt.show()"
      ],
      "execution_count": 30,
      "outputs": [
        {
          "output_type": "display_data",
          "data": {
            "image/png": "[encoded data removed]",
            "text/plain": [
              "<Figure size 432x288 with 1 Axes>"
            ]
          },
          "metadata": {
            "tags": [],
            "needs_background": "light"
          }
        }
      ]
    },
    {
      "cell_type": "markdown",
      "metadata": {
        "id": "ht1LRSYUELZb",
        "colab_type": "text"
      },
      "source": [
        "**Decision Trees**"
      ]
    },
    {
      "cell_type": "code",
      "metadata": {
        "id": "5J1gYLBvERgX",
        "colab_type": "code",
        "colab": {}
      },
      "source": [
        "from sklearn import tree\n",
        "\n",
        "clf_tree = tree.DecisionTreeClassifier()\n",
        "clf_tree = clf_tree.fit(X_train,y_train)\n",
        "\n",
        "y_pred = clf_tree.predict(X_train) "
      ],
      "execution_count": 0,
      "outputs": []
    },
    {
      "cell_type": "code",
      "metadata": {
        "id": "RD9NAWeXF9Km",
        "colab_type": "code",
        "colab": {
          "base_uri": "https://localhost:8080/",
          "height": 71
        },
        "outputId": "426970fc-7f8b-46dd-ac48-df254d6ce765"
      },
      "source": [
        "trainScores['d-Tree-jaccard'] =jaccard_similarity_score(y_train,y_pred)\n",
        "trainScores['d-Tree-f1-score'] =f1_score(y_train,y_pred)"
      ],
      "execution_count": 32,
      "outputs": [
        {
          "output_type": "stream",
          "text": [
            "/usr/local/lib/python3.6/dist-packages/sklearn/metrics/_classification.py:664: FutureWarning: jaccard_similarity_score has been deprecated and replaced with jaccard_score. It will be removed in version 0.23. This implementation has surprising behavior for binary and multiclass classification tasks.\n",
            "  FutureWarning)\n"
          ],
          "name": "stderr"
        }
      ]
    },
    {
      "cell_type": "code",
      "metadata": {
        "id": "-fChs52nG2K5",
        "colab_type": "code",
        "colab": {
          "base_uri": "https://localhost:8080/",
          "height": 85
        },
        "outputId": "ebcdda37-5f37-44f1-fb17-e4e889f4e5d2"
      },
      "source": [
        "trainScores"
      ],
      "execution_count": 33,
      "outputs": [
        {
          "output_type": "execute_result",
          "data": {
            "text/plain": [
              "{'d-Tree-f1-score': 0.8387096774193549,\n",
              " 'd-Tree-jaccard': 0.9277456647398844,\n",
              " 'kNN- f1-score': 0.7701843558681992,\n",
              " 'kNN- jaccard': 0.7947976878612717}"
            ]
          },
          "metadata": {
            "tags": []
          },
          "execution_count": 33
        }
      ]
    },
    {
      "cell_type": "markdown",
      "metadata": {
        "id": "O6KplfVuHEmz",
        "colab_type": "text"
      },
      "source": [
        "**Visualizing the tree**"
      ]
    },
    {
      "cell_type": "code",
      "metadata": {
        "id": "TaXp6QiCHDfc",
        "colab_type": "code",
        "colab": {
          "base_uri": "https://localhost:8080/",
          "height": 1000
        },
        "outputId": "c63d76c3-a1b0-4d15-b67c-d1f86e02fa35"
      },
      "source": [
        "import graphviz\n",
        "import pydotplus\n",
        "names_feature = ['Principal', 'terms', 'age', 'Gender', 'weekend', 'Bechalor', 'High School or Below', 'college', 'dayofweek']\n",
        "dot_data = tree.export_graphviz(clf_tree, out_file=None, feature_names=names_feature,class_names='loan_status',filled=True,rounded=True,special_characters=True)\n",
        "\n",
        "graph = pydotplus.graph_from_dot_data(dot_data)\n",
        "graph.set_size('\"50,20!\"')\n",
        "\n",
        "gvz_graph = graphviz.Source(graph.to_string())\n",
        "\n",
        "gvz_graph"
      ],
      "execution_count": 34,
      "outputs": [
        {
          "output_type": "execute_result",
          "data": {
            "text/plain": [
              "<graphviz.files.Source at 0x7fa1eff3e438>"
            ],
            "image/svg+xml": "<?xml version=\"1.0\" encoding=\"UTF-8\" standalone=\"no\"?>\n<!DOCTYPE svg PUBLIC \"-//W3C//DTD SVG 1.1//EN\"\n \"http://www.w3.org/Graphics/SVG/1.1/DTD/svg11.dtd\">\n<!-- Generated by graphviz version 2.40.1 (20161225.0304)\n -->\n<!-- Title: Tree Pages: 1 -->\n<svg width=\"2385pt\" height=\"1440pt\"\n viewBox=\"0.00 0.00 2384.68 1440.00\" xmlns=\"http://www.w3.org/2000/svg\" xmlns:xlink=\"http://www.w3.org/1999/xlink\">\n<g id=\"graph0\" class=\"graph\" transform=\"scale(.686 .686) rotate(0) translate(4 2095)\">\n<title>Tree</title>\n<polygon fill=\"#ffffff\" stroke=\"transparent\" points=\"-4,4 -4,-2095 3472,-2095 3472,4 -4,4\"/>\n<!-- 0 -->\n<g id=\"node1\" class=\"node\">\n<title>0</title>\n<path fill=\"#eeab7a\" stroke=\"#000000\" d=\"M893.5,-2091C893.5,-2091 793.5,-2091 793.5,-2091 787.5,-2091 781.5,-2085 781.5,-2079 781.5,-2079 781.5,-2020 781.5,-2020 781.5,-2014 787.5,-2008 793.5,-2008 793.5,-2008 893.5,-2008 893.5,-2008 899.5,-2008 905.5,-2014 905.5,-2020 905.5,-2020 905.5,-2079 905.5,-2079 905.5,-2085 899.5,-2091 893.5,-2091\"/>\n<text text-anchor=\"start\" x=\"790.5\" y=\"-2075.8\" font-family=\"Helvetica,sans-Serif\" font-size=\"14.00\" fill=\"#000000\">Bechalor ≤ &#45;0.07</text>\n<text text-anchor=\"start\" x=\"805.5\" y=\"-2060.8\" font-family=\"Helvetica,sans-Serif\" font-size=\"14.00\" fill=\"#000000\">gini = 0.374</text>\n<text text-anchor=\"start\" x=\"795.5\" y=\"-2045.8\" font-family=\"Helvetica,sans-Serif\" font-size=\"14.00\" fill=\"#000000\">samples = 346</text>\n<text text-anchor=\"start\" x=\"789.5\" y=\"-2030.8\" font-family=\"Helvetica,sans-Serif\" font-size=\"14.00\" fill=\"#000000\">value = [260, 86]</text>\n<text text-anchor=\"start\" x=\"817\" y=\"-2015.8\" font-family=\"Helvetica,sans-Serif\" font-size=\"14.00\" fill=\"#000000\">class = l</text>\n</g>\n<!-- 1 -->\n<g id=\"node2\" class=\"node\">\n<title>1</title>\n<path fill=\"#e6843d\" stroke=\"#000000\" d=\"M824,-1972C824,-1972 717,-1972 717,-1972 711,-1972 705,-1966 705,-1960 705,-1960 705,-1901 705,-1901 705,-1895 711,-1889 717,-1889 717,-1889 824,-1889 824,-1889 830,-1889 836,-1895 836,-1901 836,-1901 836,-1960 836,-1960 836,-1966 830,-1972 824,-1972\"/>\n<text text-anchor=\"start\" x=\"713\" y=\"-1956.8\" font-family=\"Helvetica,sans-Serif\" font-size=\"14.00\" fill=\"#000000\">dayofweek ≤ 0.14</text>\n<text text-anchor=\"start\" x=\"732.5\" y=\"-1941.8\" font-family=\"Helvetica,sans-Serif\" font-size=\"14.00\" fill=\"#000000\">gini = 0.042</text>\n<text text-anchor=\"start\" x=\"722.5\" y=\"-1926.8\" font-family=\"Helvetica,sans-Serif\" font-size=\"14.00\" fill=\"#000000\">samples = 141</text>\n<text text-anchor=\"start\" x=\"720.5\" y=\"-1911.8\" font-family=\"Helvetica,sans-Serif\" font-size=\"14.00\" fill=\"#000000\">value = [138, 3]</text>\n<text text-anchor=\"start\" x=\"744\" y=\"-1896.8\" font-family=\"Helvetica,sans-Serif\" font-size=\"14.00\" fill=\"#000000\">class = l</text>\n</g>\n<!-- 0&#45;&gt;1 -->\n<g id=\"edge1\" class=\"edge\">\n<title>0&#45;&gt;1</title>\n<path fill=\"none\" stroke=\"#000000\" d=\"M817.9681,-2007.8796C812.609,-1999.1434 806.9021,-1989.8404 801.3718,-1980.8253\"/>\n<polygon fill=\"#000000\" stroke=\"#000000\" points=\"804.3533,-1978.9919 796.1408,-1972.2981 798.3865,-1982.6522 804.3533,-1978.9919\"/>\n<text text-anchor=\"middle\" x=\"790.3161\" y=\"-1992.9101\" font-family=\"Helvetica,sans-Serif\" font-size=\"14.00\" fill=\"#000000\">True</text>\n</g>\n<!-- 22 -->\n<g id=\"node23\" class=\"node\">\n<title>22</title>\n<path fill=\"#f7d7c0\" stroke=\"#000000\" d=\"M1246.5,-1972C1246.5,-1972 1146.5,-1972 1146.5,-1972 1140.5,-1972 1134.5,-1966 1134.5,-1960 1134.5,-1960 1134.5,-1901 1134.5,-1901 1134.5,-1895 1140.5,-1889 1146.5,-1889 1146.5,-1889 1246.5,-1889 1246.5,-1889 1252.5,-1889 1258.5,-1895 1258.5,-1901 1258.5,-1901 1258.5,-1960 1258.5,-1960 1258.5,-1966 1252.5,-1972 1246.5,-1972\"/>\n<text text-anchor=\"start\" x=\"1154\" y=\"-1956.8\" font-family=\"Helvetica,sans-Serif\" font-size=\"14.00\" fill=\"#000000\">terms ≤ &#45;1.46</text>\n<text text-anchor=\"start\" x=\"1158.5\" y=\"-1941.8\" font-family=\"Helvetica,sans-Serif\" font-size=\"14.00\" fill=\"#000000\">gini = 0.482</text>\n<text text-anchor=\"start\" x=\"1148.5\" y=\"-1926.8\" font-family=\"Helvetica,sans-Serif\" font-size=\"14.00\" fill=\"#000000\">samples = 205</text>\n<text text-anchor=\"start\" x=\"1142.5\" y=\"-1911.8\" font-family=\"Helvetica,sans-Serif\" font-size=\"14.00\" fill=\"#000000\">value = [122, 83]</text>\n<text text-anchor=\"start\" x=\"1170\" y=\"-1896.8\" font-family=\"Helvetica,sans-Serif\" font-size=\"14.00\" fill=\"#000000\">class = l</text>\n</g>\n<!-- 0&#45;&gt;22 -->\n<g id=\"edge22\" class=\"edge\">\n<title>0&#45;&gt;22</title>\n<path fill=\"none\" stroke=\"#000000\" d=\"M905.7967,-2028.4991C966.9825,-2007.8728 1060.2567,-1976.429 1124.5666,-1954.7495\"/>\n<polygon fill=\"#000000\" stroke=\"#000000\" points=\"1125.8754,-1958.0019 1134.2333,-1951.4907 1123.6392,-1951.3687 1125.8754,-1958.0019\"/>\n<text text-anchor=\"middle\" x=\"1123.129\" y=\"-1970.1893\" font-family=\"Helvetica,sans-Serif\" font-size=\"14.00\" fill=\"#000000\">False</text>\n</g>\n<!-- 2 -->\n<g id=\"node3\" class=\"node\">\n<title>2</title>\n<path fill=\"#e58139\" stroke=\"#000000\" d=\"M675,-1845.5C675,-1845.5 592,-1845.5 592,-1845.5 586,-1845.5 580,-1839.5 580,-1833.5 580,-1833.5 580,-1789.5 580,-1789.5 580,-1783.5 586,-1777.5 592,-1777.5 592,-1777.5 675,-1777.5 675,-1777.5 681,-1777.5 687,-1783.5 687,-1789.5 687,-1789.5 687,-1833.5 687,-1833.5 687,-1839.5 681,-1845.5 675,-1845.5\"/>\n<text text-anchor=\"start\" x=\"604\" y=\"-1830.3\" font-family=\"Helvetica,sans-Serif\" font-size=\"14.00\" fill=\"#000000\">gini = 0.0</text>\n<text text-anchor=\"start\" x=\"589.5\" y=\"-1815.3\" font-family=\"Helvetica,sans-Serif\" font-size=\"14.00\" fill=\"#000000\">samples = 84</text>\n<text text-anchor=\"start\" x=\"588\" y=\"-1800.3\" font-family=\"Helvetica,sans-Serif\" font-size=\"14.00\" fill=\"#000000\">value = [84, 0]</text>\n<text text-anchor=\"start\" x=\"607\" y=\"-1785.3\" font-family=\"Helvetica,sans-Serif\" font-size=\"14.00\" fill=\"#000000\">class = l</text>\n</g>\n<!-- 1&#45;&gt;2 -->\n<g id=\"edge2\" class=\"edge\">\n<title>1&#45;&gt;2</title>\n<path fill=\"none\" stroke=\"#000000\" d=\"M722.584,-1888.8796C709.0385,-1877.1138 694.3092,-1864.3197 680.8002,-1852.5855\"/>\n<polygon fill=\"#000000\" stroke=\"#000000\" points=\"682.8503,-1849.7303 673.0054,-1845.8149 678.2599,-1855.015 682.8503,-1849.7303\"/>\n</g>\n<!-- 3 -->\n<g id=\"node4\" class=\"node\">\n<title>3</title>\n<path fill=\"#e68844\" stroke=\"#000000\" d=\"M824,-1853C824,-1853 717,-1853 717,-1853 711,-1853 705,-1847 705,-1841 705,-1841 705,-1782 705,-1782 705,-1776 711,-1770 717,-1770 717,-1770 824,-1770 824,-1770 830,-1770 836,-1776 836,-1782 836,-1782 836,-1841 836,-1841 836,-1847 830,-1853 824,-1853\"/>\n<text text-anchor=\"start\" x=\"713\" y=\"-1837.8\" font-family=\"Helvetica,sans-Serif\" font-size=\"14.00\" fill=\"#000000\">Bechalor ≤ &#45;1.219</text>\n<text text-anchor=\"start\" x=\"741\" y=\"-1822.8\" font-family=\"Helvetica,sans-Serif\" font-size=\"14.00\" fill=\"#000000\">gini = 0.1</text>\n<text text-anchor=\"start\" x=\"726.5\" y=\"-1807.8\" font-family=\"Helvetica,sans-Serif\" font-size=\"14.00\" fill=\"#000000\">samples = 57</text>\n<text text-anchor=\"start\" x=\"725\" y=\"-1792.8\" font-family=\"Helvetica,sans-Serif\" font-size=\"14.00\" fill=\"#000000\">value = [54, 3]</text>\n<text text-anchor=\"start\" x=\"744\" y=\"-1777.8\" font-family=\"Helvetica,sans-Serif\" font-size=\"14.00\" fill=\"#000000\">class = l</text>\n</g>\n<!-- 1&#45;&gt;3 -->\n<g id=\"edge3\" class=\"edge\">\n<title>1&#45;&gt;3</title>\n<path fill=\"none\" stroke=\"#000000\" d=\"M770.5,-1888.8796C770.5,-1880.6838 770.5,-1871.9891 770.5,-1863.5013\"/>\n<polygon fill=\"#000000\" stroke=\"#000000\" points=\"774.0001,-1863.298 770.5,-1853.2981 767.0001,-1863.2981 774.0001,-1863.298\"/>\n</g>\n<!-- 4 -->\n<g id=\"node5\" class=\"node\">\n<title>4</title>\n<path fill=\"#e88e4d\" stroke=\"#000000\" d=\"M569,-1734C569,-1734 486,-1734 486,-1734 480,-1734 474,-1728 474,-1722 474,-1722 474,-1663 474,-1663 474,-1657 480,-1651 486,-1651 486,-1651 569,-1651 569,-1651 575,-1651 581,-1657 581,-1663 581,-1663 581,-1722 581,-1722 581,-1728 575,-1734 569,-1734\"/>\n<text text-anchor=\"start\" x=\"489\" y=\"-1718.8\" font-family=\"Helvetica,sans-Serif\" font-size=\"14.00\" fill=\"#000000\">age ≤ 1.171</text>\n<text text-anchor=\"start\" x=\"489.5\" y=\"-1703.8\" font-family=\"Helvetica,sans-Serif\" font-size=\"14.00\" fill=\"#000000\">gini = 0.165</text>\n<text text-anchor=\"start\" x=\"483.5\" y=\"-1688.8\" font-family=\"Helvetica,sans-Serif\" font-size=\"14.00\" fill=\"#000000\">samples = 33</text>\n<text text-anchor=\"start\" x=\"482\" y=\"-1673.8\" font-family=\"Helvetica,sans-Serif\" font-size=\"14.00\" fill=\"#000000\">value = [30, 3]</text>\n<text text-anchor=\"start\" x=\"501\" y=\"-1658.8\" font-family=\"Helvetica,sans-Serif\" font-size=\"14.00\" fill=\"#000000\">class = l</text>\n</g>\n<!-- 3&#45;&gt;4 -->\n<g id=\"edge4\" class=\"edge\">\n<title>3&#45;&gt;4</title>\n<path fill=\"none\" stroke=\"#000000\" d=\"M704.7956,-1774.7879C701.6635,-1773.15 698.5534,-1771.5465 695.5,-1770 661.2042,-1752.6302 622.2556,-1734.5623 590.501,-1720.2456\"/>\n<polygon fill=\"#000000\" stroke=\"#000000\" points=\"591.875,-1717.0259 581.319,-1716.1198 589.006,-1723.411 591.875,-1717.0259\"/>\n</g>\n<!-- 21 -->\n<g id=\"node22\" class=\"node\">\n<title>21</title>\n<path fill=\"#e58139\" stroke=\"#000000\" d=\"M812,-1726.5C812,-1726.5 729,-1726.5 729,-1726.5 723,-1726.5 717,-1720.5 717,-1714.5 717,-1714.5 717,-1670.5 717,-1670.5 717,-1664.5 723,-1658.5 729,-1658.5 729,-1658.5 812,-1658.5 812,-1658.5 818,-1658.5 824,-1664.5 824,-1670.5 824,-1670.5 824,-1714.5 824,-1714.5 824,-1720.5 818,-1726.5 812,-1726.5\"/>\n<text text-anchor=\"start\" x=\"741\" y=\"-1711.3\" font-family=\"Helvetica,sans-Serif\" font-size=\"14.00\" fill=\"#000000\">gini = 0.0</text>\n<text text-anchor=\"start\" x=\"726.5\" y=\"-1696.3\" font-family=\"Helvetica,sans-Serif\" font-size=\"14.00\" fill=\"#000000\">samples = 24</text>\n<text text-anchor=\"start\" x=\"725\" y=\"-1681.3\" font-family=\"Helvetica,sans-Serif\" font-size=\"14.00\" fill=\"#000000\">value = [24, 0]</text>\n<text text-anchor=\"start\" x=\"744\" y=\"-1666.3\" font-family=\"Helvetica,sans-Serif\" font-size=\"14.00\" fill=\"#000000\">class = l</text>\n</g>\n<!-- 3&#45;&gt;21 -->\n<g id=\"edge21\" class=\"edge\">\n<title>3&#45;&gt;21</title>\n<path fill=\"none\" stroke=\"#000000\" d=\"M770.5,-1769.8796C770.5,-1759.2134 770.5,-1747.7021 770.5,-1736.9015\"/>\n<polygon fill=\"#000000\" stroke=\"#000000\" points=\"774.0001,-1736.8149 770.5,-1726.8149 767.0001,-1736.815 774.0001,-1736.8149\"/>\n</g>\n<!-- 5 -->\n<g id=\"node6\" class=\"node\">\n<title>5</title>\n<path fill=\"#e78a48\" stroke=\"#000000\" d=\"M327,-1615C327,-1615 242,-1615 242,-1615 236,-1615 230,-1609 230,-1603 230,-1603 230,-1544 230,-1544 230,-1538 236,-1532 242,-1532 242,-1532 327,-1532 327,-1532 333,-1532 339,-1538 339,-1544 339,-1544 339,-1603 339,-1603 339,-1609 333,-1615 327,-1615\"/>\n<text text-anchor=\"start\" x=\"238\" y=\"-1599.8\" font-family=\"Helvetica,sans-Serif\" font-size=\"14.00\" fill=\"#000000\">terms ≤ &#45;0.019</text>\n<text text-anchor=\"start\" x=\"246.5\" y=\"-1584.8\" font-family=\"Helvetica,sans-Serif\" font-size=\"14.00\" fill=\"#000000\">gini = 0.128</text>\n<text text-anchor=\"start\" x=\"240.5\" y=\"-1569.8\" font-family=\"Helvetica,sans-Serif\" font-size=\"14.00\" fill=\"#000000\">samples = 29</text>\n<text text-anchor=\"start\" x=\"239\" y=\"-1554.8\" font-family=\"Helvetica,sans-Serif\" font-size=\"14.00\" fill=\"#000000\">value = [27, 2]</text>\n<text text-anchor=\"start\" x=\"258\" y=\"-1539.8\" font-family=\"Helvetica,sans-Serif\" font-size=\"14.00\" fill=\"#000000\">class = l</text>\n</g>\n<!-- 4&#45;&gt;5 -->\n<g id=\"edge5\" class=\"edge\">\n<title>4&#45;&gt;5</title>\n<path fill=\"none\" stroke=\"#000000\" d=\"M473.8718,-1666.2376C436.8651,-1648.115 387.4898,-1623.9353 348.4351,-1604.8098\"/>\n<polygon fill=\"#000000\" stroke=\"#000000\" points=\"349.7731,-1601.5679 339.2528,-1600.3131 346.6944,-1607.8546 349.7731,-1601.5679\"/>\n</g>\n<!-- 16 -->\n<g id=\"node17\" class=\"node\">\n<title>16</title>\n<path fill=\"#eeab7b\" stroke=\"#000000\" d=\"M565,-1615C565,-1615 490,-1615 490,-1615 484,-1615 478,-1609 478,-1603 478,-1603 478,-1544 478,-1544 478,-1538 484,-1532 490,-1532 490,-1532 565,-1532 565,-1532 571,-1532 577,-1538 577,-1544 577,-1544 577,-1603 577,-1603 577,-1609 571,-1615 565,-1615\"/>\n<text text-anchor=\"start\" x=\"493\" y=\"-1599.8\" font-family=\"Helvetica,sans-Serif\" font-size=\"14.00\" fill=\"#000000\">age ≤ 1.42</text>\n<text text-anchor=\"start\" x=\"489.5\" y=\"-1584.8\" font-family=\"Helvetica,sans-Serif\" font-size=\"14.00\" fill=\"#000000\">gini = 0.375</text>\n<text text-anchor=\"start\" x=\"488\" y=\"-1569.8\" font-family=\"Helvetica,sans-Serif\" font-size=\"14.00\" fill=\"#000000\">samples = 4</text>\n<text text-anchor=\"start\" x=\"486\" y=\"-1554.8\" font-family=\"Helvetica,sans-Serif\" font-size=\"14.00\" fill=\"#000000\">value = [3, 1]</text>\n<text text-anchor=\"start\" x=\"501\" y=\"-1539.8\" font-family=\"Helvetica,sans-Serif\" font-size=\"14.00\" fill=\"#000000\">class = l</text>\n</g>\n<!-- 4&#45;&gt;16 -->\n<g id=\"edge16\" class=\"edge\">\n<title>4&#45;&gt;16</title>\n<path fill=\"none\" stroke=\"#000000\" d=\"M527.5,-1650.8796C527.5,-1642.6838 527.5,-1633.9891 527.5,-1625.5013\"/>\n<polygon fill=\"#000000\" stroke=\"#000000\" points=\"531.0001,-1625.298 527.5,-1615.2981 524.0001,-1625.2981 531.0001,-1625.298\"/>\n</g>\n<!-- 6 -->\n<g id=\"node7\" class=\"node\">\n<title>6</title>\n<path fill=\"#e58139\" stroke=\"#000000\" d=\"M201,-1488.5C201,-1488.5 118,-1488.5 118,-1488.5 112,-1488.5 106,-1482.5 106,-1476.5 106,-1476.5 106,-1432.5 106,-1432.5 106,-1426.5 112,-1420.5 118,-1420.5 118,-1420.5 201,-1420.5 201,-1420.5 207,-1420.5 213,-1426.5 213,-1432.5 213,-1432.5 213,-1476.5 213,-1476.5 213,-1482.5 207,-1488.5 201,-1488.5\"/>\n<text text-anchor=\"start\" x=\"130\" y=\"-1473.3\" font-family=\"Helvetica,sans-Serif\" font-size=\"14.00\" fill=\"#000000\">gini = 0.0</text>\n<text text-anchor=\"start\" x=\"115.5\" y=\"-1458.3\" font-family=\"Helvetica,sans-Serif\" font-size=\"14.00\" fill=\"#000000\">samples = 15</text>\n<text text-anchor=\"start\" x=\"114\" y=\"-1443.3\" font-family=\"Helvetica,sans-Serif\" font-size=\"14.00\" fill=\"#000000\">value = [15, 0]</text>\n<text text-anchor=\"start\" x=\"133\" y=\"-1428.3\" font-family=\"Helvetica,sans-Serif\" font-size=\"14.00\" fill=\"#000000\">class = l</text>\n</g>\n<!-- 5&#45;&gt;6 -->\n<g id=\"edge6\" class=\"edge\">\n<title>5&#45;&gt;6</title>\n<path fill=\"none\" stroke=\"#000000\" d=\"M240.7811,-1531.8796C228.5375,-1520.2237 215.2339,-1507.5587 203.0029,-1495.9148\"/>\n<polygon fill=\"#000000\" stroke=\"#000000\" points=\"205.2012,-1493.1751 195.5451,-1488.8149 200.3746,-1498.245 205.2012,-1493.1751\"/>\n</g>\n<!-- 7 -->\n<g id=\"node8\" class=\"node\">\n<title>7</title>\n<path fill=\"#e9965a\" stroke=\"#000000\" d=\"M326,-1496C326,-1496 243,-1496 243,-1496 237,-1496 231,-1490 231,-1484 231,-1484 231,-1425 231,-1425 231,-1419 237,-1413 243,-1413 243,-1413 326,-1413 326,-1413 332,-1413 338,-1419 338,-1425 338,-1425 338,-1484 338,-1484 338,-1490 332,-1496 326,-1496\"/>\n<text text-anchor=\"start\" x=\"243.5\" y=\"-1480.8\" font-family=\"Helvetica,sans-Serif\" font-size=\"14.00\" fill=\"#000000\">age ≤ &#45;0.404</text>\n<text text-anchor=\"start\" x=\"246.5\" y=\"-1465.8\" font-family=\"Helvetica,sans-Serif\" font-size=\"14.00\" fill=\"#000000\">gini = 0.245</text>\n<text text-anchor=\"start\" x=\"240.5\" y=\"-1450.8\" font-family=\"Helvetica,sans-Serif\" font-size=\"14.00\" fill=\"#000000\">samples = 14</text>\n<text text-anchor=\"start\" x=\"239\" y=\"-1435.8\" font-family=\"Helvetica,sans-Serif\" font-size=\"14.00\" fill=\"#000000\">value = [12, 2]</text>\n<text text-anchor=\"start\" x=\"258\" y=\"-1420.8\" font-family=\"Helvetica,sans-Serif\" font-size=\"14.00\" fill=\"#000000\">class = l</text>\n</g>\n<!-- 5&#45;&gt;7 -->\n<g id=\"edge7\" class=\"edge\">\n<title>5&#45;&gt;7</title>\n<path fill=\"none\" stroke=\"#000000\" d=\"M284.5,-1531.8796C284.5,-1523.6838 284.5,-1514.9891 284.5,-1506.5013\"/>\n<polygon fill=\"#000000\" stroke=\"#000000\" points=\"288.0001,-1506.298 284.5,-1496.2981 281.0001,-1506.2981 288.0001,-1506.298\"/>\n</g>\n<!-- 8 -->\n<g id=\"node9\" class=\"node\">\n<title>8</title>\n<path fill=\"#eeab7b\" stroke=\"#000000\" d=\"M204,-1377C204,-1377 129,-1377 129,-1377 123,-1377 117,-1371 117,-1365 117,-1365 117,-1306 117,-1306 117,-1300 123,-1294 129,-1294 129,-1294 204,-1294 204,-1294 210,-1294 216,-1300 216,-1306 216,-1306 216,-1365 216,-1365 216,-1371 210,-1377 204,-1377\"/>\n<text text-anchor=\"start\" x=\"125.5\" y=\"-1361.8\" font-family=\"Helvetica,sans-Serif\" font-size=\"14.00\" fill=\"#000000\">age ≤ &#45;0.985</text>\n<text text-anchor=\"start\" x=\"128.5\" y=\"-1346.8\" font-family=\"Helvetica,sans-Serif\" font-size=\"14.00\" fill=\"#000000\">gini = 0.375</text>\n<text text-anchor=\"start\" x=\"127\" y=\"-1331.8\" font-family=\"Helvetica,sans-Serif\" font-size=\"14.00\" fill=\"#000000\">samples = 8</text>\n<text text-anchor=\"start\" x=\"125\" y=\"-1316.8\" font-family=\"Helvetica,sans-Serif\" font-size=\"14.00\" fill=\"#000000\">value = [6, 2]</text>\n<text text-anchor=\"start\" x=\"140\" y=\"-1301.8\" font-family=\"Helvetica,sans-Serif\" font-size=\"14.00\" fill=\"#000000\">class = l</text>\n</g>\n<!-- 7&#45;&gt;8 -->\n<g id=\"edge8\" class=\"edge\">\n<title>7&#45;&gt;8</title>\n<path fill=\"none\" stroke=\"#000000\" d=\"M243.2293,-1412.8796C234.1201,-1403.6931 224.3892,-1393.8798 215.0224,-1384.4336\"/>\n<polygon fill=\"#000000\" stroke=\"#000000\" points=\"217.4733,-1381.9345 207.9468,-1377.2981 212.5027,-1386.8634 217.4733,-1381.9345\"/>\n</g>\n<!-- 15 -->\n<g id=\"node16\" class=\"node\">\n<title>15</title>\n<path fill=\"#e58139\" stroke=\"#000000\" d=\"M322,-1369.5C322,-1369.5 247,-1369.5 247,-1369.5 241,-1369.5 235,-1363.5 235,-1357.5 235,-1357.5 235,-1313.5 235,-1313.5 235,-1307.5 241,-1301.5 247,-1301.5 247,-1301.5 322,-1301.5 322,-1301.5 328,-1301.5 334,-1307.5 334,-1313.5 334,-1313.5 334,-1357.5 334,-1357.5 334,-1363.5 328,-1369.5 322,-1369.5\"/>\n<text text-anchor=\"start\" x=\"255\" y=\"-1354.3\" font-family=\"Helvetica,sans-Serif\" font-size=\"14.00\" fill=\"#000000\">gini = 0.0</text>\n<text text-anchor=\"start\" x=\"245\" y=\"-1339.3\" font-family=\"Helvetica,sans-Serif\" font-size=\"14.00\" fill=\"#000000\">samples = 6</text>\n<text text-anchor=\"start\" x=\"243\" y=\"-1324.3\" font-family=\"Helvetica,sans-Serif\" font-size=\"14.00\" fill=\"#000000\">value = [6, 0]</text>\n<text text-anchor=\"start\" x=\"258\" y=\"-1309.3\" font-family=\"Helvetica,sans-Serif\" font-size=\"14.00\" fill=\"#000000\">class = l</text>\n</g>\n<!-- 7&#45;&gt;15 -->\n<g id=\"edge15\" class=\"edge\">\n<title>7&#45;&gt;15</title>\n<path fill=\"none\" stroke=\"#000000\" d=\"M284.5,-1412.8796C284.5,-1402.2134 284.5,-1390.7021 284.5,-1379.9015\"/>\n<polygon fill=\"#000000\" stroke=\"#000000\" points=\"288.0001,-1379.8149 284.5,-1369.8149 281.0001,-1379.815 288.0001,-1379.8149\"/>\n</g>\n<!-- 9 -->\n<g id=\"node10\" class=\"node\">\n<title>9</title>\n<path fill=\"#e58139\" stroke=\"#000000\" d=\"M87,-1250.5C87,-1250.5 12,-1250.5 12,-1250.5 6,-1250.5 0,-1244.5 0,-1238.5 0,-1238.5 0,-1194.5 0,-1194.5 0,-1188.5 6,-1182.5 12,-1182.5 12,-1182.5 87,-1182.5 87,-1182.5 93,-1182.5 99,-1188.5 99,-1194.5 99,-1194.5 99,-1238.5 99,-1238.5 99,-1244.5 93,-1250.5 87,-1250.5\"/>\n<text text-anchor=\"start\" x=\"20\" y=\"-1235.3\" font-family=\"Helvetica,sans-Serif\" font-size=\"14.00\" fill=\"#000000\">gini = 0.0</text>\n<text text-anchor=\"start\" x=\"10\" y=\"-1220.3\" font-family=\"Helvetica,sans-Serif\" font-size=\"14.00\" fill=\"#000000\">samples = 3</text>\n<text text-anchor=\"start\" x=\"8\" y=\"-1205.3\" font-family=\"Helvetica,sans-Serif\" font-size=\"14.00\" fill=\"#000000\">value = [3, 0]</text>\n<text text-anchor=\"start\" x=\"23\" y=\"-1190.3\" font-family=\"Helvetica,sans-Serif\" font-size=\"14.00\" fill=\"#000000\">class = l</text>\n</g>\n<!-- 8&#45;&gt;9 -->\n<g id=\"edge9\" class=\"edge\">\n<title>8&#45;&gt;9</title>\n<path fill=\"none\" stroke=\"#000000\" d=\"M125.5791,-1293.8796C114.2272,-1282.3337 101.9018,-1269.7976 90.543,-1258.2446\"/>\n<polygon fill=\"#000000\" stroke=\"#000000\" points=\"92.7449,-1255.4919 83.2382,-1250.8149 87.7534,-1260.3995 92.7449,-1255.4919\"/>\n</g>\n<!-- 10 -->\n<g id=\"node11\" class=\"node\">\n<title>10</title>\n<path fill=\"#f6d5bd\" stroke=\"#000000\" d=\"M204,-1258C204,-1258 129,-1258 129,-1258 123,-1258 117,-1252 117,-1246 117,-1246 117,-1187 117,-1187 117,-1181 123,-1175 129,-1175 129,-1175 204,-1175 204,-1175 210,-1175 216,-1181 216,-1187 216,-1187 216,-1246 216,-1246 216,-1252 210,-1258 204,-1258\"/>\n<text text-anchor=\"start\" x=\"125.5\" y=\"-1242.8\" font-family=\"Helvetica,sans-Serif\" font-size=\"14.00\" fill=\"#000000\">age ≤ &#45;0.736</text>\n<text text-anchor=\"start\" x=\"133\" y=\"-1227.8\" font-family=\"Helvetica,sans-Serif\" font-size=\"14.00\" fill=\"#000000\">gini = 0.48</text>\n<text text-anchor=\"start\" x=\"127\" y=\"-1212.8\" font-family=\"Helvetica,sans-Serif\" font-size=\"14.00\" fill=\"#000000\">samples = 5</text>\n<text text-anchor=\"start\" x=\"125\" y=\"-1197.8\" font-family=\"Helvetica,sans-Serif\" font-size=\"14.00\" fill=\"#000000\">value = [3, 2]</text>\n<text text-anchor=\"start\" x=\"140\" y=\"-1182.8\" font-family=\"Helvetica,sans-Serif\" font-size=\"14.00\" fill=\"#000000\">class = l</text>\n</g>\n<!-- 8&#45;&gt;10 -->\n<g id=\"edge10\" class=\"edge\">\n<title>8&#45;&gt;10</title>\n<path fill=\"none\" stroke=\"#000000\" d=\"M166.5,-1293.8796C166.5,-1285.6838 166.5,-1276.9891 166.5,-1268.5013\"/>\n<polygon fill=\"#000000\" stroke=\"#000000\" points=\"170.0001,-1268.298 166.5,-1258.2981 163.0001,-1268.2981 170.0001,-1268.298\"/>\n</g>\n<!-- 11 -->\n<g id=\"node12\" class=\"node\">\n<title>11</title>\n<path fill=\"#ffffff\" stroke=\"#000000\" d=\"M87,-1131.5C87,-1131.5 12,-1131.5 12,-1131.5 6,-1131.5 0,-1125.5 0,-1119.5 0,-1119.5 0,-1075.5 0,-1075.5 0,-1069.5 6,-1063.5 12,-1063.5 12,-1063.5 87,-1063.5 87,-1063.5 93,-1063.5 99,-1069.5 99,-1075.5 99,-1075.5 99,-1119.5 99,-1119.5 99,-1125.5 93,-1131.5 87,-1131.5\"/>\n<text text-anchor=\"start\" x=\"20\" y=\"-1116.3\" font-family=\"Helvetica,sans-Serif\" font-size=\"14.00\" fill=\"#000000\">gini = 0.5</text>\n<text text-anchor=\"start\" x=\"10\" y=\"-1101.3\" font-family=\"Helvetica,sans-Serif\" font-size=\"14.00\" fill=\"#000000\">samples = 2</text>\n<text text-anchor=\"start\" x=\"8\" y=\"-1086.3\" font-family=\"Helvetica,sans-Serif\" font-size=\"14.00\" fill=\"#000000\">value = [1, 1]</text>\n<text text-anchor=\"start\" x=\"23\" y=\"-1071.3\" font-family=\"Helvetica,sans-Serif\" font-size=\"14.00\" fill=\"#000000\">class = l</text>\n</g>\n<!-- 10&#45;&gt;11 -->\n<g id=\"edge11\" class=\"edge\">\n<title>10&#45;&gt;11</title>\n<path fill=\"none\" stroke=\"#000000\" d=\"M125.5791,-1174.8796C114.2272,-1163.3337 101.9018,-1150.7976 90.543,-1139.2446\"/>\n<polygon fill=\"#000000\" stroke=\"#000000\" points=\"92.7449,-1136.4919 83.2382,-1131.8149 87.7534,-1141.3995 92.7449,-1136.4919\"/>\n</g>\n<!-- 12 -->\n<g id=\"node13\" class=\"node\">\n<title>12</title>\n<path fill=\"#f2c09c\" stroke=\"#000000\" d=\"M204,-1139C204,-1139 129,-1139 129,-1139 123,-1139 117,-1133 117,-1127 117,-1127 117,-1068 117,-1068 117,-1062 123,-1056 129,-1056 129,-1056 204,-1056 204,-1056 210,-1056 216,-1062 216,-1068 216,-1068 216,-1127 216,-1127 216,-1133 210,-1139 204,-1139\"/>\n<text text-anchor=\"start\" x=\"130\" y=\"-1123.8\" font-family=\"Helvetica,sans-Serif\" font-size=\"14.00\" fill=\"#000000\">age ≤ &#45;0.57</text>\n<text text-anchor=\"start\" x=\"128.5\" y=\"-1108.8\" font-family=\"Helvetica,sans-Serif\" font-size=\"14.00\" fill=\"#000000\">gini = 0.444</text>\n<text text-anchor=\"start\" x=\"127\" y=\"-1093.8\" font-family=\"Helvetica,sans-Serif\" font-size=\"14.00\" fill=\"#000000\">samples = 3</text>\n<text text-anchor=\"start\" x=\"125\" y=\"-1078.8\" font-family=\"Helvetica,sans-Serif\" font-size=\"14.00\" fill=\"#000000\">value = [2, 1]</text>\n<text text-anchor=\"start\" x=\"140\" y=\"-1063.8\" font-family=\"Helvetica,sans-Serif\" font-size=\"14.00\" fill=\"#000000\">class = l</text>\n</g>\n<!-- 10&#45;&gt;12 -->\n<g id=\"edge12\" class=\"edge\">\n<title>10&#45;&gt;12</title>\n<path fill=\"none\" stroke=\"#000000\" d=\"M166.5,-1174.8796C166.5,-1166.6838 166.5,-1157.9891 166.5,-1149.5013\"/>\n<polygon fill=\"#000000\" stroke=\"#000000\" points=\"170.0001,-1149.298 166.5,-1139.2981 163.0001,-1149.2981 170.0001,-1149.298\"/>\n</g>\n<!-- 13 -->\n<g id=\"node14\" class=\"node\">\n<title>13</title>\n<path fill=\"#e58139\" stroke=\"#000000\" d=\"M87,-1012.5C87,-1012.5 12,-1012.5 12,-1012.5 6,-1012.5 0,-1006.5 0,-1000.5 0,-1000.5 0,-956.5 0,-956.5 0,-950.5 6,-944.5 12,-944.5 12,-944.5 87,-944.5 87,-944.5 93,-944.5 99,-950.5 99,-956.5 99,-956.5 99,-1000.5 99,-1000.5 99,-1006.5 93,-1012.5 87,-1012.5\"/>\n<text text-anchor=\"start\" x=\"20\" y=\"-997.3\" font-family=\"Helvetica,sans-Serif\" font-size=\"14.00\" fill=\"#000000\">gini = 0.0</text>\n<text text-anchor=\"start\" x=\"10\" y=\"-982.3\" font-family=\"Helvetica,sans-Serif\" font-size=\"14.00\" fill=\"#000000\">samples = 1</text>\n<text text-anchor=\"start\" x=\"8\" y=\"-967.3\" font-family=\"Helvetica,sans-Serif\" font-size=\"14.00\" fill=\"#000000\">value = [1, 0]</text>\n<text text-anchor=\"start\" x=\"23\" y=\"-952.3\" font-family=\"Helvetica,sans-Serif\" font-size=\"14.00\" fill=\"#000000\">class = l</text>\n</g>\n<!-- 12&#45;&gt;13 -->\n<g id=\"edge13\" class=\"edge\">\n<title>12&#45;&gt;13</title>\n<path fill=\"none\" stroke=\"#000000\" d=\"M125.5791,-1055.8796C114.2272,-1044.3337 101.9018,-1031.7976 90.543,-1020.2446\"/>\n<polygon fill=\"#000000\" stroke=\"#000000\" points=\"92.7449,-1017.4919 83.2382,-1012.8149 87.7534,-1022.3995 92.7449,-1017.4919\"/>\n</g>\n<!-- 14 -->\n<g id=\"node15\" class=\"node\">\n<title>14</title>\n<path fill=\"#ffffff\" stroke=\"#000000\" d=\"M204,-1012.5C204,-1012.5 129,-1012.5 129,-1012.5 123,-1012.5 117,-1006.5 117,-1000.5 117,-1000.5 117,-956.5 117,-956.5 117,-950.5 123,-944.5 129,-944.5 129,-944.5 204,-944.5 204,-944.5 210,-944.5 216,-950.5 216,-956.5 216,-956.5 216,-1000.5 216,-1000.5 216,-1006.5 210,-1012.5 204,-1012.5\"/>\n<text text-anchor=\"start\" x=\"137\" y=\"-997.3\" font-family=\"Helvetica,sans-Serif\" font-size=\"14.00\" fill=\"#000000\">gini = 0.5</text>\n<text text-anchor=\"start\" x=\"127\" y=\"-982.3\" font-family=\"Helvetica,sans-Serif\" font-size=\"14.00\" fill=\"#000000\">samples = 2</text>\n<text text-anchor=\"start\" x=\"125\" y=\"-967.3\" font-family=\"Helvetica,sans-Serif\" font-size=\"14.00\" fill=\"#000000\">value = [1, 1]</text>\n<text text-anchor=\"start\" x=\"140\" y=\"-952.3\" font-family=\"Helvetica,sans-Serif\" font-size=\"14.00\" fill=\"#000000\">class = l</text>\n</g>\n<!-- 12&#45;&gt;14 -->\n<g id=\"edge14\" class=\"edge\">\n<title>12&#45;&gt;14</title>\n<path fill=\"none\" stroke=\"#000000\" d=\"M166.5,-1055.8796C166.5,-1045.2134 166.5,-1033.7021 166.5,-1022.9015\"/>\n<polygon fill=\"#000000\" stroke=\"#000000\" points=\"170.0001,-1022.8149 166.5,-1012.8149 163.0001,-1022.815 170.0001,-1022.8149\"/>\n</g>\n<!-- 17 -->\n<g id=\"node18\" class=\"node\">\n<title>17</title>\n<path fill=\"#ffffff\" stroke=\"#000000\" d=\"M509,-1496C509,-1496 424,-1496 424,-1496 418,-1496 412,-1490 412,-1484 412,-1484 412,-1425 412,-1425 412,-1419 418,-1413 424,-1413 424,-1413 509,-1413 509,-1413 515,-1413 521,-1419 521,-1425 521,-1425 521,-1484 521,-1484 521,-1490 515,-1496 509,-1496\"/>\n<text text-anchor=\"start\" x=\"420\" y=\"-1480.8\" font-family=\"Helvetica,sans-Serif\" font-size=\"14.00\" fill=\"#000000\">terms ≤ &#45;0.019</text>\n<text text-anchor=\"start\" x=\"437\" y=\"-1465.8\" font-family=\"Helvetica,sans-Serif\" font-size=\"14.00\" fill=\"#000000\">gini = 0.5</text>\n<text text-anchor=\"start\" x=\"427\" y=\"-1450.8\" font-family=\"Helvetica,sans-Serif\" font-size=\"14.00\" fill=\"#000000\">samples = 2</text>\n<text text-anchor=\"start\" x=\"425\" y=\"-1435.8\" font-family=\"Helvetica,sans-Serif\" font-size=\"14.00\" fill=\"#000000\">value = [1, 1]</text>\n<text text-anchor=\"start\" x=\"440\" y=\"-1420.8\" font-family=\"Helvetica,sans-Serif\" font-size=\"14.00\" fill=\"#000000\">class = l</text>\n</g>\n<!-- 16&#45;&gt;17 -->\n<g id=\"edge17\" class=\"edge\">\n<title>16&#45;&gt;17</title>\n<path fill=\"none\" stroke=\"#000000\" d=\"M506.1652,-1531.8796C501.7793,-1523.3236 497.1147,-1514.2238 492.583,-1505.3833\"/>\n<polygon fill=\"#000000\" stroke=\"#000000\" points=\"495.6022,-1503.6004 487.9259,-1496.2981 489.373,-1506.7936 495.6022,-1503.6004\"/>\n</g>\n<!-- 20 -->\n<g id=\"node21\" class=\"node\">\n<title>20</title>\n<path fill=\"#e58139\" stroke=\"#000000\" d=\"M626,-1488.5C626,-1488.5 551,-1488.5 551,-1488.5 545,-1488.5 539,-1482.5 539,-1476.5 539,-1476.5 539,-1432.5 539,-1432.5 539,-1426.5 545,-1420.5 551,-1420.5 551,-1420.5 626,-1420.5 626,-1420.5 632,-1420.5 638,-1426.5 638,-1432.5 638,-1432.5 638,-1476.5 638,-1476.5 638,-1482.5 632,-1488.5 626,-1488.5\"/>\n<text text-anchor=\"start\" x=\"559\" y=\"-1473.3\" font-family=\"Helvetica,sans-Serif\" font-size=\"14.00\" fill=\"#000000\">gini = 0.0</text>\n<text text-anchor=\"start\" x=\"549\" y=\"-1458.3\" font-family=\"Helvetica,sans-Serif\" font-size=\"14.00\" fill=\"#000000\">samples = 2</text>\n<text text-anchor=\"start\" x=\"547\" y=\"-1443.3\" font-family=\"Helvetica,sans-Serif\" font-size=\"14.00\" fill=\"#000000\">value = [2, 0]</text>\n<text text-anchor=\"start\" x=\"562\" y=\"-1428.3\" font-family=\"Helvetica,sans-Serif\" font-size=\"14.00\" fill=\"#000000\">class = l</text>\n</g>\n<!-- 16&#45;&gt;20 -->\n<g id=\"edge20\" class=\"edge\">\n<title>16&#45;&gt;20</title>\n<path fill=\"none\" stroke=\"#000000\" d=\"M548.8348,-1531.8796C554.4715,-1520.8835 560.5685,-1508.9893 566.2522,-1497.9015\"/>\n<polygon fill=\"#000000\" stroke=\"#000000\" points=\"569.4629,-1499.3105 570.91,-1488.8149 563.2337,-1496.1173 569.4629,-1499.3105\"/>\n</g>\n<!-- 18 -->\n<g id=\"node19\" class=\"node\">\n<title>18</title>\n<path fill=\"#399de5\" stroke=\"#000000\" d=\"M443,-1369.5C443,-1369.5 368,-1369.5 368,-1369.5 362,-1369.5 356,-1363.5 356,-1357.5 356,-1357.5 356,-1313.5 356,-1313.5 356,-1307.5 362,-1301.5 368,-1301.5 368,-1301.5 443,-1301.5 443,-1301.5 449,-1301.5 455,-1307.5 455,-1313.5 455,-1313.5 455,-1357.5 455,-1357.5 455,-1363.5 449,-1369.5 443,-1369.5\"/>\n<text text-anchor=\"start\" x=\"376\" y=\"-1354.3\" font-family=\"Helvetica,sans-Serif\" font-size=\"14.00\" fill=\"#000000\">gini = 0.0</text>\n<text text-anchor=\"start\" x=\"366\" y=\"-1339.3\" font-family=\"Helvetica,sans-Serif\" font-size=\"14.00\" fill=\"#000000\">samples = 1</text>\n<text text-anchor=\"start\" x=\"364\" y=\"-1324.3\" font-family=\"Helvetica,sans-Serif\" font-size=\"14.00\" fill=\"#000000\">value = [0, 1]</text>\n<text text-anchor=\"start\" x=\"376.5\" y=\"-1309.3\" font-family=\"Helvetica,sans-Serif\" font-size=\"14.00\" fill=\"#000000\">class = o</text>\n</g>\n<!-- 17&#45;&gt;18 -->\n<g id=\"edge18\" class=\"edge\">\n<title>17&#45;&gt;18</title>\n<path fill=\"none\" stroke=\"#000000\" d=\"M445.1652,-1412.8796C439.5285,-1401.8835 433.4315,-1389.9893 427.7478,-1378.9015\"/>\n<polygon fill=\"#000000\" stroke=\"#000000\" points=\"430.7663,-1377.1173 423.09,-1369.8149 424.5371,-1380.3105 430.7663,-1377.1173\"/>\n</g>\n<!-- 19 -->\n<g id=\"node20\" class=\"node\">\n<title>19</title>\n<path fill=\"#e58139\" stroke=\"#000000\" d=\"M560,-1369.5C560,-1369.5 485,-1369.5 485,-1369.5 479,-1369.5 473,-1363.5 473,-1357.5 473,-1357.5 473,-1313.5 473,-1313.5 473,-1307.5 479,-1301.5 485,-1301.5 485,-1301.5 560,-1301.5 560,-1301.5 566,-1301.5 572,-1307.5 572,-1313.5 572,-1313.5 572,-1357.5 572,-1357.5 572,-1363.5 566,-1369.5 560,-1369.5\"/>\n<text text-anchor=\"start\" x=\"493\" y=\"-1354.3\" font-family=\"Helvetica,sans-Serif\" font-size=\"14.00\" fill=\"#000000\">gini = 0.0</text>\n<text text-anchor=\"start\" x=\"483\" y=\"-1339.3\" font-family=\"Helvetica,sans-Serif\" font-size=\"14.00\" fill=\"#000000\">samples = 1</text>\n<text text-anchor=\"start\" x=\"481\" y=\"-1324.3\" font-family=\"Helvetica,sans-Serif\" font-size=\"14.00\" fill=\"#000000\">value = [1, 0]</text>\n<text text-anchor=\"start\" x=\"496\" y=\"-1309.3\" font-family=\"Helvetica,sans-Serif\" font-size=\"14.00\" fill=\"#000000\">class = l</text>\n</g>\n<!-- 17&#45;&gt;19 -->\n<g id=\"edge19\" class=\"edge\">\n<title>17&#45;&gt;19</title>\n<path fill=\"none\" stroke=\"#000000\" d=\"M486.0861,-1412.8796C491.2607,-1401.8835 496.858,-1389.9893 502.0758,-1378.9015\"/>\n<polygon fill=\"#000000\" stroke=\"#000000\" points=\"505.2606,-1380.3534 506.3518,-1369.8149 498.9269,-1377.3728 505.2606,-1380.3534\"/>\n</g>\n<!-- 23 -->\n<g id=\"node24\" class=\"node\">\n<title>23</title>\n<path fill=\"#e58139\" stroke=\"#000000\" d=\"M1234,-1845.5C1234,-1845.5 1159,-1845.5 1159,-1845.5 1153,-1845.5 1147,-1839.5 1147,-1833.5 1147,-1833.5 1147,-1789.5 1147,-1789.5 1147,-1783.5 1153,-1777.5 1159,-1777.5 1159,-1777.5 1234,-1777.5 1234,-1777.5 1240,-1777.5 1246,-1783.5 1246,-1789.5 1246,-1789.5 1246,-1833.5 1246,-1833.5 1246,-1839.5 1240,-1845.5 1234,-1845.5\"/>\n<text text-anchor=\"start\" x=\"1167\" y=\"-1830.3\" font-family=\"Helvetica,sans-Serif\" font-size=\"14.00\" fill=\"#000000\">gini = 0.0</text>\n<text text-anchor=\"start\" x=\"1157\" y=\"-1815.3\" font-family=\"Helvetica,sans-Serif\" font-size=\"14.00\" fill=\"#000000\">samples = 7</text>\n<text text-anchor=\"start\" x=\"1155\" y=\"-1800.3\" font-family=\"Helvetica,sans-Serif\" font-size=\"14.00\" fill=\"#000000\">value = [7, 0]</text>\n<text text-anchor=\"start\" x=\"1170\" y=\"-1785.3\" font-family=\"Helvetica,sans-Serif\" font-size=\"14.00\" fill=\"#000000\">class = l</text>\n</g>\n<!-- 22&#45;&gt;23 -->\n<g id=\"edge23\" class=\"edge\">\n<title>22&#45;&gt;23</title>\n<path fill=\"none\" stroke=\"#000000\" d=\"M1196.5,-1888.8796C1196.5,-1878.2134 1196.5,-1866.7021 1196.5,-1855.9015\"/>\n<polygon fill=\"#000000\" stroke=\"#000000\" points=\"1200.0001,-1855.8149 1196.5,-1845.8149 1193.0001,-1855.815 1200.0001,-1855.8149\"/>\n</g>\n<!-- 24 -->\n<g id=\"node25\" class=\"node\">\n<title>24</title>\n<path fill=\"#f8dcc8\" stroke=\"#000000\" d=\"M1741.5,-1853C1741.5,-1853 1641.5,-1853 1641.5,-1853 1635.5,-1853 1629.5,-1847 1629.5,-1841 1629.5,-1841 1629.5,-1782 1629.5,-1782 1629.5,-1776 1635.5,-1770 1641.5,-1770 1641.5,-1770 1741.5,-1770 1741.5,-1770 1747.5,-1770 1753.5,-1776 1753.5,-1782 1753.5,-1782 1753.5,-1841 1753.5,-1841 1753.5,-1847 1747.5,-1853 1741.5,-1853\"/>\n<text text-anchor=\"start\" x=\"1641\" y=\"-1837.8\" font-family=\"Helvetica,sans-Serif\" font-size=\"14.00\" fill=\"#000000\">Gender ≤ 0.979</text>\n<text text-anchor=\"start\" x=\"1653.5\" y=\"-1822.8\" font-family=\"Helvetica,sans-Serif\" font-size=\"14.00\" fill=\"#000000\">gini = 0.487</text>\n<text text-anchor=\"start\" x=\"1643.5\" y=\"-1807.8\" font-family=\"Helvetica,sans-Serif\" font-size=\"14.00\" fill=\"#000000\">samples = 198</text>\n<text text-anchor=\"start\" x=\"1637.5\" y=\"-1792.8\" font-family=\"Helvetica,sans-Serif\" font-size=\"14.00\" fill=\"#000000\">value = [115, 83]</text>\n<text text-anchor=\"start\" x=\"1665\" y=\"-1777.8\" font-family=\"Helvetica,sans-Serif\" font-size=\"14.00\" fill=\"#000000\">class = l</text>\n</g>\n<!-- 22&#45;&gt;24 -->\n<g id=\"edge24\" class=\"edge\">\n<title>22&#45;&gt;24</title>\n<path fill=\"none\" stroke=\"#000000\" d=\"M1258.6909,-1915.5491C1350.5716,-1893.4606 1522.1763,-1852.2061 1619.4241,-1828.8273\"/>\n<polygon fill=\"#000000\" stroke=\"#000000\" points=\"1620.2693,-1832.2239 1629.1742,-1826.4834 1618.6331,-1825.4179 1620.2693,-1832.2239\"/>\n</g>\n<!-- 25 -->\n<g id=\"node26\" class=\"node\">\n<title>25</title>\n<path fill=\"#f9e4d4\" stroke=\"#000000\" d=\"M1745,-1734C1745,-1734 1638,-1734 1638,-1734 1632,-1734 1626,-1728 1626,-1722 1626,-1722 1626,-1663 1626,-1663 1626,-1657 1632,-1651 1638,-1651 1638,-1651 1745,-1651 1745,-1651 1751,-1651 1757,-1657 1757,-1663 1757,-1663 1757,-1722 1757,-1722 1757,-1728 1751,-1734 1745,-1734\"/>\n<text text-anchor=\"start\" x=\"1634\" y=\"-1718.8\" font-family=\"Helvetica,sans-Serif\" font-size=\"14.00\" fill=\"#000000\">dayofweek ≤ 0.14</text>\n<text text-anchor=\"start\" x=\"1653.5\" y=\"-1703.8\" font-family=\"Helvetica,sans-Serif\" font-size=\"14.00\" fill=\"#000000\">gini = 0.493</text>\n<text text-anchor=\"start\" x=\"1643.5\" y=\"-1688.8\" font-family=\"Helvetica,sans-Serif\" font-size=\"14.00\" fill=\"#000000\">samples = 173</text>\n<text text-anchor=\"start\" x=\"1641.5\" y=\"-1673.8\" font-family=\"Helvetica,sans-Serif\" font-size=\"14.00\" fill=\"#000000\">value = [97, 76]</text>\n<text text-anchor=\"start\" x=\"1665\" y=\"-1658.8\" font-family=\"Helvetica,sans-Serif\" font-size=\"14.00\" fill=\"#000000\">class = l</text>\n</g>\n<!-- 24&#45;&gt;25 -->\n<g id=\"edge25\" class=\"edge\">\n<title>24&#45;&gt;25</title>\n<path fill=\"none\" stroke=\"#000000\" d=\"M1691.5,-1769.8796C1691.5,-1761.6838 1691.5,-1752.9891 1691.5,-1744.5013\"/>\n<polygon fill=\"#000000\" stroke=\"#000000\" points=\"1695.0001,-1744.298 1691.5,-1734.2981 1688.0001,-1744.2981 1695.0001,-1744.298\"/>\n</g>\n<!-- 196 -->\n<g id=\"node197\" class=\"node\">\n<title>196</title>\n<path fill=\"#efb286\" stroke=\"#000000\" d=\"M2982,-1734C2982,-1734 2899,-1734 2899,-1734 2893,-1734 2887,-1728 2887,-1722 2887,-1722 2887,-1663 2887,-1663 2887,-1657 2893,-1651 2899,-1651 2899,-1651 2982,-1651 2982,-1651 2988,-1651 2994,-1657 2994,-1663 2994,-1663 2994,-1722 2994,-1722 2994,-1728 2988,-1734 2982,-1734\"/>\n<text text-anchor=\"start\" x=\"2899.5\" y=\"-1718.8\" font-family=\"Helvetica,sans-Serif\" font-size=\"14.00\" fill=\"#000000\">age ≤ &#45;0.073</text>\n<text text-anchor=\"start\" x=\"2902.5\" y=\"-1703.8\" font-family=\"Helvetica,sans-Serif\" font-size=\"14.00\" fill=\"#000000\">gini = 0.403</text>\n<text text-anchor=\"start\" x=\"2896.5\" y=\"-1688.8\" font-family=\"Helvetica,sans-Serif\" font-size=\"14.00\" fill=\"#000000\">samples = 25</text>\n<text text-anchor=\"start\" x=\"2895\" y=\"-1673.8\" font-family=\"Helvetica,sans-Serif\" font-size=\"14.00\" fill=\"#000000\">value = [18, 7]</text>\n<text text-anchor=\"start\" x=\"2914\" y=\"-1658.8\" font-family=\"Helvetica,sans-Serif\" font-size=\"14.00\" fill=\"#000000\">class = l</text>\n</g>\n<!-- 24&#45;&gt;196 -->\n<g id=\"edge196\" class=\"edge\">\n<title>24&#45;&gt;196</title>\n<path fill=\"none\" stroke=\"#000000\" d=\"M1753.8654,-1805.5581C1966.5171,-1785.2974 2661.8481,-1719.0489 2876.6819,-1698.5804\"/>\n<polygon fill=\"#000000\" stroke=\"#000000\" points=\"2877.2232,-1702.0447 2886.8461,-1697.6119 2876.5592,-1695.0763 2877.2232,-1702.0447\"/>\n</g>\n<!-- 26 -->\n<g id=\"node27\" class=\"node\">\n<title>26</title>\n<path fill=\"#fefaf7\" stroke=\"#000000\" d=\"M1244.5,-1615C1244.5,-1615 1142.5,-1615 1142.5,-1615 1136.5,-1615 1130.5,-1609 1130.5,-1603 1130.5,-1603 1130.5,-1544 1130.5,-1544 1130.5,-1538 1136.5,-1532 1142.5,-1532 1142.5,-1532 1244.5,-1532 1244.5,-1532 1250.5,-1532 1256.5,-1538 1256.5,-1544 1256.5,-1544 1256.5,-1603 1256.5,-1603 1256.5,-1609 1250.5,-1615 1244.5,-1615\"/>\n<text text-anchor=\"start\" x=\"1138.5\" y=\"-1599.8\" font-family=\"Helvetica,sans-Serif\" font-size=\"14.00\" fill=\"#000000\">Bechalor ≤ 0.313</text>\n<text text-anchor=\"start\" x=\"1164\" y=\"-1584.8\" font-family=\"Helvetica,sans-Serif\" font-size=\"14.00\" fill=\"#000000\">gini = 0.5</text>\n<text text-anchor=\"start\" x=\"1149.5\" y=\"-1569.8\" font-family=\"Helvetica,sans-Serif\" font-size=\"14.00\" fill=\"#000000\">samples = 96</text>\n<text text-anchor=\"start\" x=\"1143.5\" y=\"-1554.8\" font-family=\"Helvetica,sans-Serif\" font-size=\"14.00\" fill=\"#000000\">value = [49, 47]</text>\n<text text-anchor=\"start\" x=\"1167\" y=\"-1539.8\" font-family=\"Helvetica,sans-Serif\" font-size=\"14.00\" fill=\"#000000\">class = l</text>\n</g>\n<!-- 25&#45;&gt;26 -->\n<g id=\"edge26\" class=\"edge\">\n<title>25&#45;&gt;26</title>\n<path fill=\"none\" stroke=\"#000000\" d=\"M1625.8831,-1676.8205C1532.9025,-1654.6022 1363.3685,-1614.0911 1266.5127,-1590.9468\"/>\n<polygon fill=\"#000000\" stroke=\"#000000\" points=\"1267.0491,-1587.4765 1256.5094,-1588.5565 1265.4221,-1594.2848 1267.0491,-1587.4765\"/>\n</g>\n<!-- 131 -->\n<g id=\"node132\" class=\"node\">\n<title>131</title>\n<path fill=\"#f5cdb1\" stroke=\"#000000\" d=\"M2089.5,-1615C2089.5,-1615 1997.5,-1615 1997.5,-1615 1991.5,-1615 1985.5,-1609 1985.5,-1603 1985.5,-1603 1985.5,-1544 1985.5,-1544 1985.5,-1538 1991.5,-1532 1997.5,-1532 1997.5,-1532 2089.5,-1532 2089.5,-1532 2095.5,-1532 2101.5,-1538 2101.5,-1544 2101.5,-1544 2101.5,-1603 2101.5,-1603 2101.5,-1609 2095.5,-1615 2089.5,-1615\"/>\n<text text-anchor=\"start\" x=\"2009\" y=\"-1599.8\" font-family=\"Helvetica,sans-Serif\" font-size=\"14.00\" fill=\"#000000\">age ≤ 0.59</text>\n<text text-anchor=\"start\" x=\"2010\" y=\"-1584.8\" font-family=\"Helvetica,sans-Serif\" font-size=\"14.00\" fill=\"#000000\">gini = 0.47</text>\n<text text-anchor=\"start\" x=\"1999.5\" y=\"-1569.8\" font-family=\"Helvetica,sans-Serif\" font-size=\"14.00\" fill=\"#000000\">samples = 77</text>\n<text text-anchor=\"start\" x=\"1993.5\" y=\"-1554.8\" font-family=\"Helvetica,sans-Serif\" font-size=\"14.00\" fill=\"#000000\">value = [48, 29]</text>\n<text text-anchor=\"start\" x=\"2017\" y=\"-1539.8\" font-family=\"Helvetica,sans-Serif\" font-size=\"14.00\" fill=\"#000000\">class = l</text>\n</g>\n<!-- 25&#45;&gt;131 -->\n<g id=\"edge131\" class=\"edge\">\n<title>25&#45;&gt;131</title>\n<path fill=\"none\" stroke=\"#000000\" d=\"M1757.2956,-1670.2566C1819.5324,-1649.2163 1912.5336,-1617.7756 1975.4881,-1596.4927\"/>\n<polygon fill=\"#000000\" stroke=\"#000000\" points=\"1976.9723,-1599.6856 1985.3246,-1593.1672 1974.7304,-1593.0543 1976.9723,-1599.6856\"/>\n</g>\n<!-- 27 -->\n<g id=\"node28\" class=\"node\">\n<title>27</title>\n<path fill=\"#399de5\" stroke=\"#000000\" d=\"M1105,-1488.5C1105,-1488.5 1030,-1488.5 1030,-1488.5 1024,-1488.5 1018,-1482.5 1018,-1476.5 1018,-1476.5 1018,-1432.5 1018,-1432.5 1018,-1426.5 1024,-1420.5 1030,-1420.5 1030,-1420.5 1105,-1420.5 1105,-1420.5 1111,-1420.5 1117,-1426.5 1117,-1432.5 1117,-1432.5 1117,-1476.5 1117,-1476.5 1117,-1482.5 1111,-1488.5 1105,-1488.5\"/>\n<text text-anchor=\"start\" x=\"1038\" y=\"-1473.3\" font-family=\"Helvetica,sans-Serif\" font-size=\"14.00\" fill=\"#000000\">gini = 0.0</text>\n<text text-anchor=\"start\" x=\"1028\" y=\"-1458.3\" font-family=\"Helvetica,sans-Serif\" font-size=\"14.00\" fill=\"#000000\">samples = 2</text>\n<text text-anchor=\"start\" x=\"1026\" y=\"-1443.3\" font-family=\"Helvetica,sans-Serif\" font-size=\"14.00\" fill=\"#000000\">value = [0, 2]</text>\n<text text-anchor=\"start\" x=\"1038.5\" y=\"-1428.3\" font-family=\"Helvetica,sans-Serif\" font-size=\"14.00\" fill=\"#000000\">class = o</text>\n</g>\n<!-- 26&#45;&gt;27 -->\n<g id=\"edge27\" class=\"edge\">\n<title>26&#45;&gt;27</title>\n<path fill=\"none\" stroke=\"#000000\" d=\"M1149.4313,-1531.8796C1137.0898,-1520.2237 1123.6798,-1507.5587 1111.351,-1495.9148\"/>\n<polygon fill=\"#000000\" stroke=\"#000000\" points=\"1113.5068,-1493.1366 1103.8335,-1488.8149 1108.7004,-1498.2258 1113.5068,-1493.1366\"/>\n</g>\n<!-- 28 -->\n<g id=\"node29\" class=\"node\">\n<title>28</title>\n<path fill=\"#fdf5ef\" stroke=\"#000000\" d=\"M1239.5,-1496C1239.5,-1496 1147.5,-1496 1147.5,-1496 1141.5,-1496 1135.5,-1490 1135.5,-1484 1135.5,-1484 1135.5,-1425 1135.5,-1425 1135.5,-1419 1141.5,-1413 1147.5,-1413 1147.5,-1413 1239.5,-1413 1239.5,-1413 1245.5,-1413 1251.5,-1419 1251.5,-1425 1251.5,-1425 1251.5,-1484 1251.5,-1484 1251.5,-1490 1245.5,-1496 1239.5,-1496\"/>\n<text text-anchor=\"start\" x=\"1152.5\" y=\"-1480.8\" font-family=\"Helvetica,sans-Serif\" font-size=\"14.00\" fill=\"#000000\">age ≤ &#45;1.399</text>\n<text text-anchor=\"start\" x=\"1155.5\" y=\"-1465.8\" font-family=\"Helvetica,sans-Serif\" font-size=\"14.00\" fill=\"#000000\">gini = 0.499</text>\n<text text-anchor=\"start\" x=\"1149.5\" y=\"-1450.8\" font-family=\"Helvetica,sans-Serif\" font-size=\"14.00\" fill=\"#000000\">samples = 94</text>\n<text text-anchor=\"start\" x=\"1143.5\" y=\"-1435.8\" font-family=\"Helvetica,sans-Serif\" font-size=\"14.00\" fill=\"#000000\">value = [49, 45]</text>\n<text text-anchor=\"start\" x=\"1167\" y=\"-1420.8\" font-family=\"Helvetica,sans-Serif\" font-size=\"14.00\" fill=\"#000000\">class = l</text>\n</g>\n<!-- 26&#45;&gt;28 -->\n<g id=\"edge28\" class=\"edge\">\n<title>26&#45;&gt;28</title>\n<path fill=\"none\" stroke=\"#000000\" d=\"M1193.5,-1531.8796C1193.5,-1523.6838 1193.5,-1514.9891 1193.5,-1506.5013\"/>\n<polygon fill=\"#000000\" stroke=\"#000000\" points=\"1197.0001,-1506.298 1193.5,-1496.2981 1190.0001,-1506.2981 1197.0001,-1506.298\"/>\n</g>\n<!-- 29 -->\n<g id=\"node30\" class=\"node\">\n<title>29</title>\n<path fill=\"#eeab7b\" stroke=\"#000000\" d=\"M706.5,-1377C706.5,-1377 604.5,-1377 604.5,-1377 598.5,-1377 592.5,-1371 592.5,-1365 592.5,-1365 592.5,-1306 592.5,-1306 592.5,-1300 598.5,-1294 604.5,-1294 604.5,-1294 706.5,-1294 706.5,-1294 712.5,-1294 718.5,-1300 718.5,-1306 718.5,-1306 718.5,-1365 718.5,-1365 718.5,-1371 712.5,-1377 706.5,-1377\"/>\n<text text-anchor=\"start\" x=\"600.5\" y=\"-1361.8\" font-family=\"Helvetica,sans-Serif\" font-size=\"14.00\" fill=\"#000000\">Bechalor ≤ 0.696</text>\n<text text-anchor=\"start\" x=\"617.5\" y=\"-1346.8\" font-family=\"Helvetica,sans-Serif\" font-size=\"14.00\" fill=\"#000000\">gini = 0.375</text>\n<text text-anchor=\"start\" x=\"616\" y=\"-1331.8\" font-family=\"Helvetica,sans-Serif\" font-size=\"14.00\" fill=\"#000000\">samples = 8</text>\n<text text-anchor=\"start\" x=\"614\" y=\"-1316.8\" font-family=\"Helvetica,sans-Serif\" font-size=\"14.00\" fill=\"#000000\">value = [6, 2]</text>\n<text text-anchor=\"start\" x=\"629\" y=\"-1301.8\" font-family=\"Helvetica,sans-Serif\" font-size=\"14.00\" fill=\"#000000\">class = l</text>\n</g>\n<!-- 28&#45;&gt;29 -->\n<g id=\"edge29\" class=\"edge\">\n<title>28&#45;&gt;29</title>\n<path fill=\"none\" stroke=\"#000000\" d=\"M1135.236,-1417.0512C1131.9978,-1415.5687 1128.7412,-1414.2041 1125.5,-1413 991.0519,-1363.054 823.0614,-1345.2121 728.682,-1338.8985\"/>\n<polygon fill=\"#000000\" stroke=\"#000000\" points=\"728.8679,-1335.4034 718.6636,-1338.2533 728.4179,-1342.3889 728.8679,-1335.4034\"/>\n</g>\n<!-- 38 -->\n<g id=\"node39\" class=\"node\">\n<title>38</title>\n<path fill=\"#ffffff\" stroke=\"#000000\" d=\"M1239.5,-1377C1239.5,-1377 1147.5,-1377 1147.5,-1377 1141.5,-1377 1135.5,-1371 1135.5,-1365 1135.5,-1365 1135.5,-1306 1135.5,-1306 1135.5,-1300 1141.5,-1294 1147.5,-1294 1147.5,-1294 1239.5,-1294 1239.5,-1294 1245.5,-1294 1251.5,-1300 1251.5,-1306 1251.5,-1306 1251.5,-1365 1251.5,-1365 1251.5,-1371 1245.5,-1377 1239.5,-1377\"/>\n<text text-anchor=\"start\" x=\"1152.5\" y=\"-1361.8\" font-family=\"Helvetica,sans-Serif\" font-size=\"14.00\" fill=\"#000000\">age ≤ &#45;0.736</text>\n<text text-anchor=\"start\" x=\"1164\" y=\"-1346.8\" font-family=\"Helvetica,sans-Serif\" font-size=\"14.00\" fill=\"#000000\">gini = 0.5</text>\n<text text-anchor=\"start\" x=\"1149.5\" y=\"-1331.8\" font-family=\"Helvetica,sans-Serif\" font-size=\"14.00\" fill=\"#000000\">samples = 86</text>\n<text text-anchor=\"start\" x=\"1143.5\" y=\"-1316.8\" font-family=\"Helvetica,sans-Serif\" font-size=\"14.00\" fill=\"#000000\">value = [43, 43]</text>\n<text text-anchor=\"start\" x=\"1167\" y=\"-1301.8\" font-family=\"Helvetica,sans-Serif\" font-size=\"14.00\" fill=\"#000000\">class = l</text>\n</g>\n<!-- 28&#45;&gt;38 -->\n<g id=\"edge38\" class=\"edge\">\n<title>28&#45;&gt;38</title>\n<path fill=\"none\" stroke=\"#000000\" d=\"M1193.5,-1412.8796C1193.5,-1404.6838 1193.5,-1395.9891 1193.5,-1387.5013\"/>\n<polygon fill=\"#000000\" stroke=\"#000000\" points=\"1197.0001,-1387.298 1193.5,-1377.2981 1190.0001,-1387.2981 1197.0001,-1387.298\"/>\n</g>\n<!-- 30 -->\n<g id=\"node31\" class=\"node\">\n<title>30</title>\n<path fill=\"#399de5\" stroke=\"#000000\" d=\"M576,-1250.5C576,-1250.5 501,-1250.5 501,-1250.5 495,-1250.5 489,-1244.5 489,-1238.5 489,-1238.5 489,-1194.5 489,-1194.5 489,-1188.5 495,-1182.5 501,-1182.5 501,-1182.5 576,-1182.5 576,-1182.5 582,-1182.5 588,-1188.5 588,-1194.5 588,-1194.5 588,-1238.5 588,-1238.5 588,-1244.5 582,-1250.5 576,-1250.5\"/>\n<text text-anchor=\"start\" x=\"509\" y=\"-1235.3\" font-family=\"Helvetica,sans-Serif\" font-size=\"14.00\" fill=\"#000000\">gini = 0.0</text>\n<text text-anchor=\"start\" x=\"499\" y=\"-1220.3\" font-family=\"Helvetica,sans-Serif\" font-size=\"14.00\" fill=\"#000000\">samples = 1</text>\n<text text-anchor=\"start\" x=\"497\" y=\"-1205.3\" font-family=\"Helvetica,sans-Serif\" font-size=\"14.00\" fill=\"#000000\">value = [0, 1]</text>\n<text text-anchor=\"start\" x=\"509.5\" y=\"-1190.3\" font-family=\"Helvetica,sans-Serif\" font-size=\"14.00\" fill=\"#000000\">class = o</text>\n</g>\n<!-- 29&#45;&gt;30 -->\n<g id=\"edge30\" class=\"edge\">\n<title>29&#45;&gt;30</title>\n<path fill=\"none\" stroke=\"#000000\" d=\"M614.5791,-1293.8796C603.2272,-1282.3337 590.9018,-1269.7976 579.543,-1258.2446\"/>\n<polygon fill=\"#000000\" stroke=\"#000000\" points=\"581.7449,-1255.4919 572.2382,-1250.8149 576.7534,-1260.3995 581.7449,-1255.4919\"/>\n</g>\n<!-- 31 -->\n<g id=\"node32\" class=\"node\">\n<title>31</title>\n<path fill=\"#e9965a\" stroke=\"#000000\" d=\"M693,-1258C693,-1258 618,-1258 618,-1258 612,-1258 606,-1252 606,-1246 606,-1246 606,-1187 606,-1187 606,-1181 612,-1175 618,-1175 618,-1175 693,-1175 693,-1175 699,-1175 705,-1181 705,-1187 705,-1187 705,-1246 705,-1246 705,-1252 699,-1258 693,-1258\"/>\n<text text-anchor=\"start\" x=\"614.5\" y=\"-1242.8\" font-family=\"Helvetica,sans-Serif\" font-size=\"14.00\" fill=\"#000000\">age ≤ &#45;1.565</text>\n<text text-anchor=\"start\" x=\"617.5\" y=\"-1227.8\" font-family=\"Helvetica,sans-Serif\" font-size=\"14.00\" fill=\"#000000\">gini = 0.245</text>\n<text text-anchor=\"start\" x=\"616\" y=\"-1212.8\" font-family=\"Helvetica,sans-Serif\" font-size=\"14.00\" fill=\"#000000\">samples = 7</text>\n<text text-anchor=\"start\" x=\"614\" y=\"-1197.8\" font-family=\"Helvetica,sans-Serif\" font-size=\"14.00\" fill=\"#000000\">value = [6, 1]</text>\n<text text-anchor=\"start\" x=\"629\" y=\"-1182.8\" font-family=\"Helvetica,sans-Serif\" font-size=\"14.00\" fill=\"#000000\">class = l</text>\n</g>\n<!-- 29&#45;&gt;31 -->\n<g id=\"edge31\" class=\"edge\">\n<title>29&#45;&gt;31</title>\n<path fill=\"none\" stroke=\"#000000\" d=\"M655.5,-1293.8796C655.5,-1285.6838 655.5,-1276.9891 655.5,-1268.5013\"/>\n<polygon fill=\"#000000\" stroke=\"#000000\" points=\"659.0001,-1268.298 655.5,-1258.2981 652.0001,-1268.2981 659.0001,-1268.298\"/>\n</g>\n<!-- 32 -->\n<g id=\"node33\" class=\"node\">\n<title>32</title>\n<path fill=\"#eeab7b\" stroke=\"#000000\" d=\"M446,-1139C446,-1139 355,-1139 355,-1139 349,-1139 343,-1133 343,-1127 343,-1127 343,-1068 343,-1068 343,-1062 349,-1056 355,-1056 355,-1056 446,-1056 446,-1056 452,-1056 458,-1062 458,-1068 458,-1068 458,-1127 458,-1127 458,-1133 452,-1139 446,-1139\"/>\n<text text-anchor=\"start\" x=\"351\" y=\"-1123.8\" font-family=\"Helvetica,sans-Serif\" font-size=\"14.00\" fill=\"#000000\">college ≤ 0.128</text>\n<text text-anchor=\"start\" x=\"362.5\" y=\"-1108.8\" font-family=\"Helvetica,sans-Serif\" font-size=\"14.00\" fill=\"#000000\">gini = 0.375</text>\n<text text-anchor=\"start\" x=\"361\" y=\"-1093.8\" font-family=\"Helvetica,sans-Serif\" font-size=\"14.00\" fill=\"#000000\">samples = 4</text>\n<text text-anchor=\"start\" x=\"359\" y=\"-1078.8\" font-family=\"Helvetica,sans-Serif\" font-size=\"14.00\" fill=\"#000000\">value = [3, 1]</text>\n<text text-anchor=\"start\" x=\"374\" y=\"-1063.8\" font-family=\"Helvetica,sans-Serif\" font-size=\"14.00\" fill=\"#000000\">class = l</text>\n</g>\n<!-- 31&#45;&gt;32 -->\n<g id=\"edge32\" class=\"edge\">\n<title>31&#45;&gt;32</title>\n<path fill=\"none\" stroke=\"#000000\" d=\"M605.8066,-1180.3428C602.7027,-1178.4622 599.586,-1176.665 596.5,-1175 555.3831,-1152.8162 506.5251,-1133.4825 467.8756,-1119.6742\"/>\n<polygon fill=\"#000000\" stroke=\"#000000\" points=\"468.8751,-1116.3154 458.2803,-1116.2843 466.5433,-1122.9156 468.8751,-1116.3154\"/>\n</g>\n<!-- 37 -->\n<g id=\"node38\" class=\"node\">\n<title>37</title>\n<path fill=\"#e58139\" stroke=\"#000000\" d=\"M693,-1131.5C693,-1131.5 618,-1131.5 618,-1131.5 612,-1131.5 606,-1125.5 606,-1119.5 606,-1119.5 606,-1075.5 606,-1075.5 606,-1069.5 612,-1063.5 618,-1063.5 618,-1063.5 693,-1063.5 693,-1063.5 699,-1063.5 705,-1069.5 705,-1075.5 705,-1075.5 705,-1119.5 705,-1119.5 705,-1125.5 699,-1131.5 693,-1131.5\"/>\n<text text-anchor=\"start\" x=\"626\" y=\"-1116.3\" font-family=\"Helvetica,sans-Serif\" font-size=\"14.00\" fill=\"#000000\">gini = 0.0</text>\n<text text-anchor=\"start\" x=\"616\" y=\"-1101.3\" font-family=\"Helvetica,sans-Serif\" font-size=\"14.00\" fill=\"#000000\">samples = 3</text>\n<text text-anchor=\"start\" x=\"614\" y=\"-1086.3\" font-family=\"Helvetica,sans-Serif\" font-size=\"14.00\" fill=\"#000000\">value = [3, 0]</text>\n<text text-anchor=\"start\" x=\"629\" y=\"-1071.3\" font-family=\"Helvetica,sans-Serif\" font-size=\"14.00\" fill=\"#000000\">class = l</text>\n</g>\n<!-- 31&#45;&gt;37 -->\n<g id=\"edge37\" class=\"edge\">\n<title>31&#45;&gt;37</title>\n<path fill=\"none\" stroke=\"#000000\" d=\"M655.5,-1174.8796C655.5,-1164.2134 655.5,-1152.7021 655.5,-1141.9015\"/>\n<polygon fill=\"#000000\" stroke=\"#000000\" points=\"659.0001,-1141.8149 655.5,-1131.8149 652.0001,-1141.815 659.0001,-1141.8149\"/>\n</g>\n<!-- 33 -->\n<g id=\"node34\" class=\"node\">\n<title>33</title>\n<path fill=\"#e58139\" stroke=\"#000000\" d=\"M321,-1012.5C321,-1012.5 246,-1012.5 246,-1012.5 240,-1012.5 234,-1006.5 234,-1000.5 234,-1000.5 234,-956.5 234,-956.5 234,-950.5 240,-944.5 246,-944.5 246,-944.5 321,-944.5 321,-944.5 327,-944.5 333,-950.5 333,-956.5 333,-956.5 333,-1000.5 333,-1000.5 333,-1006.5 327,-1012.5 321,-1012.5\"/>\n<text text-anchor=\"start\" x=\"254\" y=\"-997.3\" font-family=\"Helvetica,sans-Serif\" font-size=\"14.00\" fill=\"#000000\">gini = 0.0</text>\n<text text-anchor=\"start\" x=\"244\" y=\"-982.3\" font-family=\"Helvetica,sans-Serif\" font-size=\"14.00\" fill=\"#000000\">samples = 1</text>\n<text text-anchor=\"start\" x=\"242\" y=\"-967.3\" font-family=\"Helvetica,sans-Serif\" font-size=\"14.00\" fill=\"#000000\">value = [1, 0]</text>\n<text text-anchor=\"start\" x=\"257\" y=\"-952.3\" font-family=\"Helvetica,sans-Serif\" font-size=\"14.00\" fill=\"#000000\">class = l</text>\n</g>\n<!-- 32&#45;&gt;33 -->\n<g id=\"edge33\" class=\"edge\">\n<title>32&#45;&gt;33</title>\n<path fill=\"none\" stroke=\"#000000\" d=\"M359.5791,-1055.8796C348.2272,-1044.3337 335.9018,-1031.7976 324.543,-1020.2446\"/>\n<polygon fill=\"#000000\" stroke=\"#000000\" points=\"326.7449,-1017.4919 317.2382,-1012.8149 321.7534,-1022.3995 326.7449,-1017.4919\"/>\n</g>\n<!-- 34 -->\n<g id=\"node35\" class=\"node\">\n<title>34</title>\n<path fill=\"#f2c09c\" stroke=\"#000000\" d=\"M438,-1020C438,-1020 363,-1020 363,-1020 357,-1020 351,-1014 351,-1008 351,-1008 351,-949 351,-949 351,-943 357,-937 363,-937 363,-937 438,-937 438,-937 444,-937 450,-943 450,-949 450,-949 450,-1008 450,-1008 450,-1014 444,-1020 438,-1020\"/>\n<text text-anchor=\"start\" x=\"359.5\" y=\"-1004.8\" font-family=\"Helvetica,sans-Serif\" font-size=\"14.00\" fill=\"#000000\">age ≤ &#45;1.731</text>\n<text text-anchor=\"start\" x=\"362.5\" y=\"-989.8\" font-family=\"Helvetica,sans-Serif\" font-size=\"14.00\" fill=\"#000000\">gini = 0.444</text>\n<text text-anchor=\"start\" x=\"361\" y=\"-974.8\" font-family=\"Helvetica,sans-Serif\" font-size=\"14.00\" fill=\"#000000\">samples = 3</text>\n<text text-anchor=\"start\" x=\"359\" y=\"-959.8\" font-family=\"Helvetica,sans-Serif\" font-size=\"14.00\" fill=\"#000000\">value = [2, 1]</text>\n<text text-anchor=\"start\" x=\"374\" y=\"-944.8\" font-family=\"Helvetica,sans-Serif\" font-size=\"14.00\" fill=\"#000000\">class = l</text>\n</g>\n<!-- 32&#45;&gt;34 -->\n<g id=\"edge34\" class=\"edge\">\n<title>32&#45;&gt;34</title>\n<path fill=\"none\" stroke=\"#000000\" d=\"M400.5,-1055.8796C400.5,-1047.6838 400.5,-1038.9891 400.5,-1030.5013\"/>\n<polygon fill=\"#000000\" stroke=\"#000000\" points=\"404.0001,-1030.298 400.5,-1020.2981 397.0001,-1030.2981 404.0001,-1030.298\"/>\n</g>\n<!-- 35 -->\n<g id=\"node36\" class=\"node\">\n<title>35</title>\n<path fill=\"#e58139\" stroke=\"#000000\" d=\"M319,-893.5C319,-893.5 244,-893.5 244,-893.5 238,-893.5 232,-887.5 232,-881.5 232,-881.5 232,-837.5 232,-837.5 232,-831.5 238,-825.5 244,-825.5 244,-825.5 319,-825.5 319,-825.5 325,-825.5 331,-831.5 331,-837.5 331,-837.5 331,-881.5 331,-881.5 331,-887.5 325,-893.5 319,-893.5\"/>\n<text text-anchor=\"start\" x=\"252\" y=\"-878.3\" font-family=\"Helvetica,sans-Serif\" font-size=\"14.00\" fill=\"#000000\">gini = 0.0</text>\n<text text-anchor=\"start\" x=\"242\" y=\"-863.3\" font-family=\"Helvetica,sans-Serif\" font-size=\"14.00\" fill=\"#000000\">samples = 1</text>\n<text text-anchor=\"start\" x=\"240\" y=\"-848.3\" font-family=\"Helvetica,sans-Serif\" font-size=\"14.00\" fill=\"#000000\">value = [1, 0]</text>\n<text text-anchor=\"start\" x=\"255\" y=\"-833.3\" font-family=\"Helvetica,sans-Serif\" font-size=\"14.00\" fill=\"#000000\">class = l</text>\n</g>\n<!-- 34&#45;&gt;35 -->\n<g id=\"edge35\" class=\"edge\">\n<title>34&#45;&gt;35</title>\n<path fill=\"none\" stroke=\"#000000\" d=\"M358.8796,-936.8796C347.2237,-925.2237 334.5587,-912.5587 322.9148,-900.9148\"/>\n<polygon fill=\"#000000\" stroke=\"#000000\" points=\"325.3609,-898.4111 315.8149,-893.8149 320.4111,-903.3609 325.3609,-898.4111\"/>\n</g>\n<!-- 36 -->\n<g id=\"node37\" class=\"node\">\n<title>36</title>\n<path fill=\"#ffffff\" stroke=\"#000000\" d=\"M436,-893.5C436,-893.5 361,-893.5 361,-893.5 355,-893.5 349,-887.5 349,-881.5 349,-881.5 349,-837.5 349,-837.5 349,-831.5 355,-825.5 361,-825.5 361,-825.5 436,-825.5 436,-825.5 442,-825.5 448,-831.5 448,-837.5 448,-837.5 448,-881.5 448,-881.5 448,-887.5 442,-893.5 436,-893.5\"/>\n<text text-anchor=\"start\" x=\"369\" y=\"-878.3\" font-family=\"Helvetica,sans-Serif\" font-size=\"14.00\" fill=\"#000000\">gini = 0.5</text>\n<text text-anchor=\"start\" x=\"359\" y=\"-863.3\" font-family=\"Helvetica,sans-Serif\" font-size=\"14.00\" fill=\"#000000\">samples = 2</text>\n<text text-anchor=\"start\" x=\"357\" y=\"-848.3\" font-family=\"Helvetica,sans-Serif\" font-size=\"14.00\" fill=\"#000000\">value = [1, 1]</text>\n<text text-anchor=\"start\" x=\"372\" y=\"-833.3\" font-family=\"Helvetica,sans-Serif\" font-size=\"14.00\" fill=\"#000000\">class = l</text>\n</g>\n<!-- 34&#45;&gt;36 -->\n<g id=\"edge36\" class=\"edge\">\n<title>34&#45;&gt;36</title>\n<path fill=\"none\" stroke=\"#000000\" d=\"M399.8005,-936.8796C399.6212,-926.2134 399.4278,-914.7021 399.2462,-903.9015\"/>\n<polygon fill=\"#000000\" stroke=\"#000000\" points=\"402.7444,-903.7547 399.0767,-893.8149 395.7454,-903.8724 402.7444,-903.7547\"/>\n</g>\n<!-- 39 -->\n<g id=\"node40\" class=\"node\">\n<title>39</title>\n<path fill=\"#a5d2f3\" stroke=\"#000000\" d=\"M963.5,-1258C963.5,-1258 859.5,-1258 859.5,-1258 853.5,-1258 847.5,-1252 847.5,-1246 847.5,-1246 847.5,-1187 847.5,-1187 847.5,-1181 853.5,-1175 859.5,-1175 859.5,-1175 963.5,-1175 963.5,-1175 969.5,-1175 975.5,-1181 975.5,-1187 975.5,-1187 975.5,-1246 975.5,-1246 975.5,-1252 969.5,-1258 963.5,-1258\"/>\n<text text-anchor=\"start\" x=\"855.5\" y=\"-1242.8\" font-family=\"Helvetica,sans-Serif\" font-size=\"14.00\" fill=\"#000000\">Principal ≤ &#45;0.399</text>\n<text text-anchor=\"start\" x=\"873.5\" y=\"-1227.8\" font-family=\"Helvetica,sans-Serif\" font-size=\"14.00\" fill=\"#000000\">gini = 0.457</text>\n<text text-anchor=\"start\" x=\"867.5\" y=\"-1212.8\" font-family=\"Helvetica,sans-Serif\" font-size=\"14.00\" fill=\"#000000\">samples = 17</text>\n<text text-anchor=\"start\" x=\"866\" y=\"-1197.8\" font-family=\"Helvetica,sans-Serif\" font-size=\"14.00\" fill=\"#000000\">value = [6, 11]</text>\n<text text-anchor=\"start\" x=\"882.5\" y=\"-1182.8\" font-family=\"Helvetica,sans-Serif\" font-size=\"14.00\" fill=\"#000000\">class = o</text>\n</g>\n<!-- 38&#45;&gt;39 -->\n<g id=\"edge39\" class=\"edge\">\n<title>38&#45;&gt;39</title>\n<path fill=\"none\" stroke=\"#000000\" d=\"M1135.4113,-1310.9874C1091.9689,-1292.6553 1032.2405,-1267.4508 985.3977,-1247.6838\"/>\n<polygon fill=\"#000000\" stroke=\"#000000\" points=\"986.4833,-1244.3431 975.9093,-1243.6798 983.7618,-1250.7924 986.4833,-1244.3431\"/>\n</g>\n<!-- 54 -->\n<g id=\"node55\" class=\"node\">\n<title>54</title>\n<path fill=\"#fbeee4\" stroke=\"#000000\" d=\"M1365.5,-1258C1365.5,-1258 1273.5,-1258 1273.5,-1258 1267.5,-1258 1261.5,-1252 1261.5,-1246 1261.5,-1246 1261.5,-1187 1261.5,-1187 1261.5,-1181 1267.5,-1175 1273.5,-1175 1273.5,-1175 1365.5,-1175 1365.5,-1175 1371.5,-1175 1377.5,-1181 1377.5,-1187 1377.5,-1187 1377.5,-1246 1377.5,-1246 1377.5,-1252 1371.5,-1258 1365.5,-1258\"/>\n<text text-anchor=\"start\" x=\"1285\" y=\"-1242.8\" font-family=\"Helvetica,sans-Serif\" font-size=\"14.00\" fill=\"#000000\">age ≤ 0.59</text>\n<text text-anchor=\"start\" x=\"1281.5\" y=\"-1227.8\" font-family=\"Helvetica,sans-Serif\" font-size=\"14.00\" fill=\"#000000\">gini = 0.497</text>\n<text text-anchor=\"start\" x=\"1275.5\" y=\"-1212.8\" font-family=\"Helvetica,sans-Serif\" font-size=\"14.00\" fill=\"#000000\">samples = 69</text>\n<text text-anchor=\"start\" x=\"1269.5\" y=\"-1197.8\" font-family=\"Helvetica,sans-Serif\" font-size=\"14.00\" fill=\"#000000\">value = [37, 32]</text>\n<text text-anchor=\"start\" x=\"1293\" y=\"-1182.8\" font-family=\"Helvetica,sans-Serif\" font-size=\"14.00\" fill=\"#000000\">class = l</text>\n</g>\n<!-- 38&#45;&gt;54 -->\n<g id=\"edge54\" class=\"edge\">\n<title>38&#45;&gt;54</title>\n<path fill=\"none\" stroke=\"#000000\" d=\"M1237.5687,-1293.8796C1247.2955,-1284.6931 1257.6861,-1274.8798 1267.6879,-1265.4336\"/>\n<polygon fill=\"#000000\" stroke=\"#000000\" points=\"1270.3763,-1267.7089 1275.2432,-1258.2981 1265.5699,-1262.6198 1270.3763,-1267.7089\"/>\n</g>\n<!-- 40 -->\n<g id=\"node41\" class=\"node\">\n<title>40</title>\n<path fill=\"#399de5\" stroke=\"#000000\" d=\"M827,-1131.5C827,-1131.5 752,-1131.5 752,-1131.5 746,-1131.5 740,-1125.5 740,-1119.5 740,-1119.5 740,-1075.5 740,-1075.5 740,-1069.5 746,-1063.5 752,-1063.5 752,-1063.5 827,-1063.5 827,-1063.5 833,-1063.5 839,-1069.5 839,-1075.5 839,-1075.5 839,-1119.5 839,-1119.5 839,-1125.5 833,-1131.5 827,-1131.5\"/>\n<text text-anchor=\"start\" x=\"760\" y=\"-1116.3\" font-family=\"Helvetica,sans-Serif\" font-size=\"14.00\" fill=\"#000000\">gini = 0.0</text>\n<text text-anchor=\"start\" x=\"750\" y=\"-1101.3\" font-family=\"Helvetica,sans-Serif\" font-size=\"14.00\" fill=\"#000000\">samples = 1</text>\n<text text-anchor=\"start\" x=\"748\" y=\"-1086.3\" font-family=\"Helvetica,sans-Serif\" font-size=\"14.00\" fill=\"#000000\">value = [0, 1]</text>\n<text text-anchor=\"start\" x=\"760.5\" y=\"-1071.3\" font-family=\"Helvetica,sans-Serif\" font-size=\"14.00\" fill=\"#000000\">class = o</text>\n</g>\n<!-- 39&#45;&gt;40 -->\n<g id=\"edge40\" class=\"edge\">\n<title>39&#45;&gt;40</title>\n<path fill=\"none\" stroke=\"#000000\" d=\"M868.8303,-1174.8796C856.8806,-1163.2237 843.8963,-1150.5587 831.9589,-1138.9148\"/>\n<polygon fill=\"#000000\" stroke=\"#000000\" points=\"834.2825,-1136.292 824.68,-1131.8149 829.3947,-1141.303 834.2825,-1136.292\"/>\n</g>\n<!-- 41 -->\n<g id=\"node42\" class=\"node\">\n<title>41</title>\n<path fill=\"#b0d8f5\" stroke=\"#000000\" d=\"M954,-1139C954,-1139 869,-1139 869,-1139 863,-1139 857,-1133 857,-1127 857,-1127 857,-1068 857,-1068 857,-1062 863,-1056 869,-1056 869,-1056 954,-1056 954,-1056 960,-1056 966,-1062 966,-1068 966,-1068 966,-1127 966,-1127 966,-1133 960,-1139 954,-1139\"/>\n<text text-anchor=\"start\" x=\"865\" y=\"-1123.8\" font-family=\"Helvetica,sans-Serif\" font-size=\"14.00\" fill=\"#000000\">terms ≤ &#45;0.019</text>\n<text text-anchor=\"start\" x=\"873.5\" y=\"-1108.8\" font-family=\"Helvetica,sans-Serif\" font-size=\"14.00\" fill=\"#000000\">gini = 0.469</text>\n<text text-anchor=\"start\" x=\"867.5\" y=\"-1093.8\" font-family=\"Helvetica,sans-Serif\" font-size=\"14.00\" fill=\"#000000\">samples = 16</text>\n<text text-anchor=\"start\" x=\"866\" y=\"-1078.8\" font-family=\"Helvetica,sans-Serif\" font-size=\"14.00\" fill=\"#000000\">value = [6, 10]</text>\n<text text-anchor=\"start\" x=\"882.5\" y=\"-1063.8\" font-family=\"Helvetica,sans-Serif\" font-size=\"14.00\" fill=\"#000000\">class = o</text>\n</g>\n<!-- 39&#45;&gt;41 -->\n<g id=\"edge41\" class=\"edge\">\n<title>39&#45;&gt;41</title>\n<path fill=\"none\" stroke=\"#000000\" d=\"M911.5,-1174.8796C911.5,-1166.6838 911.5,-1157.9891 911.5,-1149.5013\"/>\n<polygon fill=\"#000000\" stroke=\"#000000\" points=\"915.0001,-1149.298 911.5,-1139.2981 908.0001,-1149.2981 915.0001,-1149.298\"/>\n</g>\n<!-- 42 -->\n<g id=\"node43\" class=\"node\">\n<title>42</title>\n<path fill=\"#f2c09c\" stroke=\"#000000\" d=\"M683.5,-1020C683.5,-1020 581.5,-1020 581.5,-1020 575.5,-1020 569.5,-1014 569.5,-1008 569.5,-1008 569.5,-949 569.5,-949 569.5,-943 575.5,-937 581.5,-937 581.5,-937 683.5,-937 683.5,-937 689.5,-937 695.5,-943 695.5,-949 695.5,-949 695.5,-1008 695.5,-1008 695.5,-1014 689.5,-1020 683.5,-1020\"/>\n<text text-anchor=\"start\" x=\"577.5\" y=\"-1004.8\" font-family=\"Helvetica,sans-Serif\" font-size=\"14.00\" fill=\"#000000\">Bechalor ≤ 0.696</text>\n<text text-anchor=\"start\" x=\"594.5\" y=\"-989.8\" font-family=\"Helvetica,sans-Serif\" font-size=\"14.00\" fill=\"#000000\">gini = 0.444</text>\n<text text-anchor=\"start\" x=\"593\" y=\"-974.8\" font-family=\"Helvetica,sans-Serif\" font-size=\"14.00\" fill=\"#000000\">samples = 3</text>\n<text text-anchor=\"start\" x=\"591\" y=\"-959.8\" font-family=\"Helvetica,sans-Serif\" font-size=\"14.00\" fill=\"#000000\">value = [2, 1]</text>\n<text text-anchor=\"start\" x=\"606\" y=\"-944.8\" font-family=\"Helvetica,sans-Serif\" font-size=\"14.00\" fill=\"#000000\">class = l</text>\n</g>\n<!-- 41&#45;&gt;42 -->\n<g id=\"edge42\" class=\"edge\">\n<title>41&#45;&gt;42</title>\n<path fill=\"none\" stroke=\"#000000\" d=\"M856.8151,-1060.9034C853.7021,-1059.1781 850.5842,-1057.5305 847.5,-1056 801.8316,-1033.3383 747.8435,-1013.9013 705.3923,-1000.1609\"/>\n<polygon fill=\"#000000\" stroke=\"#000000\" points=\"706.2825,-996.7709 695.6915,-997.0548 704.1479,-1003.4375 706.2825,-996.7709\"/>\n</g>\n<!-- 45 -->\n<g id=\"node46\" class=\"node\">\n<title>45</title>\n<path fill=\"#91c9f1\" stroke=\"#000000\" d=\"M962.5,-1020C962.5,-1020 860.5,-1020 860.5,-1020 854.5,-1020 848.5,-1014 848.5,-1008 848.5,-1008 848.5,-949 848.5,-949 848.5,-943 854.5,-937 860.5,-937 860.5,-937 962.5,-937 962.5,-937 968.5,-937 974.5,-943 974.5,-949 974.5,-949 974.5,-1008 974.5,-1008 974.5,-1014 968.5,-1020 962.5,-1020\"/>\n<text text-anchor=\"start\" x=\"856.5\" y=\"-1004.8\" font-family=\"Helvetica,sans-Serif\" font-size=\"14.00\" fill=\"#000000\">Bechalor ≤ 0.696</text>\n<text text-anchor=\"start\" x=\"873.5\" y=\"-989.8\" font-family=\"Helvetica,sans-Serif\" font-size=\"14.00\" fill=\"#000000\">gini = 0.426</text>\n<text text-anchor=\"start\" x=\"867.5\" y=\"-974.8\" font-family=\"Helvetica,sans-Serif\" font-size=\"14.00\" fill=\"#000000\">samples = 13</text>\n<text text-anchor=\"start\" x=\"870\" y=\"-959.8\" font-family=\"Helvetica,sans-Serif\" font-size=\"14.00\" fill=\"#000000\">value = [4, 9]</text>\n<text text-anchor=\"start\" x=\"882.5\" y=\"-944.8\" font-family=\"Helvetica,sans-Serif\" font-size=\"14.00\" fill=\"#000000\">class = o</text>\n</g>\n<!-- 41&#45;&gt;45 -->\n<g id=\"edge45\" class=\"edge\">\n<title>41&#45;&gt;45</title>\n<path fill=\"none\" stroke=\"#000000\" d=\"M911.5,-1055.8796C911.5,-1047.6838 911.5,-1038.9891 911.5,-1030.5013\"/>\n<polygon fill=\"#000000\" stroke=\"#000000\" points=\"915.0001,-1030.298 911.5,-1020.2981 908.0001,-1030.2981 915.0001,-1030.298\"/>\n</g>\n<!-- 43 -->\n<g id=\"node44\" class=\"node\">\n<title>43</title>\n<path fill=\"#399de5\" stroke=\"#000000\" d=\"M553,-893.5C553,-893.5 478,-893.5 478,-893.5 472,-893.5 466,-887.5 466,-881.5 466,-881.5 466,-837.5 466,-837.5 466,-831.5 472,-825.5 478,-825.5 478,-825.5 553,-825.5 553,-825.5 559,-825.5 565,-831.5 565,-837.5 565,-837.5 565,-881.5 565,-881.5 565,-887.5 559,-893.5 553,-893.5\"/>\n<text text-anchor=\"start\" x=\"486\" y=\"-878.3\" font-family=\"Helvetica,sans-Serif\" font-size=\"14.00\" fill=\"#000000\">gini = 0.0</text>\n<text text-anchor=\"start\" x=\"476\" y=\"-863.3\" font-family=\"Helvetica,sans-Serif\" font-size=\"14.00\" fill=\"#000000\">samples = 1</text>\n<text text-anchor=\"start\" x=\"474\" y=\"-848.3\" font-family=\"Helvetica,sans-Serif\" font-size=\"14.00\" fill=\"#000000\">value = [0, 1]</text>\n<text text-anchor=\"start\" x=\"486.5\" y=\"-833.3\" font-family=\"Helvetica,sans-Serif\" font-size=\"14.00\" fill=\"#000000\">class = o</text>\n</g>\n<!-- 42&#45;&gt;43 -->\n<g id=\"edge43\" class=\"edge\">\n<title>42&#45;&gt;43</title>\n<path fill=\"none\" stroke=\"#000000\" d=\"M591.5791,-936.8796C580.2272,-925.3337 567.9018,-912.7976 556.543,-901.2446\"/>\n<polygon fill=\"#000000\" stroke=\"#000000\" points=\"558.7449,-898.4919 549.2382,-893.8149 553.7534,-903.3995 558.7449,-898.4919\"/>\n</g>\n<!-- 44 -->\n<g id=\"node45\" class=\"node\">\n<title>44</title>\n<path fill=\"#e58139\" stroke=\"#000000\" d=\"M670,-893.5C670,-893.5 595,-893.5 595,-893.5 589,-893.5 583,-887.5 583,-881.5 583,-881.5 583,-837.5 583,-837.5 583,-831.5 589,-825.5 595,-825.5 595,-825.5 670,-825.5 670,-825.5 676,-825.5 682,-831.5 682,-837.5 682,-837.5 682,-881.5 682,-881.5 682,-887.5 676,-893.5 670,-893.5\"/>\n<text text-anchor=\"start\" x=\"603\" y=\"-878.3\" font-family=\"Helvetica,sans-Serif\" font-size=\"14.00\" fill=\"#000000\">gini = 0.0</text>\n<text text-anchor=\"start\" x=\"593\" y=\"-863.3\" font-family=\"Helvetica,sans-Serif\" font-size=\"14.00\" fill=\"#000000\">samples = 2</text>\n<text text-anchor=\"start\" x=\"591\" y=\"-848.3\" font-family=\"Helvetica,sans-Serif\" font-size=\"14.00\" fill=\"#000000\">value = [2, 0]</text>\n<text text-anchor=\"start\" x=\"606\" y=\"-833.3\" font-family=\"Helvetica,sans-Serif\" font-size=\"14.00\" fill=\"#000000\">class = l</text>\n</g>\n<!-- 42&#45;&gt;44 -->\n<g id=\"edge44\" class=\"edge\">\n<title>42&#45;&gt;44</title>\n<path fill=\"none\" stroke=\"#000000\" d=\"M632.5,-936.8796C632.5,-926.2134 632.5,-914.7021 632.5,-903.9015\"/>\n<polygon fill=\"#000000\" stroke=\"#000000\" points=\"636.0001,-903.8149 632.5,-893.8149 629.0001,-903.815 636.0001,-903.8149\"/>\n</g>\n<!-- 46 -->\n<g id=\"node47\" class=\"node\">\n<title>46</title>\n<path fill=\"#e58139\" stroke=\"#000000\" d=\"M787,-893.5C787,-893.5 712,-893.5 712,-893.5 706,-893.5 700,-887.5 700,-881.5 700,-881.5 700,-837.5 700,-837.5 700,-831.5 706,-825.5 712,-825.5 712,-825.5 787,-825.5 787,-825.5 793,-825.5 799,-831.5 799,-837.5 799,-837.5 799,-881.5 799,-881.5 799,-887.5 793,-893.5 787,-893.5\"/>\n<text text-anchor=\"start\" x=\"720\" y=\"-878.3\" font-family=\"Helvetica,sans-Serif\" font-size=\"14.00\" fill=\"#000000\">gini = 0.0</text>\n<text text-anchor=\"start\" x=\"710\" y=\"-863.3\" font-family=\"Helvetica,sans-Serif\" font-size=\"14.00\" fill=\"#000000\">samples = 1</text>\n<text text-anchor=\"start\" x=\"708\" y=\"-848.3\" font-family=\"Helvetica,sans-Serif\" font-size=\"14.00\" fill=\"#000000\">value = [1, 0]</text>\n<text text-anchor=\"start\" x=\"723\" y=\"-833.3\" font-family=\"Helvetica,sans-Serif\" font-size=\"14.00\" fill=\"#000000\">class = l</text>\n</g>\n<!-- 45&#45;&gt;46 -->\n<g id=\"edge46\" class=\"edge\">\n<title>45&#45;&gt;46</title>\n<path fill=\"none\" stroke=\"#000000\" d=\"M854.8403,-936.8796C838.4459,-924.8368 820.5849,-911.7167 804.3058,-899.7586\"/>\n<polygon fill=\"#000000\" stroke=\"#000000\" points=\"806.0846,-896.7224 795.9532,-893.623 801.9405,-902.3639 806.0846,-896.7224\"/>\n</g>\n<!-- 47 -->\n<g id=\"node48\" class=\"node\">\n<title>47</title>\n<path fill=\"#7bbeee\" stroke=\"#000000\" d=\"M1012,-901C1012,-901 829,-901 829,-901 823,-901 817,-895 817,-889 817,-889 817,-830 817,-830 817,-824 823,-818 829,-818 829,-818 1012,-818 1012,-818 1018,-818 1024,-824 1024,-830 1024,-830 1024,-889 1024,-889 1024,-895 1018,-901 1012,-901\"/>\n<text text-anchor=\"start\" x=\"825\" y=\"-885.8\" font-family=\"Helvetica,sans-Serif\" font-size=\"14.00\" fill=\"#000000\">High School or Below ≤ 1.119</text>\n<text text-anchor=\"start\" x=\"882.5\" y=\"-870.8\" font-family=\"Helvetica,sans-Serif\" font-size=\"14.00\" fill=\"#000000\">gini = 0.375</text>\n<text text-anchor=\"start\" x=\"876.5\" y=\"-855.8\" font-family=\"Helvetica,sans-Serif\" font-size=\"14.00\" fill=\"#000000\">samples = 12</text>\n<text text-anchor=\"start\" x=\"879\" y=\"-840.8\" font-family=\"Helvetica,sans-Serif\" font-size=\"14.00\" fill=\"#000000\">value = [3, 9]</text>\n<text text-anchor=\"start\" x=\"891.5\" y=\"-825.8\" font-family=\"Helvetica,sans-Serif\" font-size=\"14.00\" fill=\"#000000\">class = o</text>\n</g>\n<!-- 45&#45;&gt;47 -->\n<g id=\"edge47\" class=\"edge\">\n<title>45&#45;&gt;47</title>\n<path fill=\"none\" stroke=\"#000000\" d=\"M914.6478,-936.8796C915.2676,-928.6838 915.9252,-919.9891 916.5671,-911.5013\"/>\n<polygon fill=\"#000000\" stroke=\"#000000\" points=\"920.0746,-911.5336 917.3388,-901.2981 913.0945,-911.0056 920.0746,-911.5336\"/>\n</g>\n<!-- 48 -->\n<g id=\"node49\" class=\"node\">\n<title>48</title>\n<path fill=\"#6ab6ec\" stroke=\"#000000\" d=\"M650.5,-782C650.5,-782 570.5,-782 570.5,-782 564.5,-782 558.5,-776 558.5,-770 558.5,-770 558.5,-711 558.5,-711 558.5,-705 564.5,-699 570.5,-699 570.5,-699 650.5,-699 650.5,-699 656.5,-699 662.5,-705 662.5,-711 662.5,-711 662.5,-770 662.5,-770 662.5,-776 656.5,-782 650.5,-782\"/>\n<text text-anchor=\"start\" x=\"569.5\" y=\"-766.8\" font-family=\"Helvetica,sans-Serif\" font-size=\"14.00\" fill=\"#000000\">age ≤ &#45;1.151</text>\n<text text-anchor=\"start\" x=\"577\" y=\"-751.8\" font-family=\"Helvetica,sans-Serif\" font-size=\"14.00\" fill=\"#000000\">gini = 0.32</text>\n<text text-anchor=\"start\" x=\"566.5\" y=\"-736.8\" font-family=\"Helvetica,sans-Serif\" font-size=\"14.00\" fill=\"#000000\">samples = 10</text>\n<text text-anchor=\"start\" x=\"569\" y=\"-721.8\" font-family=\"Helvetica,sans-Serif\" font-size=\"14.00\" fill=\"#000000\">value = [2, 8]</text>\n<text text-anchor=\"start\" x=\"581.5\" y=\"-706.8\" font-family=\"Helvetica,sans-Serif\" font-size=\"14.00\" fill=\"#000000\">class = o</text>\n</g>\n<!-- 47&#45;&gt;48 -->\n<g id=\"edge48\" class=\"edge\">\n<title>47&#45;&gt;48</title>\n<path fill=\"none\" stroke=\"#000000\" d=\"M816.8435,-819.7093C768.835,-801.2802 713.418,-780.0072 672.1104,-764.1504\"/>\n<polygon fill=\"#000000\" stroke=\"#000000\" points=\"673.3145,-760.8637 662.7244,-760.5474 670.8059,-767.3988 673.3145,-760.8637\"/>\n</g>\n<!-- 53 -->\n<g id=\"node54\" class=\"node\">\n<title>53</title>\n<path fill=\"#ffffff\" stroke=\"#000000\" d=\"M924,-774.5C924,-774.5 849,-774.5 849,-774.5 843,-774.5 837,-768.5 837,-762.5 837,-762.5 837,-718.5 837,-718.5 837,-712.5 843,-706.5 849,-706.5 849,-706.5 924,-706.5 924,-706.5 930,-706.5 936,-712.5 936,-718.5 936,-718.5 936,-762.5 936,-762.5 936,-768.5 930,-774.5 924,-774.5\"/>\n<text text-anchor=\"start\" x=\"857\" y=\"-759.3\" font-family=\"Helvetica,sans-Serif\" font-size=\"14.00\" fill=\"#000000\">gini = 0.5</text>\n<text text-anchor=\"start\" x=\"847\" y=\"-744.3\" font-family=\"Helvetica,sans-Serif\" font-size=\"14.00\" fill=\"#000000\">samples = 2</text>\n<text text-anchor=\"start\" x=\"845\" y=\"-729.3\" font-family=\"Helvetica,sans-Serif\" font-size=\"14.00\" fill=\"#000000\">value = [1, 1]</text>\n<text text-anchor=\"start\" x=\"860\" y=\"-714.3\" font-family=\"Helvetica,sans-Serif\" font-size=\"14.00\" fill=\"#000000\">class = l</text>\n</g>\n<!-- 47&#45;&gt;53 -->\n<g id=\"edge53\" class=\"edge\">\n<title>47&#45;&gt;53</title>\n<path fill=\"none\" stroke=\"#000000\" d=\"M908.6084,-817.8796C905.5295,-807.1034 902.2042,-795.4647 899.0908,-784.5677\"/>\n<polygon fill=\"#000000\" stroke=\"#000000\" points=\"902.4169,-783.4686 896.3043,-774.8149 895.6862,-785.3917 902.4169,-783.4686\"/>\n</g>\n<!-- 49 -->\n<g id=\"node50\" class=\"node\">\n<title>49</title>\n<path fill=\"#9ccef2\" stroke=\"#000000\" d=\"M531,-655.5C531,-655.5 456,-655.5 456,-655.5 450,-655.5 444,-649.5 444,-643.5 444,-643.5 444,-599.5 444,-599.5 444,-593.5 450,-587.5 456,-587.5 456,-587.5 531,-587.5 531,-587.5 537,-587.5 543,-593.5 543,-599.5 543,-599.5 543,-643.5 543,-643.5 543,-649.5 537,-655.5 531,-655.5\"/>\n<text text-anchor=\"start\" x=\"455.5\" y=\"-640.3\" font-family=\"Helvetica,sans-Serif\" font-size=\"14.00\" fill=\"#000000\">gini = 0.444</text>\n<text text-anchor=\"start\" x=\"454\" y=\"-625.3\" font-family=\"Helvetica,sans-Serif\" font-size=\"14.00\" fill=\"#000000\">samples = 3</text>\n<text text-anchor=\"start\" x=\"452\" y=\"-610.3\" font-family=\"Helvetica,sans-Serif\" font-size=\"14.00\" fill=\"#000000\">value = [1, 2]</text>\n<text text-anchor=\"start\" x=\"464.5\" y=\"-595.3\" font-family=\"Helvetica,sans-Serif\" font-size=\"14.00\" fill=\"#000000\">class = o</text>\n</g>\n<!-- 48&#45;&gt;49 -->\n<g id=\"edge49\" class=\"edge\">\n<title>48&#45;&gt;49</title>\n<path fill=\"none\" stroke=\"#000000\" d=\"M569.5791,-698.8796C558.2272,-687.3337 545.9018,-674.7976 534.543,-663.2446\"/>\n<polygon fill=\"#000000\" stroke=\"#000000\" points=\"536.7449,-660.4919 527.2382,-655.8149 531.7534,-665.3995 536.7449,-660.4919\"/>\n</g>\n<!-- 50 -->\n<g id=\"node51\" class=\"node\">\n<title>50</title>\n<path fill=\"#5aade9\" stroke=\"#000000\" d=\"M648,-663C648,-663 573,-663 573,-663 567,-663 561,-657 561,-651 561,-651 561,-592 561,-592 561,-586 567,-580 573,-580 573,-580 648,-580 648,-580 654,-580 660,-586 660,-592 660,-592 660,-651 660,-651 660,-657 654,-663 648,-663\"/>\n<text text-anchor=\"start\" x=\"569.5\" y=\"-647.8\" font-family=\"Helvetica,sans-Serif\" font-size=\"14.00\" fill=\"#000000\">age ≤ &#45;0.902</text>\n<text text-anchor=\"start\" x=\"572.5\" y=\"-632.8\" font-family=\"Helvetica,sans-Serif\" font-size=\"14.00\" fill=\"#000000\">gini = 0.245</text>\n<text text-anchor=\"start\" x=\"571\" y=\"-617.8\" font-family=\"Helvetica,sans-Serif\" font-size=\"14.00\" fill=\"#000000\">samples = 7</text>\n<text text-anchor=\"start\" x=\"569\" y=\"-602.8\" font-family=\"Helvetica,sans-Serif\" font-size=\"14.00\" fill=\"#000000\">value = [1, 6]</text>\n<text text-anchor=\"start\" x=\"581.5\" y=\"-587.8\" font-family=\"Helvetica,sans-Serif\" font-size=\"14.00\" fill=\"#000000\">class = o</text>\n</g>\n<!-- 48&#45;&gt;50 -->\n<g id=\"edge50\" class=\"edge\">\n<title>48&#45;&gt;50</title>\n<path fill=\"none\" stroke=\"#000000\" d=\"M610.5,-698.8796C610.5,-690.6838 610.5,-681.9891 610.5,-673.5013\"/>\n<polygon fill=\"#000000\" stroke=\"#000000\" points=\"614.0001,-673.298 610.5,-663.2981 607.0001,-673.2981 614.0001,-673.298\"/>\n</g>\n<!-- 51 -->\n<g id=\"node52\" class=\"node\">\n<title>51</title>\n<path fill=\"#399de5\" stroke=\"#000000\" d=\"M531,-536.5C531,-536.5 456,-536.5 456,-536.5 450,-536.5 444,-530.5 444,-524.5 444,-524.5 444,-480.5 444,-480.5 444,-474.5 450,-468.5 456,-468.5 456,-468.5 531,-468.5 531,-468.5 537,-468.5 543,-474.5 543,-480.5 543,-480.5 543,-524.5 543,-524.5 543,-530.5 537,-536.5 531,-536.5\"/>\n<text text-anchor=\"start\" x=\"464\" y=\"-521.3\" font-family=\"Helvetica,sans-Serif\" font-size=\"14.00\" fill=\"#000000\">gini = 0.0</text>\n<text text-anchor=\"start\" x=\"454\" y=\"-506.3\" font-family=\"Helvetica,sans-Serif\" font-size=\"14.00\" fill=\"#000000\">samples = 2</text>\n<text text-anchor=\"start\" x=\"452\" y=\"-491.3\" font-family=\"Helvetica,sans-Serif\" font-size=\"14.00\" fill=\"#000000\">value = [0, 2]</text>\n<text text-anchor=\"start\" x=\"464.5\" y=\"-476.3\" font-family=\"Helvetica,sans-Serif\" font-size=\"14.00\" fill=\"#000000\">class = o</text>\n</g>\n<!-- 50&#45;&gt;51 -->\n<g id=\"edge51\" class=\"edge\">\n<title>50&#45;&gt;51</title>\n<path fill=\"none\" stroke=\"#000000\" d=\"M569.5791,-579.8796C558.2272,-568.3337 545.9018,-555.7976 534.543,-544.2446\"/>\n<polygon fill=\"#000000\" stroke=\"#000000\" points=\"536.7449,-541.4919 527.2382,-536.8149 531.7534,-546.3995 536.7449,-541.4919\"/>\n</g>\n<!-- 52 -->\n<g id=\"node53\" class=\"node\">\n<title>52</title>\n<path fill=\"#6ab6ec\" stroke=\"#000000\" d=\"M648,-536.5C648,-536.5 573,-536.5 573,-536.5 567,-536.5 561,-530.5 561,-524.5 561,-524.5 561,-480.5 561,-480.5 561,-474.5 567,-468.5 573,-468.5 573,-468.5 648,-468.5 648,-468.5 654,-468.5 660,-474.5 660,-480.5 660,-480.5 660,-524.5 660,-524.5 660,-530.5 654,-536.5 648,-536.5\"/>\n<text text-anchor=\"start\" x=\"577\" y=\"-521.3\" font-family=\"Helvetica,sans-Serif\" font-size=\"14.00\" fill=\"#000000\">gini = 0.32</text>\n<text text-anchor=\"start\" x=\"571\" y=\"-506.3\" font-family=\"Helvetica,sans-Serif\" font-size=\"14.00\" fill=\"#000000\">samples = 5</text>\n<text text-anchor=\"start\" x=\"569\" y=\"-491.3\" font-family=\"Helvetica,sans-Serif\" font-size=\"14.00\" fill=\"#000000\">value = [1, 4]</text>\n<text text-anchor=\"start\" x=\"581.5\" y=\"-476.3\" font-family=\"Helvetica,sans-Serif\" font-size=\"14.00\" fill=\"#000000\">class = o</text>\n</g>\n<!-- 50&#45;&gt;52 -->\n<g id=\"edge52\" class=\"edge\">\n<title>50&#45;&gt;52</title>\n<path fill=\"none\" stroke=\"#000000\" d=\"M610.5,-579.8796C610.5,-569.2134 610.5,-557.7021 610.5,-546.9015\"/>\n<polygon fill=\"#000000\" stroke=\"#000000\" points=\"614.0001,-546.8149 610.5,-536.8149 607.0001,-546.815 614.0001,-546.8149\"/>\n</g>\n<!-- 55 -->\n<g id=\"node56\" class=\"node\">\n<title>55</title>\n<path fill=\"#f7d9c3\" stroke=\"#000000\" d=\"M1365.5,-1139C1365.5,-1139 1273.5,-1139 1273.5,-1139 1267.5,-1139 1261.5,-1133 1261.5,-1127 1261.5,-1127 1261.5,-1068 1261.5,-1068 1261.5,-1062 1267.5,-1056 1273.5,-1056 1273.5,-1056 1365.5,-1056 1365.5,-1056 1371.5,-1056 1377.5,-1062 1377.5,-1068 1377.5,-1068 1377.5,-1127 1377.5,-1127 1377.5,-1133 1371.5,-1139 1365.5,-1139\"/>\n<text text-anchor=\"start\" x=\"1281\" y=\"-1123.8\" font-family=\"Helvetica,sans-Serif\" font-size=\"14.00\" fill=\"#000000\">age ≤ 0.425</text>\n<text text-anchor=\"start\" x=\"1281.5\" y=\"-1108.8\" font-family=\"Helvetica,sans-Serif\" font-size=\"14.00\" fill=\"#000000\">gini = 0.484</text>\n<text text-anchor=\"start\" x=\"1275.5\" y=\"-1093.8\" font-family=\"Helvetica,sans-Serif\" font-size=\"14.00\" fill=\"#000000\">samples = 39</text>\n<text text-anchor=\"start\" x=\"1269.5\" y=\"-1078.8\" font-family=\"Helvetica,sans-Serif\" font-size=\"14.00\" fill=\"#000000\">value = [23, 16]</text>\n<text text-anchor=\"start\" x=\"1293\" y=\"-1063.8\" font-family=\"Helvetica,sans-Serif\" font-size=\"14.00\" fill=\"#000000\">class = l</text>\n</g>\n<!-- 54&#45;&gt;55 -->\n<g id=\"edge55\" class=\"edge\">\n<title>54&#45;&gt;55</title>\n<path fill=\"none\" stroke=\"#000000\" d=\"M1319.5,-1174.8796C1319.5,-1166.6838 1319.5,-1157.9891 1319.5,-1149.5013\"/>\n<polygon fill=\"#000000\" stroke=\"#000000\" points=\"1323.0001,-1149.298 1319.5,-1139.2981 1316.0001,-1149.2981 1323.0001,-1149.298\"/>\n</g>\n<!-- 94 -->\n<g id=\"node95\" class=\"node\">\n<title>94</title>\n<path fill=\"#e6f3fc\" stroke=\"#000000\" d=\"M1692.5,-1139C1692.5,-1139 1600.5,-1139 1600.5,-1139 1594.5,-1139 1588.5,-1133 1588.5,-1127 1588.5,-1127 1588.5,-1068 1588.5,-1068 1588.5,-1062 1594.5,-1056 1600.5,-1056 1600.5,-1056 1692.5,-1056 1692.5,-1056 1698.5,-1056 1704.5,-1062 1704.5,-1068 1704.5,-1068 1704.5,-1127 1704.5,-1127 1704.5,-1133 1698.5,-1139 1692.5,-1139\"/>\n<text text-anchor=\"start\" x=\"1608\" y=\"-1123.8\" font-family=\"Helvetica,sans-Serif\" font-size=\"14.00\" fill=\"#000000\">age ≤ 0.922</text>\n<text text-anchor=\"start\" x=\"1608.5\" y=\"-1108.8\" font-family=\"Helvetica,sans-Serif\" font-size=\"14.00\" fill=\"#000000\">gini = 0.498</text>\n<text text-anchor=\"start\" x=\"1602.5\" y=\"-1093.8\" font-family=\"Helvetica,sans-Serif\" font-size=\"14.00\" fill=\"#000000\">samples = 30</text>\n<text text-anchor=\"start\" x=\"1596.5\" y=\"-1078.8\" font-family=\"Helvetica,sans-Serif\" font-size=\"14.00\" fill=\"#000000\">value = [14, 16]</text>\n<text text-anchor=\"start\" x=\"1617.5\" y=\"-1063.8\" font-family=\"Helvetica,sans-Serif\" font-size=\"14.00\" fill=\"#000000\">class = o</text>\n</g>\n<!-- 54&#45;&gt;94 -->\n<g id=\"edge94\" class=\"edge\">\n<title>54&#45;&gt;94</title>\n<path fill=\"none\" stroke=\"#000000\" d=\"M1377.5842,-1195.3623C1433.9118,-1174.8639 1519.3388,-1143.7758 1578.7381,-1122.1595\"/>\n<polygon fill=\"#000000\" stroke=\"#000000\" points=\"1580.2068,-1125.3497 1588.4069,-1118.6409 1577.8129,-1118.7717 1580.2068,-1125.3497\"/>\n</g>\n<!-- 56 -->\n<g id=\"node57\" class=\"node\">\n<title>56</title>\n<path fill=\"#fbeade\" stroke=\"#000000\" d=\"M1299,-1020C1299,-1020 1116,-1020 1116,-1020 1110,-1020 1104,-1014 1104,-1008 1104,-1008 1104,-949 1104,-949 1104,-943 1110,-937 1116,-937 1116,-937 1299,-937 1299,-937 1305,-937 1311,-943 1311,-949 1311,-949 1311,-1008 1311,-1008 1311,-1014 1305,-1020 1299,-1020\"/>\n<text text-anchor=\"start\" x=\"1112\" y=\"-1004.8\" font-family=\"Helvetica,sans-Serif\" font-size=\"14.00\" fill=\"#000000\">High School or Below ≤ 1.119</text>\n<text text-anchor=\"start\" x=\"1169.5\" y=\"-989.8\" font-family=\"Helvetica,sans-Serif\" font-size=\"14.00\" fill=\"#000000\">gini = 0.496</text>\n<text text-anchor=\"start\" x=\"1163.5\" y=\"-974.8\" font-family=\"Helvetica,sans-Serif\" font-size=\"14.00\" fill=\"#000000\">samples = 33</text>\n<text text-anchor=\"start\" x=\"1157.5\" y=\"-959.8\" font-family=\"Helvetica,sans-Serif\" font-size=\"14.00\" fill=\"#000000\">value = [18, 15]</text>\n<text text-anchor=\"start\" x=\"1181\" y=\"-944.8\" font-family=\"Helvetica,sans-Serif\" font-size=\"14.00\" fill=\"#000000\">class = l</text>\n</g>\n<!-- 55&#45;&gt;56 -->\n<g id=\"edge56\" class=\"edge\">\n<title>55&#45;&gt;56</title>\n<path fill=\"none\" stroke=\"#000000\" d=\"M1280.3278,-1055.8796C1271.7665,-1046.7832 1262.6268,-1037.0722 1253.8168,-1027.7116\"/>\n<polygon fill=\"#000000\" stroke=\"#000000\" points=\"1256.2417,-1025.1813 1246.8394,-1020.2981 1251.1443,-1029.9789 1256.2417,-1025.1813\"/>\n</g>\n<!-- 91 -->\n<g id=\"node92\" class=\"node\">\n<title>91</title>\n<path fill=\"#ea9a61\" stroke=\"#000000\" d=\"M1524,-1020C1524,-1020 1341,-1020 1341,-1020 1335,-1020 1329,-1014 1329,-1008 1329,-1008 1329,-949 1329,-949 1329,-943 1335,-937 1341,-937 1341,-937 1524,-937 1524,-937 1530,-937 1536,-943 1536,-949 1536,-949 1536,-1008 1536,-1008 1536,-1014 1530,-1020 1524,-1020\"/>\n<text text-anchor=\"start\" x=\"1337\" y=\"-1004.8\" font-family=\"Helvetica,sans-Serif\" font-size=\"14.00\" fill=\"#000000\">High School or Below ≤ 1.119</text>\n<text text-anchor=\"start\" x=\"1394.5\" y=\"-989.8\" font-family=\"Helvetica,sans-Serif\" font-size=\"14.00\" fill=\"#000000\">gini = 0.278</text>\n<text text-anchor=\"start\" x=\"1393\" y=\"-974.8\" font-family=\"Helvetica,sans-Serif\" font-size=\"14.00\" fill=\"#000000\">samples = 6</text>\n<text text-anchor=\"start\" x=\"1391\" y=\"-959.8\" font-family=\"Helvetica,sans-Serif\" font-size=\"14.00\" fill=\"#000000\">value = [5, 1]</text>\n<text text-anchor=\"start\" x=\"1406\" y=\"-944.8\" font-family=\"Helvetica,sans-Serif\" font-size=\"14.00\" fill=\"#000000\">class = l</text>\n</g>\n<!-- 55&#45;&gt;91 -->\n<g id=\"edge91\" class=\"edge\">\n<title>55&#45;&gt;91</title>\n<path fill=\"none\" stroke=\"#000000\" d=\"M1359.0219,-1055.8796C1367.6597,-1046.7832 1376.881,-1037.0722 1385.7697,-1027.7116\"/>\n<polygon fill=\"#000000\" stroke=\"#000000\" points=\"1388.4615,-1029.9597 1392.8094,-1020.2981 1383.3854,-1025.1395 1388.4615,-1029.9597\"/>\n</g>\n<!-- 57 -->\n<g id=\"node58\" class=\"node\">\n<title>57</title>\n<path fill=\"#f7dac5\" stroke=\"#000000\" d=\"M1156.5,-901C1156.5,-901 1054.5,-901 1054.5,-901 1048.5,-901 1042.5,-895 1042.5,-889 1042.5,-889 1042.5,-830 1042.5,-830 1042.5,-824 1048.5,-818 1054.5,-818 1054.5,-818 1156.5,-818 1156.5,-818 1162.5,-818 1168.5,-824 1168.5,-830 1168.5,-830 1168.5,-889 1168.5,-889 1168.5,-895 1162.5,-901 1156.5,-901\"/>\n<text text-anchor=\"start\" x=\"1050.5\" y=\"-885.8\" font-family=\"Helvetica,sans-Serif\" font-size=\"14.00\" fill=\"#000000\">Bechalor ≤ 0.696</text>\n<text text-anchor=\"start\" x=\"1067.5\" y=\"-870.8\" font-family=\"Helvetica,sans-Serif\" font-size=\"14.00\" fill=\"#000000\">gini = 0.485</text>\n<text text-anchor=\"start\" x=\"1061.5\" y=\"-855.8\" font-family=\"Helvetica,sans-Serif\" font-size=\"14.00\" fill=\"#000000\">samples = 29</text>\n<text text-anchor=\"start\" x=\"1055.5\" y=\"-840.8\" font-family=\"Helvetica,sans-Serif\" font-size=\"14.00\" fill=\"#000000\">value = [17, 12]</text>\n<text text-anchor=\"start\" x=\"1079\" y=\"-825.8\" font-family=\"Helvetica,sans-Serif\" font-size=\"14.00\" fill=\"#000000\">class = l</text>\n</g>\n<!-- 56&#45;&gt;57 -->\n<g id=\"edge57\" class=\"edge\">\n<title>56&#45;&gt;57</title>\n<path fill=\"none\" stroke=\"#000000\" d=\"M1171.8253,-936.8796C1164.1057,-927.8733 1155.8695,-918.2644 1147.9197,-908.9897\"/>\n<polygon fill=\"#000000\" stroke=\"#000000\" points=\"1150.4923,-906.6129 1141.3269,-901.2981 1145.1775,-911.1684 1150.4923,-906.6129\"/>\n</g>\n<!-- 88 -->\n<g id=\"node89\" class=\"node\">\n<title>88</title>\n<path fill=\"#7bbeee\" stroke=\"#000000\" d=\"M1284,-901C1284,-901 1199,-901 1199,-901 1193,-901 1187,-895 1187,-889 1187,-889 1187,-830 1187,-830 1187,-824 1193,-818 1199,-818 1199,-818 1284,-818 1284,-818 1290,-818 1296,-824 1296,-830 1296,-830 1296,-889 1296,-889 1296,-895 1290,-901 1284,-901\"/>\n<text text-anchor=\"start\" x=\"1195\" y=\"-885.8\" font-family=\"Helvetica,sans-Serif\" font-size=\"14.00\" fill=\"#000000\">terms ≤ &#45;0.019</text>\n<text text-anchor=\"start\" x=\"1203.5\" y=\"-870.8\" font-family=\"Helvetica,sans-Serif\" font-size=\"14.00\" fill=\"#000000\">gini = 0.375</text>\n<text text-anchor=\"start\" x=\"1202\" y=\"-855.8\" font-family=\"Helvetica,sans-Serif\" font-size=\"14.00\" fill=\"#000000\">samples = 4</text>\n<text text-anchor=\"start\" x=\"1200\" y=\"-840.8\" font-family=\"Helvetica,sans-Serif\" font-size=\"14.00\" fill=\"#000000\">value = [1, 3]</text>\n<text text-anchor=\"start\" x=\"1212.5\" y=\"-825.8\" font-family=\"Helvetica,sans-Serif\" font-size=\"14.00\" fill=\"#000000\">class = o</text>\n</g>\n<!-- 56&#45;&gt;88 -->\n<g id=\"edge88\" class=\"edge\">\n<title>56&#45;&gt;88</title>\n<path fill=\"none\" stroke=\"#000000\" d=\"M1219.3916,-936.8796C1221.7847,-928.5037 1224.3267,-919.6067 1226.8023,-910.942\"/>\n<polygon fill=\"#000000\" stroke=\"#000000\" points=\"1230.1757,-911.8749 1229.5577,-901.2981 1223.4451,-909.9518 1230.1757,-911.8749\"/>\n</g>\n<!-- 58 -->\n<g id=\"node59\" class=\"node\">\n<title>58</title>\n<path fill=\"#cee6f8\" stroke=\"#000000\" d=\"M1041,-782C1041,-782 966,-782 966,-782 960,-782 954,-776 954,-770 954,-770 954,-711 954,-711 954,-705 960,-699 966,-699 966,-699 1041,-699 1041,-699 1047,-699 1053,-705 1053,-711 1053,-711 1053,-770 1053,-770 1053,-776 1047,-782 1041,-782\"/>\n<text text-anchor=\"start\" x=\"969\" y=\"-766.8\" font-family=\"Helvetica,sans-Serif\" font-size=\"14.00\" fill=\"#000000\">age ≤ 0.01</text>\n<text text-anchor=\"start\" x=\"970\" y=\"-751.8\" font-family=\"Helvetica,sans-Serif\" font-size=\"14.00\" fill=\"#000000\">gini = 0.49</text>\n<text text-anchor=\"start\" x=\"964\" y=\"-736.8\" font-family=\"Helvetica,sans-Serif\" font-size=\"14.00\" fill=\"#000000\">samples = 7</text>\n<text text-anchor=\"start\" x=\"962\" y=\"-721.8\" font-family=\"Helvetica,sans-Serif\" font-size=\"14.00\" fill=\"#000000\">value = [3, 4]</text>\n<text text-anchor=\"start\" x=\"974.5\" y=\"-706.8\" font-family=\"Helvetica,sans-Serif\" font-size=\"14.00\" fill=\"#000000\">class = o</text>\n</g>\n<!-- 57&#45;&gt;58 -->\n<g id=\"edge58\" class=\"edge\">\n<title>57&#45;&gt;58</title>\n<path fill=\"none\" stroke=\"#000000\" d=\"M1069.8253,-817.8796C1062.1057,-808.8733 1053.8695,-799.2644 1045.9197,-789.9897\"/>\n<polygon fill=\"#000000\" stroke=\"#000000\" points=\"1048.4923,-787.6129 1039.3269,-782.2981 1043.1775,-792.1684 1048.4923,-787.6129\"/>\n</g>\n<!-- 67 -->\n<g id=\"node68\" class=\"node\">\n<title>67</title>\n<path fill=\"#f4c9aa\" stroke=\"#000000\" d=\"M1166,-782C1166,-782 1083,-782 1083,-782 1077,-782 1071,-776 1071,-770 1071,-770 1071,-711 1071,-711 1071,-705 1077,-699 1083,-699 1083,-699 1166,-699 1166,-699 1172,-699 1178,-705 1178,-711 1178,-711 1178,-770 1178,-770 1178,-776 1172,-782 1166,-782\"/>\n<text text-anchor=\"start\" x=\"1086\" y=\"-766.8\" font-family=\"Helvetica,sans-Serif\" font-size=\"14.00\" fill=\"#000000\">age ≤ 0.093</text>\n<text text-anchor=\"start\" x=\"1086.5\" y=\"-751.8\" font-family=\"Helvetica,sans-Serif\" font-size=\"14.00\" fill=\"#000000\">gini = 0.463</text>\n<text text-anchor=\"start\" x=\"1080.5\" y=\"-736.8\" font-family=\"Helvetica,sans-Serif\" font-size=\"14.00\" fill=\"#000000\">samples = 22</text>\n<text text-anchor=\"start\" x=\"1079\" y=\"-721.8\" font-family=\"Helvetica,sans-Serif\" font-size=\"14.00\" fill=\"#000000\">value = [14, 8]</text>\n<text text-anchor=\"start\" x=\"1098\" y=\"-706.8\" font-family=\"Helvetica,sans-Serif\" font-size=\"14.00\" fill=\"#000000\">class = l</text>\n</g>\n<!-- 57&#45;&gt;67 -->\n<g id=\"edge67\" class=\"edge\">\n<title>57&#45;&gt;67</title>\n<path fill=\"none\" stroke=\"#000000\" d=\"M1112.1453,-817.8796C1113.4682,-809.5938 1114.8726,-800.798 1116.2419,-792.2216\"/>\n<polygon fill=\"#000000\" stroke=\"#000000\" points=\"1119.7058,-792.7249 1117.8264,-782.2981 1112.7934,-791.6211 1119.7058,-792.7249\"/>\n</g>\n<!-- 59 -->\n<g id=\"node60\" class=\"node\">\n<title>59</title>\n<path fill=\"#6ab6ec\" stroke=\"#000000\" d=\"M887,-663C887,-663 812,-663 812,-663 806,-663 800,-657 800,-651 800,-651 800,-592 800,-592 800,-586 806,-580 812,-580 812,-580 887,-580 887,-580 893,-580 899,-586 899,-592 899,-592 899,-651 899,-651 899,-657 893,-663 887,-663\"/>\n<text text-anchor=\"start\" x=\"808.5\" y=\"-647.8\" font-family=\"Helvetica,sans-Serif\" font-size=\"14.00\" fill=\"#000000\">age ≤ &#45;0.404</text>\n<text text-anchor=\"start\" x=\"816\" y=\"-632.8\" font-family=\"Helvetica,sans-Serif\" font-size=\"14.00\" fill=\"#000000\">gini = 0.32</text>\n<text text-anchor=\"start\" x=\"810\" y=\"-617.8\" font-family=\"Helvetica,sans-Serif\" font-size=\"14.00\" fill=\"#000000\">samples = 5</text>\n<text text-anchor=\"start\" x=\"808\" y=\"-602.8\" font-family=\"Helvetica,sans-Serif\" font-size=\"14.00\" fill=\"#000000\">value = [1, 4]</text>\n<text text-anchor=\"start\" x=\"820.5\" y=\"-587.8\" font-family=\"Helvetica,sans-Serif\" font-size=\"14.00\" fill=\"#000000\">class = o</text>\n</g>\n<!-- 58&#45;&gt;59 -->\n<g id=\"edge59\" class=\"edge\">\n<title>58&#45;&gt;59</title>\n<path fill=\"none\" stroke=\"#000000\" d=\"M953.9257,-702.1926C939.0254,-690.6787 922.5489,-677.9469 907.172,-666.0647\"/>\n<polygon fill=\"#000000\" stroke=\"#000000\" points=\"909.2982,-663.2845 899.2452,-659.9395 905.018,-668.8235 909.2982,-663.2845\"/>\n</g>\n<!-- 66 -->\n<g id=\"node67\" class=\"node\">\n<title>66</title>\n<path fill=\"#e58139\" stroke=\"#000000\" d=\"M1041,-655.5C1041,-655.5 966,-655.5 966,-655.5 960,-655.5 954,-649.5 954,-643.5 954,-643.5 954,-599.5 954,-599.5 954,-593.5 960,-587.5 966,-587.5 966,-587.5 1041,-587.5 1041,-587.5 1047,-587.5 1053,-593.5 1053,-599.5 1053,-599.5 1053,-643.5 1053,-643.5 1053,-649.5 1047,-655.5 1041,-655.5\"/>\n<text text-anchor=\"start\" x=\"974\" y=\"-640.3\" font-family=\"Helvetica,sans-Serif\" font-size=\"14.00\" fill=\"#000000\">gini = 0.0</text>\n<text text-anchor=\"start\" x=\"964\" y=\"-625.3\" font-family=\"Helvetica,sans-Serif\" font-size=\"14.00\" fill=\"#000000\">samples = 2</text>\n<text text-anchor=\"start\" x=\"962\" y=\"-610.3\" font-family=\"Helvetica,sans-Serif\" font-size=\"14.00\" fill=\"#000000\">value = [2, 0]</text>\n<text text-anchor=\"start\" x=\"977\" y=\"-595.3\" font-family=\"Helvetica,sans-Serif\" font-size=\"14.00\" fill=\"#000000\">class = l</text>\n</g>\n<!-- 58&#45;&gt;66 -->\n<g id=\"edge66\" class=\"edge\">\n<title>58&#45;&gt;66</title>\n<path fill=\"none\" stroke=\"#000000\" d=\"M1003.5,-698.8796C1003.5,-688.2134 1003.5,-676.7021 1003.5,-665.9015\"/>\n<polygon fill=\"#000000\" stroke=\"#000000\" points=\"1007.0001,-665.8149 1003.5,-655.8149 1000.0001,-665.815 1007.0001,-665.8149\"/>\n</g>\n<!-- 60 -->\n<g id=\"node61\" class=\"node\">\n<title>60</title>\n<path fill=\"#399de5\" stroke=\"#000000\" d=\"M765,-536.5C765,-536.5 690,-536.5 690,-536.5 684,-536.5 678,-530.5 678,-524.5 678,-524.5 678,-480.5 678,-480.5 678,-474.5 684,-468.5 690,-468.5 690,-468.5 765,-468.5 765,-468.5 771,-468.5 777,-474.5 777,-480.5 777,-480.5 777,-524.5 777,-524.5 777,-530.5 771,-536.5 765,-536.5\"/>\n<text text-anchor=\"start\" x=\"698\" y=\"-521.3\" font-family=\"Helvetica,sans-Serif\" font-size=\"14.00\" fill=\"#000000\">gini = 0.0</text>\n<text text-anchor=\"start\" x=\"688\" y=\"-506.3\" font-family=\"Helvetica,sans-Serif\" font-size=\"14.00\" fill=\"#000000\">samples = 2</text>\n<text text-anchor=\"start\" x=\"686\" y=\"-491.3\" font-family=\"Helvetica,sans-Serif\" font-size=\"14.00\" fill=\"#000000\">value = [0, 2]</text>\n<text text-anchor=\"start\" x=\"698.5\" y=\"-476.3\" font-family=\"Helvetica,sans-Serif\" font-size=\"14.00\" fill=\"#000000\">class = o</text>\n</g>\n<!-- 59&#45;&gt;60 -->\n<g id=\"edge60\" class=\"edge\">\n<title>59&#45;&gt;60</title>\n<path fill=\"none\" stroke=\"#000000\" d=\"M806.8303,-579.8796C794.8806,-568.2237 781.8963,-555.5587 769.9589,-543.9148\"/>\n<polygon fill=\"#000000\" stroke=\"#000000\" points=\"772.2825,-541.292 762.68,-536.8149 767.3947,-546.303 772.2825,-541.292\"/>\n</g>\n<!-- 61 -->\n<g id=\"node62\" class=\"node\">\n<title>61</title>\n<path fill=\"#9ccef2\" stroke=\"#000000\" d=\"M892,-544C892,-544 807,-544 807,-544 801,-544 795,-538 795,-532 795,-532 795,-473 795,-473 795,-467 801,-461 807,-461 807,-461 892,-461 892,-461 898,-461 904,-467 904,-473 904,-473 904,-532 904,-532 904,-538 898,-544 892,-544\"/>\n<text text-anchor=\"start\" x=\"803\" y=\"-528.8\" font-family=\"Helvetica,sans-Serif\" font-size=\"14.00\" fill=\"#000000\">terms ≤ &#45;0.019</text>\n<text text-anchor=\"start\" x=\"811.5\" y=\"-513.8\" font-family=\"Helvetica,sans-Serif\" font-size=\"14.00\" fill=\"#000000\">gini = 0.444</text>\n<text text-anchor=\"start\" x=\"810\" y=\"-498.8\" font-family=\"Helvetica,sans-Serif\" font-size=\"14.00\" fill=\"#000000\">samples = 3</text>\n<text text-anchor=\"start\" x=\"808\" y=\"-483.8\" font-family=\"Helvetica,sans-Serif\" font-size=\"14.00\" fill=\"#000000\">value = [1, 2]</text>\n<text text-anchor=\"start\" x=\"820.5\" y=\"-468.8\" font-family=\"Helvetica,sans-Serif\" font-size=\"14.00\" fill=\"#000000\">class = o</text>\n</g>\n<!-- 59&#45;&gt;61 -->\n<g id=\"edge61\" class=\"edge\">\n<title>59&#45;&gt;61</title>\n<path fill=\"none\" stroke=\"#000000\" d=\"M849.5,-579.8796C849.5,-571.6838 849.5,-562.9891 849.5,-554.5013\"/>\n<polygon fill=\"#000000\" stroke=\"#000000\" points=\"853.0001,-554.298 849.5,-544.2981 846.0001,-554.2981 853.0001,-554.298\"/>\n</g>\n<!-- 62 -->\n<g id=\"node63\" class=\"node\">\n<title>62</title>\n<path fill=\"#399de5\" stroke=\"#000000\" d=\"M747,-417.5C747,-417.5 672,-417.5 672,-417.5 666,-417.5 660,-411.5 660,-405.5 660,-405.5 660,-361.5 660,-361.5 660,-355.5 666,-349.5 672,-349.5 672,-349.5 747,-349.5 747,-349.5 753,-349.5 759,-355.5 759,-361.5 759,-361.5 759,-405.5 759,-405.5 759,-411.5 753,-417.5 747,-417.5\"/>\n<text text-anchor=\"start\" x=\"680\" y=\"-402.3\" font-family=\"Helvetica,sans-Serif\" font-size=\"14.00\" fill=\"#000000\">gini = 0.0</text>\n<text text-anchor=\"start\" x=\"670\" y=\"-387.3\" font-family=\"Helvetica,sans-Serif\" font-size=\"14.00\" fill=\"#000000\">samples = 1</text>\n<text text-anchor=\"start\" x=\"668\" y=\"-372.3\" font-family=\"Helvetica,sans-Serif\" font-size=\"14.00\" fill=\"#000000\">value = [0, 1]</text>\n<text text-anchor=\"start\" x=\"680.5\" y=\"-357.3\" font-family=\"Helvetica,sans-Serif\" font-size=\"14.00\" fill=\"#000000\">class = o</text>\n</g>\n<!-- 61&#45;&gt;62 -->\n<g id=\"edge62\" class=\"edge\">\n<title>61&#45;&gt;62</title>\n<path fill=\"none\" stroke=\"#000000\" d=\"M800.5348,-460.8796C786.6927,-449.1138 771.6408,-436.3197 757.8359,-424.5855\"/>\n<polygon fill=\"#000000\" stroke=\"#000000\" points=\"759.7567,-421.6247 749.8705,-417.8149 755.2231,-426.9582 759.7567,-421.6247\"/>\n</g>\n<!-- 63 -->\n<g id=\"node64\" class=\"node\">\n<title>63</title>\n<path fill=\"#ffffff\" stroke=\"#000000\" d=\"M864,-425C864,-425 789,-425 789,-425 783,-425 777,-419 777,-413 777,-413 777,-354 777,-354 777,-348 783,-342 789,-342 789,-342 864,-342 864,-342 870,-342 876,-348 876,-354 876,-354 876,-413 876,-413 876,-419 870,-425 864,-425\"/>\n<text text-anchor=\"start\" x=\"785.5\" y=\"-409.8\" font-family=\"Helvetica,sans-Serif\" font-size=\"14.00\" fill=\"#000000\">age ≤ &#45;0.239</text>\n<text text-anchor=\"start\" x=\"797\" y=\"-394.8\" font-family=\"Helvetica,sans-Serif\" font-size=\"14.00\" fill=\"#000000\">gini = 0.5</text>\n<text text-anchor=\"start\" x=\"787\" y=\"-379.8\" font-family=\"Helvetica,sans-Serif\" font-size=\"14.00\" fill=\"#000000\">samples = 2</text>\n<text text-anchor=\"start\" x=\"785\" y=\"-364.8\" font-family=\"Helvetica,sans-Serif\" font-size=\"14.00\" fill=\"#000000\">value = [1, 1]</text>\n<text text-anchor=\"start\" x=\"800\" y=\"-349.8\" font-family=\"Helvetica,sans-Serif\" font-size=\"14.00\" fill=\"#000000\">class = l</text>\n</g>\n<!-- 61&#45;&gt;63 -->\n<g id=\"edge63\" class=\"edge\">\n<title>61&#45;&gt;63</title>\n<path fill=\"none\" stroke=\"#000000\" d=\"M841.4557,-460.8796C839.8543,-452.5938 838.1542,-443.798 836.4966,-435.2216\"/>\n<polygon fill=\"#000000\" stroke=\"#000000\" points=\"839.9128,-434.4522 834.5786,-425.2981 833.0399,-435.7806 839.9128,-434.4522\"/>\n</g>\n<!-- 64 -->\n<g id=\"node65\" class=\"node\">\n<title>64</title>\n<path fill=\"#e58139\" stroke=\"#000000\" d=\"M731,-298.5C731,-298.5 656,-298.5 656,-298.5 650,-298.5 644,-292.5 644,-286.5 644,-286.5 644,-242.5 644,-242.5 644,-236.5 650,-230.5 656,-230.5 656,-230.5 731,-230.5 731,-230.5 737,-230.5 743,-236.5 743,-242.5 743,-242.5 743,-286.5 743,-286.5 743,-292.5 737,-298.5 731,-298.5\"/>\n<text text-anchor=\"start\" x=\"664\" y=\"-283.3\" font-family=\"Helvetica,sans-Serif\" font-size=\"14.00\" fill=\"#000000\">gini = 0.0</text>\n<text text-anchor=\"start\" x=\"654\" y=\"-268.3\" font-family=\"Helvetica,sans-Serif\" font-size=\"14.00\" fill=\"#000000\">samples = 1</text>\n<text text-anchor=\"start\" x=\"652\" y=\"-253.3\" font-family=\"Helvetica,sans-Serif\" font-size=\"14.00\" fill=\"#000000\">value = [1, 0]</text>\n<text text-anchor=\"start\" x=\"667\" y=\"-238.3\" font-family=\"Helvetica,sans-Serif\" font-size=\"14.00\" fill=\"#000000\">class = l</text>\n</g>\n<!-- 63&#45;&gt;64 -->\n<g id=\"edge64\" class=\"edge\">\n<title>63&#45;&gt;64</title>\n<path fill=\"none\" stroke=\"#000000\" d=\"M779.9831,-341.8796C766.833,-330.1138 752.5337,-317.3197 739.4191,-305.5855\"/>\n<polygon fill=\"#000000\" stroke=\"#000000\" points=\"741.6382,-302.8746 731.852,-298.8149 736.9706,-308.0913 741.6382,-302.8746\"/>\n</g>\n<!-- 65 -->\n<g id=\"node66\" class=\"node\">\n<title>65</title>\n<path fill=\"#399de5\" stroke=\"#000000\" d=\"M848,-298.5C848,-298.5 773,-298.5 773,-298.5 767,-298.5 761,-292.5 761,-286.5 761,-286.5 761,-242.5 761,-242.5 761,-236.5 767,-230.5 773,-230.5 773,-230.5 848,-230.5 848,-230.5 854,-230.5 860,-236.5 860,-242.5 860,-242.5 860,-286.5 860,-286.5 860,-292.5 854,-298.5 848,-298.5\"/>\n<text text-anchor=\"start\" x=\"781\" y=\"-283.3\" font-family=\"Helvetica,sans-Serif\" font-size=\"14.00\" fill=\"#000000\">gini = 0.0</text>\n<text text-anchor=\"start\" x=\"771\" y=\"-268.3\" font-family=\"Helvetica,sans-Serif\" font-size=\"14.00\" fill=\"#000000\">samples = 1</text>\n<text text-anchor=\"start\" x=\"769\" y=\"-253.3\" font-family=\"Helvetica,sans-Serif\" font-size=\"14.00\" fill=\"#000000\">value = [0, 1]</text>\n<text text-anchor=\"start\" x=\"781.5\" y=\"-238.3\" font-family=\"Helvetica,sans-Serif\" font-size=\"14.00\" fill=\"#000000\">class = o</text>\n</g>\n<!-- 63&#45;&gt;65 -->\n<g id=\"edge65\" class=\"edge\">\n<title>63&#45;&gt;65</title>\n<path fill=\"none\" stroke=\"#000000\" d=\"M820.904,-341.8796C819.4699,-331.2134 817.9221,-319.7021 816.47,-308.9015\"/>\n<polygon fill=\"#000000\" stroke=\"#000000\" points=\"819.9152,-308.2593 815.1138,-298.8149 812.9776,-309.1922 819.9152,-308.2593\"/>\n</g>\n<!-- 68 -->\n<g id=\"node69\" class=\"node\">\n<title>68</title>\n<path fill=\"#f0b58b\" stroke=\"#000000\" d=\"M1171,-663C1171,-663 1088,-663 1088,-663 1082,-663 1076,-657 1076,-651 1076,-651 1076,-592 1076,-592 1076,-586 1082,-580 1088,-580 1088,-580 1171,-580 1171,-580 1177,-580 1183,-586 1183,-592 1183,-592 1183,-651 1183,-651 1183,-657 1177,-663 1171,-663\"/>\n<text text-anchor=\"start\" x=\"1088.5\" y=\"-647.8\" font-family=\"Helvetica,sans-Serif\" font-size=\"14.00\" fill=\"#000000\">age ≤ &#45;0.239</text>\n<text text-anchor=\"start\" x=\"1091.5\" y=\"-632.8\" font-family=\"Helvetica,sans-Serif\" font-size=\"14.00\" fill=\"#000000\">gini = 0.415</text>\n<text text-anchor=\"start\" x=\"1085.5\" y=\"-617.8\" font-family=\"Helvetica,sans-Serif\" font-size=\"14.00\" fill=\"#000000\">samples = 17</text>\n<text text-anchor=\"start\" x=\"1084\" y=\"-602.8\" font-family=\"Helvetica,sans-Serif\" font-size=\"14.00\" fill=\"#000000\">value = [12, 5]</text>\n<text text-anchor=\"start\" x=\"1103\" y=\"-587.8\" font-family=\"Helvetica,sans-Serif\" font-size=\"14.00\" fill=\"#000000\">class = l</text>\n</g>\n<!-- 67&#45;&gt;68 -->\n<g id=\"edge68\" class=\"edge\">\n<title>67&#45;&gt;68</title>\n<path fill=\"none\" stroke=\"#000000\" d=\"M1126.2488,-698.8796C1126.5931,-690.6838 1126.9584,-681.9891 1127.3151,-673.5013\"/>\n<polygon fill=\"#000000\" stroke=\"#000000\" points=\"1130.8208,-673.4362 1127.7438,-663.2981 1123.827,-673.1423 1130.8208,-673.4362\"/>\n</g>\n<!-- 81 -->\n<g id=\"node82\" class=\"node\">\n<title>81</title>\n<path fill=\"#bddef6\" stroke=\"#000000\" d=\"M1422,-663C1422,-663 1347,-663 1347,-663 1341,-663 1335,-657 1335,-651 1335,-651 1335,-592 1335,-592 1335,-586 1341,-580 1347,-580 1347,-580 1422,-580 1422,-580 1428,-580 1434,-586 1434,-592 1434,-592 1434,-651 1434,-651 1434,-657 1428,-663 1422,-663\"/>\n<text text-anchor=\"start\" x=\"1346\" y=\"-647.8\" font-family=\"Helvetica,sans-Serif\" font-size=\"14.00\" fill=\"#000000\">age ≤ 0.259</text>\n<text text-anchor=\"start\" x=\"1351\" y=\"-632.8\" font-family=\"Helvetica,sans-Serif\" font-size=\"14.00\" fill=\"#000000\">gini = 0.48</text>\n<text text-anchor=\"start\" x=\"1345\" y=\"-617.8\" font-family=\"Helvetica,sans-Serif\" font-size=\"14.00\" fill=\"#000000\">samples = 5</text>\n<text text-anchor=\"start\" x=\"1343\" y=\"-602.8\" font-family=\"Helvetica,sans-Serif\" font-size=\"14.00\" fill=\"#000000\">value = [2, 3]</text>\n<text text-anchor=\"start\" x=\"1355.5\" y=\"-587.8\" font-family=\"Helvetica,sans-Serif\" font-size=\"14.00\" fill=\"#000000\">class = o</text>\n</g>\n<!-- 67&#45;&gt;81 -->\n<g id=\"edge81\" class=\"edge\">\n<title>67&#45;&gt;81</title>\n<path fill=\"none\" stroke=\"#000000\" d=\"M1178.1789,-703.5727C1180.9612,-701.974 1183.7448,-700.4396 1186.5,-699 1231.385,-675.5483 1285.0247,-654.9753 1325.1459,-640.9305\"/>\n<polygon fill=\"#000000\" stroke=\"#000000\" points=\"1326.479,-644.1728 1334.7819,-637.5916 1324.1872,-637.5586 1326.479,-644.1728\"/>\n</g>\n<!-- 69 -->\n<g id=\"node70\" class=\"node\">\n<title>69</title>\n<path fill=\"#f4c9aa\" stroke=\"#000000\" d=\"M1169.5,-544C1169.5,-544 1089.5,-544 1089.5,-544 1083.5,-544 1077.5,-538 1077.5,-532 1077.5,-532 1077.5,-473 1077.5,-473 1077.5,-467 1083.5,-461 1089.5,-461 1089.5,-461 1169.5,-461 1169.5,-461 1175.5,-461 1181.5,-467 1181.5,-473 1181.5,-473 1181.5,-532 1181.5,-532 1181.5,-538 1175.5,-544 1169.5,-544\"/>\n<text text-anchor=\"start\" x=\"1088.5\" y=\"-528.8\" font-family=\"Helvetica,sans-Serif\" font-size=\"14.00\" fill=\"#000000\">age ≤ &#45;0.404</text>\n<text text-anchor=\"start\" x=\"1091.5\" y=\"-513.8\" font-family=\"Helvetica,sans-Serif\" font-size=\"14.00\" fill=\"#000000\">gini = 0.463</text>\n<text text-anchor=\"start\" x=\"1085.5\" y=\"-498.8\" font-family=\"Helvetica,sans-Serif\" font-size=\"14.00\" fill=\"#000000\">samples = 11</text>\n<text text-anchor=\"start\" x=\"1088\" y=\"-483.8\" font-family=\"Helvetica,sans-Serif\" font-size=\"14.00\" fill=\"#000000\">value = [7, 4]</text>\n<text text-anchor=\"start\" x=\"1103\" y=\"-468.8\" font-family=\"Helvetica,sans-Serif\" font-size=\"14.00\" fill=\"#000000\">class = l</text>\n</g>\n<!-- 68&#45;&gt;69 -->\n<g id=\"edge69\" class=\"edge\">\n<title>68&#45;&gt;69</title>\n<path fill=\"none\" stroke=\"#000000\" d=\"M1129.5,-579.8796C1129.5,-571.6838 1129.5,-562.9891 1129.5,-554.5013\"/>\n<polygon fill=\"#000000\" stroke=\"#000000\" points=\"1133.0001,-554.298 1129.5,-544.2981 1126.0001,-554.2981 1133.0001,-554.298\"/>\n</g>\n<!-- 78 -->\n<g id=\"node79\" class=\"node\">\n<title>78</title>\n<path fill=\"#ea9a61\" stroke=\"#000000\" d=\"M1305,-544C1305,-544 1230,-544 1230,-544 1224,-544 1218,-538 1218,-532 1218,-532 1218,-473 1218,-473 1218,-467 1224,-461 1230,-461 1230,-461 1305,-461 1305,-461 1311,-461 1317,-467 1317,-473 1317,-473 1317,-532 1317,-532 1317,-538 1311,-544 1305,-544\"/>\n<text text-anchor=\"start\" x=\"1226.5\" y=\"-528.8\" font-family=\"Helvetica,sans-Serif\" font-size=\"14.00\" fill=\"#000000\">age ≤ &#45;0.073</text>\n<text text-anchor=\"start\" x=\"1229.5\" y=\"-513.8\" font-family=\"Helvetica,sans-Serif\" font-size=\"14.00\" fill=\"#000000\">gini = 0.278</text>\n<text text-anchor=\"start\" x=\"1228\" y=\"-498.8\" font-family=\"Helvetica,sans-Serif\" font-size=\"14.00\" fill=\"#000000\">samples = 6</text>\n<text text-anchor=\"start\" x=\"1226\" y=\"-483.8\" font-family=\"Helvetica,sans-Serif\" font-size=\"14.00\" fill=\"#000000\">value = [5, 1]</text>\n<text text-anchor=\"start\" x=\"1241\" y=\"-468.8\" font-family=\"Helvetica,sans-Serif\" font-size=\"14.00\" fill=\"#000000\">class = l</text>\n</g>\n<!-- 68&#45;&gt;78 -->\n<g id=\"edge78\" class=\"edge\">\n<title>68&#45;&gt;78</title>\n<path fill=\"none\" stroke=\"#000000\" d=\"M1177.7657,-579.8796C1188.6278,-570.513 1200.2456,-560.4948 1211.3973,-550.8784\"/>\n<polygon fill=\"#000000\" stroke=\"#000000\" points=\"1213.7408,-553.4792 1219.0283,-544.2981 1209.1694,-548.178 1213.7408,-553.4792\"/>\n</g>\n<!-- 70 -->\n<g id=\"node71\" class=\"node\">\n<title>70</title>\n<path fill=\"#eeab7b\" stroke=\"#000000\" d=\"M1063,-425C1063,-425 978,-425 978,-425 972,-425 966,-419 966,-413 966,-413 966,-354 966,-354 966,-348 972,-342 978,-342 978,-342 1063,-342 1063,-342 1069,-342 1075,-348 1075,-354 1075,-354 1075,-413 1075,-413 1075,-419 1069,-425 1063,-425\"/>\n<text text-anchor=\"start\" x=\"974\" y=\"-409.8\" font-family=\"Helvetica,sans-Serif\" font-size=\"14.00\" fill=\"#000000\">terms ≤ &#45;0.019</text>\n<text text-anchor=\"start\" x=\"982.5\" y=\"-394.8\" font-family=\"Helvetica,sans-Serif\" font-size=\"14.00\" fill=\"#000000\">gini = 0.375</text>\n<text text-anchor=\"start\" x=\"981\" y=\"-379.8\" font-family=\"Helvetica,sans-Serif\" font-size=\"14.00\" fill=\"#000000\">samples = 8</text>\n<text text-anchor=\"start\" x=\"979\" y=\"-364.8\" font-family=\"Helvetica,sans-Serif\" font-size=\"14.00\" fill=\"#000000\">value = [6, 2]</text>\n<text text-anchor=\"start\" x=\"994\" y=\"-349.8\" font-family=\"Helvetica,sans-Serif\" font-size=\"14.00\" fill=\"#000000\">class = l</text>\n</g>\n<!-- 69&#45;&gt;70 -->\n<g id=\"edge70\" class=\"edge\">\n<title>69&#45;&gt;70</title>\n<path fill=\"none\" stroke=\"#000000\" d=\"M1091.3771,-460.8796C1083.0451,-451.7832 1074.1502,-442.0722 1065.5761,-432.7116\"/>\n<polygon fill=\"#000000\" stroke=\"#000000\" points=\"1068.1211,-430.3081 1058.7856,-425.2981 1062.9592,-435.0363 1068.1211,-430.3081\"/>\n</g>\n<!-- 75 -->\n<g id=\"node76\" class=\"node\">\n<title>75</title>\n<path fill=\"#9ccef2\" stroke=\"#000000\" d=\"M1190,-425C1190,-425 1105,-425 1105,-425 1099,-425 1093,-419 1093,-413 1093,-413 1093,-354 1093,-354 1093,-348 1099,-342 1105,-342 1105,-342 1190,-342 1190,-342 1196,-342 1202,-348 1202,-354 1202,-354 1202,-413 1202,-413 1202,-419 1196,-425 1190,-425\"/>\n<text text-anchor=\"start\" x=\"1101\" y=\"-409.8\" font-family=\"Helvetica,sans-Serif\" font-size=\"14.00\" fill=\"#000000\">terms ≤ &#45;0.019</text>\n<text text-anchor=\"start\" x=\"1109.5\" y=\"-394.8\" font-family=\"Helvetica,sans-Serif\" font-size=\"14.00\" fill=\"#000000\">gini = 0.444</text>\n<text text-anchor=\"start\" x=\"1108\" y=\"-379.8\" font-family=\"Helvetica,sans-Serif\" font-size=\"14.00\" fill=\"#000000\">samples = 3</text>\n<text text-anchor=\"start\" x=\"1106\" y=\"-364.8\" font-family=\"Helvetica,sans-Serif\" font-size=\"14.00\" fill=\"#000000\">value = [1, 2]</text>\n<text text-anchor=\"start\" x=\"1118.5\" y=\"-349.8\" font-family=\"Helvetica,sans-Serif\" font-size=\"14.00\" fill=\"#000000\">class = o</text>\n</g>\n<!-- 69&#45;&gt;75 -->\n<g id=\"edge75\" class=\"edge\">\n<title>69&#45;&gt;75</title>\n<path fill=\"none\" stroke=\"#000000\" d=\"M1135.7955,-460.8796C1137.0488,-452.5938 1138.3793,-443.798 1139.6766,-435.2216\"/>\n<polygon fill=\"#000000\" stroke=\"#000000\" points=\"1143.1426,-435.7091 1141.1776,-425.2981 1136.2213,-434.6621 1143.1426,-435.7091\"/>\n</g>\n<!-- 71 -->\n<g id=\"node72\" class=\"node\">\n<title>71</title>\n<path fill=\"#e58139\" stroke=\"#000000\" d=\"M965,-298.5C965,-298.5 890,-298.5 890,-298.5 884,-298.5 878,-292.5 878,-286.5 878,-286.5 878,-242.5 878,-242.5 878,-236.5 884,-230.5 890,-230.5 890,-230.5 965,-230.5 965,-230.5 971,-230.5 977,-236.5 977,-242.5 977,-242.5 977,-286.5 977,-286.5 977,-292.5 971,-298.5 965,-298.5\"/>\n<text text-anchor=\"start\" x=\"898\" y=\"-283.3\" font-family=\"Helvetica,sans-Serif\" font-size=\"14.00\" fill=\"#000000\">gini = 0.0</text>\n<text text-anchor=\"start\" x=\"888\" y=\"-268.3\" font-family=\"Helvetica,sans-Serif\" font-size=\"14.00\" fill=\"#000000\">samples = 2</text>\n<text text-anchor=\"start\" x=\"886\" y=\"-253.3\" font-family=\"Helvetica,sans-Serif\" font-size=\"14.00\" fill=\"#000000\">value = [2, 0]</text>\n<text text-anchor=\"start\" x=\"901\" y=\"-238.3\" font-family=\"Helvetica,sans-Serif\" font-size=\"14.00\" fill=\"#000000\">class = l</text>\n</g>\n<!-- 70&#45;&gt;71 -->\n<g id=\"edge71\" class=\"edge\">\n<title>70&#45;&gt;71</title>\n<path fill=\"none\" stroke=\"#000000\" d=\"M987.9731,-341.8796C979.1217,-330.5536 969.5257,-318.2748 960.6407,-306.9058\"/>\n<polygon fill=\"#000000\" stroke=\"#000000\" points=\"963.2331,-304.539 954.3176,-298.8149 957.7176,-308.8494 963.2331,-304.539\"/>\n</g>\n<!-- 72 -->\n<g id=\"node73\" class=\"node\">\n<title>72</title>\n<path fill=\"#f2c09c\" stroke=\"#000000\" d=\"M1082,-306C1082,-306 1007,-306 1007,-306 1001,-306 995,-300 995,-294 995,-294 995,-235 995,-235 995,-229 1001,-223 1007,-223 1007,-223 1082,-223 1082,-223 1088,-223 1094,-229 1094,-235 1094,-235 1094,-294 1094,-294 1094,-300 1088,-306 1082,-306\"/>\n<text text-anchor=\"start\" x=\"1008\" y=\"-290.8\" font-family=\"Helvetica,sans-Serif\" font-size=\"14.00\" fill=\"#000000\">age ≤ &#45;0.57</text>\n<text text-anchor=\"start\" x=\"1006.5\" y=\"-275.8\" font-family=\"Helvetica,sans-Serif\" font-size=\"14.00\" fill=\"#000000\">gini = 0.444</text>\n<text text-anchor=\"start\" x=\"1005\" y=\"-260.8\" font-family=\"Helvetica,sans-Serif\" font-size=\"14.00\" fill=\"#000000\">samples = 6</text>\n<text text-anchor=\"start\" x=\"1003\" y=\"-245.8\" font-family=\"Helvetica,sans-Serif\" font-size=\"14.00\" fill=\"#000000\">value = [4, 2]</text>\n<text text-anchor=\"start\" x=\"1018\" y=\"-230.8\" font-family=\"Helvetica,sans-Serif\" font-size=\"14.00\" fill=\"#000000\">class = l</text>\n</g>\n<!-- 70&#45;&gt;72 -->\n<g id=\"edge72\" class=\"edge\">\n<title>70&#45;&gt;72</title>\n<path fill=\"none\" stroke=\"#000000\" d=\"M1028.894,-341.8796C1030.5651,-333.5938 1032.3391,-324.798 1034.0688,-316.2216\"/>\n<polygon fill=\"#000000\" stroke=\"#000000\" points=\"1037.524,-316.7927 1036.0701,-306.2981 1030.6621,-315.4087 1037.524,-316.7927\"/>\n</g>\n<!-- 73 -->\n<g id=\"node74\" class=\"node\">\n<title>73</title>\n<path fill=\"#f2c09c\" stroke=\"#000000\" d=\"M1024,-179.5C1024,-179.5 949,-179.5 949,-179.5 943,-179.5 937,-173.5 937,-167.5 937,-167.5 937,-123.5 937,-123.5 937,-117.5 943,-111.5 949,-111.5 949,-111.5 1024,-111.5 1024,-111.5 1030,-111.5 1036,-117.5 1036,-123.5 1036,-123.5 1036,-167.5 1036,-167.5 1036,-173.5 1030,-179.5 1024,-179.5\"/>\n<text text-anchor=\"start\" x=\"948.5\" y=\"-164.3\" font-family=\"Helvetica,sans-Serif\" font-size=\"14.00\" fill=\"#000000\">gini = 0.444</text>\n<text text-anchor=\"start\" x=\"947\" y=\"-149.3\" font-family=\"Helvetica,sans-Serif\" font-size=\"14.00\" fill=\"#000000\">samples = 3</text>\n<text text-anchor=\"start\" x=\"945\" y=\"-134.3\" font-family=\"Helvetica,sans-Serif\" font-size=\"14.00\" fill=\"#000000\">value = [2, 1]</text>\n<text text-anchor=\"start\" x=\"960\" y=\"-119.3\" font-family=\"Helvetica,sans-Serif\" font-size=\"14.00\" fill=\"#000000\">class = l</text>\n</g>\n<!-- 72&#45;&gt;73 -->\n<g id=\"edge73\" class=\"edge\">\n<title>72&#45;&gt;73</title>\n<path fill=\"none\" stroke=\"#000000\" d=\"M1024.2144,-222.8796C1018.855,-211.8835 1013.0578,-199.9893 1007.6537,-188.9015\"/>\n<polygon fill=\"#000000\" stroke=\"#000000\" points=\"1010.7524,-187.2706 1003.2249,-179.8149 1004.46,-190.3375 1010.7524,-187.2706\"/>\n</g>\n<!-- 74 -->\n<g id=\"node75\" class=\"node\">\n<title>74</title>\n<path fill=\"#f2c09c\" stroke=\"#000000\" d=\"M1141,-179.5C1141,-179.5 1066,-179.5 1066,-179.5 1060,-179.5 1054,-173.5 1054,-167.5 1054,-167.5 1054,-123.5 1054,-123.5 1054,-117.5 1060,-111.5 1066,-111.5 1066,-111.5 1141,-111.5 1141,-111.5 1147,-111.5 1153,-117.5 1153,-123.5 1153,-123.5 1153,-167.5 1153,-167.5 1153,-173.5 1147,-179.5 1141,-179.5\"/>\n<text text-anchor=\"start\" x=\"1065.5\" y=\"-164.3\" font-family=\"Helvetica,sans-Serif\" font-size=\"14.00\" fill=\"#000000\">gini = 0.444</text>\n<text text-anchor=\"start\" x=\"1064\" y=\"-149.3\" font-family=\"Helvetica,sans-Serif\" font-size=\"14.00\" fill=\"#000000\">samples = 3</text>\n<text text-anchor=\"start\" x=\"1062\" y=\"-134.3\" font-family=\"Helvetica,sans-Serif\" font-size=\"14.00\" fill=\"#000000\">value = [2, 1]</text>\n<text text-anchor=\"start\" x=\"1077\" y=\"-119.3\" font-family=\"Helvetica,sans-Serif\" font-size=\"14.00\" fill=\"#000000\">class = l</text>\n</g>\n<!-- 72&#45;&gt;74 -->\n<g id=\"edge74\" class=\"edge\">\n<title>72&#45;&gt;74</title>\n<path fill=\"none\" stroke=\"#000000\" d=\"M1065.1353,-222.8796C1070.5872,-211.8835 1076.4843,-199.9893 1081.9816,-188.9015\"/>\n<polygon fill=\"#000000\" stroke=\"#000000\" points=\"1085.1804,-190.3289 1086.4867,-179.8149 1078.9089,-187.2195 1085.1804,-190.3289\"/>\n</g>\n<!-- 76 -->\n<g id=\"node77\" class=\"node\">\n<title>76</title>\n<path fill=\"#ffffff\" stroke=\"#000000\" d=\"M1199,-298.5C1199,-298.5 1124,-298.5 1124,-298.5 1118,-298.5 1112,-292.5 1112,-286.5 1112,-286.5 1112,-242.5 1112,-242.5 1112,-236.5 1118,-230.5 1124,-230.5 1124,-230.5 1199,-230.5 1199,-230.5 1205,-230.5 1211,-236.5 1211,-242.5 1211,-242.5 1211,-286.5 1211,-286.5 1211,-292.5 1205,-298.5 1199,-298.5\"/>\n<text text-anchor=\"start\" x=\"1132\" y=\"-283.3\" font-family=\"Helvetica,sans-Serif\" font-size=\"14.00\" fill=\"#000000\">gini = 0.5</text>\n<text text-anchor=\"start\" x=\"1122\" y=\"-268.3\" font-family=\"Helvetica,sans-Serif\" font-size=\"14.00\" fill=\"#000000\">samples = 2</text>\n<text text-anchor=\"start\" x=\"1120\" y=\"-253.3\" font-family=\"Helvetica,sans-Serif\" font-size=\"14.00\" fill=\"#000000\">value = [1, 1]</text>\n<text text-anchor=\"start\" x=\"1135\" y=\"-238.3\" font-family=\"Helvetica,sans-Serif\" font-size=\"14.00\" fill=\"#000000\">class = l</text>\n</g>\n<!-- 75&#45;&gt;76 -->\n<g id=\"edge76\" class=\"edge\">\n<title>75&#45;&gt;76</title>\n<path fill=\"none\" stroke=\"#000000\" d=\"M1152.3965,-341.8796C1153.6514,-331.2134 1155.0056,-319.7021 1156.2763,-308.9015\"/>\n<polygon fill=\"#000000\" stroke=\"#000000\" points=\"1159.7705,-309.1554 1157.4629,-298.8149 1152.8184,-308.3375 1159.7705,-309.1554\"/>\n</g>\n<!-- 77 -->\n<g id=\"node78\" class=\"node\">\n<title>77</title>\n<path fill=\"#399de5\" stroke=\"#000000\" d=\"M1316,-298.5C1316,-298.5 1241,-298.5 1241,-298.5 1235,-298.5 1229,-292.5 1229,-286.5 1229,-286.5 1229,-242.5 1229,-242.5 1229,-236.5 1235,-230.5 1241,-230.5 1241,-230.5 1316,-230.5 1316,-230.5 1322,-230.5 1328,-236.5 1328,-242.5 1328,-242.5 1328,-286.5 1328,-286.5 1328,-292.5 1322,-298.5 1316,-298.5\"/>\n<text text-anchor=\"start\" x=\"1249\" y=\"-283.3\" font-family=\"Helvetica,sans-Serif\" font-size=\"14.00\" fill=\"#000000\">gini = 0.0</text>\n<text text-anchor=\"start\" x=\"1239\" y=\"-268.3\" font-family=\"Helvetica,sans-Serif\" font-size=\"14.00\" fill=\"#000000\">samples = 1</text>\n<text text-anchor=\"start\" x=\"1237\" y=\"-253.3\" font-family=\"Helvetica,sans-Serif\" font-size=\"14.00\" fill=\"#000000\">value = [0, 1]</text>\n<text text-anchor=\"start\" x=\"1249.5\" y=\"-238.3\" font-family=\"Helvetica,sans-Serif\" font-size=\"14.00\" fill=\"#000000\">class = o</text>\n</g>\n<!-- 75&#45;&gt;77 -->\n<g id=\"edge77\" class=\"edge\">\n<title>75&#45;&gt;77</title>\n<path fill=\"none\" stroke=\"#000000\" d=\"M1193.3174,-341.8796C1206.2697,-330.1138 1220.354,-317.3197 1233.2714,-305.5855\"/>\n<polygon fill=\"#000000\" stroke=\"#000000\" points=\"1235.6761,-308.1296 1240.7247,-298.8149 1230.9694,-302.9482 1235.6761,-308.1296\"/>\n</g>\n<!-- 79 -->\n<g id=\"node80\" class=\"node\">\n<title>79</title>\n<path fill=\"#e58139\" stroke=\"#000000\" d=\"M1307,-417.5C1307,-417.5 1232,-417.5 1232,-417.5 1226,-417.5 1220,-411.5 1220,-405.5 1220,-405.5 1220,-361.5 1220,-361.5 1220,-355.5 1226,-349.5 1232,-349.5 1232,-349.5 1307,-349.5 1307,-349.5 1313,-349.5 1319,-355.5 1319,-361.5 1319,-361.5 1319,-405.5 1319,-405.5 1319,-411.5 1313,-417.5 1307,-417.5\"/>\n<text text-anchor=\"start\" x=\"1240\" y=\"-402.3\" font-family=\"Helvetica,sans-Serif\" font-size=\"14.00\" fill=\"#000000\">gini = 0.0</text>\n<text text-anchor=\"start\" x=\"1230\" y=\"-387.3\" font-family=\"Helvetica,sans-Serif\" font-size=\"14.00\" fill=\"#000000\">samples = 3</text>\n<text text-anchor=\"start\" x=\"1228\" y=\"-372.3\" font-family=\"Helvetica,sans-Serif\" font-size=\"14.00\" fill=\"#000000\">value = [3, 0]</text>\n<text text-anchor=\"start\" x=\"1243\" y=\"-357.3\" font-family=\"Helvetica,sans-Serif\" font-size=\"14.00\" fill=\"#000000\">class = l</text>\n</g>\n<!-- 78&#45;&gt;79 -->\n<g id=\"edge79\" class=\"edge\">\n<title>78&#45;&gt;79</title>\n<path fill=\"none\" stroke=\"#000000\" d=\"M1268.1995,-460.8796C1268.3788,-450.2134 1268.5722,-438.7021 1268.7538,-427.9015\"/>\n<polygon fill=\"#000000\" stroke=\"#000000\" points=\"1272.2546,-427.8724 1268.9233,-417.8149 1265.2556,-427.7547 1272.2546,-427.8724\"/>\n</g>\n<!-- 80 -->\n<g id=\"node81\" class=\"node\">\n<title>80</title>\n<path fill=\"#f2c09c\" stroke=\"#000000\" d=\"M1424,-417.5C1424,-417.5 1349,-417.5 1349,-417.5 1343,-417.5 1337,-411.5 1337,-405.5 1337,-405.5 1337,-361.5 1337,-361.5 1337,-355.5 1343,-349.5 1349,-349.5 1349,-349.5 1424,-349.5 1424,-349.5 1430,-349.5 1436,-355.5 1436,-361.5 1436,-361.5 1436,-405.5 1436,-405.5 1436,-411.5 1430,-417.5 1424,-417.5\"/>\n<text text-anchor=\"start\" x=\"1348.5\" y=\"-402.3\" font-family=\"Helvetica,sans-Serif\" font-size=\"14.00\" fill=\"#000000\">gini = 0.444</text>\n<text text-anchor=\"start\" x=\"1347\" y=\"-387.3\" font-family=\"Helvetica,sans-Serif\" font-size=\"14.00\" fill=\"#000000\">samples = 3</text>\n<text text-anchor=\"start\" x=\"1345\" y=\"-372.3\" font-family=\"Helvetica,sans-Serif\" font-size=\"14.00\" fill=\"#000000\">value = [2, 1]</text>\n<text text-anchor=\"start\" x=\"1360\" y=\"-357.3\" font-family=\"Helvetica,sans-Serif\" font-size=\"14.00\" fill=\"#000000\">class = l</text>\n</g>\n<!-- 78&#45;&gt;80 -->\n<g id=\"edge80\" class=\"edge\">\n<title>78&#45;&gt;80</title>\n<path fill=\"none\" stroke=\"#000000\" d=\"M1309.1204,-460.8796C1320.7763,-449.2237 1333.4413,-436.5587 1345.0852,-424.9148\"/>\n<polygon fill=\"#000000\" stroke=\"#000000\" points=\"1347.5889,-427.3609 1352.1851,-417.8149 1342.6391,-422.4111 1347.5889,-427.3609\"/>\n</g>\n<!-- 82 -->\n<g id=\"node83\" class=\"node\">\n<title>82</title>\n<path fill=\"#399de5\" stroke=\"#000000\" d=\"M1422,-536.5C1422,-536.5 1347,-536.5 1347,-536.5 1341,-536.5 1335,-530.5 1335,-524.5 1335,-524.5 1335,-480.5 1335,-480.5 1335,-474.5 1341,-468.5 1347,-468.5 1347,-468.5 1422,-468.5 1422,-468.5 1428,-468.5 1434,-474.5 1434,-480.5 1434,-480.5 1434,-524.5 1434,-524.5 1434,-530.5 1428,-536.5 1422,-536.5\"/>\n<text text-anchor=\"start\" x=\"1355\" y=\"-521.3\" font-family=\"Helvetica,sans-Serif\" font-size=\"14.00\" fill=\"#000000\">gini = 0.0</text>\n<text text-anchor=\"start\" x=\"1345\" y=\"-506.3\" font-family=\"Helvetica,sans-Serif\" font-size=\"14.00\" fill=\"#000000\">samples = 2</text>\n<text text-anchor=\"start\" x=\"1343\" y=\"-491.3\" font-family=\"Helvetica,sans-Serif\" font-size=\"14.00\" fill=\"#000000\">value = [0, 2]</text>\n<text text-anchor=\"start\" x=\"1355.5\" y=\"-476.3\" font-family=\"Helvetica,sans-Serif\" font-size=\"14.00\" fill=\"#000000\">class = o</text>\n</g>\n<!-- 81&#45;&gt;82 -->\n<g id=\"edge82\" class=\"edge\">\n<title>81&#45;&gt;82</title>\n<path fill=\"none\" stroke=\"#000000\" d=\"M1384.5,-579.8796C1384.5,-569.2134 1384.5,-557.7021 1384.5,-546.9015\"/>\n<polygon fill=\"#000000\" stroke=\"#000000\" points=\"1388.0001,-546.8149 1384.5,-536.8149 1381.0001,-546.815 1388.0001,-546.8149\"/>\n</g>\n<!-- 83 -->\n<g id=\"node84\" class=\"node\">\n<title>83</title>\n<path fill=\"#f2c09c\" stroke=\"#000000\" d=\"M1549,-544C1549,-544 1464,-544 1464,-544 1458,-544 1452,-538 1452,-532 1452,-532 1452,-473 1452,-473 1452,-467 1458,-461 1464,-461 1464,-461 1549,-461 1549,-461 1555,-461 1561,-467 1561,-473 1561,-473 1561,-532 1561,-532 1561,-538 1555,-544 1549,-544\"/>\n<text text-anchor=\"start\" x=\"1460\" y=\"-528.8\" font-family=\"Helvetica,sans-Serif\" font-size=\"14.00\" fill=\"#000000\">terms ≤ &#45;0.019</text>\n<text text-anchor=\"start\" x=\"1468.5\" y=\"-513.8\" font-family=\"Helvetica,sans-Serif\" font-size=\"14.00\" fill=\"#000000\">gini = 0.444</text>\n<text text-anchor=\"start\" x=\"1467\" y=\"-498.8\" font-family=\"Helvetica,sans-Serif\" font-size=\"14.00\" fill=\"#000000\">samples = 3</text>\n<text text-anchor=\"start\" x=\"1465\" y=\"-483.8\" font-family=\"Helvetica,sans-Serif\" font-size=\"14.00\" fill=\"#000000\">value = [2, 1]</text>\n<text text-anchor=\"start\" x=\"1480\" y=\"-468.8\" font-family=\"Helvetica,sans-Serif\" font-size=\"14.00\" fill=\"#000000\">class = l</text>\n</g>\n<!-- 81&#45;&gt;83 -->\n<g id=\"edge83\" class=\"edge\">\n<title>81&#45;&gt;83</title>\n<path fill=\"none\" stroke=\"#000000\" d=\"M1427.1697,-579.8796C1436.5877,-570.6931 1446.6484,-560.8798 1456.3328,-551.4336\"/>\n<polygon fill=\"#000000\" stroke=\"#000000\" points=\"1458.9335,-553.7861 1463.6482,-544.2981 1454.0457,-548.7751 1458.9335,-553.7861\"/>\n</g>\n<!-- 84 -->\n<g id=\"node85\" class=\"node\">\n<title>84</title>\n<path fill=\"#e58139\" stroke=\"#000000\" d=\"M1542,-417.5C1542,-417.5 1467,-417.5 1467,-417.5 1461,-417.5 1455,-411.5 1455,-405.5 1455,-405.5 1455,-361.5 1455,-361.5 1455,-355.5 1461,-349.5 1467,-349.5 1467,-349.5 1542,-349.5 1542,-349.5 1548,-349.5 1554,-355.5 1554,-361.5 1554,-361.5 1554,-405.5 1554,-405.5 1554,-411.5 1548,-417.5 1542,-417.5\"/>\n<text text-anchor=\"start\" x=\"1475\" y=\"-402.3\" font-family=\"Helvetica,sans-Serif\" font-size=\"14.00\" fill=\"#000000\">gini = 0.0</text>\n<text text-anchor=\"start\" x=\"1465\" y=\"-387.3\" font-family=\"Helvetica,sans-Serif\" font-size=\"14.00\" fill=\"#000000\">samples = 1</text>\n<text text-anchor=\"start\" x=\"1463\" y=\"-372.3\" font-family=\"Helvetica,sans-Serif\" font-size=\"14.00\" fill=\"#000000\">value = [1, 0]</text>\n<text text-anchor=\"start\" x=\"1478\" y=\"-357.3\" font-family=\"Helvetica,sans-Serif\" font-size=\"14.00\" fill=\"#000000\">class = l</text>\n</g>\n<!-- 83&#45;&gt;84 -->\n<g id=\"edge84\" class=\"edge\">\n<title>83&#45;&gt;84</title>\n<path fill=\"none\" stroke=\"#000000\" d=\"M1505.8005,-460.8796C1505.6212,-450.2134 1505.4278,-438.7021 1505.2462,-427.9015\"/>\n<polygon fill=\"#000000\" stroke=\"#000000\" points=\"1508.7444,-427.7547 1505.0767,-417.8149 1501.7454,-427.8724 1508.7444,-427.7547\"/>\n</g>\n<!-- 85 -->\n<g id=\"node86\" class=\"node\">\n<title>85</title>\n<path fill=\"#ffffff\" stroke=\"#000000\" d=\"M1688.5,-425C1688.5,-425 1584.5,-425 1584.5,-425 1578.5,-425 1572.5,-419 1572.5,-413 1572.5,-413 1572.5,-354 1572.5,-354 1572.5,-348 1578.5,-342 1584.5,-342 1584.5,-342 1688.5,-342 1688.5,-342 1694.5,-342 1700.5,-348 1700.5,-354 1700.5,-354 1700.5,-413 1700.5,-413 1700.5,-419 1694.5,-425 1688.5,-425\"/>\n<text text-anchor=\"start\" x=\"1580.5\" y=\"-409.8\" font-family=\"Helvetica,sans-Serif\" font-size=\"14.00\" fill=\"#000000\">Principal ≤ &#45;0.399</text>\n<text text-anchor=\"start\" x=\"1607\" y=\"-394.8\" font-family=\"Helvetica,sans-Serif\" font-size=\"14.00\" fill=\"#000000\">gini = 0.5</text>\n<text text-anchor=\"start\" x=\"1597\" y=\"-379.8\" font-family=\"Helvetica,sans-Serif\" font-size=\"14.00\" fill=\"#000000\">samples = 2</text>\n<text text-anchor=\"start\" x=\"1595\" y=\"-364.8\" font-family=\"Helvetica,sans-Serif\" font-size=\"14.00\" fill=\"#000000\">value = [1, 1]</text>\n<text text-anchor=\"start\" x=\"1610\" y=\"-349.8\" font-family=\"Helvetica,sans-Serif\" font-size=\"14.00\" fill=\"#000000\">class = l</text>\n</g>\n<!-- 83&#45;&gt;85 -->\n<g id=\"edge85\" class=\"edge\">\n<title>83&#45;&gt;85</title>\n<path fill=\"none\" stroke=\"#000000\" d=\"M1551.9677,-460.8796C1562.1017,-451.6031 1572.934,-441.6874 1583.3465,-432.1559\"/>\n<polygon fill=\"#000000\" stroke=\"#000000\" points=\"1585.8252,-434.6319 1590.8382,-425.2981 1581.0987,-429.4685 1585.8252,-434.6319\"/>\n</g>\n<!-- 86 -->\n<g id=\"node87\" class=\"node\">\n<title>86</title>\n<path fill=\"#399de5\" stroke=\"#000000\" d=\"M1616,-298.5C1616,-298.5 1541,-298.5 1541,-298.5 1535,-298.5 1529,-292.5 1529,-286.5 1529,-286.5 1529,-242.5 1529,-242.5 1529,-236.5 1535,-230.5 1541,-230.5 1541,-230.5 1616,-230.5 1616,-230.5 1622,-230.5 1628,-236.5 1628,-242.5 1628,-242.5 1628,-286.5 1628,-286.5 1628,-292.5 1622,-298.5 1616,-298.5\"/>\n<text text-anchor=\"start\" x=\"1549\" y=\"-283.3\" font-family=\"Helvetica,sans-Serif\" font-size=\"14.00\" fill=\"#000000\">gini = 0.0</text>\n<text text-anchor=\"start\" x=\"1539\" y=\"-268.3\" font-family=\"Helvetica,sans-Serif\" font-size=\"14.00\" fill=\"#000000\">samples = 1</text>\n<text text-anchor=\"start\" x=\"1537\" y=\"-253.3\" font-family=\"Helvetica,sans-Serif\" font-size=\"14.00\" fill=\"#000000\">value = [0, 1]</text>\n<text text-anchor=\"start\" x=\"1549.5\" y=\"-238.3\" font-family=\"Helvetica,sans-Serif\" font-size=\"14.00\" fill=\"#000000\">class = o</text>\n</g>\n<!-- 85&#45;&gt;86 -->\n<g id=\"edge86\" class=\"edge\">\n<title>85&#45;&gt;86</title>\n<path fill=\"none\" stroke=\"#000000\" d=\"M1616.2144,-341.8796C1610.855,-330.8835 1605.0578,-318.9893 1599.6537,-307.9015\"/>\n<polygon fill=\"#000000\" stroke=\"#000000\" points=\"1602.7524,-306.2706 1595.2249,-298.8149 1596.46,-309.3375 1602.7524,-306.2706\"/>\n</g>\n<!-- 87 -->\n<g id=\"node88\" class=\"node\">\n<title>87</title>\n<path fill=\"#e58139\" stroke=\"#000000\" d=\"M1733,-298.5C1733,-298.5 1658,-298.5 1658,-298.5 1652,-298.5 1646,-292.5 1646,-286.5 1646,-286.5 1646,-242.5 1646,-242.5 1646,-236.5 1652,-230.5 1658,-230.5 1658,-230.5 1733,-230.5 1733,-230.5 1739,-230.5 1745,-236.5 1745,-242.5 1745,-242.5 1745,-286.5 1745,-286.5 1745,-292.5 1739,-298.5 1733,-298.5\"/>\n<text text-anchor=\"start\" x=\"1666\" y=\"-283.3\" font-family=\"Helvetica,sans-Serif\" font-size=\"14.00\" fill=\"#000000\">gini = 0.0</text>\n<text text-anchor=\"start\" x=\"1656\" y=\"-268.3\" font-family=\"Helvetica,sans-Serif\" font-size=\"14.00\" fill=\"#000000\">samples = 1</text>\n<text text-anchor=\"start\" x=\"1654\" y=\"-253.3\" font-family=\"Helvetica,sans-Serif\" font-size=\"14.00\" fill=\"#000000\">value = [1, 0]</text>\n<text text-anchor=\"start\" x=\"1669\" y=\"-238.3\" font-family=\"Helvetica,sans-Serif\" font-size=\"14.00\" fill=\"#000000\">class = l</text>\n</g>\n<!-- 85&#45;&gt;87 -->\n<g id=\"edge87\" class=\"edge\">\n<title>85&#45;&gt;87</title>\n<path fill=\"none\" stroke=\"#000000\" d=\"M1657.1353,-341.8796C1662.5872,-330.8835 1668.4843,-318.9893 1673.9816,-307.9015\"/>\n<polygon fill=\"#000000\" stroke=\"#000000\" points=\"1677.1804,-309.3289 1678.4867,-298.8149 1670.9089,-306.2195 1677.1804,-309.3289\"/>\n</g>\n<!-- 89 -->\n<g id=\"node90\" class=\"node\">\n<title>89</title>\n<path fill=\"#399de5\" stroke=\"#000000\" d=\"M1283,-774.5C1283,-774.5 1208,-774.5 1208,-774.5 1202,-774.5 1196,-768.5 1196,-762.5 1196,-762.5 1196,-718.5 1196,-718.5 1196,-712.5 1202,-706.5 1208,-706.5 1208,-706.5 1283,-706.5 1283,-706.5 1289,-706.5 1295,-712.5 1295,-718.5 1295,-718.5 1295,-762.5 1295,-762.5 1295,-768.5 1289,-774.5 1283,-774.5\"/>\n<text text-anchor=\"start\" x=\"1216\" y=\"-759.3\" font-family=\"Helvetica,sans-Serif\" font-size=\"14.00\" fill=\"#000000\">gini = 0.0</text>\n<text text-anchor=\"start\" x=\"1206\" y=\"-744.3\" font-family=\"Helvetica,sans-Serif\" font-size=\"14.00\" fill=\"#000000\">samples = 2</text>\n<text text-anchor=\"start\" x=\"1204\" y=\"-729.3\" font-family=\"Helvetica,sans-Serif\" font-size=\"14.00\" fill=\"#000000\">value = [0, 2]</text>\n<text text-anchor=\"start\" x=\"1216.5\" y=\"-714.3\" font-family=\"Helvetica,sans-Serif\" font-size=\"14.00\" fill=\"#000000\">class = o</text>\n</g>\n<!-- 88&#45;&gt;89 -->\n<g id=\"edge89\" class=\"edge\">\n<title>88&#45;&gt;89</title>\n<path fill=\"none\" stroke=\"#000000\" d=\"M1242.899,-817.8796C1243.2575,-807.2134 1243.6445,-795.7021 1244.0075,-784.9015\"/>\n<polygon fill=\"#000000\" stroke=\"#000000\" points=\"1247.5085,-784.9269 1244.3466,-774.8149 1240.5125,-784.6917 1247.5085,-784.9269\"/>\n</g>\n<!-- 90 -->\n<g id=\"node91\" class=\"node\">\n<title>90</title>\n<path fill=\"#ffffff\" stroke=\"#000000\" d=\"M1400,-774.5C1400,-774.5 1325,-774.5 1325,-774.5 1319,-774.5 1313,-768.5 1313,-762.5 1313,-762.5 1313,-718.5 1313,-718.5 1313,-712.5 1319,-706.5 1325,-706.5 1325,-706.5 1400,-706.5 1400,-706.5 1406,-706.5 1412,-712.5 1412,-718.5 1412,-718.5 1412,-762.5 1412,-762.5 1412,-768.5 1406,-774.5 1400,-774.5\"/>\n<text text-anchor=\"start\" x=\"1333\" y=\"-759.3\" font-family=\"Helvetica,sans-Serif\" font-size=\"14.00\" fill=\"#000000\">gini = 0.5</text>\n<text text-anchor=\"start\" x=\"1323\" y=\"-744.3\" font-family=\"Helvetica,sans-Serif\" font-size=\"14.00\" fill=\"#000000\">samples = 2</text>\n<text text-anchor=\"start\" x=\"1321\" y=\"-729.3\" font-family=\"Helvetica,sans-Serif\" font-size=\"14.00\" fill=\"#000000\">value = [1, 1]</text>\n<text text-anchor=\"start\" x=\"1336\" y=\"-714.3\" font-family=\"Helvetica,sans-Serif\" font-size=\"14.00\" fill=\"#000000\">class = l</text>\n</g>\n<!-- 88&#45;&gt;90 -->\n<g id=\"edge90\" class=\"edge\">\n<title>88&#45;&gt;90</title>\n<path fill=\"none\" stroke=\"#000000\" d=\"M1283.8199,-817.8796C1295.6717,-806.2237 1308.5495,-793.5587 1320.3891,-781.9148\"/>\n<polygon fill=\"#000000\" stroke=\"#000000\" points=\"1322.9327,-784.3223 1327.6083,-774.8149 1318.0244,-779.3314 1322.9327,-784.3223\"/>\n</g>\n<!-- 92 -->\n<g id=\"node93\" class=\"node\">\n<title>92</title>\n<path fill=\"#f2c09c\" stroke=\"#000000\" d=\"M1401,-893.5C1401,-893.5 1326,-893.5 1326,-893.5 1320,-893.5 1314,-887.5 1314,-881.5 1314,-881.5 1314,-837.5 1314,-837.5 1314,-831.5 1320,-825.5 1326,-825.5 1326,-825.5 1401,-825.5 1401,-825.5 1407,-825.5 1413,-831.5 1413,-837.5 1413,-837.5 1413,-881.5 1413,-881.5 1413,-887.5 1407,-893.5 1401,-893.5\"/>\n<text text-anchor=\"start\" x=\"1325.5\" y=\"-878.3\" font-family=\"Helvetica,sans-Serif\" font-size=\"14.00\" fill=\"#000000\">gini = 0.444</text>\n<text text-anchor=\"start\" x=\"1324\" y=\"-863.3\" font-family=\"Helvetica,sans-Serif\" font-size=\"14.00\" fill=\"#000000\">samples = 3</text>\n<text text-anchor=\"start\" x=\"1322\" y=\"-848.3\" font-family=\"Helvetica,sans-Serif\" font-size=\"14.00\" fill=\"#000000\">value = [2, 1]</text>\n<text text-anchor=\"start\" x=\"1337\" y=\"-833.3\" font-family=\"Helvetica,sans-Serif\" font-size=\"14.00\" fill=\"#000000\">class = l</text>\n</g>\n<!-- 91&#45;&gt;92 -->\n<g id=\"edge92\" class=\"edge\">\n<title>91&#45;&gt;92</title>\n<path fill=\"none\" stroke=\"#000000\" d=\"M1408.3671,-936.8796C1401.9275,-925.7735 1394.9566,-913.7513 1388.4729,-902.5691\"/>\n<polygon fill=\"#000000\" stroke=\"#000000\" points=\"1391.4409,-900.7102 1383.3969,-893.8149 1385.3852,-904.2215 1391.4409,-900.7102\"/>\n</g>\n<!-- 93 -->\n<g id=\"node94\" class=\"node\">\n<title>93</title>\n<path fill=\"#e58139\" stroke=\"#000000\" d=\"M1518,-893.5C1518,-893.5 1443,-893.5 1443,-893.5 1437,-893.5 1431,-887.5 1431,-881.5 1431,-881.5 1431,-837.5 1431,-837.5 1431,-831.5 1437,-825.5 1443,-825.5 1443,-825.5 1518,-825.5 1518,-825.5 1524,-825.5 1530,-831.5 1530,-837.5 1530,-837.5 1530,-881.5 1530,-881.5 1530,-887.5 1524,-893.5 1518,-893.5\"/>\n<text text-anchor=\"start\" x=\"1451\" y=\"-878.3\" font-family=\"Helvetica,sans-Serif\" font-size=\"14.00\" fill=\"#000000\">gini = 0.0</text>\n<text text-anchor=\"start\" x=\"1441\" y=\"-863.3\" font-family=\"Helvetica,sans-Serif\" font-size=\"14.00\" fill=\"#000000\">samples = 3</text>\n<text text-anchor=\"start\" x=\"1439\" y=\"-848.3\" font-family=\"Helvetica,sans-Serif\" font-size=\"14.00\" fill=\"#000000\">value = [3, 0]</text>\n<text text-anchor=\"start\" x=\"1454\" y=\"-833.3\" font-family=\"Helvetica,sans-Serif\" font-size=\"14.00\" fill=\"#000000\">class = l</text>\n</g>\n<!-- 91&#45;&gt;93 -->\n<g id=\"edge93\" class=\"edge\">\n<title>91&#45;&gt;93</title>\n<path fill=\"none\" stroke=\"#000000\" d=\"M1449.2881,-936.8796C1453.6791,-925.9935 1458.4252,-914.227 1462.8592,-903.2344\"/>\n<polygon fill=\"#000000\" stroke=\"#000000\" points=\"1466.1638,-904.3982 1466.6587,-893.8149 1459.672,-901.7796 1466.1638,-904.3982\"/>\n</g>\n<!-- 95 -->\n<g id=\"node96\" class=\"node\">\n<title>95</title>\n<path fill=\"#61b1ea\" stroke=\"#000000\" d=\"M1692,-1020C1692,-1020 1601,-1020 1601,-1020 1595,-1020 1589,-1014 1589,-1008 1589,-1008 1589,-949 1589,-949 1589,-943 1595,-937 1601,-937 1601,-937 1692,-937 1692,-937 1698,-937 1704,-943 1704,-949 1704,-949 1704,-1008 1704,-1008 1704,-1014 1698,-1020 1692,-1020\"/>\n<text text-anchor=\"start\" x=\"1597\" y=\"-1004.8\" font-family=\"Helvetica,sans-Serif\" font-size=\"14.00\" fill=\"#000000\">college ≤ 0.128</text>\n<text text-anchor=\"start\" x=\"1608.5\" y=\"-989.8\" font-family=\"Helvetica,sans-Serif\" font-size=\"14.00\" fill=\"#000000\">gini = 0.278</text>\n<text text-anchor=\"start\" x=\"1607\" y=\"-974.8\" font-family=\"Helvetica,sans-Serif\" font-size=\"14.00\" fill=\"#000000\">samples = 6</text>\n<text text-anchor=\"start\" x=\"1605\" y=\"-959.8\" font-family=\"Helvetica,sans-Serif\" font-size=\"14.00\" fill=\"#000000\">value = [1, 5]</text>\n<text text-anchor=\"start\" x=\"1617.5\" y=\"-944.8\" font-family=\"Helvetica,sans-Serif\" font-size=\"14.00\" fill=\"#000000\">class = o</text>\n</g>\n<!-- 94&#45;&gt;95 -->\n<g id=\"edge95\" class=\"edge\">\n<title>94&#45;&gt;95</title>\n<path fill=\"none\" stroke=\"#000000\" d=\"M1646.5,-1055.8796C1646.5,-1047.6838 1646.5,-1038.9891 1646.5,-1030.5013\"/>\n<polygon fill=\"#000000\" stroke=\"#000000\" points=\"1650.0001,-1030.298 1646.5,-1020.2981 1643.0001,-1030.2981 1650.0001,-1030.298\"/>\n</g>\n<!-- 100 -->\n<g id=\"node101\" class=\"node\">\n<title>100</title>\n<path fill=\"#fbece1\" stroke=\"#000000\" d=\"M1913.5,-1020C1913.5,-1020 1809.5,-1020 1809.5,-1020 1803.5,-1020 1797.5,-1014 1797.5,-1008 1797.5,-1008 1797.5,-949 1797.5,-949 1797.5,-943 1803.5,-937 1809.5,-937 1809.5,-937 1913.5,-937 1913.5,-937 1919.5,-937 1925.5,-943 1925.5,-949 1925.5,-949 1925.5,-1008 1925.5,-1008 1925.5,-1014 1919.5,-1020 1913.5,-1020\"/>\n<text text-anchor=\"start\" x=\"1805.5\" y=\"-1004.8\" font-family=\"Helvetica,sans-Serif\" font-size=\"14.00\" fill=\"#000000\">Principal ≤ &#45;0.399</text>\n<text text-anchor=\"start\" x=\"1823.5\" y=\"-989.8\" font-family=\"Helvetica,sans-Serif\" font-size=\"14.00\" fill=\"#000000\">gini = 0.497</text>\n<text text-anchor=\"start\" x=\"1817.5\" y=\"-974.8\" font-family=\"Helvetica,sans-Serif\" font-size=\"14.00\" fill=\"#000000\">samples = 24</text>\n<text text-anchor=\"start\" x=\"1811.5\" y=\"-959.8\" font-family=\"Helvetica,sans-Serif\" font-size=\"14.00\" fill=\"#000000\">value = [13, 11]</text>\n<text text-anchor=\"start\" x=\"1835\" y=\"-944.8\" font-family=\"Helvetica,sans-Serif\" font-size=\"14.00\" fill=\"#000000\">class = l</text>\n</g>\n<!-- 94&#45;&gt;100 -->\n<g id=\"edge100\" class=\"edge\">\n<title>94&#45;&gt;100</title>\n<path fill=\"none\" stroke=\"#000000\" d=\"M1704.6821,-1065.2969C1730.3803,-1051.0732 1760.879,-1034.1925 1788.1174,-1019.1164\"/>\n<polygon fill=\"#000000\" stroke=\"#000000\" points=\"1790.1639,-1021.9841 1797.2182,-1014.0792 1786.774,-1015.8597 1790.1639,-1021.9841\"/>\n</g>\n<!-- 96 -->\n<g id=\"node97\" class=\"node\">\n<title>96</title>\n<path fill=\"#ffffff\" stroke=\"#000000\" d=\"M1664.5,-901C1664.5,-901 1560.5,-901 1560.5,-901 1554.5,-901 1548.5,-895 1548.5,-889 1548.5,-889 1548.5,-830 1548.5,-830 1548.5,-824 1554.5,-818 1560.5,-818 1560.5,-818 1664.5,-818 1664.5,-818 1670.5,-818 1676.5,-824 1676.5,-830 1676.5,-830 1676.5,-889 1676.5,-889 1676.5,-895 1670.5,-901 1664.5,-901\"/>\n<text text-anchor=\"start\" x=\"1556.5\" y=\"-885.8\" font-family=\"Helvetica,sans-Serif\" font-size=\"14.00\" fill=\"#000000\">Principal ≤ &#45;0.399</text>\n<text text-anchor=\"start\" x=\"1583\" y=\"-870.8\" font-family=\"Helvetica,sans-Serif\" font-size=\"14.00\" fill=\"#000000\">gini = 0.5</text>\n<text text-anchor=\"start\" x=\"1573\" y=\"-855.8\" font-family=\"Helvetica,sans-Serif\" font-size=\"14.00\" fill=\"#000000\">samples = 2</text>\n<text text-anchor=\"start\" x=\"1571\" y=\"-840.8\" font-family=\"Helvetica,sans-Serif\" font-size=\"14.00\" fill=\"#000000\">value = [1, 1]</text>\n<text text-anchor=\"start\" x=\"1586\" y=\"-825.8\" font-family=\"Helvetica,sans-Serif\" font-size=\"14.00\" fill=\"#000000\">class = l</text>\n</g>\n<!-- 95&#45;&gt;96 -->\n<g id=\"edge96\" class=\"edge\">\n<title>95&#45;&gt;96</title>\n<path fill=\"none\" stroke=\"#000000\" d=\"M1634.6084,-936.8796C1632.2153,-928.5037 1629.6733,-919.6067 1627.1977,-910.942\"/>\n<polygon fill=\"#000000\" stroke=\"#000000\" points=\"1630.5549,-909.9518 1624.4423,-901.2981 1623.8243,-911.8749 1630.5549,-909.9518\"/>\n</g>\n<!-- 99 -->\n<g id=\"node100\" class=\"node\">\n<title>99</title>\n<path fill=\"#399de5\" stroke=\"#000000\" d=\"M1782,-893.5C1782,-893.5 1707,-893.5 1707,-893.5 1701,-893.5 1695,-887.5 1695,-881.5 1695,-881.5 1695,-837.5 1695,-837.5 1695,-831.5 1701,-825.5 1707,-825.5 1707,-825.5 1782,-825.5 1782,-825.5 1788,-825.5 1794,-831.5 1794,-837.5 1794,-837.5 1794,-881.5 1794,-881.5 1794,-887.5 1788,-893.5 1782,-893.5\"/>\n<text text-anchor=\"start\" x=\"1715\" y=\"-878.3\" font-family=\"Helvetica,sans-Serif\" font-size=\"14.00\" fill=\"#000000\">gini = 0.0</text>\n<text text-anchor=\"start\" x=\"1705\" y=\"-863.3\" font-family=\"Helvetica,sans-Serif\" font-size=\"14.00\" fill=\"#000000\">samples = 4</text>\n<text text-anchor=\"start\" x=\"1703\" y=\"-848.3\" font-family=\"Helvetica,sans-Serif\" font-size=\"14.00\" fill=\"#000000\">value = [0, 4]</text>\n<text text-anchor=\"start\" x=\"1715.5\" y=\"-833.3\" font-family=\"Helvetica,sans-Serif\" font-size=\"14.00\" fill=\"#000000\">class = o</text>\n</g>\n<!-- 95&#45;&gt;99 -->\n<g id=\"edge99\" class=\"edge\">\n<title>95&#45;&gt;99</title>\n<path fill=\"none\" stroke=\"#000000\" d=\"M1680.7756,-936.8796C1690.1935,-925.4436 1700.4113,-913.0363 1709.85,-901.575\"/>\n<polygon fill=\"#000000\" stroke=\"#000000\" points=\"1712.5853,-903.7592 1716.2406,-893.8149 1707.1818,-899.3093 1712.5853,-903.7592\"/>\n</g>\n<!-- 97 -->\n<g id=\"node98\" class=\"node\">\n<title>97</title>\n<path fill=\"#399de5\" stroke=\"#000000\" d=\"M1532,-774.5C1532,-774.5 1457,-774.5 1457,-774.5 1451,-774.5 1445,-768.5 1445,-762.5 1445,-762.5 1445,-718.5 1445,-718.5 1445,-712.5 1451,-706.5 1457,-706.5 1457,-706.5 1532,-706.5 1532,-706.5 1538,-706.5 1544,-712.5 1544,-718.5 1544,-718.5 1544,-762.5 1544,-762.5 1544,-768.5 1538,-774.5 1532,-774.5\"/>\n<text text-anchor=\"start\" x=\"1465\" y=\"-759.3\" font-family=\"Helvetica,sans-Serif\" font-size=\"14.00\" fill=\"#000000\">gini = 0.0</text>\n<text text-anchor=\"start\" x=\"1455\" y=\"-744.3\" font-family=\"Helvetica,sans-Serif\" font-size=\"14.00\" fill=\"#000000\">samples = 1</text>\n<text text-anchor=\"start\" x=\"1453\" y=\"-729.3\" font-family=\"Helvetica,sans-Serif\" font-size=\"14.00\" fill=\"#000000\">value = [0, 1]</text>\n<text text-anchor=\"start\" x=\"1465.5\" y=\"-714.3\" font-family=\"Helvetica,sans-Serif\" font-size=\"14.00\" fill=\"#000000\">class = o</text>\n</g>\n<!-- 96&#45;&gt;97 -->\n<g id=\"edge97\" class=\"edge\">\n<title>96&#45;&gt;97</title>\n<path fill=\"none\" stroke=\"#000000\" d=\"M1571.2293,-817.8796C1559.7805,-806.3337 1547.3497,-793.7976 1535.8938,-782.2446\"/>\n<polygon fill=\"#000000\" stroke=\"#000000\" points=\"1538.0531,-779.4514 1528.5266,-774.8149 1533.0825,-784.3802 1538.0531,-779.4514\"/>\n</g>\n<!-- 98 -->\n<g id=\"node99\" class=\"node\">\n<title>98</title>\n<path fill=\"#e58139\" stroke=\"#000000\" d=\"M1649,-774.5C1649,-774.5 1574,-774.5 1574,-774.5 1568,-774.5 1562,-768.5 1562,-762.5 1562,-762.5 1562,-718.5 1562,-718.5 1562,-712.5 1568,-706.5 1574,-706.5 1574,-706.5 1649,-706.5 1649,-706.5 1655,-706.5 1661,-712.5 1661,-718.5 1661,-718.5 1661,-762.5 1661,-762.5 1661,-768.5 1655,-774.5 1649,-774.5\"/>\n<text text-anchor=\"start\" x=\"1582\" y=\"-759.3\" font-family=\"Helvetica,sans-Serif\" font-size=\"14.00\" fill=\"#000000\">gini = 0.0</text>\n<text text-anchor=\"start\" x=\"1572\" y=\"-744.3\" font-family=\"Helvetica,sans-Serif\" font-size=\"14.00\" fill=\"#000000\">samples = 1</text>\n<text text-anchor=\"start\" x=\"1570\" y=\"-729.3\" font-family=\"Helvetica,sans-Serif\" font-size=\"14.00\" fill=\"#000000\">value = [1, 0]</text>\n<text text-anchor=\"start\" x=\"1585\" y=\"-714.3\" font-family=\"Helvetica,sans-Serif\" font-size=\"14.00\" fill=\"#000000\">class = l</text>\n</g>\n<!-- 96&#45;&gt;98 -->\n<g id=\"edge98\" class=\"edge\">\n<title>96&#45;&gt;98</title>\n<path fill=\"none\" stroke=\"#000000\" d=\"M1612.1502,-817.8796C1612.0606,-807.2134 1611.9639,-795.7021 1611.8731,-784.9015\"/>\n<polygon fill=\"#000000\" stroke=\"#000000\" points=\"1615.3724,-784.7851 1611.7884,-774.8149 1608.3726,-784.844 1615.3724,-784.7851\"/>\n</g>\n<!-- 101 -->\n<g id=\"node102\" class=\"node\">\n<title>101</title>\n<path fill=\"#eeab7b\" stroke=\"#000000\" d=\"M1899,-901C1899,-901 1824,-901 1824,-901 1818,-901 1812,-895 1812,-889 1812,-889 1812,-830 1812,-830 1812,-824 1818,-818 1824,-818 1824,-818 1899,-818 1899,-818 1905,-818 1911,-824 1911,-830 1911,-830 1911,-889 1911,-889 1911,-895 1905,-901 1899,-901\"/>\n<text text-anchor=\"start\" x=\"1823\" y=\"-885.8\" font-family=\"Helvetica,sans-Serif\" font-size=\"14.00\" fill=\"#000000\">age ≤ 1.254</text>\n<text text-anchor=\"start\" x=\"1823.5\" y=\"-870.8\" font-family=\"Helvetica,sans-Serif\" font-size=\"14.00\" fill=\"#000000\">gini = 0.375</text>\n<text text-anchor=\"start\" x=\"1822\" y=\"-855.8\" font-family=\"Helvetica,sans-Serif\" font-size=\"14.00\" fill=\"#000000\">samples = 8</text>\n<text text-anchor=\"start\" x=\"1820\" y=\"-840.8\" font-family=\"Helvetica,sans-Serif\" font-size=\"14.00\" fill=\"#000000\">value = [6, 2]</text>\n<text text-anchor=\"start\" x=\"1835\" y=\"-825.8\" font-family=\"Helvetica,sans-Serif\" font-size=\"14.00\" fill=\"#000000\">class = l</text>\n</g>\n<!-- 100&#45;&gt;101 -->\n<g id=\"edge101\" class=\"edge\">\n<title>100&#45;&gt;101</title>\n<path fill=\"none\" stroke=\"#000000\" d=\"M1861.5,-936.8796C1861.5,-928.6838 1861.5,-919.9891 1861.5,-911.5013\"/>\n<polygon fill=\"#000000\" stroke=\"#000000\" points=\"1865.0001,-911.298 1861.5,-901.2981 1858.0001,-911.2981 1865.0001,-911.298\"/>\n</g>\n<!-- 110 -->\n<g id=\"node111\" class=\"node\">\n<title>110</title>\n<path fill=\"#d3e9f9\" stroke=\"#000000\" d=\"M2026.5,-901C2026.5,-901 1946.5,-901 1946.5,-901 1940.5,-901 1934.5,-895 1934.5,-889 1934.5,-889 1934.5,-830 1934.5,-830 1934.5,-824 1940.5,-818 1946.5,-818 1946.5,-818 2026.5,-818 2026.5,-818 2032.5,-818 2038.5,-824 2038.5,-830 2038.5,-830 2038.5,-889 2038.5,-889 2038.5,-895 2032.5,-901 2026.5,-901\"/>\n<text text-anchor=\"start\" x=\"1948\" y=\"-885.8\" font-family=\"Helvetica,sans-Serif\" font-size=\"14.00\" fill=\"#000000\">age ≤ 2.912</text>\n<text text-anchor=\"start\" x=\"1948.5\" y=\"-870.8\" font-family=\"Helvetica,sans-Serif\" font-size=\"14.00\" fill=\"#000000\">gini = 0.492</text>\n<text text-anchor=\"start\" x=\"1942.5\" y=\"-855.8\" font-family=\"Helvetica,sans-Serif\" font-size=\"14.00\" fill=\"#000000\">samples = 16</text>\n<text text-anchor=\"start\" x=\"1945\" y=\"-840.8\" font-family=\"Helvetica,sans-Serif\" font-size=\"14.00\" fill=\"#000000\">value = [7, 9]</text>\n<text text-anchor=\"start\" x=\"1957.5\" y=\"-825.8\" font-family=\"Helvetica,sans-Serif\" font-size=\"14.00\" fill=\"#000000\">class = o</text>\n</g>\n<!-- 100&#45;&gt;110 -->\n<g id=\"edge110\" class=\"edge\">\n<title>100&#45;&gt;110</title>\n<path fill=\"none\" stroke=\"#000000\" d=\"M1905.2189,-936.8796C1914.8686,-927.6931 1925.1766,-917.8798 1935.0991,-908.4336\"/>\n<polygon fill=\"#000000\" stroke=\"#000000\" points=\"1937.765,-910.7282 1942.5945,-901.2981 1932.9384,-905.6582 1937.765,-910.7282\"/>\n</g>\n<!-- 102 -->\n<g id=\"node103\" class=\"node\">\n<title>102</title>\n<path fill=\"#ffffff\" stroke=\"#000000\" d=\"M1782,-782C1782,-782 1691,-782 1691,-782 1685,-782 1679,-776 1679,-770 1679,-770 1679,-711 1679,-711 1679,-705 1685,-699 1691,-699 1691,-699 1782,-699 1782,-699 1788,-699 1794,-705 1794,-711 1794,-711 1794,-770 1794,-770 1794,-776 1788,-782 1782,-782\"/>\n<text text-anchor=\"start\" x=\"1687\" y=\"-766.8\" font-family=\"Helvetica,sans-Serif\" font-size=\"14.00\" fill=\"#000000\">college ≤ 0.128</text>\n<text text-anchor=\"start\" x=\"1707\" y=\"-751.8\" font-family=\"Helvetica,sans-Serif\" font-size=\"14.00\" fill=\"#000000\">gini = 0.5</text>\n<text text-anchor=\"start\" x=\"1697\" y=\"-736.8\" font-family=\"Helvetica,sans-Serif\" font-size=\"14.00\" fill=\"#000000\">samples = 2</text>\n<text text-anchor=\"start\" x=\"1695\" y=\"-721.8\" font-family=\"Helvetica,sans-Serif\" font-size=\"14.00\" fill=\"#000000\">value = [1, 1]</text>\n<text text-anchor=\"start\" x=\"1710\" y=\"-706.8\" font-family=\"Helvetica,sans-Serif\" font-size=\"14.00\" fill=\"#000000\">class = l</text>\n</g>\n<!-- 101&#45;&gt;102 -->\n<g id=\"edge102\" class=\"edge\">\n<title>101&#45;&gt;102</title>\n<path fill=\"none\" stroke=\"#000000\" d=\"M1817.7811,-817.8796C1808.1314,-808.6931 1797.8234,-798.8798 1787.9009,-789.4336\"/>\n<polygon fill=\"#000000\" stroke=\"#000000\" points=\"1790.0616,-786.6582 1780.4055,-782.2981 1785.235,-791.7282 1790.0616,-786.6582\"/>\n</g>\n<!-- 105 -->\n<g id=\"node106\" class=\"node\">\n<title>105</title>\n<path fill=\"#ea9a61\" stroke=\"#000000\" d=\"M1899,-782C1899,-782 1824,-782 1824,-782 1818,-782 1812,-776 1812,-770 1812,-770 1812,-711 1812,-711 1812,-705 1818,-699 1824,-699 1824,-699 1899,-699 1899,-699 1905,-699 1911,-705 1911,-711 1911,-711 1911,-770 1911,-770 1911,-776 1905,-782 1899,-782\"/>\n<text text-anchor=\"start\" x=\"1823\" y=\"-766.8\" font-family=\"Helvetica,sans-Serif\" font-size=\"14.00\" fill=\"#000000\">age ≤ 2.249</text>\n<text text-anchor=\"start\" x=\"1823.5\" y=\"-751.8\" font-family=\"Helvetica,sans-Serif\" font-size=\"14.00\" fill=\"#000000\">gini = 0.278</text>\n<text text-anchor=\"start\" x=\"1822\" y=\"-736.8\" font-family=\"Helvetica,sans-Serif\" font-size=\"14.00\" fill=\"#000000\">samples = 6</text>\n<text text-anchor=\"start\" x=\"1820\" y=\"-721.8\" font-family=\"Helvetica,sans-Serif\" font-size=\"14.00\" fill=\"#000000\">value = [5, 1]</text>\n<text text-anchor=\"start\" x=\"1835\" y=\"-706.8\" font-family=\"Helvetica,sans-Serif\" font-size=\"14.00\" fill=\"#000000\">class = l</text>\n</g>\n<!-- 101&#45;&gt;105 -->\n<g id=\"edge105\" class=\"edge\">\n<title>101&#45;&gt;105</title>\n<path fill=\"none\" stroke=\"#000000\" d=\"M1861.5,-817.8796C1861.5,-809.6838 1861.5,-800.9891 1861.5,-792.5013\"/>\n<polygon fill=\"#000000\" stroke=\"#000000\" points=\"1865.0001,-792.298 1861.5,-782.2981 1858.0001,-792.2981 1865.0001,-792.298\"/>\n</g>\n<!-- 103 -->\n<g id=\"node104\" class=\"node\">\n<title>103</title>\n<path fill=\"#399de5\" stroke=\"#000000\" d=\"M1548,-655.5C1548,-655.5 1473,-655.5 1473,-655.5 1467,-655.5 1461,-649.5 1461,-643.5 1461,-643.5 1461,-599.5 1461,-599.5 1461,-593.5 1467,-587.5 1473,-587.5 1473,-587.5 1548,-587.5 1548,-587.5 1554,-587.5 1560,-593.5 1560,-599.5 1560,-599.5 1560,-643.5 1560,-643.5 1560,-649.5 1554,-655.5 1548,-655.5\"/>\n<text text-anchor=\"start\" x=\"1481\" y=\"-640.3\" font-family=\"Helvetica,sans-Serif\" font-size=\"14.00\" fill=\"#000000\">gini = 0.0</text>\n<text text-anchor=\"start\" x=\"1471\" y=\"-625.3\" font-family=\"Helvetica,sans-Serif\" font-size=\"14.00\" fill=\"#000000\">samples = 1</text>\n<text text-anchor=\"start\" x=\"1469\" y=\"-610.3\" font-family=\"Helvetica,sans-Serif\" font-size=\"14.00\" fill=\"#000000\">value = [0, 1]</text>\n<text text-anchor=\"start\" x=\"1481.5\" y=\"-595.3\" font-family=\"Helvetica,sans-Serif\" font-size=\"14.00\" fill=\"#000000\">class = o</text>\n</g>\n<!-- 102&#45;&gt;103 -->\n<g id=\"edge103\" class=\"edge\">\n<title>102&#45;&gt;103</title>\n<path fill=\"none\" stroke=\"#000000\" d=\"M1678.8213,-703.7329C1675.7017,-702.0724 1672.5824,-700.4832 1669.5,-699 1626.5576,-678.3369 1610.7317,-685.0793 1568.5,-663 1567.1627,-662.3009 1565.8213,-661.5742 1564.4792,-660.8243\"/>\n<polygon fill=\"#000000\" stroke=\"#000000\" points=\"1566.0332,-657.6766 1555.6476,-655.5814 1562.4599,-663.6958 1566.0332,-657.6766\"/>\n</g>\n<!-- 104 -->\n<g id=\"node105\" class=\"node\">\n<title>104</title>\n<path fill=\"#e58139\" stroke=\"#000000\" d=\"M1665,-655.5C1665,-655.5 1590,-655.5 1590,-655.5 1584,-655.5 1578,-649.5 1578,-643.5 1578,-643.5 1578,-599.5 1578,-599.5 1578,-593.5 1584,-587.5 1590,-587.5 1590,-587.5 1665,-587.5 1665,-587.5 1671,-587.5 1677,-593.5 1677,-599.5 1677,-599.5 1677,-643.5 1677,-643.5 1677,-649.5 1671,-655.5 1665,-655.5\"/>\n<text text-anchor=\"start\" x=\"1598\" y=\"-640.3\" font-family=\"Helvetica,sans-Serif\" font-size=\"14.00\" fill=\"#000000\">gini = 0.0</text>\n<text text-anchor=\"start\" x=\"1588\" y=\"-625.3\" font-family=\"Helvetica,sans-Serif\" font-size=\"14.00\" fill=\"#000000\">samples = 1</text>\n<text text-anchor=\"start\" x=\"1586\" y=\"-610.3\" font-family=\"Helvetica,sans-Serif\" font-size=\"14.00\" fill=\"#000000\">value = [1, 0]</text>\n<text text-anchor=\"start\" x=\"1601\" y=\"-595.3\" font-family=\"Helvetica,sans-Serif\" font-size=\"14.00\" fill=\"#000000\">class = l</text>\n</g>\n<!-- 102&#45;&gt;104 -->\n<g id=\"edge104\" class=\"edge\">\n<title>102&#45;&gt;104</title>\n<path fill=\"none\" stroke=\"#000000\" d=\"M1698.3771,-698.8796C1687.8014,-687.3337 1676.3188,-674.7976 1665.7367,-663.2446\"/>\n<polygon fill=\"#000000\" stroke=\"#000000\" points=\"1668.2667,-660.825 1658.9313,-655.8149 1663.1049,-665.5531 1668.2667,-660.825\"/>\n</g>\n<!-- 106 -->\n<g id=\"node107\" class=\"node\">\n<title>106</title>\n<path fill=\"#e58139\" stroke=\"#000000\" d=\"M1782,-655.5C1782,-655.5 1707,-655.5 1707,-655.5 1701,-655.5 1695,-649.5 1695,-643.5 1695,-643.5 1695,-599.5 1695,-599.5 1695,-593.5 1701,-587.5 1707,-587.5 1707,-587.5 1782,-587.5 1782,-587.5 1788,-587.5 1794,-593.5 1794,-599.5 1794,-599.5 1794,-643.5 1794,-643.5 1794,-649.5 1788,-655.5 1782,-655.5\"/>\n<text text-anchor=\"start\" x=\"1715\" y=\"-640.3\" font-family=\"Helvetica,sans-Serif\" font-size=\"14.00\" fill=\"#000000\">gini = 0.0</text>\n<text text-anchor=\"start\" x=\"1705\" y=\"-625.3\" font-family=\"Helvetica,sans-Serif\" font-size=\"14.00\" fill=\"#000000\">samples = 4</text>\n<text text-anchor=\"start\" x=\"1703\" y=\"-610.3\" font-family=\"Helvetica,sans-Serif\" font-size=\"14.00\" fill=\"#000000\">value = [4, 0]</text>\n<text text-anchor=\"start\" x=\"1718\" y=\"-595.3\" font-family=\"Helvetica,sans-Serif\" font-size=\"14.00\" fill=\"#000000\">class = l</text>\n</g>\n<!-- 105&#45;&gt;106 -->\n<g id=\"edge106\" class=\"edge\">\n<title>105&#45;&gt;106</title>\n<path fill=\"none\" stroke=\"#000000\" d=\"M1820.5791,-698.8796C1809.2272,-687.3337 1796.9018,-674.7976 1785.543,-663.2446\"/>\n<polygon fill=\"#000000\" stroke=\"#000000\" points=\"1787.7449,-660.4919 1778.2382,-655.8149 1782.7534,-665.3995 1787.7449,-660.4919\"/>\n</g>\n<!-- 107 -->\n<g id=\"node108\" class=\"node\">\n<title>107</title>\n<path fill=\"#ffffff\" stroke=\"#000000\" d=\"M1899,-663C1899,-663 1824,-663 1824,-663 1818,-663 1812,-657 1812,-651 1812,-651 1812,-592 1812,-592 1812,-586 1818,-580 1824,-580 1824,-580 1899,-580 1899,-580 1905,-580 1911,-586 1911,-592 1911,-592 1911,-651 1911,-651 1911,-657 1905,-663 1899,-663\"/>\n<text text-anchor=\"start\" x=\"1823\" y=\"-647.8\" font-family=\"Helvetica,sans-Serif\" font-size=\"14.00\" fill=\"#000000\">age ≤ 2.829</text>\n<text text-anchor=\"start\" x=\"1832\" y=\"-632.8\" font-family=\"Helvetica,sans-Serif\" font-size=\"14.00\" fill=\"#000000\">gini = 0.5</text>\n<text text-anchor=\"start\" x=\"1822\" y=\"-617.8\" font-family=\"Helvetica,sans-Serif\" font-size=\"14.00\" fill=\"#000000\">samples = 2</text>\n<text text-anchor=\"start\" x=\"1820\" y=\"-602.8\" font-family=\"Helvetica,sans-Serif\" font-size=\"14.00\" fill=\"#000000\">value = [1, 1]</text>\n<text text-anchor=\"start\" x=\"1835\" y=\"-587.8\" font-family=\"Helvetica,sans-Serif\" font-size=\"14.00\" fill=\"#000000\">class = l</text>\n</g>\n<!-- 105&#45;&gt;107 -->\n<g id=\"edge107\" class=\"edge\">\n<title>105&#45;&gt;107</title>\n<path fill=\"none\" stroke=\"#000000\" d=\"M1861.5,-698.8796C1861.5,-690.6838 1861.5,-681.9891 1861.5,-673.5013\"/>\n<polygon fill=\"#000000\" stroke=\"#000000\" points=\"1865.0001,-673.298 1861.5,-663.2981 1858.0001,-673.2981 1865.0001,-673.298\"/>\n</g>\n<!-- 108 -->\n<g id=\"node109\" class=\"node\">\n<title>108</title>\n<path fill=\"#399de5\" stroke=\"#000000\" d=\"M1782,-536.5C1782,-536.5 1707,-536.5 1707,-536.5 1701,-536.5 1695,-530.5 1695,-524.5 1695,-524.5 1695,-480.5 1695,-480.5 1695,-474.5 1701,-468.5 1707,-468.5 1707,-468.5 1782,-468.5 1782,-468.5 1788,-468.5 1794,-474.5 1794,-480.5 1794,-480.5 1794,-524.5 1794,-524.5 1794,-530.5 1788,-536.5 1782,-536.5\"/>\n<text text-anchor=\"start\" x=\"1715\" y=\"-521.3\" font-family=\"Helvetica,sans-Serif\" font-size=\"14.00\" fill=\"#000000\">gini = 0.0</text>\n<text text-anchor=\"start\" x=\"1705\" y=\"-506.3\" font-family=\"Helvetica,sans-Serif\" font-size=\"14.00\" fill=\"#000000\">samples = 1</text>\n<text text-anchor=\"start\" x=\"1703\" y=\"-491.3\" font-family=\"Helvetica,sans-Serif\" font-size=\"14.00\" fill=\"#000000\">value = [0, 1]</text>\n<text text-anchor=\"start\" x=\"1715.5\" y=\"-476.3\" font-family=\"Helvetica,sans-Serif\" font-size=\"14.00\" fill=\"#000000\">class = o</text>\n</g>\n<!-- 107&#45;&gt;108 -->\n<g id=\"edge108\" class=\"edge\">\n<title>107&#45;&gt;108</title>\n<path fill=\"none\" stroke=\"#000000\" d=\"M1820.5791,-579.8796C1809.2272,-568.3337 1796.9018,-555.7976 1785.543,-544.2446\"/>\n<polygon fill=\"#000000\" stroke=\"#000000\" points=\"1787.7449,-541.4919 1778.2382,-536.8149 1782.7534,-546.3995 1787.7449,-541.4919\"/>\n</g>\n<!-- 109 -->\n<g id=\"node110\" class=\"node\">\n<title>109</title>\n<path fill=\"#e58139\" stroke=\"#000000\" d=\"M1899,-536.5C1899,-536.5 1824,-536.5 1824,-536.5 1818,-536.5 1812,-530.5 1812,-524.5 1812,-524.5 1812,-480.5 1812,-480.5 1812,-474.5 1818,-468.5 1824,-468.5 1824,-468.5 1899,-468.5 1899,-468.5 1905,-468.5 1911,-474.5 1911,-480.5 1911,-480.5 1911,-524.5 1911,-524.5 1911,-530.5 1905,-536.5 1899,-536.5\"/>\n<text text-anchor=\"start\" x=\"1832\" y=\"-521.3\" font-family=\"Helvetica,sans-Serif\" font-size=\"14.00\" fill=\"#000000\">gini = 0.0</text>\n<text text-anchor=\"start\" x=\"1822\" y=\"-506.3\" font-family=\"Helvetica,sans-Serif\" font-size=\"14.00\" fill=\"#000000\">samples = 1</text>\n<text text-anchor=\"start\" x=\"1820\" y=\"-491.3\" font-family=\"Helvetica,sans-Serif\" font-size=\"14.00\" fill=\"#000000\">value = [1, 0]</text>\n<text text-anchor=\"start\" x=\"1835\" y=\"-476.3\" font-family=\"Helvetica,sans-Serif\" font-size=\"14.00\" fill=\"#000000\">class = l</text>\n</g>\n<!-- 107&#45;&gt;109 -->\n<g id=\"edge109\" class=\"edge\">\n<title>107&#45;&gt;109</title>\n<path fill=\"none\" stroke=\"#000000\" d=\"M1861.5,-579.8796C1861.5,-569.2134 1861.5,-557.7021 1861.5,-546.9015\"/>\n<polygon fill=\"#000000\" stroke=\"#000000\" points=\"1865.0001,-546.8149 1861.5,-536.8149 1858.0001,-546.815 1865.0001,-546.8149\"/>\n</g>\n<!-- 111 -->\n<g id=\"node112\" class=\"node\">\n<title>111</title>\n<path fill=\"#e6f3fc\" stroke=\"#000000\" d=\"M2029.5,-782C2029.5,-782 1949.5,-782 1949.5,-782 1943.5,-782 1937.5,-776 1937.5,-770 1937.5,-770 1937.5,-711 1937.5,-711 1937.5,-705 1943.5,-699 1949.5,-699 1949.5,-699 2029.5,-699 2029.5,-699 2035.5,-699 2041.5,-705 2041.5,-711 2041.5,-711 2041.5,-770 2041.5,-770 2041.5,-776 2035.5,-782 2029.5,-782\"/>\n<text text-anchor=\"start\" x=\"1951\" y=\"-766.8\" font-family=\"Helvetica,sans-Serif\" font-size=\"14.00\" fill=\"#000000\">age ≤ 2.497</text>\n<text text-anchor=\"start\" x=\"1951.5\" y=\"-751.8\" font-family=\"Helvetica,sans-Serif\" font-size=\"14.00\" fill=\"#000000\">gini = 0.498</text>\n<text text-anchor=\"start\" x=\"1945.5\" y=\"-736.8\" font-family=\"Helvetica,sans-Serif\" font-size=\"14.00\" fill=\"#000000\">samples = 15</text>\n<text text-anchor=\"start\" x=\"1948\" y=\"-721.8\" font-family=\"Helvetica,sans-Serif\" font-size=\"14.00\" fill=\"#000000\">value = [7, 8]</text>\n<text text-anchor=\"start\" x=\"1960.5\" y=\"-706.8\" font-family=\"Helvetica,sans-Serif\" font-size=\"14.00\" fill=\"#000000\">class = o</text>\n</g>\n<!-- 110&#45;&gt;111 -->\n<g id=\"edge111\" class=\"edge\">\n<title>110&#45;&gt;111</title>\n<path fill=\"none\" stroke=\"#000000\" d=\"M1987.5493,-817.8796C1987.7559,-809.6838 1987.9751,-800.9891 1988.189,-792.5013\"/>\n<polygon fill=\"#000000\" stroke=\"#000000\" points=\"1991.693,-792.3831 1988.4463,-782.2981 1984.6953,-792.2067 1991.693,-792.3831\"/>\n</g>\n<!-- 130 -->\n<g id=\"node131\" class=\"node\">\n<title>130</title>\n<path fill=\"#399de5\" stroke=\"#000000\" d=\"M2147,-774.5C2147,-774.5 2072,-774.5 2072,-774.5 2066,-774.5 2060,-768.5 2060,-762.5 2060,-762.5 2060,-718.5 2060,-718.5 2060,-712.5 2066,-706.5 2072,-706.5 2072,-706.5 2147,-706.5 2147,-706.5 2153,-706.5 2159,-712.5 2159,-718.5 2159,-718.5 2159,-762.5 2159,-762.5 2159,-768.5 2153,-774.5 2147,-774.5\"/>\n<text text-anchor=\"start\" x=\"2080\" y=\"-759.3\" font-family=\"Helvetica,sans-Serif\" font-size=\"14.00\" fill=\"#000000\">gini = 0.0</text>\n<text text-anchor=\"start\" x=\"2070\" y=\"-744.3\" font-family=\"Helvetica,sans-Serif\" font-size=\"14.00\" fill=\"#000000\">samples = 1</text>\n<text text-anchor=\"start\" x=\"2068\" y=\"-729.3\" font-family=\"Helvetica,sans-Serif\" font-size=\"14.00\" fill=\"#000000\">value = [0, 1]</text>\n<text text-anchor=\"start\" x=\"2080.5\" y=\"-714.3\" font-family=\"Helvetica,sans-Serif\" font-size=\"14.00\" fill=\"#000000\">class = o</text>\n</g>\n<!-- 110&#45;&gt;130 -->\n<g id=\"edge130\" class=\"edge\">\n<title>110&#45;&gt;130</title>\n<path fill=\"none\" stroke=\"#000000\" d=\"M2029.5194,-817.8796C2041.5671,-806.2237 2054.6578,-793.5587 2066.6931,-781.9148\"/>\n<polygon fill=\"#000000\" stroke=\"#000000\" points=\"2069.2783,-784.2837 2074.0316,-774.8149 2064.411,-779.2528 2069.2783,-784.2837\"/>\n</g>\n<!-- 112 -->\n<g id=\"node113\" class=\"node\">\n<title>112</title>\n<path fill=\"#cee6f8\" stroke=\"#000000\" d=\"M2043.5,-663C2043.5,-663 1941.5,-663 1941.5,-663 1935.5,-663 1929.5,-657 1929.5,-651 1929.5,-651 1929.5,-592 1929.5,-592 1929.5,-586 1935.5,-580 1941.5,-580 1941.5,-580 2043.5,-580 2043.5,-580 2049.5,-580 2055.5,-586 2055.5,-592 2055.5,-592 2055.5,-651 2055.5,-651 2055.5,-657 2049.5,-663 2043.5,-663\"/>\n<text text-anchor=\"start\" x=\"1937.5\" y=\"-647.8\" font-family=\"Helvetica,sans-Serif\" font-size=\"14.00\" fill=\"#000000\">Bechalor ≤ 0.696</text>\n<text text-anchor=\"start\" x=\"1959\" y=\"-632.8\" font-family=\"Helvetica,sans-Serif\" font-size=\"14.00\" fill=\"#000000\">gini = 0.49</text>\n<text text-anchor=\"start\" x=\"1948.5\" y=\"-617.8\" font-family=\"Helvetica,sans-Serif\" font-size=\"14.00\" fill=\"#000000\">samples = 14</text>\n<text text-anchor=\"start\" x=\"1951\" y=\"-602.8\" font-family=\"Helvetica,sans-Serif\" font-size=\"14.00\" fill=\"#000000\">value = [6, 8]</text>\n<text text-anchor=\"start\" x=\"1963.5\" y=\"-587.8\" font-family=\"Helvetica,sans-Serif\" font-size=\"14.00\" fill=\"#000000\">class = o</text>\n</g>\n<!-- 111&#45;&gt;112 -->\n<g id=\"edge112\" class=\"edge\">\n<title>111&#45;&gt;112</title>\n<path fill=\"none\" stroke=\"#000000\" d=\"M1990.5493,-698.8796C1990.7559,-690.6838 1990.9751,-681.9891 1991.189,-673.5013\"/>\n<polygon fill=\"#000000\" stroke=\"#000000\" points=\"1994.693,-673.3831 1991.4463,-663.2981 1987.6953,-673.2067 1994.693,-673.3831\"/>\n</g>\n<!-- 129 -->\n<g id=\"node130\" class=\"node\">\n<title>129</title>\n<path fill=\"#e58139\" stroke=\"#000000\" d=\"M2161,-655.5C2161,-655.5 2086,-655.5 2086,-655.5 2080,-655.5 2074,-649.5 2074,-643.5 2074,-643.5 2074,-599.5 2074,-599.5 2074,-593.5 2080,-587.5 2086,-587.5 2086,-587.5 2161,-587.5 2161,-587.5 2167,-587.5 2173,-593.5 2173,-599.5 2173,-599.5 2173,-643.5 2173,-643.5 2173,-649.5 2167,-655.5 2161,-655.5\"/>\n<text text-anchor=\"start\" x=\"2094\" y=\"-640.3\" font-family=\"Helvetica,sans-Serif\" font-size=\"14.00\" fill=\"#000000\">gini = 0.0</text>\n<text text-anchor=\"start\" x=\"2084\" y=\"-625.3\" font-family=\"Helvetica,sans-Serif\" font-size=\"14.00\" fill=\"#000000\">samples = 1</text>\n<text text-anchor=\"start\" x=\"2082\" y=\"-610.3\" font-family=\"Helvetica,sans-Serif\" font-size=\"14.00\" fill=\"#000000\">value = [1, 0]</text>\n<text text-anchor=\"start\" x=\"2097\" y=\"-595.3\" font-family=\"Helvetica,sans-Serif\" font-size=\"14.00\" fill=\"#000000\">class = l</text>\n</g>\n<!-- 111&#45;&gt;129 -->\n<g id=\"edge129\" class=\"edge\">\n<title>111&#45;&gt;129</title>\n<path fill=\"none\" stroke=\"#000000\" d=\"M2036.3667,-698.8796C2049.6156,-687.1138 2064.0224,-674.3197 2077.2356,-662.5855\"/>\n<polygon fill=\"#000000\" stroke=\"#000000\" points=\"2079.7065,-665.0722 2084.8597,-655.8149 2075.0584,-659.8381 2079.7065,-665.0722\"/>\n</g>\n<!-- 113 -->\n<g id=\"node114\" class=\"node\">\n<title>113</title>\n<path fill=\"#f2c09c\" stroke=\"#000000\" d=\"M2026,-544C2026,-544 1941,-544 1941,-544 1935,-544 1929,-538 1929,-532 1929,-532 1929,-473 1929,-473 1929,-467 1935,-461 1941,-461 1941,-461 2026,-461 2026,-461 2032,-461 2038,-467 2038,-473 2038,-473 2038,-532 2038,-532 2038,-538 2032,-544 2026,-544\"/>\n<text text-anchor=\"start\" x=\"1937\" y=\"-528.8\" font-family=\"Helvetica,sans-Serif\" font-size=\"14.00\" fill=\"#000000\">terms ≤ &#45;0.019</text>\n<text text-anchor=\"start\" x=\"1945.5\" y=\"-513.8\" font-family=\"Helvetica,sans-Serif\" font-size=\"14.00\" fill=\"#000000\">gini = 0.444</text>\n<text text-anchor=\"start\" x=\"1944\" y=\"-498.8\" font-family=\"Helvetica,sans-Serif\" font-size=\"14.00\" fill=\"#000000\">samples = 3</text>\n<text text-anchor=\"start\" x=\"1942\" y=\"-483.8\" font-family=\"Helvetica,sans-Serif\" font-size=\"14.00\" fill=\"#000000\">value = [2, 1]</text>\n<text text-anchor=\"start\" x=\"1957\" y=\"-468.8\" font-family=\"Helvetica,sans-Serif\" font-size=\"14.00\" fill=\"#000000\">class = l</text>\n</g>\n<!-- 112&#45;&gt;113 -->\n<g id=\"edge113\" class=\"edge\">\n<title>112&#45;&gt;113</title>\n<path fill=\"none\" stroke=\"#000000\" d=\"M1989.3522,-579.8796C1988.7324,-571.6838 1988.0748,-562.9891 1987.4329,-554.5013\"/>\n<polygon fill=\"#000000\" stroke=\"#000000\" points=\"1990.9055,-554.0056 1986.6612,-544.2981 1983.9254,-554.5336 1990.9055,-554.0056\"/>\n</g>\n<!-- 116 -->\n<g id=\"node117\" class=\"node\">\n<title>116</title>\n<path fill=\"#aad5f4\" stroke=\"#000000\" d=\"M2159,-544C2159,-544 2068,-544 2068,-544 2062,-544 2056,-538 2056,-532 2056,-532 2056,-473 2056,-473 2056,-467 2062,-461 2068,-461 2068,-461 2159,-461 2159,-461 2165,-461 2171,-467 2171,-473 2171,-473 2171,-532 2171,-532 2171,-538 2165,-544 2159,-544\"/>\n<text text-anchor=\"start\" x=\"2064\" y=\"-528.8\" font-family=\"Helvetica,sans-Serif\" font-size=\"14.00\" fill=\"#000000\">college ≤ 0.128</text>\n<text text-anchor=\"start\" x=\"2075.5\" y=\"-513.8\" font-family=\"Helvetica,sans-Serif\" font-size=\"14.00\" fill=\"#000000\">gini = 0.463</text>\n<text text-anchor=\"start\" x=\"2069.5\" y=\"-498.8\" font-family=\"Helvetica,sans-Serif\" font-size=\"14.00\" fill=\"#000000\">samples = 11</text>\n<text text-anchor=\"start\" x=\"2072\" y=\"-483.8\" font-family=\"Helvetica,sans-Serif\" font-size=\"14.00\" fill=\"#000000\">value = [4, 7]</text>\n<text text-anchor=\"start\" x=\"2084.5\" y=\"-468.8\" font-family=\"Helvetica,sans-Serif\" font-size=\"14.00\" fill=\"#000000\">class = o</text>\n</g>\n<!-- 112&#45;&gt;116 -->\n<g id=\"edge116\" class=\"edge\">\n<title>112&#45;&gt;116</title>\n<path fill=\"none\" stroke=\"#000000\" d=\"M2034.8199,-579.8796C2044.1608,-570.6931 2054.139,-560.8798 2063.744,-551.4336\"/>\n<polygon fill=\"#000000\" stroke=\"#000000\" points=\"2066.3238,-553.8054 2070.9994,-544.2981 2061.4155,-548.8146 2066.3238,-553.8054\"/>\n</g>\n<!-- 114 -->\n<g id=\"node115\" class=\"node\">\n<title>114</title>\n<path fill=\"#e58139\" stroke=\"#000000\" d=\"M1906,-417.5C1906,-417.5 1831,-417.5 1831,-417.5 1825,-417.5 1819,-411.5 1819,-405.5 1819,-405.5 1819,-361.5 1819,-361.5 1819,-355.5 1825,-349.5 1831,-349.5 1831,-349.5 1906,-349.5 1906,-349.5 1912,-349.5 1918,-355.5 1918,-361.5 1918,-361.5 1918,-405.5 1918,-405.5 1918,-411.5 1912,-417.5 1906,-417.5\"/>\n<text text-anchor=\"start\" x=\"1839\" y=\"-402.3\" font-family=\"Helvetica,sans-Serif\" font-size=\"14.00\" fill=\"#000000\">gini = 0.0</text>\n<text text-anchor=\"start\" x=\"1829\" y=\"-387.3\" font-family=\"Helvetica,sans-Serif\" font-size=\"14.00\" fill=\"#000000\">samples = 1</text>\n<text text-anchor=\"start\" x=\"1827\" y=\"-372.3\" font-family=\"Helvetica,sans-Serif\" font-size=\"14.00\" fill=\"#000000\">value = [1, 0]</text>\n<text text-anchor=\"start\" x=\"1842\" y=\"-357.3\" font-family=\"Helvetica,sans-Serif\" font-size=\"14.00\" fill=\"#000000\">class = l</text>\n</g>\n<!-- 113&#45;&gt;114 -->\n<g id=\"edge114\" class=\"edge\">\n<title>113&#45;&gt;114</title>\n<path fill=\"none\" stroke=\"#000000\" d=\"M1943.2786,-460.8796C1932.1208,-449.3337 1920.0061,-436.7976 1908.8414,-425.2446\"/>\n<polygon fill=\"#000000\" stroke=\"#000000\" points=\"1911.1275,-422.5736 1901.6615,-417.8149 1906.0939,-427.4381 1911.1275,-422.5736\"/>\n</g>\n<!-- 115 -->\n<g id=\"node116\" class=\"node\">\n<title>115</title>\n<path fill=\"#ffffff\" stroke=\"#000000\" d=\"M2023,-417.5C2023,-417.5 1948,-417.5 1948,-417.5 1942,-417.5 1936,-411.5 1936,-405.5 1936,-405.5 1936,-361.5 1936,-361.5 1936,-355.5 1942,-349.5 1948,-349.5 1948,-349.5 2023,-349.5 2023,-349.5 2029,-349.5 2035,-355.5 2035,-361.5 2035,-361.5 2035,-405.5 2035,-405.5 2035,-411.5 2029,-417.5 2023,-417.5\"/>\n<text text-anchor=\"start\" x=\"1956\" y=\"-402.3\" font-family=\"Helvetica,sans-Serif\" font-size=\"14.00\" fill=\"#000000\">gini = 0.5</text>\n<text text-anchor=\"start\" x=\"1946\" y=\"-387.3\" font-family=\"Helvetica,sans-Serif\" font-size=\"14.00\" fill=\"#000000\">samples = 2</text>\n<text text-anchor=\"start\" x=\"1944\" y=\"-372.3\" font-family=\"Helvetica,sans-Serif\" font-size=\"14.00\" fill=\"#000000\">value = [1, 1]</text>\n<text text-anchor=\"start\" x=\"1959\" y=\"-357.3\" font-family=\"Helvetica,sans-Serif\" font-size=\"14.00\" fill=\"#000000\">class = l</text>\n</g>\n<!-- 113&#45;&gt;115 -->\n<g id=\"edge115\" class=\"edge\">\n<title>113&#45;&gt;115</title>\n<path fill=\"none\" stroke=\"#000000\" d=\"M1984.1995,-460.8796C1984.3788,-450.2134 1984.5722,-438.7021 1984.7538,-427.9015\"/>\n<polygon fill=\"#000000\" stroke=\"#000000\" points=\"1988.2546,-427.8724 1984.9233,-417.8149 1981.2556,-427.7547 1988.2546,-427.8724\"/>\n</g>\n<!-- 117 -->\n<g id=\"node118\" class=\"node\">\n<title>117</title>\n<path fill=\"#ffffff\" stroke=\"#000000\" d=\"M2154,-425C2154,-425 2069,-425 2069,-425 2063,-425 2057,-419 2057,-413 2057,-413 2057,-354 2057,-354 2057,-348 2063,-342 2069,-342 2069,-342 2154,-342 2154,-342 2160,-342 2166,-348 2166,-354 2166,-354 2166,-413 2166,-413 2166,-419 2160,-425 2154,-425\"/>\n<text text-anchor=\"start\" x=\"2065\" y=\"-409.8\" font-family=\"Helvetica,sans-Serif\" font-size=\"14.00\" fill=\"#000000\">terms ≤ &#45;0.019</text>\n<text text-anchor=\"start\" x=\"2082\" y=\"-394.8\" font-family=\"Helvetica,sans-Serif\" font-size=\"14.00\" fill=\"#000000\">gini = 0.5</text>\n<text text-anchor=\"start\" x=\"2072\" y=\"-379.8\" font-family=\"Helvetica,sans-Serif\" font-size=\"14.00\" fill=\"#000000\">samples = 4</text>\n<text text-anchor=\"start\" x=\"2070\" y=\"-364.8\" font-family=\"Helvetica,sans-Serif\" font-size=\"14.00\" fill=\"#000000\">value = [2, 2]</text>\n<text text-anchor=\"start\" x=\"2085\" y=\"-349.8\" font-family=\"Helvetica,sans-Serif\" font-size=\"14.00\" fill=\"#000000\">class = l</text>\n</g>\n<!-- 116&#45;&gt;117 -->\n<g id=\"edge117\" class=\"edge\">\n<title>116&#45;&gt;117</title>\n<path fill=\"none\" stroke=\"#000000\" d=\"M2112.8005,-460.8796C2112.6628,-452.6838 2112.5166,-443.9891 2112.374,-435.5013\"/>\n<polygon fill=\"#000000\" stroke=\"#000000\" points=\"2115.8701,-435.2378 2112.2025,-425.2981 2108.8711,-435.3555 2115.8701,-435.2378\"/>\n</g>\n<!-- 122 -->\n<g id=\"node123\" class=\"node\">\n<title>122</title>\n<path fill=\"#88c4ef\" stroke=\"#000000\" d=\"M2271,-425C2271,-425 2196,-425 2196,-425 2190,-425 2184,-419 2184,-413 2184,-413 2184,-354 2184,-354 2184,-348 2190,-342 2196,-342 2196,-342 2271,-342 2271,-342 2277,-342 2283,-348 2283,-354 2283,-354 2283,-413 2283,-413 2283,-419 2277,-425 2271,-425\"/>\n<text text-anchor=\"start\" x=\"2195\" y=\"-409.8\" font-family=\"Helvetica,sans-Serif\" font-size=\"14.00\" fill=\"#000000\">age ≤ 1.171</text>\n<text text-anchor=\"start\" x=\"2195.5\" y=\"-394.8\" font-family=\"Helvetica,sans-Serif\" font-size=\"14.00\" fill=\"#000000\">gini = 0.408</text>\n<text text-anchor=\"start\" x=\"2194\" y=\"-379.8\" font-family=\"Helvetica,sans-Serif\" font-size=\"14.00\" fill=\"#000000\">samples = 7</text>\n<text text-anchor=\"start\" x=\"2192\" y=\"-364.8\" font-family=\"Helvetica,sans-Serif\" font-size=\"14.00\" fill=\"#000000\">value = [2, 5]</text>\n<text text-anchor=\"start\" x=\"2204.5\" y=\"-349.8\" font-family=\"Helvetica,sans-Serif\" font-size=\"14.00\" fill=\"#000000\">class = o</text>\n</g>\n<!-- 116&#45;&gt;122 -->\n<g id=\"edge122\" class=\"edge\">\n<title>116&#45;&gt;122</title>\n<path fill=\"none\" stroke=\"#000000\" d=\"M2155.4702,-460.8796C2164.7338,-451.6931 2174.6296,-441.8798 2184.1552,-432.4336\"/>\n<polygon fill=\"#000000\" stroke=\"#000000\" points=\"2186.7146,-434.8247 2191.3507,-425.2981 2181.7856,-429.8543 2186.7146,-434.8247\"/>\n</g>\n<!-- 118 -->\n<g id=\"node119\" class=\"node\">\n<title>118</title>\n<path fill=\"#399de5\" stroke=\"#000000\" d=\"M2033,-298.5C2033,-298.5 1958,-298.5 1958,-298.5 1952,-298.5 1946,-292.5 1946,-286.5 1946,-286.5 1946,-242.5 1946,-242.5 1946,-236.5 1952,-230.5 1958,-230.5 1958,-230.5 2033,-230.5 2033,-230.5 2039,-230.5 2045,-236.5 2045,-242.5 2045,-242.5 2045,-286.5 2045,-286.5 2045,-292.5 2039,-298.5 2033,-298.5\"/>\n<text text-anchor=\"start\" x=\"1966\" y=\"-283.3\" font-family=\"Helvetica,sans-Serif\" font-size=\"14.00\" fill=\"#000000\">gini = 0.0</text>\n<text text-anchor=\"start\" x=\"1956\" y=\"-268.3\" font-family=\"Helvetica,sans-Serif\" font-size=\"14.00\" fill=\"#000000\">samples = 1</text>\n<text text-anchor=\"start\" x=\"1954\" y=\"-253.3\" font-family=\"Helvetica,sans-Serif\" font-size=\"14.00\" fill=\"#000000\">value = [0, 1]</text>\n<text text-anchor=\"start\" x=\"1966.5\" y=\"-238.3\" font-family=\"Helvetica,sans-Serif\" font-size=\"14.00\" fill=\"#000000\">class = o</text>\n</g>\n<!-- 117&#45;&gt;118 -->\n<g id=\"edge118\" class=\"edge\">\n<title>117&#45;&gt;118</title>\n<path fill=\"none\" stroke=\"#000000\" d=\"M2070.9288,-341.8796C2059.674,-330.3337 2047.4539,-317.7976 2036.1922,-306.2446\"/>\n<polygon fill=\"#000000\" stroke=\"#000000\" points=\"2038.4364,-303.5326 2028.9499,-298.8149 2033.4238,-308.4188 2038.4364,-303.5326\"/>\n</g>\n<!-- 119 -->\n<g id=\"node120\" class=\"node\">\n<title>119</title>\n<path fill=\"#f2c09c\" stroke=\"#000000\" d=\"M2150,-306C2150,-306 2075,-306 2075,-306 2069,-306 2063,-300 2063,-294 2063,-294 2063,-235 2063,-235 2063,-229 2069,-223 2075,-223 2075,-223 2150,-223 2150,-223 2156,-223 2162,-229 2162,-235 2162,-235 2162,-294 2162,-294 2162,-300 2156,-306 2150,-306\"/>\n<text text-anchor=\"start\" x=\"2074\" y=\"-290.8\" font-family=\"Helvetica,sans-Serif\" font-size=\"14.00\" fill=\"#000000\">age ≤ 2.083</text>\n<text text-anchor=\"start\" x=\"2074.5\" y=\"-275.8\" font-family=\"Helvetica,sans-Serif\" font-size=\"14.00\" fill=\"#000000\">gini = 0.444</text>\n<text text-anchor=\"start\" x=\"2073\" y=\"-260.8\" font-family=\"Helvetica,sans-Serif\" font-size=\"14.00\" fill=\"#000000\">samples = 3</text>\n<text text-anchor=\"start\" x=\"2071\" y=\"-245.8\" font-family=\"Helvetica,sans-Serif\" font-size=\"14.00\" fill=\"#000000\">value = [2, 1]</text>\n<text text-anchor=\"start\" x=\"2086\" y=\"-230.8\" font-family=\"Helvetica,sans-Serif\" font-size=\"14.00\" fill=\"#000000\">class = l</text>\n</g>\n<!-- 117&#45;&gt;119 -->\n<g id=\"edge119\" class=\"edge\">\n<title>117&#45;&gt;119</title>\n<path fill=\"none\" stroke=\"#000000\" d=\"M2111.8498,-341.8796C2111.9186,-333.6838 2111.9917,-324.9891 2112.063,-316.5013\"/>\n<polygon fill=\"#000000\" stroke=\"#000000\" points=\"2115.5645,-316.3272 2112.1488,-306.2981 2108.5648,-316.2683 2115.5645,-316.3272\"/>\n</g>\n<!-- 120 -->\n<g id=\"node121\" class=\"node\">\n<title>120</title>\n<path fill=\"#e58139\" stroke=\"#000000\" d=\"M2092,-179.5C2092,-179.5 2017,-179.5 2017,-179.5 2011,-179.5 2005,-173.5 2005,-167.5 2005,-167.5 2005,-123.5 2005,-123.5 2005,-117.5 2011,-111.5 2017,-111.5 2017,-111.5 2092,-111.5 2092,-111.5 2098,-111.5 2104,-117.5 2104,-123.5 2104,-123.5 2104,-167.5 2104,-167.5 2104,-173.5 2098,-179.5 2092,-179.5\"/>\n<text text-anchor=\"start\" x=\"2025\" y=\"-164.3\" font-family=\"Helvetica,sans-Serif\" font-size=\"14.00\" fill=\"#000000\">gini = 0.0</text>\n<text text-anchor=\"start\" x=\"2015\" y=\"-149.3\" font-family=\"Helvetica,sans-Serif\" font-size=\"14.00\" fill=\"#000000\">samples = 2</text>\n<text text-anchor=\"start\" x=\"2013\" y=\"-134.3\" font-family=\"Helvetica,sans-Serif\" font-size=\"14.00\" fill=\"#000000\">value = [2, 0]</text>\n<text text-anchor=\"start\" x=\"2028\" y=\"-119.3\" font-family=\"Helvetica,sans-Serif\" font-size=\"14.00\" fill=\"#000000\">class = l</text>\n</g>\n<!-- 119&#45;&gt;120 -->\n<g id=\"edge120\" class=\"edge\">\n<title>119&#45;&gt;120</title>\n<path fill=\"none\" stroke=\"#000000\" d=\"M2092.2144,-222.8796C2086.855,-211.8835 2081.0578,-199.9893 2075.6537,-188.9015\"/>\n<polygon fill=\"#000000\" stroke=\"#000000\" points=\"2078.7524,-187.2706 2071.2249,-179.8149 2072.46,-190.3375 2078.7524,-187.2706\"/>\n</g>\n<!-- 121 -->\n<g id=\"node122\" class=\"node\">\n<title>121</title>\n<path fill=\"#399de5\" stroke=\"#000000\" d=\"M2209,-179.5C2209,-179.5 2134,-179.5 2134,-179.5 2128,-179.5 2122,-173.5 2122,-167.5 2122,-167.5 2122,-123.5 2122,-123.5 2122,-117.5 2128,-111.5 2134,-111.5 2134,-111.5 2209,-111.5 2209,-111.5 2215,-111.5 2221,-117.5 2221,-123.5 2221,-123.5 2221,-167.5 2221,-167.5 2221,-173.5 2215,-179.5 2209,-179.5\"/>\n<text text-anchor=\"start\" x=\"2142\" y=\"-164.3\" font-family=\"Helvetica,sans-Serif\" font-size=\"14.00\" fill=\"#000000\">gini = 0.0</text>\n<text text-anchor=\"start\" x=\"2132\" y=\"-149.3\" font-family=\"Helvetica,sans-Serif\" font-size=\"14.00\" fill=\"#000000\">samples = 1</text>\n<text text-anchor=\"start\" x=\"2130\" y=\"-134.3\" font-family=\"Helvetica,sans-Serif\" font-size=\"14.00\" fill=\"#000000\">value = [0, 1]</text>\n<text text-anchor=\"start\" x=\"2142.5\" y=\"-119.3\" font-family=\"Helvetica,sans-Serif\" font-size=\"14.00\" fill=\"#000000\">class = o</text>\n</g>\n<!-- 119&#45;&gt;121 -->\n<g id=\"edge121\" class=\"edge\">\n<title>119&#45;&gt;121</title>\n<path fill=\"none\" stroke=\"#000000\" d=\"M2133.1353,-222.8796C2138.5872,-211.8835 2144.4843,-199.9893 2149.9816,-188.9015\"/>\n<polygon fill=\"#000000\" stroke=\"#000000\" points=\"2153.1804,-190.3289 2154.4867,-179.8149 2146.9089,-187.2195 2153.1804,-190.3289\"/>\n</g>\n<!-- 123 -->\n<g id=\"node124\" class=\"node\">\n<title>123</title>\n<path fill=\"#ffffff\" stroke=\"#000000\" d=\"M2270,-298.5C2270,-298.5 2195,-298.5 2195,-298.5 2189,-298.5 2183,-292.5 2183,-286.5 2183,-286.5 2183,-242.5 2183,-242.5 2183,-236.5 2189,-230.5 2195,-230.5 2195,-230.5 2270,-230.5 2270,-230.5 2276,-230.5 2282,-236.5 2282,-242.5 2282,-242.5 2282,-286.5 2282,-286.5 2282,-292.5 2276,-298.5 2270,-298.5\"/>\n<text text-anchor=\"start\" x=\"2203\" y=\"-283.3\" font-family=\"Helvetica,sans-Serif\" font-size=\"14.00\" fill=\"#000000\">gini = 0.5</text>\n<text text-anchor=\"start\" x=\"2193\" y=\"-268.3\" font-family=\"Helvetica,sans-Serif\" font-size=\"14.00\" fill=\"#000000\">samples = 2</text>\n<text text-anchor=\"start\" x=\"2191\" y=\"-253.3\" font-family=\"Helvetica,sans-Serif\" font-size=\"14.00\" fill=\"#000000\">value = [1, 1]</text>\n<text text-anchor=\"start\" x=\"2206\" y=\"-238.3\" font-family=\"Helvetica,sans-Serif\" font-size=\"14.00\" fill=\"#000000\">class = l</text>\n</g>\n<!-- 122&#45;&gt;123 -->\n<g id=\"edge123\" class=\"edge\">\n<title>122&#45;&gt;123</title>\n<path fill=\"none\" stroke=\"#000000\" d=\"M2233.1502,-341.8796C2233.0606,-331.2134 2232.9639,-319.7021 2232.8731,-308.9015\"/>\n<polygon fill=\"#000000\" stroke=\"#000000\" points=\"2236.3724,-308.7851 2232.7884,-298.8149 2229.3726,-308.844 2236.3724,-308.7851\"/>\n</g>\n<!-- 124 -->\n<g id=\"node125\" class=\"node\">\n<title>124</title>\n<path fill=\"#6ab6ec\" stroke=\"#000000\" d=\"M2387,-306C2387,-306 2312,-306 2312,-306 2306,-306 2300,-300 2300,-294 2300,-294 2300,-235 2300,-235 2300,-229 2306,-223 2312,-223 2312,-223 2387,-223 2387,-223 2393,-223 2399,-229 2399,-235 2399,-235 2399,-294 2399,-294 2399,-300 2393,-306 2387,-306\"/>\n<text text-anchor=\"start\" x=\"2319\" y=\"-290.8\" font-family=\"Helvetica,sans-Serif\" font-size=\"14.00\" fill=\"#000000\">age ≤ 2.0</text>\n<text text-anchor=\"start\" x=\"2316\" y=\"-275.8\" font-family=\"Helvetica,sans-Serif\" font-size=\"14.00\" fill=\"#000000\">gini = 0.32</text>\n<text text-anchor=\"start\" x=\"2310\" y=\"-260.8\" font-family=\"Helvetica,sans-Serif\" font-size=\"14.00\" fill=\"#000000\">samples = 5</text>\n<text text-anchor=\"start\" x=\"2308\" y=\"-245.8\" font-family=\"Helvetica,sans-Serif\" font-size=\"14.00\" fill=\"#000000\">value = [1, 4]</text>\n<text text-anchor=\"start\" x=\"2320.5\" y=\"-230.8\" font-family=\"Helvetica,sans-Serif\" font-size=\"14.00\" fill=\"#000000\">class = o</text>\n</g>\n<!-- 122&#45;&gt;124 -->\n<g id=\"edge124\" class=\"edge\">\n<title>122&#45;&gt;124</title>\n<path fill=\"none\" stroke=\"#000000\" d=\"M2274.0712,-341.8796C2282.9382,-332.7832 2292.4044,-323.0722 2301.5291,-313.7116\"/>\n<polygon fill=\"#000000\" stroke=\"#000000\" points=\"2304.2817,-315.9019 2308.7557,-306.2981 2299.2691,-311.0158 2304.2817,-315.9019\"/>\n</g>\n<!-- 125 -->\n<g id=\"node126\" class=\"node\">\n<title>125</title>\n<path fill=\"#399de5\" stroke=\"#000000\" d=\"M2328,-179.5C2328,-179.5 2253,-179.5 2253,-179.5 2247,-179.5 2241,-173.5 2241,-167.5 2241,-167.5 2241,-123.5 2241,-123.5 2241,-117.5 2247,-111.5 2253,-111.5 2253,-111.5 2328,-111.5 2328,-111.5 2334,-111.5 2340,-117.5 2340,-123.5 2340,-123.5 2340,-167.5 2340,-167.5 2340,-173.5 2334,-179.5 2328,-179.5\"/>\n<text text-anchor=\"start\" x=\"2261\" y=\"-164.3\" font-family=\"Helvetica,sans-Serif\" font-size=\"14.00\" fill=\"#000000\">gini = 0.0</text>\n<text text-anchor=\"start\" x=\"2251\" y=\"-149.3\" font-family=\"Helvetica,sans-Serif\" font-size=\"14.00\" fill=\"#000000\">samples = 3</text>\n<text text-anchor=\"start\" x=\"2249\" y=\"-134.3\" font-family=\"Helvetica,sans-Serif\" font-size=\"14.00\" fill=\"#000000\">value = [0, 3]</text>\n<text text-anchor=\"start\" x=\"2261.5\" y=\"-119.3\" font-family=\"Helvetica,sans-Serif\" font-size=\"14.00\" fill=\"#000000\">class = o</text>\n</g>\n<!-- 124&#45;&gt;125 -->\n<g id=\"edge125\" class=\"edge\">\n<title>124&#45;&gt;125</title>\n<path fill=\"none\" stroke=\"#000000\" d=\"M2328.8647,-222.8796C2323.4128,-211.8835 2317.5157,-199.9893 2312.0184,-188.9015\"/>\n<polygon fill=\"#000000\" stroke=\"#000000\" points=\"2315.0911,-187.2195 2307.5133,-179.8149 2308.8196,-190.3289 2315.0911,-187.2195\"/>\n</g>\n<!-- 126 -->\n<g id=\"node127\" class=\"node\">\n<title>126</title>\n<path fill=\"#ffffff\" stroke=\"#000000\" d=\"M2455,-187C2455,-187 2370,-187 2370,-187 2364,-187 2358,-181 2358,-175 2358,-175 2358,-116 2358,-116 2358,-110 2364,-104 2370,-104 2370,-104 2455,-104 2455,-104 2461,-104 2467,-110 2467,-116 2467,-116 2467,-175 2467,-175 2467,-181 2461,-187 2455,-187\"/>\n<text text-anchor=\"start\" x=\"2366\" y=\"-171.8\" font-family=\"Helvetica,sans-Serif\" font-size=\"14.00\" fill=\"#000000\">terms ≤ &#45;0.019</text>\n<text text-anchor=\"start\" x=\"2383\" y=\"-156.8\" font-family=\"Helvetica,sans-Serif\" font-size=\"14.00\" fill=\"#000000\">gini = 0.5</text>\n<text text-anchor=\"start\" x=\"2373\" y=\"-141.8\" font-family=\"Helvetica,sans-Serif\" font-size=\"14.00\" fill=\"#000000\">samples = 2</text>\n<text text-anchor=\"start\" x=\"2371\" y=\"-126.8\" font-family=\"Helvetica,sans-Serif\" font-size=\"14.00\" fill=\"#000000\">value = [1, 1]</text>\n<text text-anchor=\"start\" x=\"2386\" y=\"-111.8\" font-family=\"Helvetica,sans-Serif\" font-size=\"14.00\" fill=\"#000000\">class = l</text>\n</g>\n<!-- 124&#45;&gt;126 -->\n<g id=\"edge126\" class=\"edge\">\n<title>124&#45;&gt;126</title>\n<path fill=\"none\" stroke=\"#000000\" d=\"M2371.5343,-222.8796C2376.064,-214.3236 2380.8815,-205.2238 2385.5618,-196.3833\"/>\n<polygon fill=\"#000000\" stroke=\"#000000\" points=\"2388.7859,-197.7736 2390.3716,-187.2981 2382.5994,-194.4983 2388.7859,-197.7736\"/>\n</g>\n<!-- 127 -->\n<g id=\"node128\" class=\"node\">\n<title>127</title>\n<path fill=\"#e58139\" stroke=\"#000000\" d=\"M2392,-68C2392,-68 2317,-68 2317,-68 2311,-68 2305,-62 2305,-56 2305,-56 2305,-12 2305,-12 2305,-6 2311,0 2317,0 2317,0 2392,0 2392,0 2398,0 2404,-6 2404,-12 2404,-12 2404,-56 2404,-56 2404,-62 2398,-68 2392,-68\"/>\n<text text-anchor=\"start\" x=\"2325\" y=\"-52.8\" font-family=\"Helvetica,sans-Serif\" font-size=\"14.00\" fill=\"#000000\">gini = 0.0</text>\n<text text-anchor=\"start\" x=\"2315\" y=\"-37.8\" font-family=\"Helvetica,sans-Serif\" font-size=\"14.00\" fill=\"#000000\">samples = 1</text>\n<text text-anchor=\"start\" x=\"2313\" y=\"-22.8\" font-family=\"Helvetica,sans-Serif\" font-size=\"14.00\" fill=\"#000000\">value = [1, 0]</text>\n<text text-anchor=\"start\" x=\"2328\" y=\"-7.8\" font-family=\"Helvetica,sans-Serif\" font-size=\"14.00\" fill=\"#000000\">class = l</text>\n</g>\n<!-- 126&#45;&gt;127 -->\n<g id=\"edge127\" class=\"edge\">\n<title>126&#45;&gt;127</title>\n<path fill=\"none\" stroke=\"#000000\" d=\"M2390.9029,-103.9815C2386.3612,-95.2504 2381.5598,-86.0202 2376.9863,-77.2281\"/>\n<polygon fill=\"#000000\" stroke=\"#000000\" points=\"2380.0431,-75.52 2372.3233,-68.2637 2373.8331,-78.7504 2380.0431,-75.52\"/>\n</g>\n<!-- 128 -->\n<g id=\"node129\" class=\"node\">\n<title>128</title>\n<path fill=\"#399de5\" stroke=\"#000000\" d=\"M2509,-68C2509,-68 2434,-68 2434,-68 2428,-68 2422,-62 2422,-56 2422,-56 2422,-12 2422,-12 2422,-6 2428,0 2434,0 2434,0 2509,0 2509,0 2515,0 2521,-6 2521,-12 2521,-12 2521,-56 2521,-56 2521,-62 2515,-68 2509,-68\"/>\n<text text-anchor=\"start\" x=\"2442\" y=\"-52.8\" font-family=\"Helvetica,sans-Serif\" font-size=\"14.00\" fill=\"#000000\">gini = 0.0</text>\n<text text-anchor=\"start\" x=\"2432\" y=\"-37.8\" font-family=\"Helvetica,sans-Serif\" font-size=\"14.00\" fill=\"#000000\">samples = 1</text>\n<text text-anchor=\"start\" x=\"2430\" y=\"-22.8\" font-family=\"Helvetica,sans-Serif\" font-size=\"14.00\" fill=\"#000000\">value = [0, 1]</text>\n<text text-anchor=\"start\" x=\"2442.5\" y=\"-7.8\" font-family=\"Helvetica,sans-Serif\" font-size=\"14.00\" fill=\"#000000\">class = o</text>\n</g>\n<!-- 126&#45;&gt;128 -->\n<g id=\"edge128\" class=\"edge\">\n<title>126&#45;&gt;128</title>\n<path fill=\"none\" stroke=\"#000000\" d=\"M2434.4694,-103.9815C2439.0895,-95.2504 2443.9736,-86.0202 2448.626,-77.2281\"/>\n<polygon fill=\"#000000\" stroke=\"#000000\" points=\"2451.7859,-78.7395 2453.3694,-68.2637 2445.5987,-75.4655 2451.7859,-78.7395\"/>\n</g>\n<!-- 132 -->\n<g id=\"node133\" class=\"node\">\n<title>132</title>\n<path fill=\"#f7dbc6\" stroke=\"#000000\" d=\"M2093.5,-1496C2093.5,-1496 1993.5,-1496 1993.5,-1496 1987.5,-1496 1981.5,-1490 1981.5,-1484 1981.5,-1484 1981.5,-1425 1981.5,-1425 1981.5,-1419 1987.5,-1413 1993.5,-1413 1993.5,-1413 2093.5,-1413 2093.5,-1413 2099.5,-1413 2105.5,-1419 2105.5,-1425 2105.5,-1425 2105.5,-1484 2105.5,-1484 2105.5,-1490 2099.5,-1496 2093.5,-1496\"/>\n<text text-anchor=\"start\" x=\"1989.5\" y=\"-1480.8\" font-family=\"Helvetica,sans-Serif\" font-size=\"14.00\" fill=\"#000000\">Principal ≤ 0.058</text>\n<text text-anchor=\"start\" x=\"2005.5\" y=\"-1465.8\" font-family=\"Helvetica,sans-Serif\" font-size=\"14.00\" fill=\"#000000\">gini = 0.486</text>\n<text text-anchor=\"start\" x=\"1999.5\" y=\"-1450.8\" font-family=\"Helvetica,sans-Serif\" font-size=\"14.00\" fill=\"#000000\">samples = 65</text>\n<text text-anchor=\"start\" x=\"1993.5\" y=\"-1435.8\" font-family=\"Helvetica,sans-Serif\" font-size=\"14.00\" fill=\"#000000\">value = [38, 27]</text>\n<text text-anchor=\"start\" x=\"2017\" y=\"-1420.8\" font-family=\"Helvetica,sans-Serif\" font-size=\"14.00\" fill=\"#000000\">class = l</text>\n</g>\n<!-- 131&#45;&gt;132 -->\n<g id=\"edge132\" class=\"edge\">\n<title>131&#45;&gt;132</title>\n<path fill=\"none\" stroke=\"#000000\" d=\"M2043.5,-1531.8796C2043.5,-1523.6838 2043.5,-1514.9891 2043.5,-1506.5013\"/>\n<polygon fill=\"#000000\" stroke=\"#000000\" points=\"2047.0001,-1506.298 2043.5,-1496.2981 2040.0001,-1506.2981 2047.0001,-1506.298\"/>\n</g>\n<!-- 187 -->\n<g id=\"node188\" class=\"node\">\n<title>187</title>\n<path fill=\"#ea9a61\" stroke=\"#000000\" d=\"M2455.5,-1496C2455.5,-1496 2353.5,-1496 2353.5,-1496 2347.5,-1496 2341.5,-1490 2341.5,-1484 2341.5,-1484 2341.5,-1425 2341.5,-1425 2341.5,-1419 2347.5,-1413 2353.5,-1413 2353.5,-1413 2455.5,-1413 2455.5,-1413 2461.5,-1413 2467.5,-1419 2467.5,-1425 2467.5,-1425 2467.5,-1484 2467.5,-1484 2467.5,-1490 2461.5,-1496 2455.5,-1496\"/>\n<text text-anchor=\"start\" x=\"2349.5\" y=\"-1480.8\" font-family=\"Helvetica,sans-Serif\" font-size=\"14.00\" fill=\"#000000\">Bechalor ≤ 0.696</text>\n<text text-anchor=\"start\" x=\"2366.5\" y=\"-1465.8\" font-family=\"Helvetica,sans-Serif\" font-size=\"14.00\" fill=\"#000000\">gini = 0.278</text>\n<text text-anchor=\"start\" x=\"2360.5\" y=\"-1450.8\" font-family=\"Helvetica,sans-Serif\" font-size=\"14.00\" fill=\"#000000\">samples = 12</text>\n<text text-anchor=\"start\" x=\"2359\" y=\"-1435.8\" font-family=\"Helvetica,sans-Serif\" font-size=\"14.00\" fill=\"#000000\">value = [10, 2]</text>\n<text text-anchor=\"start\" x=\"2378\" y=\"-1420.8\" font-family=\"Helvetica,sans-Serif\" font-size=\"14.00\" fill=\"#000000\">class = l</text>\n</g>\n<!-- 131&#45;&gt;187 -->\n<g id=\"edge187\" class=\"edge\">\n<title>131&#45;&gt;187</title>\n<path fill=\"none\" stroke=\"#000000\" d=\"M2101.5009,-1554.3806C2164.0949,-1533.7471 2263.9019,-1500.8467 2331.7193,-1478.4914\"/>\n<polygon fill=\"#000000\" stroke=\"#000000\" points=\"2333.0832,-1481.7271 2341.4848,-1475.2723 2330.8917,-1475.079 2333.0832,-1481.7271\"/>\n</g>\n<!-- 133 -->\n<g id=\"node134\" class=\"node\">\n<title>133</title>\n<path fill=\"#eeaf81\" stroke=\"#000000\" d=\"M2025.5,-1377C2025.5,-1377 1923.5,-1377 1923.5,-1377 1917.5,-1377 1911.5,-1371 1911.5,-1365 1911.5,-1365 1911.5,-1306 1911.5,-1306 1911.5,-1300 1917.5,-1294 1923.5,-1294 1923.5,-1294 2025.5,-1294 2025.5,-1294 2031.5,-1294 2037.5,-1300 2037.5,-1306 2037.5,-1306 2037.5,-1365 2037.5,-1365 2037.5,-1371 2031.5,-1377 2025.5,-1377\"/>\n<text text-anchor=\"start\" x=\"1919.5\" y=\"-1361.8\" font-family=\"Helvetica,sans-Serif\" font-size=\"14.00\" fill=\"#000000\">Bechalor ≤ 0.313</text>\n<text text-anchor=\"start\" x=\"1936.5\" y=\"-1346.8\" font-family=\"Helvetica,sans-Serif\" font-size=\"14.00\" fill=\"#000000\">gini = 0.391</text>\n<text text-anchor=\"start\" x=\"1930.5\" y=\"-1331.8\" font-family=\"Helvetica,sans-Serif\" font-size=\"14.00\" fill=\"#000000\">samples = 15</text>\n<text text-anchor=\"start\" x=\"1929\" y=\"-1316.8\" font-family=\"Helvetica,sans-Serif\" font-size=\"14.00\" fill=\"#000000\">value = [11, 4]</text>\n<text text-anchor=\"start\" x=\"1948\" y=\"-1301.8\" font-family=\"Helvetica,sans-Serif\" font-size=\"14.00\" fill=\"#000000\">class = l</text>\n</g>\n<!-- 132&#45;&gt;133 -->\n<g id=\"edge133\" class=\"edge\">\n<title>132&#45;&gt;133</title>\n<path fill=\"none\" stroke=\"#000000\" d=\"M2019.3671,-1412.8796C2014.3539,-1404.2335 2009.0187,-1395.0322 2003.8419,-1386.1042\"/>\n<polygon fill=\"#000000\" stroke=\"#000000\" points=\"2006.7798,-1384.1934 1998.7359,-1377.2981 2000.7242,-1387.7047 2006.7798,-1384.1934\"/>\n</g>\n<!-- 142 -->\n<g id=\"node143\" class=\"node\">\n<title>142</title>\n<path fill=\"#fbece2\" stroke=\"#000000\" d=\"M2159.5,-1377C2159.5,-1377 2067.5,-1377 2067.5,-1377 2061.5,-1377 2055.5,-1371 2055.5,-1365 2055.5,-1365 2055.5,-1306 2055.5,-1306 2055.5,-1300 2061.5,-1294 2067.5,-1294 2067.5,-1294 2159.5,-1294 2159.5,-1294 2165.5,-1294 2171.5,-1300 2171.5,-1306 2171.5,-1306 2171.5,-1365 2171.5,-1365 2171.5,-1371 2165.5,-1377 2159.5,-1377\"/>\n<text text-anchor=\"start\" x=\"2077\" y=\"-1361.8\" font-family=\"Helvetica,sans-Serif\" font-size=\"14.00\" fill=\"#000000\">age ≤ &#45;1.98</text>\n<text text-anchor=\"start\" x=\"2075.5\" y=\"-1346.8\" font-family=\"Helvetica,sans-Serif\" font-size=\"14.00\" fill=\"#000000\">gini = 0.497</text>\n<text text-anchor=\"start\" x=\"2069.5\" y=\"-1331.8\" font-family=\"Helvetica,sans-Serif\" font-size=\"14.00\" fill=\"#000000\">samples = 50</text>\n<text text-anchor=\"start\" x=\"2063.5\" y=\"-1316.8\" font-family=\"Helvetica,sans-Serif\" font-size=\"14.00\" fill=\"#000000\">value = [27, 23]</text>\n<text text-anchor=\"start\" x=\"2087\" y=\"-1301.8\" font-family=\"Helvetica,sans-Serif\" font-size=\"14.00\" fill=\"#000000\">class = l</text>\n</g>\n<!-- 132&#45;&gt;142 -->\n<g id=\"edge142\" class=\"edge\">\n<title>132&#45;&gt;142</title>\n<path fill=\"none\" stroke=\"#000000\" d=\"M2067.9826,-1412.8796C2073.0685,-1404.2335 2078.4811,-1395.0322 2083.7328,-1386.1042\"/>\n<polygon fill=\"#000000\" stroke=\"#000000\" points=\"2086.8594,-1387.692 2088.9129,-1377.2981 2080.8259,-1384.1428 2086.8594,-1387.692\"/>\n</g>\n<!-- 134 -->\n<g id=\"node135\" class=\"node\">\n<title>134</title>\n<path fill=\"#399de5\" stroke=\"#000000\" d=\"M1896,-1250.5C1896,-1250.5 1821,-1250.5 1821,-1250.5 1815,-1250.5 1809,-1244.5 1809,-1238.5 1809,-1238.5 1809,-1194.5 1809,-1194.5 1809,-1188.5 1815,-1182.5 1821,-1182.5 1821,-1182.5 1896,-1182.5 1896,-1182.5 1902,-1182.5 1908,-1188.5 1908,-1194.5 1908,-1194.5 1908,-1238.5 1908,-1238.5 1908,-1244.5 1902,-1250.5 1896,-1250.5\"/>\n<text text-anchor=\"start\" x=\"1829\" y=\"-1235.3\" font-family=\"Helvetica,sans-Serif\" font-size=\"14.00\" fill=\"#000000\">gini = 0.0</text>\n<text text-anchor=\"start\" x=\"1819\" y=\"-1220.3\" font-family=\"Helvetica,sans-Serif\" font-size=\"14.00\" fill=\"#000000\">samples = 1</text>\n<text text-anchor=\"start\" x=\"1817\" y=\"-1205.3\" font-family=\"Helvetica,sans-Serif\" font-size=\"14.00\" fill=\"#000000\">value = [0, 1]</text>\n<text text-anchor=\"start\" x=\"1829.5\" y=\"-1190.3\" font-family=\"Helvetica,sans-Serif\" font-size=\"14.00\" fill=\"#000000\">class = o</text>\n</g>\n<!-- 133&#45;&gt;134 -->\n<g id=\"edge134\" class=\"edge\">\n<title>133&#45;&gt;134</title>\n<path fill=\"none\" stroke=\"#000000\" d=\"M1933.9288,-1293.8796C1922.674,-1282.3337 1910.4539,-1269.7976 1899.1922,-1258.2446\"/>\n<polygon fill=\"#000000\" stroke=\"#000000\" points=\"1901.4364,-1255.5326 1891.9499,-1250.8149 1896.4238,-1260.4188 1901.4364,-1255.5326\"/>\n</g>\n<!-- 135 -->\n<g id=\"node136\" class=\"node\">\n<title>135</title>\n<path fill=\"#eca36f\" stroke=\"#000000\" d=\"M2021,-1258C2021,-1258 1938,-1258 1938,-1258 1932,-1258 1926,-1252 1926,-1246 1926,-1246 1926,-1187 1926,-1187 1926,-1181 1932,-1175 1938,-1175 1938,-1175 2021,-1175 2021,-1175 2027,-1175 2033,-1181 2033,-1187 2033,-1187 2033,-1246 2033,-1246 2033,-1252 2027,-1258 2021,-1258\"/>\n<text text-anchor=\"start\" x=\"1938.5\" y=\"-1242.8\" font-family=\"Helvetica,sans-Serif\" font-size=\"14.00\" fill=\"#000000\">age ≤ &#45;1.316</text>\n<text text-anchor=\"start\" x=\"1941.5\" y=\"-1227.8\" font-family=\"Helvetica,sans-Serif\" font-size=\"14.00\" fill=\"#000000\">gini = 0.337</text>\n<text text-anchor=\"start\" x=\"1935.5\" y=\"-1212.8\" font-family=\"Helvetica,sans-Serif\" font-size=\"14.00\" fill=\"#000000\">samples = 14</text>\n<text text-anchor=\"start\" x=\"1934\" y=\"-1197.8\" font-family=\"Helvetica,sans-Serif\" font-size=\"14.00\" fill=\"#000000\">value = [11, 3]</text>\n<text text-anchor=\"start\" x=\"1953\" y=\"-1182.8\" font-family=\"Helvetica,sans-Serif\" font-size=\"14.00\" fill=\"#000000\">class = l</text>\n</g>\n<!-- 133&#45;&gt;135 -->\n<g id=\"edge135\" class=\"edge\">\n<title>133&#45;&gt;135</title>\n<path fill=\"none\" stroke=\"#000000\" d=\"M1976.2488,-1293.8796C1976.5931,-1285.6838 1976.9584,-1276.9891 1977.3151,-1268.5013\"/>\n<polygon fill=\"#000000\" stroke=\"#000000\" points=\"1980.8208,-1268.4362 1977.7438,-1258.2981 1973.827,-1268.1423 1980.8208,-1268.4362\"/>\n</g>\n<!-- 136 -->\n<g id=\"node137\" class=\"node\">\n<title>136</title>\n<path fill=\"#399de5\" stroke=\"#000000\" d=\"M2013,-1131.5C2013,-1131.5 1938,-1131.5 1938,-1131.5 1932,-1131.5 1926,-1125.5 1926,-1119.5 1926,-1119.5 1926,-1075.5 1926,-1075.5 1926,-1069.5 1932,-1063.5 1938,-1063.5 1938,-1063.5 2013,-1063.5 2013,-1063.5 2019,-1063.5 2025,-1069.5 2025,-1075.5 2025,-1075.5 2025,-1119.5 2025,-1119.5 2025,-1125.5 2019,-1131.5 2013,-1131.5\"/>\n<text text-anchor=\"start\" x=\"1946\" y=\"-1116.3\" font-family=\"Helvetica,sans-Serif\" font-size=\"14.00\" fill=\"#000000\">gini = 0.0</text>\n<text text-anchor=\"start\" x=\"1936\" y=\"-1101.3\" font-family=\"Helvetica,sans-Serif\" font-size=\"14.00\" fill=\"#000000\">samples = 1</text>\n<text text-anchor=\"start\" x=\"1934\" y=\"-1086.3\" font-family=\"Helvetica,sans-Serif\" font-size=\"14.00\" fill=\"#000000\">value = [0, 1]</text>\n<text text-anchor=\"start\" x=\"1946.5\" y=\"-1071.3\" font-family=\"Helvetica,sans-Serif\" font-size=\"14.00\" fill=\"#000000\">class = o</text>\n</g>\n<!-- 135&#45;&gt;136 -->\n<g id=\"edge136\" class=\"edge\">\n<title>135&#45;&gt;136</title>\n<path fill=\"none\" stroke=\"#000000\" d=\"M1978.101,-1174.8796C1977.7425,-1164.2134 1977.3555,-1152.7021 1976.9925,-1141.9015\"/>\n<polygon fill=\"#000000\" stroke=\"#000000\" points=\"1980.4875,-1141.6917 1976.6534,-1131.8149 1973.4915,-1141.9269 1980.4875,-1141.6917\"/>\n</g>\n<!-- 137 -->\n<g id=\"node138\" class=\"node\">\n<title>137</title>\n<path fill=\"#ea985d\" stroke=\"#000000\" d=\"M2157.5,-1139C2157.5,-1139 2055.5,-1139 2055.5,-1139 2049.5,-1139 2043.5,-1133 2043.5,-1127 2043.5,-1127 2043.5,-1068 2043.5,-1068 2043.5,-1062 2049.5,-1056 2055.5,-1056 2055.5,-1056 2157.5,-1056 2157.5,-1056 2163.5,-1056 2169.5,-1062 2169.5,-1068 2169.5,-1068 2169.5,-1127 2169.5,-1127 2169.5,-1133 2163.5,-1139 2157.5,-1139\"/>\n<text text-anchor=\"start\" x=\"2051.5\" y=\"-1123.8\" font-family=\"Helvetica,sans-Serif\" font-size=\"14.00\" fill=\"#000000\">Bechalor ≤ 0.696</text>\n<text text-anchor=\"start\" x=\"2073\" y=\"-1108.8\" font-family=\"Helvetica,sans-Serif\" font-size=\"14.00\" fill=\"#000000\">gini = 0.26</text>\n<text text-anchor=\"start\" x=\"2062.5\" y=\"-1093.8\" font-family=\"Helvetica,sans-Serif\" font-size=\"14.00\" fill=\"#000000\">samples = 13</text>\n<text text-anchor=\"start\" x=\"2061\" y=\"-1078.8\" font-family=\"Helvetica,sans-Serif\" font-size=\"14.00\" fill=\"#000000\">value = [11, 2]</text>\n<text text-anchor=\"start\" x=\"2080\" y=\"-1063.8\" font-family=\"Helvetica,sans-Serif\" font-size=\"14.00\" fill=\"#000000\">class = l</text>\n</g>\n<!-- 135&#45;&gt;137 -->\n<g id=\"edge137\" class=\"edge\">\n<title>135&#45;&gt;137</title>\n<path fill=\"none\" stroke=\"#000000\" d=\"M2023.9184,-1174.8796C2033.8186,-1165.6031 2044.4009,-1155.6874 2054.5731,-1146.1559\"/>\n<polygon fill=\"#000000\" stroke=\"#000000\" points=\"2056.9879,-1148.6896 2061.892,-1139.2981 2052.2016,-1143.5816 2056.9879,-1148.6896\"/>\n</g>\n<!-- 138 -->\n<g id=\"node139\" class=\"node\">\n<title>138</title>\n<path fill=\"#f6d5bd\" stroke=\"#000000\" d=\"M2144,-1020C2144,-1020 2069,-1020 2069,-1020 2063,-1020 2057,-1014 2057,-1008 2057,-1008 2057,-949 2057,-949 2057,-943 2063,-937 2069,-937 2069,-937 2144,-937 2144,-937 2150,-937 2156,-943 2156,-949 2156,-949 2156,-1008 2156,-1008 2156,-1014 2150,-1020 2144,-1020\"/>\n<text text-anchor=\"start\" x=\"2065.5\" y=\"-1004.8\" font-family=\"Helvetica,sans-Serif\" font-size=\"14.00\" fill=\"#000000\">age ≤ &#45;0.653</text>\n<text text-anchor=\"start\" x=\"2073\" y=\"-989.8\" font-family=\"Helvetica,sans-Serif\" font-size=\"14.00\" fill=\"#000000\">gini = 0.48</text>\n<text text-anchor=\"start\" x=\"2067\" y=\"-974.8\" font-family=\"Helvetica,sans-Serif\" font-size=\"14.00\" fill=\"#000000\">samples = 5</text>\n<text text-anchor=\"start\" x=\"2065\" y=\"-959.8\" font-family=\"Helvetica,sans-Serif\" font-size=\"14.00\" fill=\"#000000\">value = [3, 2]</text>\n<text text-anchor=\"start\" x=\"2080\" y=\"-944.8\" font-family=\"Helvetica,sans-Serif\" font-size=\"14.00\" fill=\"#000000\">class = l</text>\n</g>\n<!-- 137&#45;&gt;138 -->\n<g id=\"edge138\" class=\"edge\">\n<title>137&#45;&gt;138</title>\n<path fill=\"none\" stroke=\"#000000\" d=\"M2106.5,-1055.8796C2106.5,-1047.6838 2106.5,-1038.9891 2106.5,-1030.5013\"/>\n<polygon fill=\"#000000\" stroke=\"#000000\" points=\"2110.0001,-1030.298 2106.5,-1020.2981 2103.0001,-1030.2981 2110.0001,-1030.298\"/>\n</g>\n<!-- 141 -->\n<g id=\"node142\" class=\"node\">\n<title>141</title>\n<path fill=\"#e58139\" stroke=\"#000000\" d=\"M2261,-1012.5C2261,-1012.5 2186,-1012.5 2186,-1012.5 2180,-1012.5 2174,-1006.5 2174,-1000.5 2174,-1000.5 2174,-956.5 2174,-956.5 2174,-950.5 2180,-944.5 2186,-944.5 2186,-944.5 2261,-944.5 2261,-944.5 2267,-944.5 2273,-950.5 2273,-956.5 2273,-956.5 2273,-1000.5 2273,-1000.5 2273,-1006.5 2267,-1012.5 2261,-1012.5\"/>\n<text text-anchor=\"start\" x=\"2194\" y=\"-997.3\" font-family=\"Helvetica,sans-Serif\" font-size=\"14.00\" fill=\"#000000\">gini = 0.0</text>\n<text text-anchor=\"start\" x=\"2184\" y=\"-982.3\" font-family=\"Helvetica,sans-Serif\" font-size=\"14.00\" fill=\"#000000\">samples = 8</text>\n<text text-anchor=\"start\" x=\"2182\" y=\"-967.3\" font-family=\"Helvetica,sans-Serif\" font-size=\"14.00\" fill=\"#000000\">value = [8, 0]</text>\n<text text-anchor=\"start\" x=\"2197\" y=\"-952.3\" font-family=\"Helvetica,sans-Serif\" font-size=\"14.00\" fill=\"#000000\">class = l</text>\n</g>\n<!-- 137&#45;&gt;141 -->\n<g id=\"edge141\" class=\"edge\">\n<title>137&#45;&gt;141</title>\n<path fill=\"none\" stroke=\"#000000\" d=\"M2147.4209,-1055.8796C2158.7728,-1044.3337 2171.0982,-1031.7976 2182.457,-1020.2446\"/>\n<polygon fill=\"#000000\" stroke=\"#000000\" points=\"2185.2466,-1022.3995 2189.7618,-1012.8149 2180.2551,-1017.4919 2185.2466,-1022.3995\"/>\n</g>\n<!-- 139 -->\n<g id=\"node140\" class=\"node\">\n<title>139</title>\n<path fill=\"#e58139\" stroke=\"#000000\" d=\"M2144,-893.5C2144,-893.5 2069,-893.5 2069,-893.5 2063,-893.5 2057,-887.5 2057,-881.5 2057,-881.5 2057,-837.5 2057,-837.5 2057,-831.5 2063,-825.5 2069,-825.5 2069,-825.5 2144,-825.5 2144,-825.5 2150,-825.5 2156,-831.5 2156,-837.5 2156,-837.5 2156,-881.5 2156,-881.5 2156,-887.5 2150,-893.5 2144,-893.5\"/>\n<text text-anchor=\"start\" x=\"2077\" y=\"-878.3\" font-family=\"Helvetica,sans-Serif\" font-size=\"14.00\" fill=\"#000000\">gini = 0.0</text>\n<text text-anchor=\"start\" x=\"2067\" y=\"-863.3\" font-family=\"Helvetica,sans-Serif\" font-size=\"14.00\" fill=\"#000000\">samples = 3</text>\n<text text-anchor=\"start\" x=\"2065\" y=\"-848.3\" font-family=\"Helvetica,sans-Serif\" font-size=\"14.00\" fill=\"#000000\">value = [3, 0]</text>\n<text text-anchor=\"start\" x=\"2080\" y=\"-833.3\" font-family=\"Helvetica,sans-Serif\" font-size=\"14.00\" fill=\"#000000\">class = l</text>\n</g>\n<!-- 138&#45;&gt;139 -->\n<g id=\"edge139\" class=\"edge\">\n<title>138&#45;&gt;139</title>\n<path fill=\"none\" stroke=\"#000000\" d=\"M2106.5,-936.8796C2106.5,-926.2134 2106.5,-914.7021 2106.5,-903.9015\"/>\n<polygon fill=\"#000000\" stroke=\"#000000\" points=\"2110.0001,-903.8149 2106.5,-893.8149 2103.0001,-903.815 2110.0001,-903.8149\"/>\n</g>\n<!-- 140 -->\n<g id=\"node141\" class=\"node\">\n<title>140</title>\n<path fill=\"#399de5\" stroke=\"#000000\" d=\"M2261,-893.5C2261,-893.5 2186,-893.5 2186,-893.5 2180,-893.5 2174,-887.5 2174,-881.5 2174,-881.5 2174,-837.5 2174,-837.5 2174,-831.5 2180,-825.5 2186,-825.5 2186,-825.5 2261,-825.5 2261,-825.5 2267,-825.5 2273,-831.5 2273,-837.5 2273,-837.5 2273,-881.5 2273,-881.5 2273,-887.5 2267,-893.5 2261,-893.5\"/>\n<text text-anchor=\"start\" x=\"2194\" y=\"-878.3\" font-family=\"Helvetica,sans-Serif\" font-size=\"14.00\" fill=\"#000000\">gini = 0.0</text>\n<text text-anchor=\"start\" x=\"2184\" y=\"-863.3\" font-family=\"Helvetica,sans-Serif\" font-size=\"14.00\" fill=\"#000000\">samples = 2</text>\n<text text-anchor=\"start\" x=\"2182\" y=\"-848.3\" font-family=\"Helvetica,sans-Serif\" font-size=\"14.00\" fill=\"#000000\">value = [0, 2]</text>\n<text text-anchor=\"start\" x=\"2194.5\" y=\"-833.3\" font-family=\"Helvetica,sans-Serif\" font-size=\"14.00\" fill=\"#000000\">class = o</text>\n</g>\n<!-- 138&#45;&gt;140 -->\n<g id=\"edge140\" class=\"edge\">\n<title>138&#45;&gt;140</title>\n<path fill=\"none\" stroke=\"#000000\" d=\"M2147.4209,-936.8796C2158.7728,-925.3337 2171.0982,-912.7976 2182.457,-901.2446\"/>\n<polygon fill=\"#000000\" stroke=\"#000000\" points=\"2185.2466,-903.3995 2189.7618,-893.8149 2180.2551,-898.4919 2185.2466,-903.3995\"/>\n</g>\n<!-- 143 -->\n<g id=\"node144\" class=\"node\">\n<title>143</title>\n<path fill=\"#399de5\" stroke=\"#000000\" d=\"M2145,-1250.5C2145,-1250.5 2070,-1250.5 2070,-1250.5 2064,-1250.5 2058,-1244.5 2058,-1238.5 2058,-1238.5 2058,-1194.5 2058,-1194.5 2058,-1188.5 2064,-1182.5 2070,-1182.5 2070,-1182.5 2145,-1182.5 2145,-1182.5 2151,-1182.5 2157,-1188.5 2157,-1194.5 2157,-1194.5 2157,-1238.5 2157,-1238.5 2157,-1244.5 2151,-1250.5 2145,-1250.5\"/>\n<text text-anchor=\"start\" x=\"2078\" y=\"-1235.3\" font-family=\"Helvetica,sans-Serif\" font-size=\"14.00\" fill=\"#000000\">gini = 0.0</text>\n<text text-anchor=\"start\" x=\"2068\" y=\"-1220.3\" font-family=\"Helvetica,sans-Serif\" font-size=\"14.00\" fill=\"#000000\">samples = 1</text>\n<text text-anchor=\"start\" x=\"2066\" y=\"-1205.3\" font-family=\"Helvetica,sans-Serif\" font-size=\"14.00\" fill=\"#000000\">value = [0, 1]</text>\n<text text-anchor=\"start\" x=\"2078.5\" y=\"-1190.3\" font-family=\"Helvetica,sans-Serif\" font-size=\"14.00\" fill=\"#000000\">class = o</text>\n</g>\n<!-- 142&#45;&gt;143 -->\n<g id=\"edge143\" class=\"edge\">\n<title>142&#45;&gt;143</title>\n<path fill=\"none\" stroke=\"#000000\" d=\"M2111.4015,-1293.8796C2110.8637,-1283.2134 2110.2833,-1271.7021 2109.7387,-1260.9015\"/>\n<polygon fill=\"#000000\" stroke=\"#000000\" points=\"2113.2294,-1260.626 2109.2302,-1250.8149 2106.2383,-1260.9785 2113.2294,-1260.626\"/>\n</g>\n<!-- 144 -->\n<g id=\"node145\" class=\"node\">\n<title>144</title>\n<path fill=\"#fae8da\" stroke=\"#000000\" d=\"M2279.5,-1258C2279.5,-1258 2187.5,-1258 2187.5,-1258 2181.5,-1258 2175.5,-1252 2175.5,-1246 2175.5,-1246 2175.5,-1187 2175.5,-1187 2175.5,-1181 2181.5,-1175 2187.5,-1175 2187.5,-1175 2279.5,-1175 2279.5,-1175 2285.5,-1175 2291.5,-1181 2291.5,-1187 2291.5,-1187 2291.5,-1246 2291.5,-1246 2291.5,-1252 2285.5,-1258 2279.5,-1258\"/>\n<text text-anchor=\"start\" x=\"2192.5\" y=\"-1242.8\" font-family=\"Helvetica,sans-Serif\" font-size=\"14.00\" fill=\"#000000\">age ≤ &#45;1.234</text>\n<text text-anchor=\"start\" x=\"2195.5\" y=\"-1227.8\" font-family=\"Helvetica,sans-Serif\" font-size=\"14.00\" fill=\"#000000\">gini = 0.495</text>\n<text text-anchor=\"start\" x=\"2189.5\" y=\"-1212.8\" font-family=\"Helvetica,sans-Serif\" font-size=\"14.00\" fill=\"#000000\">samples = 49</text>\n<text text-anchor=\"start\" x=\"2183.5\" y=\"-1197.8\" font-family=\"Helvetica,sans-Serif\" font-size=\"14.00\" fill=\"#000000\">value = [27, 22]</text>\n<text text-anchor=\"start\" x=\"2207\" y=\"-1182.8\" font-family=\"Helvetica,sans-Serif\" font-size=\"14.00\" fill=\"#000000\">class = l</text>\n</g>\n<!-- 142&#45;&gt;144 -->\n<g id=\"edge144\" class=\"edge\">\n<title>142&#45;&gt;144</title>\n<path fill=\"none\" stroke=\"#000000\" d=\"M2155.4702,-1293.8796C2164.7338,-1284.6931 2174.6296,-1274.8798 2184.1552,-1265.4336\"/>\n<polygon fill=\"#000000\" stroke=\"#000000\" points=\"2186.7146,-1267.8247 2191.3507,-1258.2981 2181.7856,-1262.8543 2186.7146,-1267.8247\"/>\n</g>\n<!-- 145 -->\n<g id=\"node146\" class=\"node\">\n<title>145</title>\n<path fill=\"#e58139\" stroke=\"#000000\" d=\"M2275,-1131.5C2275,-1131.5 2200,-1131.5 2200,-1131.5 2194,-1131.5 2188,-1125.5 2188,-1119.5 2188,-1119.5 2188,-1075.5 2188,-1075.5 2188,-1069.5 2194,-1063.5 2200,-1063.5 2200,-1063.5 2275,-1063.5 2275,-1063.5 2281,-1063.5 2287,-1069.5 2287,-1075.5 2287,-1075.5 2287,-1119.5 2287,-1119.5 2287,-1125.5 2281,-1131.5 2275,-1131.5\"/>\n<text text-anchor=\"start\" x=\"2208\" y=\"-1116.3\" font-family=\"Helvetica,sans-Serif\" font-size=\"14.00\" fill=\"#000000\">gini = 0.0</text>\n<text text-anchor=\"start\" x=\"2198\" y=\"-1101.3\" font-family=\"Helvetica,sans-Serif\" font-size=\"14.00\" fill=\"#000000\">samples = 3</text>\n<text text-anchor=\"start\" x=\"2196\" y=\"-1086.3\" font-family=\"Helvetica,sans-Serif\" font-size=\"14.00\" fill=\"#000000\">value = [3, 0]</text>\n<text text-anchor=\"start\" x=\"2211\" y=\"-1071.3\" font-family=\"Helvetica,sans-Serif\" font-size=\"14.00\" fill=\"#000000\">class = l</text>\n</g>\n<!-- 144&#45;&gt;145 -->\n<g id=\"edge145\" class=\"edge\">\n<title>144&#45;&gt;145</title>\n<path fill=\"none\" stroke=\"#000000\" d=\"M2234.899,-1174.8796C2235.2575,-1164.2134 2235.6445,-1152.7021 2236.0075,-1141.9015\"/>\n<polygon fill=\"#000000\" stroke=\"#000000\" points=\"2239.5085,-1141.9269 2236.3466,-1131.8149 2232.5125,-1141.6917 2239.5085,-1141.9269\"/>\n</g>\n<!-- 146 -->\n<g id=\"node147\" class=\"node\">\n<title>146</title>\n<path fill=\"#fdf5ef\" stroke=\"#000000\" d=\"M2432.5,-1139C2432.5,-1139 2340.5,-1139 2340.5,-1139 2334.5,-1139 2328.5,-1133 2328.5,-1127 2328.5,-1127 2328.5,-1068 2328.5,-1068 2328.5,-1062 2334.5,-1056 2340.5,-1056 2340.5,-1056 2432.5,-1056 2432.5,-1056 2438.5,-1056 2444.5,-1062 2444.5,-1068 2444.5,-1068 2444.5,-1127 2444.5,-1127 2444.5,-1133 2438.5,-1139 2432.5,-1139\"/>\n<text text-anchor=\"start\" x=\"2345.5\" y=\"-1123.8\" font-family=\"Helvetica,sans-Serif\" font-size=\"14.00\" fill=\"#000000\">age ≤ &#45;1.068</text>\n<text text-anchor=\"start\" x=\"2348.5\" y=\"-1108.8\" font-family=\"Helvetica,sans-Serif\" font-size=\"14.00\" fill=\"#000000\">gini = 0.499</text>\n<text text-anchor=\"start\" x=\"2342.5\" y=\"-1093.8\" font-family=\"Helvetica,sans-Serif\" font-size=\"14.00\" fill=\"#000000\">samples = 46</text>\n<text text-anchor=\"start\" x=\"2336.5\" y=\"-1078.8\" font-family=\"Helvetica,sans-Serif\" font-size=\"14.00\" fill=\"#000000\">value = [24, 22]</text>\n<text text-anchor=\"start\" x=\"2360\" y=\"-1063.8\" font-family=\"Helvetica,sans-Serif\" font-size=\"14.00\" fill=\"#000000\">class = l</text>\n</g>\n<!-- 144&#45;&gt;146 -->\n<g id=\"edge146\" class=\"edge\">\n<title>144&#45;&gt;146</title>\n<path fill=\"none\" stroke=\"#000000\" d=\"M2287.012,-1174.8796C2299.2412,-1165.368 2312.3344,-1155.1843 2324.8732,-1145.432\"/>\n<polygon fill=\"#000000\" stroke=\"#000000\" points=\"2327.2735,-1147.9991 2333.0182,-1139.0969 2322.9759,-1142.4736 2327.2735,-1147.9991\"/>\n</g>\n<!-- 147 -->\n<g id=\"node148\" class=\"node\">\n<title>147</title>\n<path fill=\"#399de5\" stroke=\"#000000\" d=\"M2424,-1012.5C2424,-1012.5 2349,-1012.5 2349,-1012.5 2343,-1012.5 2337,-1006.5 2337,-1000.5 2337,-1000.5 2337,-956.5 2337,-956.5 2337,-950.5 2343,-944.5 2349,-944.5 2349,-944.5 2424,-944.5 2424,-944.5 2430,-944.5 2436,-950.5 2436,-956.5 2436,-956.5 2436,-1000.5 2436,-1000.5 2436,-1006.5 2430,-1012.5 2424,-1012.5\"/>\n<text text-anchor=\"start\" x=\"2357\" y=\"-997.3\" font-family=\"Helvetica,sans-Serif\" font-size=\"14.00\" fill=\"#000000\">gini = 0.0</text>\n<text text-anchor=\"start\" x=\"2347\" y=\"-982.3\" font-family=\"Helvetica,sans-Serif\" font-size=\"14.00\" fill=\"#000000\">samples = 2</text>\n<text text-anchor=\"start\" x=\"2345\" y=\"-967.3\" font-family=\"Helvetica,sans-Serif\" font-size=\"14.00\" fill=\"#000000\">value = [0, 2]</text>\n<text text-anchor=\"start\" x=\"2357.5\" y=\"-952.3\" font-family=\"Helvetica,sans-Serif\" font-size=\"14.00\" fill=\"#000000\">class = o</text>\n</g>\n<!-- 146&#45;&gt;147 -->\n<g id=\"edge147\" class=\"edge\">\n<title>146&#45;&gt;147</title>\n<path fill=\"none\" stroke=\"#000000\" d=\"M2386.5,-1055.8796C2386.5,-1045.2134 2386.5,-1033.7021 2386.5,-1022.9015\"/>\n<polygon fill=\"#000000\" stroke=\"#000000\" points=\"2390.0001,-1022.8149 2386.5,-1012.8149 2383.0001,-1022.815 2390.0001,-1022.8149\"/>\n</g>\n<!-- 148 -->\n<g id=\"node149\" class=\"node\">\n<title>148</title>\n<path fill=\"#fbeade\" stroke=\"#000000\" d=\"M2604.5,-1020C2604.5,-1020 2512.5,-1020 2512.5,-1020 2506.5,-1020 2500.5,-1014 2500.5,-1008 2500.5,-1008 2500.5,-949 2500.5,-949 2500.5,-943 2506.5,-937 2512.5,-937 2512.5,-937 2604.5,-937 2604.5,-937 2610.5,-937 2616.5,-943 2616.5,-949 2616.5,-949 2616.5,-1008 2616.5,-1008 2616.5,-1014 2610.5,-1020 2604.5,-1020\"/>\n<text text-anchor=\"start\" x=\"2517.5\" y=\"-1004.8\" font-family=\"Helvetica,sans-Serif\" font-size=\"14.00\" fill=\"#000000\">age ≤ &#45;0.404</text>\n<text text-anchor=\"start\" x=\"2520.5\" y=\"-989.8\" font-family=\"Helvetica,sans-Serif\" font-size=\"14.00\" fill=\"#000000\">gini = 0.496</text>\n<text text-anchor=\"start\" x=\"2514.5\" y=\"-974.8\" font-family=\"Helvetica,sans-Serif\" font-size=\"14.00\" fill=\"#000000\">samples = 44</text>\n<text text-anchor=\"start\" x=\"2508.5\" y=\"-959.8\" font-family=\"Helvetica,sans-Serif\" font-size=\"14.00\" fill=\"#000000\">value = [24, 20]</text>\n<text text-anchor=\"start\" x=\"2532\" y=\"-944.8\" font-family=\"Helvetica,sans-Serif\" font-size=\"14.00\" fill=\"#000000\">class = l</text>\n</g>\n<!-- 146&#45;&gt;148 -->\n<g id=\"edge148\" class=\"edge\">\n<title>146&#45;&gt;148</title>\n<path fill=\"none\" stroke=\"#000000\" d=\"M2444.7314,-1057.212C2459.8617,-1046.7439 2476.2767,-1035.3871 2491.8061,-1024.6429\"/>\n<polygon fill=\"#000000\" stroke=\"#000000\" points=\"2494.0963,-1027.3144 2500.3286,-1018.7465 2490.1136,-1021.5579 2494.0963,-1027.3144\"/>\n</g>\n<!-- 149 -->\n<g id=\"node150\" class=\"node\">\n<title>149</title>\n<path fill=\"#f3c6a5\" stroke=\"#000000\" d=\"M2600,-901C2600,-901 2517,-901 2517,-901 2511,-901 2505,-895 2505,-889 2505,-889 2505,-830 2505,-830 2505,-824 2511,-818 2517,-818 2517,-818 2600,-818 2600,-818 2606,-818 2612,-824 2612,-830 2612,-830 2612,-889 2612,-889 2612,-895 2606,-901 2600,-901\"/>\n<text text-anchor=\"start\" x=\"2522\" y=\"-885.8\" font-family=\"Helvetica,sans-Serif\" font-size=\"14.00\" fill=\"#000000\">age ≤ &#45;0.57</text>\n<text text-anchor=\"start\" x=\"2520.5\" y=\"-870.8\" font-family=\"Helvetica,sans-Serif\" font-size=\"14.00\" fill=\"#000000\">gini = 0.457</text>\n<text text-anchor=\"start\" x=\"2514.5\" y=\"-855.8\" font-family=\"Helvetica,sans-Serif\" font-size=\"14.00\" fill=\"#000000\">samples = 17</text>\n<text text-anchor=\"start\" x=\"2513\" y=\"-840.8\" font-family=\"Helvetica,sans-Serif\" font-size=\"14.00\" fill=\"#000000\">value = [11, 6]</text>\n<text text-anchor=\"start\" x=\"2532\" y=\"-825.8\" font-family=\"Helvetica,sans-Serif\" font-size=\"14.00\" fill=\"#000000\">class = l</text>\n</g>\n<!-- 148&#45;&gt;149 -->\n<g id=\"edge149\" class=\"edge\">\n<title>148&#45;&gt;149</title>\n<path fill=\"none\" stroke=\"#000000\" d=\"M2558.5,-936.8796C2558.5,-928.6838 2558.5,-919.9891 2558.5,-911.5013\"/>\n<polygon fill=\"#000000\" stroke=\"#000000\" points=\"2562.0001,-911.298 2558.5,-901.2981 2555.0001,-911.2981 2562.0001,-911.298\"/>\n</g>\n<!-- 162 -->\n<g id=\"node163\" class=\"node\">\n<title>162</title>\n<path fill=\"#f1f8fd\" stroke=\"#000000\" d=\"M2852.5,-901C2852.5,-901 2750.5,-901 2750.5,-901 2744.5,-901 2738.5,-895 2738.5,-889 2738.5,-889 2738.5,-830 2738.5,-830 2738.5,-824 2744.5,-818 2750.5,-818 2750.5,-818 2852.5,-818 2852.5,-818 2858.5,-818 2864.5,-824 2864.5,-830 2864.5,-830 2864.5,-889 2864.5,-889 2864.5,-895 2858.5,-901 2852.5,-901\"/>\n<text text-anchor=\"start\" x=\"2746.5\" y=\"-885.8\" font-family=\"Helvetica,sans-Serif\" font-size=\"14.00\" fill=\"#000000\">Bechalor ≤ 0.696</text>\n<text text-anchor=\"start\" x=\"2763.5\" y=\"-870.8\" font-family=\"Helvetica,sans-Serif\" font-size=\"14.00\" fill=\"#000000\">gini = 0.499</text>\n<text text-anchor=\"start\" x=\"2757.5\" y=\"-855.8\" font-family=\"Helvetica,sans-Serif\" font-size=\"14.00\" fill=\"#000000\">samples = 27</text>\n<text text-anchor=\"start\" x=\"2751.5\" y=\"-840.8\" font-family=\"Helvetica,sans-Serif\" font-size=\"14.00\" fill=\"#000000\">value = [13, 14]</text>\n<text text-anchor=\"start\" x=\"2772.5\" y=\"-825.8\" font-family=\"Helvetica,sans-Serif\" font-size=\"14.00\" fill=\"#000000\">class = o</text>\n</g>\n<!-- 148&#45;&gt;162 -->\n<g id=\"edge162\" class=\"edge\">\n<title>148&#45;&gt;162</title>\n<path fill=\"none\" stroke=\"#000000\" d=\"M2616.7046,-949.9965C2650.3451,-933.5223 2692.9674,-912.6497 2728.7989,-895.1026\"/>\n<polygon fill=\"#000000\" stroke=\"#000000\" points=\"2730.7892,-898.0251 2738.2308,-890.4837 2727.7105,-891.7385 2730.7892,-898.0251\"/>\n</g>\n<!-- 150 -->\n<g id=\"node151\" class=\"node\">\n<title>150</title>\n<path fill=\"#f8e0ce\" stroke=\"#000000\" d=\"M2491.5,-782C2491.5,-782 2411.5,-782 2411.5,-782 2405.5,-782 2399.5,-776 2399.5,-770 2399.5,-770 2399.5,-711 2399.5,-711 2399.5,-705 2405.5,-699 2411.5,-699 2411.5,-699 2491.5,-699 2491.5,-699 2497.5,-699 2503.5,-705 2503.5,-711 2503.5,-711 2503.5,-770 2503.5,-770 2503.5,-776 2497.5,-782 2491.5,-782\"/>\n<text text-anchor=\"start\" x=\"2410.5\" y=\"-766.8\" font-family=\"Helvetica,sans-Serif\" font-size=\"14.00\" fill=\"#000000\">age ≤ &#45;0.902</text>\n<text text-anchor=\"start\" x=\"2418\" y=\"-751.8\" font-family=\"Helvetica,sans-Serif\" font-size=\"14.00\" fill=\"#000000\">gini = 0.49</text>\n<text text-anchor=\"start\" x=\"2407.5\" y=\"-736.8\" font-family=\"Helvetica,sans-Serif\" font-size=\"14.00\" fill=\"#000000\">samples = 14</text>\n<text text-anchor=\"start\" x=\"2410\" y=\"-721.8\" font-family=\"Helvetica,sans-Serif\" font-size=\"14.00\" fill=\"#000000\">value = [8, 6]</text>\n<text text-anchor=\"start\" x=\"2425\" y=\"-706.8\" font-family=\"Helvetica,sans-Serif\" font-size=\"14.00\" fill=\"#000000\">class = l</text>\n</g>\n<!-- 149&#45;&gt;150 -->\n<g id=\"edge150\" class=\"edge\">\n<title>149&#45;&gt;150</title>\n<path fill=\"none\" stroke=\"#000000\" d=\"M2521.0766,-817.8796C2512.9785,-808.8733 2504.3386,-799.2644 2495.9991,-789.9897\"/>\n<polygon fill=\"#000000\" stroke=\"#000000\" points=\"2498.372,-787.394 2489.0831,-782.2981 2493.1667,-792.0743 2498.372,-787.394\"/>\n</g>\n<!-- 161 -->\n<g id=\"node162\" class=\"node\">\n<title>161</title>\n<path fill=\"#e58139\" stroke=\"#000000\" d=\"M2609,-774.5C2609,-774.5 2534,-774.5 2534,-774.5 2528,-774.5 2522,-768.5 2522,-762.5 2522,-762.5 2522,-718.5 2522,-718.5 2522,-712.5 2528,-706.5 2534,-706.5 2534,-706.5 2609,-706.5 2609,-706.5 2615,-706.5 2621,-712.5 2621,-718.5 2621,-718.5 2621,-762.5 2621,-762.5 2621,-768.5 2615,-774.5 2609,-774.5\"/>\n<text text-anchor=\"start\" x=\"2542\" y=\"-759.3\" font-family=\"Helvetica,sans-Serif\" font-size=\"14.00\" fill=\"#000000\">gini = 0.0</text>\n<text text-anchor=\"start\" x=\"2532\" y=\"-744.3\" font-family=\"Helvetica,sans-Serif\" font-size=\"14.00\" fill=\"#000000\">samples = 3</text>\n<text text-anchor=\"start\" x=\"2530\" y=\"-729.3\" font-family=\"Helvetica,sans-Serif\" font-size=\"14.00\" fill=\"#000000\">value = [3, 0]</text>\n<text text-anchor=\"start\" x=\"2545\" y=\"-714.3\" font-family=\"Helvetica,sans-Serif\" font-size=\"14.00\" fill=\"#000000\">class = l</text>\n</g>\n<!-- 149&#45;&gt;161 -->\n<g id=\"edge161\" class=\"edge\">\n<title>149&#45;&gt;161</title>\n<path fill=\"none\" stroke=\"#000000\" d=\"M2563.0468,-817.8796C2564.212,-807.2134 2565.4695,-795.7021 2566.6494,-784.9015\"/>\n<polygon fill=\"#000000\" stroke=\"#000000\" points=\"2570.1445,-785.1359 2567.7513,-774.8149 2563.1859,-784.3757 2570.1445,-785.1359\"/>\n</g>\n<!-- 151 -->\n<g id=\"node152\" class=\"node\">\n<title>151</title>\n<path fill=\"#bddef6\" stroke=\"#000000\" d=\"M2389,-663C2389,-663 2304,-663 2304,-663 2298,-663 2292,-657 2292,-651 2292,-651 2292,-592 2292,-592 2292,-586 2298,-580 2304,-580 2304,-580 2389,-580 2389,-580 2395,-580 2401,-586 2401,-592 2401,-592 2401,-651 2401,-651 2401,-657 2395,-663 2389,-663\"/>\n<text text-anchor=\"start\" x=\"2300\" y=\"-647.8\" font-family=\"Helvetica,sans-Serif\" font-size=\"14.00\" fill=\"#000000\">terms ≤ &#45;0.019</text>\n<text text-anchor=\"start\" x=\"2313\" y=\"-632.8\" font-family=\"Helvetica,sans-Serif\" font-size=\"14.00\" fill=\"#000000\">gini = 0.48</text>\n<text text-anchor=\"start\" x=\"2307\" y=\"-617.8\" font-family=\"Helvetica,sans-Serif\" font-size=\"14.00\" fill=\"#000000\">samples = 5</text>\n<text text-anchor=\"start\" x=\"2305\" y=\"-602.8\" font-family=\"Helvetica,sans-Serif\" font-size=\"14.00\" fill=\"#000000\">value = [2, 3]</text>\n<text text-anchor=\"start\" x=\"2317.5\" y=\"-587.8\" font-family=\"Helvetica,sans-Serif\" font-size=\"14.00\" fill=\"#000000\">class = o</text>\n</g>\n<!-- 150&#45;&gt;151 -->\n<g id=\"edge151\" class=\"edge\">\n<title>150&#45;&gt;151</title>\n<path fill=\"none\" stroke=\"#000000\" d=\"M2414.7761,-698.8796C2406.8293,-689.8733 2398.351,-680.2644 2390.1674,-670.9897\"/>\n<polygon fill=\"#000000\" stroke=\"#000000\" points=\"2392.6213,-668.4808 2383.3807,-663.2981 2387.3725,-673.1122 2392.6213,-668.4808\"/>\n</g>\n<!-- 154 -->\n<g id=\"node155\" class=\"node\">\n<title>154</title>\n<path fill=\"#f2c09c\" stroke=\"#000000\" d=\"M2533.5,-663C2533.5,-663 2431.5,-663 2431.5,-663 2425.5,-663 2419.5,-657 2419.5,-651 2419.5,-651 2419.5,-592 2419.5,-592 2419.5,-586 2425.5,-580 2431.5,-580 2431.5,-580 2533.5,-580 2533.5,-580 2539.5,-580 2545.5,-586 2545.5,-592 2545.5,-592 2545.5,-651 2545.5,-651 2545.5,-657 2539.5,-663 2533.5,-663\"/>\n<text text-anchor=\"start\" x=\"2427.5\" y=\"-647.8\" font-family=\"Helvetica,sans-Serif\" font-size=\"14.00\" fill=\"#000000\">Bechalor ≤ 0.696</text>\n<text text-anchor=\"start\" x=\"2444.5\" y=\"-632.8\" font-family=\"Helvetica,sans-Serif\" font-size=\"14.00\" fill=\"#000000\">gini = 0.444</text>\n<text text-anchor=\"start\" x=\"2443\" y=\"-617.8\" font-family=\"Helvetica,sans-Serif\" font-size=\"14.00\" fill=\"#000000\">samples = 9</text>\n<text text-anchor=\"start\" x=\"2441\" y=\"-602.8\" font-family=\"Helvetica,sans-Serif\" font-size=\"14.00\" fill=\"#000000\">value = [6, 3]</text>\n<text text-anchor=\"start\" x=\"2456\" y=\"-587.8\" font-family=\"Helvetica,sans-Serif\" font-size=\"14.00\" fill=\"#000000\">class = l</text>\n</g>\n<!-- 150&#45;&gt;154 -->\n<g id=\"edge154\" class=\"edge\">\n<title>150&#45;&gt;154</title>\n<path fill=\"none\" stroke=\"#000000\" d=\"M2462.3423,-698.8796C2464.5008,-690.5938 2466.7921,-681.798 2469.0263,-673.2216\"/>\n<polygon fill=\"#000000\" stroke=\"#000000\" points=\"2472.4774,-673.8575 2471.6114,-663.2981 2465.7035,-672.0928 2472.4774,-673.8575\"/>\n</g>\n<!-- 152 -->\n<g id=\"node153\" class=\"node\">\n<title>152</title>\n<path fill=\"#f2c09c\" stroke=\"#000000\" d=\"M2276,-536.5C2276,-536.5 2201,-536.5 2201,-536.5 2195,-536.5 2189,-530.5 2189,-524.5 2189,-524.5 2189,-480.5 2189,-480.5 2189,-474.5 2195,-468.5 2201,-468.5 2201,-468.5 2276,-468.5 2276,-468.5 2282,-468.5 2288,-474.5 2288,-480.5 2288,-480.5 2288,-524.5 2288,-524.5 2288,-530.5 2282,-536.5 2276,-536.5\"/>\n<text text-anchor=\"start\" x=\"2200.5\" y=\"-521.3\" font-family=\"Helvetica,sans-Serif\" font-size=\"14.00\" fill=\"#000000\">gini = 0.444</text>\n<text text-anchor=\"start\" x=\"2199\" y=\"-506.3\" font-family=\"Helvetica,sans-Serif\" font-size=\"14.00\" fill=\"#000000\">samples = 3</text>\n<text text-anchor=\"start\" x=\"2197\" y=\"-491.3\" font-family=\"Helvetica,sans-Serif\" font-size=\"14.00\" fill=\"#000000\">value = [2, 1]</text>\n<text text-anchor=\"start\" x=\"2212\" y=\"-476.3\" font-family=\"Helvetica,sans-Serif\" font-size=\"14.00\" fill=\"#000000\">class = l</text>\n</g>\n<!-- 151&#45;&gt;152 -->\n<g id=\"edge152\" class=\"edge\">\n<title>151&#45;&gt;152</title>\n<path fill=\"none\" stroke=\"#000000\" d=\"M2308.7268,-579.8796C2298.2482,-568.3337 2286.8709,-555.7976 2276.3859,-544.2446\"/>\n<polygon fill=\"#000000\" stroke=\"#000000\" points=\"2278.9553,-541.8678 2269.643,-536.8149 2273.7718,-546.5722 2278.9553,-541.8678\"/>\n</g>\n<!-- 153 -->\n<g id=\"node154\" class=\"node\">\n<title>153</title>\n<path fill=\"#399de5\" stroke=\"#000000\" d=\"M2393,-536.5C2393,-536.5 2318,-536.5 2318,-536.5 2312,-536.5 2306,-530.5 2306,-524.5 2306,-524.5 2306,-480.5 2306,-480.5 2306,-474.5 2312,-468.5 2318,-468.5 2318,-468.5 2393,-468.5 2393,-468.5 2399,-468.5 2405,-474.5 2405,-480.5 2405,-480.5 2405,-524.5 2405,-524.5 2405,-530.5 2399,-536.5 2393,-536.5\"/>\n<text text-anchor=\"start\" x=\"2326\" y=\"-521.3\" font-family=\"Helvetica,sans-Serif\" font-size=\"14.00\" fill=\"#000000\">gini = 0.0</text>\n<text text-anchor=\"start\" x=\"2316\" y=\"-506.3\" font-family=\"Helvetica,sans-Serif\" font-size=\"14.00\" fill=\"#000000\">samples = 2</text>\n<text text-anchor=\"start\" x=\"2314\" y=\"-491.3\" font-family=\"Helvetica,sans-Serif\" font-size=\"14.00\" fill=\"#000000\">value = [0, 2]</text>\n<text text-anchor=\"start\" x=\"2326.5\" y=\"-476.3\" font-family=\"Helvetica,sans-Serif\" font-size=\"14.00\" fill=\"#000000\">class = o</text>\n</g>\n<!-- 151&#45;&gt;153 -->\n<g id=\"edge153\" class=\"edge\">\n<title>151&#45;&gt;153</title>\n<path fill=\"none\" stroke=\"#000000\" d=\"M2349.6478,-579.8796C2350.4545,-569.2134 2351.3251,-557.7021 2352.1419,-546.9015\"/>\n<polygon fill=\"#000000\" stroke=\"#000000\" points=\"2355.6405,-547.0504 2352.9048,-536.8149 2348.6605,-546.5225 2355.6405,-547.0504\"/>\n</g>\n<!-- 155 -->\n<g id=\"node156\" class=\"node\">\n<title>155</title>\n<path fill=\"#e58139\" stroke=\"#000000\" d=\"M2510,-536.5C2510,-536.5 2435,-536.5 2435,-536.5 2429,-536.5 2423,-530.5 2423,-524.5 2423,-524.5 2423,-480.5 2423,-480.5 2423,-474.5 2429,-468.5 2435,-468.5 2435,-468.5 2510,-468.5 2510,-468.5 2516,-468.5 2522,-474.5 2522,-480.5 2522,-480.5 2522,-524.5 2522,-524.5 2522,-530.5 2516,-536.5 2510,-536.5\"/>\n<text text-anchor=\"start\" x=\"2443\" y=\"-521.3\" font-family=\"Helvetica,sans-Serif\" font-size=\"14.00\" fill=\"#000000\">gini = 0.0</text>\n<text text-anchor=\"start\" x=\"2433\" y=\"-506.3\" font-family=\"Helvetica,sans-Serif\" font-size=\"14.00\" fill=\"#000000\">samples = 3</text>\n<text text-anchor=\"start\" x=\"2431\" y=\"-491.3\" font-family=\"Helvetica,sans-Serif\" font-size=\"14.00\" fill=\"#000000\">value = [3, 0]</text>\n<text text-anchor=\"start\" x=\"2446\" y=\"-476.3\" font-family=\"Helvetica,sans-Serif\" font-size=\"14.00\" fill=\"#000000\">class = l</text>\n</g>\n<!-- 154&#45;&gt;155 -->\n<g id=\"edge155\" class=\"edge\">\n<title>154&#45;&gt;155</title>\n<path fill=\"none\" stroke=\"#000000\" d=\"M2479.0025,-579.8796C2478.1062,-569.2134 2477.1388,-557.7021 2476.2312,-546.9015\"/>\n<polygon fill=\"#000000\" stroke=\"#000000\" points=\"2479.7088,-546.4867 2475.3836,-536.8149 2472.7334,-547.0729 2479.7088,-546.4867\"/>\n</g>\n<!-- 156 -->\n<g id=\"node157\" class=\"node\">\n<title>156</title>\n<path fill=\"#ffffff\" stroke=\"#000000\" d=\"M2637,-544C2637,-544 2552,-544 2552,-544 2546,-544 2540,-538 2540,-532 2540,-532 2540,-473 2540,-473 2540,-467 2546,-461 2552,-461 2552,-461 2637,-461 2637,-461 2643,-461 2649,-467 2649,-473 2649,-473 2649,-532 2649,-532 2649,-538 2643,-544 2637,-544\"/>\n<text text-anchor=\"start\" x=\"2548\" y=\"-528.8\" font-family=\"Helvetica,sans-Serif\" font-size=\"14.00\" fill=\"#000000\">terms ≤ &#45;0.019</text>\n<text text-anchor=\"start\" x=\"2565\" y=\"-513.8\" font-family=\"Helvetica,sans-Serif\" font-size=\"14.00\" fill=\"#000000\">gini = 0.5</text>\n<text text-anchor=\"start\" x=\"2555\" y=\"-498.8\" font-family=\"Helvetica,sans-Serif\" font-size=\"14.00\" fill=\"#000000\">samples = 6</text>\n<text text-anchor=\"start\" x=\"2553\" y=\"-483.8\" font-family=\"Helvetica,sans-Serif\" font-size=\"14.00\" fill=\"#000000\">value = [3, 3]</text>\n<text text-anchor=\"start\" x=\"2568\" y=\"-468.8\" font-family=\"Helvetica,sans-Serif\" font-size=\"14.00\" fill=\"#000000\">class = l</text>\n</g>\n<!-- 154&#45;&gt;156 -->\n<g id=\"edge156\" class=\"edge\">\n<title>154&#45;&gt;156</title>\n<path fill=\"none\" stroke=\"#000000\" d=\"M2521.6722,-579.8796C2530.2335,-570.7832 2539.3732,-561.0722 2548.1832,-551.7116\"/>\n<polygon fill=\"#000000\" stroke=\"#000000\" points=\"2550.8557,-553.9789 2555.1606,-544.2981 2545.7583,-549.1813 2550.8557,-553.9789\"/>\n</g>\n<!-- 157 -->\n<g id=\"node158\" class=\"node\">\n<title>157</title>\n<path fill=\"#399de5\" stroke=\"#000000\" d=\"M2575,-417.5C2575,-417.5 2500,-417.5 2500,-417.5 2494,-417.5 2488,-411.5 2488,-405.5 2488,-405.5 2488,-361.5 2488,-361.5 2488,-355.5 2494,-349.5 2500,-349.5 2500,-349.5 2575,-349.5 2575,-349.5 2581,-349.5 2587,-355.5 2587,-361.5 2587,-361.5 2587,-405.5 2587,-405.5 2587,-411.5 2581,-417.5 2575,-417.5\"/>\n<text text-anchor=\"start\" x=\"2508\" y=\"-402.3\" font-family=\"Helvetica,sans-Serif\" font-size=\"14.00\" fill=\"#000000\">gini = 0.0</text>\n<text text-anchor=\"start\" x=\"2498\" y=\"-387.3\" font-family=\"Helvetica,sans-Serif\" font-size=\"14.00\" fill=\"#000000\">samples = 1</text>\n<text text-anchor=\"start\" x=\"2496\" y=\"-372.3\" font-family=\"Helvetica,sans-Serif\" font-size=\"14.00\" fill=\"#000000\">value = [0, 1]</text>\n<text text-anchor=\"start\" x=\"2508.5\" y=\"-357.3\" font-family=\"Helvetica,sans-Serif\" font-size=\"14.00\" fill=\"#000000\">class = o</text>\n</g>\n<!-- 156&#45;&gt;157 -->\n<g id=\"edge157\" class=\"edge\">\n<title>156&#45;&gt;157</title>\n<path fill=\"none\" stroke=\"#000000\" d=\"M2574.5642,-460.8796C2569.2971,-449.8835 2563.5999,-437.9893 2558.289,-426.9015\"/>\n<polygon fill=\"#000000\" stroke=\"#000000\" points=\"2561.4131,-425.3217 2553.9366,-417.8149 2555.1,-428.3457 2561.4131,-425.3217\"/>\n</g>\n<!-- 158 -->\n<g id=\"node159\" class=\"node\">\n<title>158</title>\n<path fill=\"#f6d5bd\" stroke=\"#000000\" d=\"M2692,-425C2692,-425 2617,-425 2617,-425 2611,-425 2605,-419 2605,-413 2605,-413 2605,-354 2605,-354 2605,-348 2611,-342 2617,-342 2617,-342 2692,-342 2692,-342 2698,-342 2704,-348 2704,-354 2704,-354 2704,-413 2704,-413 2704,-419 2698,-425 2692,-425\"/>\n<text text-anchor=\"start\" x=\"2613.5\" y=\"-409.8\" font-family=\"Helvetica,sans-Serif\" font-size=\"14.00\" fill=\"#000000\">age ≤ &#45;0.736</text>\n<text text-anchor=\"start\" x=\"2621\" y=\"-394.8\" font-family=\"Helvetica,sans-Serif\" font-size=\"14.00\" fill=\"#000000\">gini = 0.48</text>\n<text text-anchor=\"start\" x=\"2615\" y=\"-379.8\" font-family=\"Helvetica,sans-Serif\" font-size=\"14.00\" fill=\"#000000\">samples = 5</text>\n<text text-anchor=\"start\" x=\"2613\" y=\"-364.8\" font-family=\"Helvetica,sans-Serif\" font-size=\"14.00\" fill=\"#000000\">value = [3, 2]</text>\n<text text-anchor=\"start\" x=\"2628\" y=\"-349.8\" font-family=\"Helvetica,sans-Serif\" font-size=\"14.00\" fill=\"#000000\">class = l</text>\n</g>\n<!-- 156&#45;&gt;158 -->\n<g id=\"edge158\" class=\"edge\">\n<title>156&#45;&gt;158</title>\n<path fill=\"none\" stroke=\"#000000\" d=\"M2615.4851,-460.8796C2619.799,-452.3236 2624.3872,-443.2238 2628.8446,-434.3833\"/>\n<polygon fill=\"#000000\" stroke=\"#000000\" points=\"2632.0484,-435.8031 2633.4253,-425.2981 2625.7979,-432.6515 2632.0484,-435.8031\"/>\n</g>\n<!-- 159 -->\n<g id=\"node160\" class=\"node\">\n<title>159</title>\n<path fill=\"#ffffff\" stroke=\"#000000\" d=\"M2663,-298.5C2663,-298.5 2588,-298.5 2588,-298.5 2582,-298.5 2576,-292.5 2576,-286.5 2576,-286.5 2576,-242.5 2576,-242.5 2576,-236.5 2582,-230.5 2588,-230.5 2588,-230.5 2663,-230.5 2663,-230.5 2669,-230.5 2675,-236.5 2675,-242.5 2675,-242.5 2675,-286.5 2675,-286.5 2675,-292.5 2669,-298.5 2663,-298.5\"/>\n<text text-anchor=\"start\" x=\"2596\" y=\"-283.3\" font-family=\"Helvetica,sans-Serif\" font-size=\"14.00\" fill=\"#000000\">gini = 0.5</text>\n<text text-anchor=\"start\" x=\"2586\" y=\"-268.3\" font-family=\"Helvetica,sans-Serif\" font-size=\"14.00\" fill=\"#000000\">samples = 2</text>\n<text text-anchor=\"start\" x=\"2584\" y=\"-253.3\" font-family=\"Helvetica,sans-Serif\" font-size=\"14.00\" fill=\"#000000\">value = [1, 1]</text>\n<text text-anchor=\"start\" x=\"2599\" y=\"-238.3\" font-family=\"Helvetica,sans-Serif\" font-size=\"14.00\" fill=\"#000000\">class = l</text>\n</g>\n<!-- 158&#45;&gt;159 -->\n<g id=\"edge159\" class=\"edge\">\n<title>158&#45;&gt;159</title>\n<path fill=\"none\" stroke=\"#000000\" d=\"M2644.3572,-341.8796C2641.7311,-331.1034 2638.8948,-319.4647 2636.2392,-308.5677\"/>\n<polygon fill=\"#000000\" stroke=\"#000000\" points=\"2639.6307,-307.7019 2633.8625,-298.8149 2632.8297,-309.3593 2639.6307,-307.7019\"/>\n</g>\n<!-- 160 -->\n<g id=\"node161\" class=\"node\">\n<title>160</title>\n<path fill=\"#f2c09c\" stroke=\"#000000\" d=\"M2780,-298.5C2780,-298.5 2705,-298.5 2705,-298.5 2699,-298.5 2693,-292.5 2693,-286.5 2693,-286.5 2693,-242.5 2693,-242.5 2693,-236.5 2699,-230.5 2705,-230.5 2705,-230.5 2780,-230.5 2780,-230.5 2786,-230.5 2792,-236.5 2792,-242.5 2792,-242.5 2792,-286.5 2792,-286.5 2792,-292.5 2786,-298.5 2780,-298.5\"/>\n<text text-anchor=\"start\" x=\"2704.5\" y=\"-283.3\" font-family=\"Helvetica,sans-Serif\" font-size=\"14.00\" fill=\"#000000\">gini = 0.444</text>\n<text text-anchor=\"start\" x=\"2703\" y=\"-268.3\" font-family=\"Helvetica,sans-Serif\" font-size=\"14.00\" fill=\"#000000\">samples = 3</text>\n<text text-anchor=\"start\" x=\"2701\" y=\"-253.3\" font-family=\"Helvetica,sans-Serif\" font-size=\"14.00\" fill=\"#000000\">value = [2, 1]</text>\n<text text-anchor=\"start\" x=\"2716\" y=\"-238.3\" font-family=\"Helvetica,sans-Serif\" font-size=\"14.00\" fill=\"#000000\">class = l</text>\n</g>\n<!-- 158&#45;&gt;160 -->\n<g id=\"edge160\" class=\"edge\">\n<title>158&#45;&gt;160</title>\n<path fill=\"none\" stroke=\"#000000\" d=\"M2685.2781,-341.8796C2693.6536,-330.5536 2702.7338,-318.2748 2711.1411,-306.9058\"/>\n<polygon fill=\"#000000\" stroke=\"#000000\" points=\"2713.9925,-308.9364 2717.1242,-298.8149 2708.3643,-304.7743 2713.9925,-308.9364\"/>\n</g>\n<!-- 163 -->\n<g id=\"node164\" class=\"node\">\n<title>163</title>\n<path fill=\"#7bbeee\" stroke=\"#000000\" d=\"M2852.5,-782C2852.5,-782 2750.5,-782 2750.5,-782 2744.5,-782 2738.5,-776 2738.5,-770 2738.5,-770 2738.5,-711 2738.5,-711 2738.5,-705 2744.5,-699 2750.5,-699 2750.5,-699 2852.5,-699 2852.5,-699 2858.5,-699 2864.5,-705 2864.5,-711 2864.5,-711 2864.5,-770 2864.5,-770 2864.5,-776 2858.5,-782 2852.5,-782\"/>\n<text text-anchor=\"start\" x=\"2746.5\" y=\"-766.8\" font-family=\"Helvetica,sans-Serif\" font-size=\"14.00\" fill=\"#000000\">Bechalor ≤ 0.313</text>\n<text text-anchor=\"start\" x=\"2763.5\" y=\"-751.8\" font-family=\"Helvetica,sans-Serif\" font-size=\"14.00\" fill=\"#000000\">gini = 0.375</text>\n<text text-anchor=\"start\" x=\"2762\" y=\"-736.8\" font-family=\"Helvetica,sans-Serif\" font-size=\"14.00\" fill=\"#000000\">samples = 4</text>\n<text text-anchor=\"start\" x=\"2760\" y=\"-721.8\" font-family=\"Helvetica,sans-Serif\" font-size=\"14.00\" fill=\"#000000\">value = [1, 3]</text>\n<text text-anchor=\"start\" x=\"2772.5\" y=\"-706.8\" font-family=\"Helvetica,sans-Serif\" font-size=\"14.00\" fill=\"#000000\">class = o</text>\n</g>\n<!-- 162&#45;&gt;163 -->\n<g id=\"edge163\" class=\"edge\">\n<title>162&#45;&gt;163</title>\n<path fill=\"none\" stroke=\"#000000\" d=\"M2801.5,-817.8796C2801.5,-809.6838 2801.5,-800.9891 2801.5,-792.5013\"/>\n<polygon fill=\"#000000\" stroke=\"#000000\" points=\"2805.0001,-792.298 2801.5,-782.2981 2798.0001,-792.2981 2805.0001,-792.298\"/>\n</g>\n<!-- 168 -->\n<g id=\"node169\" class=\"node\">\n<title>168</title>\n<path fill=\"#fdf5ef\" stroke=\"#000000\" d=\"M3078.5,-782C3078.5,-782 2986.5,-782 2986.5,-782 2980.5,-782 2974.5,-776 2974.5,-770 2974.5,-770 2974.5,-711 2974.5,-711 2974.5,-705 2980.5,-699 2986.5,-699 2986.5,-699 3078.5,-699 3078.5,-699 3084.5,-699 3090.5,-705 3090.5,-711 3090.5,-711 3090.5,-770 3090.5,-770 3090.5,-776 3084.5,-782 3078.5,-782\"/>\n<text text-anchor=\"start\" x=\"2994\" y=\"-766.8\" font-family=\"Helvetica,sans-Serif\" font-size=\"14.00\" fill=\"#000000\">age ≤ 0.259</text>\n<text text-anchor=\"start\" x=\"2994.5\" y=\"-751.8\" font-family=\"Helvetica,sans-Serif\" font-size=\"14.00\" fill=\"#000000\">gini = 0.499</text>\n<text text-anchor=\"start\" x=\"2988.5\" y=\"-736.8\" font-family=\"Helvetica,sans-Serif\" font-size=\"14.00\" fill=\"#000000\">samples = 23</text>\n<text text-anchor=\"start\" x=\"2982.5\" y=\"-721.8\" font-family=\"Helvetica,sans-Serif\" font-size=\"14.00\" fill=\"#000000\">value = [12, 11]</text>\n<text text-anchor=\"start\" x=\"3006\" y=\"-706.8\" font-family=\"Helvetica,sans-Serif\" font-size=\"14.00\" fill=\"#000000\">class = l</text>\n</g>\n<!-- 162&#45;&gt;168 -->\n<g id=\"edge168\" class=\"edge\">\n<title>162&#45;&gt;168</title>\n<path fill=\"none\" stroke=\"#000000\" d=\"M2864.6218,-826.9827C2895.7468,-810.9486 2933.3101,-791.5978 2965.006,-775.2697\"/>\n<polygon fill=\"#000000\" stroke=\"#000000\" points=\"2966.9221,-778.2198 2974.2089,-770.5287 2963.7163,-771.9969 2966.9221,-778.2198\"/>\n</g>\n<!-- 164 -->\n<g id=\"node165\" class=\"node\">\n<title>164</title>\n<path fill=\"#ffffff\" stroke=\"#000000\" d=\"M2783,-663C2783,-663 2698,-663 2698,-663 2692,-663 2686,-657 2686,-651 2686,-651 2686,-592 2686,-592 2686,-586 2692,-580 2698,-580 2698,-580 2783,-580 2783,-580 2789,-580 2795,-586 2795,-592 2795,-592 2795,-651 2795,-651 2795,-657 2789,-663 2783,-663\"/>\n<text text-anchor=\"start\" x=\"2694\" y=\"-647.8\" font-family=\"Helvetica,sans-Serif\" font-size=\"14.00\" fill=\"#000000\">terms ≤ &#45;0.019</text>\n<text text-anchor=\"start\" x=\"2711\" y=\"-632.8\" font-family=\"Helvetica,sans-Serif\" font-size=\"14.00\" fill=\"#000000\">gini = 0.5</text>\n<text text-anchor=\"start\" x=\"2701\" y=\"-617.8\" font-family=\"Helvetica,sans-Serif\" font-size=\"14.00\" fill=\"#000000\">samples = 2</text>\n<text text-anchor=\"start\" x=\"2699\" y=\"-602.8\" font-family=\"Helvetica,sans-Serif\" font-size=\"14.00\" fill=\"#000000\">value = [1, 1]</text>\n<text text-anchor=\"start\" x=\"2714\" y=\"-587.8\" font-family=\"Helvetica,sans-Serif\" font-size=\"14.00\" fill=\"#000000\">class = l</text>\n</g>\n<!-- 163&#45;&gt;164 -->\n<g id=\"edge164\" class=\"edge\">\n<title>163&#45;&gt;164</title>\n<path fill=\"none\" stroke=\"#000000\" d=\"M2780.1652,-698.8796C2775.7793,-690.3236 2771.1147,-681.2238 2766.583,-672.3833\"/>\n<polygon fill=\"#000000\" stroke=\"#000000\" points=\"2769.6022,-670.6004 2761.9259,-663.2981 2763.373,-673.7936 2769.6022,-670.6004\"/>\n</g>\n<!-- 167 -->\n<g id=\"node168\" class=\"node\">\n<title>167</title>\n<path fill=\"#399de5\" stroke=\"#000000\" d=\"M2900,-655.5C2900,-655.5 2825,-655.5 2825,-655.5 2819,-655.5 2813,-649.5 2813,-643.5 2813,-643.5 2813,-599.5 2813,-599.5 2813,-593.5 2819,-587.5 2825,-587.5 2825,-587.5 2900,-587.5 2900,-587.5 2906,-587.5 2912,-593.5 2912,-599.5 2912,-599.5 2912,-643.5 2912,-643.5 2912,-649.5 2906,-655.5 2900,-655.5\"/>\n<text text-anchor=\"start\" x=\"2833\" y=\"-640.3\" font-family=\"Helvetica,sans-Serif\" font-size=\"14.00\" fill=\"#000000\">gini = 0.0</text>\n<text text-anchor=\"start\" x=\"2823\" y=\"-625.3\" font-family=\"Helvetica,sans-Serif\" font-size=\"14.00\" fill=\"#000000\">samples = 2</text>\n<text text-anchor=\"start\" x=\"2821\" y=\"-610.3\" font-family=\"Helvetica,sans-Serif\" font-size=\"14.00\" fill=\"#000000\">value = [0, 2]</text>\n<text text-anchor=\"start\" x=\"2833.5\" y=\"-595.3\" font-family=\"Helvetica,sans-Serif\" font-size=\"14.00\" fill=\"#000000\">class = o</text>\n</g>\n<!-- 163&#45;&gt;167 -->\n<g id=\"edge167\" class=\"edge\">\n<title>163&#45;&gt;167</title>\n<path fill=\"none\" stroke=\"#000000\" d=\"M2822.8348,-698.8796C2828.4715,-687.8835 2834.5685,-675.9893 2840.2522,-664.9015\"/>\n<polygon fill=\"#000000\" stroke=\"#000000\" points=\"2843.4629,-666.3105 2844.91,-655.8149 2837.2337,-663.1173 2843.4629,-666.3105\"/>\n</g>\n<!-- 165 -->\n<g id=\"node166\" class=\"node\">\n<title>165</title>\n<path fill=\"#399de5\" stroke=\"#000000\" d=\"M2754,-536.5C2754,-536.5 2679,-536.5 2679,-536.5 2673,-536.5 2667,-530.5 2667,-524.5 2667,-524.5 2667,-480.5 2667,-480.5 2667,-474.5 2673,-468.5 2679,-468.5 2679,-468.5 2754,-468.5 2754,-468.5 2760,-468.5 2766,-474.5 2766,-480.5 2766,-480.5 2766,-524.5 2766,-524.5 2766,-530.5 2760,-536.5 2754,-536.5\"/>\n<text text-anchor=\"start\" x=\"2687\" y=\"-521.3\" font-family=\"Helvetica,sans-Serif\" font-size=\"14.00\" fill=\"#000000\">gini = 0.0</text>\n<text text-anchor=\"start\" x=\"2677\" y=\"-506.3\" font-family=\"Helvetica,sans-Serif\" font-size=\"14.00\" fill=\"#000000\">samples = 1</text>\n<text text-anchor=\"start\" x=\"2675\" y=\"-491.3\" font-family=\"Helvetica,sans-Serif\" font-size=\"14.00\" fill=\"#000000\">value = [0, 1]</text>\n<text text-anchor=\"start\" x=\"2687.5\" y=\"-476.3\" font-family=\"Helvetica,sans-Serif\" font-size=\"14.00\" fill=\"#000000\">class = o</text>\n</g>\n<!-- 164&#45;&gt;165 -->\n<g id=\"edge165\" class=\"edge\">\n<title>164&#45;&gt;165</title>\n<path fill=\"none\" stroke=\"#000000\" d=\"M2732.106,-579.8796C2729.9548,-569.2134 2727.6332,-557.7021 2725.4549,-546.9015\"/>\n<polygon fill=\"#000000\" stroke=\"#000000\" points=\"2728.8287,-545.9256 2723.4207,-536.8149 2721.9668,-547.3095 2728.8287,-545.9256\"/>\n</g>\n<!-- 166 -->\n<g id=\"node167\" class=\"node\">\n<title>166</title>\n<path fill=\"#e58139\" stroke=\"#000000\" d=\"M2871,-536.5C2871,-536.5 2796,-536.5 2796,-536.5 2790,-536.5 2784,-530.5 2784,-524.5 2784,-524.5 2784,-480.5 2784,-480.5 2784,-474.5 2790,-468.5 2796,-468.5 2796,-468.5 2871,-468.5 2871,-468.5 2877,-468.5 2883,-474.5 2883,-480.5 2883,-480.5 2883,-524.5 2883,-524.5 2883,-530.5 2877,-536.5 2871,-536.5\"/>\n<text text-anchor=\"start\" x=\"2804\" y=\"-521.3\" font-family=\"Helvetica,sans-Serif\" font-size=\"14.00\" fill=\"#000000\">gini = 0.0</text>\n<text text-anchor=\"start\" x=\"2794\" y=\"-506.3\" font-family=\"Helvetica,sans-Serif\" font-size=\"14.00\" fill=\"#000000\">samples = 1</text>\n<text text-anchor=\"start\" x=\"2792\" y=\"-491.3\" font-family=\"Helvetica,sans-Serif\" font-size=\"14.00\" fill=\"#000000\">value = [1, 0]</text>\n<text text-anchor=\"start\" x=\"2807\" y=\"-476.3\" font-family=\"Helvetica,sans-Serif\" font-size=\"14.00\" fill=\"#000000\">class = l</text>\n</g>\n<!-- 164&#45;&gt;166 -->\n<g id=\"edge166\" class=\"edge\">\n<title>164&#45;&gt;166</title>\n<path fill=\"none\" stroke=\"#000000\" d=\"M2773.0269,-579.8796C2781.8783,-568.5536 2791.4743,-556.2748 2800.3593,-544.9058\"/>\n<polygon fill=\"#000000\" stroke=\"#000000\" points=\"2803.2824,-546.8494 2806.6824,-536.8149 2797.7669,-542.539 2803.2824,-546.8494\"/>\n</g>\n<!-- 169 -->\n<g id=\"node170\" class=\"node\">\n<title>169</title>\n<path fill=\"#cee6f8\" stroke=\"#000000\" d=\"M3075,-663C3075,-663 2990,-663 2990,-663 2984,-663 2978,-657 2978,-651 2978,-651 2978,-592 2978,-592 2978,-586 2984,-580 2990,-580 2990,-580 3075,-580 3075,-580 3081,-580 3087,-586 3087,-592 3087,-592 3087,-651 3087,-651 3087,-657 3081,-663 3075,-663\"/>\n<text text-anchor=\"start\" x=\"2986\" y=\"-647.8\" font-family=\"Helvetica,sans-Serif\" font-size=\"14.00\" fill=\"#000000\">terms ≤ &#45;0.019</text>\n<text text-anchor=\"start\" x=\"2999\" y=\"-632.8\" font-family=\"Helvetica,sans-Serif\" font-size=\"14.00\" fill=\"#000000\">gini = 0.49</text>\n<text text-anchor=\"start\" x=\"2988.5\" y=\"-617.8\" font-family=\"Helvetica,sans-Serif\" font-size=\"14.00\" fill=\"#000000\">samples = 14</text>\n<text text-anchor=\"start\" x=\"2991\" y=\"-602.8\" font-family=\"Helvetica,sans-Serif\" font-size=\"14.00\" fill=\"#000000\">value = [6, 8]</text>\n<text text-anchor=\"start\" x=\"3003.5\" y=\"-587.8\" font-family=\"Helvetica,sans-Serif\" font-size=\"14.00\" fill=\"#000000\">class = o</text>\n</g>\n<!-- 168&#45;&gt;169 -->\n<g id=\"edge169\" class=\"edge\">\n<title>168&#45;&gt;169</title>\n<path fill=\"none\" stroke=\"#000000\" d=\"M3032.5,-698.8796C3032.5,-690.6838 3032.5,-681.9891 3032.5,-673.5013\"/>\n<polygon fill=\"#000000\" stroke=\"#000000\" points=\"3036.0001,-673.298 3032.5,-663.2981 3029.0001,-673.2981 3036.0001,-673.298\"/>\n</g>\n<!-- 182 -->\n<g id=\"node183\" class=\"node\">\n<title>182</title>\n<path fill=\"#f2c09c\" stroke=\"#000000\" d=\"M3227,-663C3227,-663 3142,-663 3142,-663 3136,-663 3130,-657 3130,-651 3130,-651 3130,-592 3130,-592 3130,-586 3136,-580 3142,-580 3142,-580 3227,-580 3227,-580 3233,-580 3239,-586 3239,-592 3239,-592 3239,-651 3239,-651 3239,-657 3233,-663 3227,-663\"/>\n<text text-anchor=\"start\" x=\"3138\" y=\"-647.8\" font-family=\"Helvetica,sans-Serif\" font-size=\"14.00\" fill=\"#000000\">terms ≤ &#45;0.019</text>\n<text text-anchor=\"start\" x=\"3146.5\" y=\"-632.8\" font-family=\"Helvetica,sans-Serif\" font-size=\"14.00\" fill=\"#000000\">gini = 0.444</text>\n<text text-anchor=\"start\" x=\"3145\" y=\"-617.8\" font-family=\"Helvetica,sans-Serif\" font-size=\"14.00\" fill=\"#000000\">samples = 9</text>\n<text text-anchor=\"start\" x=\"3143\" y=\"-602.8\" font-family=\"Helvetica,sans-Serif\" font-size=\"14.00\" fill=\"#000000\">value = [6, 3]</text>\n<text text-anchor=\"start\" x=\"3158\" y=\"-587.8\" font-family=\"Helvetica,sans-Serif\" font-size=\"14.00\" fill=\"#000000\">class = l</text>\n</g>\n<!-- 168&#45;&gt;182 -->\n<g id=\"edge182\" class=\"edge\">\n<title>168&#45;&gt;182</title>\n<path fill=\"none\" stroke=\"#000000\" d=\"M3085.6622,-698.8796C3097.8115,-689.368 3110.8192,-679.1843 3123.276,-669.432\"/>\n<polygon fill=\"#000000\" stroke=\"#000000\" points=\"3125.6514,-672.0173 3131.3678,-663.0969 3121.3362,-666.5055 3125.6514,-672.0173\"/>\n</g>\n<!-- 170 -->\n<g id=\"node171\" class=\"node\">\n<title>170</title>\n<path fill=\"#ffffff\" stroke=\"#000000\" d=\"M2988,-544C2988,-544 2913,-544 2913,-544 2907,-544 2901,-538 2901,-532 2901,-532 2901,-473 2901,-473 2901,-467 2907,-461 2913,-461 2913,-461 2988,-461 2988,-461 2994,-461 3000,-467 3000,-473 3000,-473 3000,-532 3000,-532 3000,-538 2994,-544 2988,-544\"/>\n<text text-anchor=\"start\" x=\"2909.5\" y=\"-528.8\" font-family=\"Helvetica,sans-Serif\" font-size=\"14.00\" fill=\"#000000\">age ≤ &#45;0.239</text>\n<text text-anchor=\"start\" x=\"2921\" y=\"-513.8\" font-family=\"Helvetica,sans-Serif\" font-size=\"14.00\" fill=\"#000000\">gini = 0.5</text>\n<text text-anchor=\"start\" x=\"2911\" y=\"-498.8\" font-family=\"Helvetica,sans-Serif\" font-size=\"14.00\" fill=\"#000000\">samples = 6</text>\n<text text-anchor=\"start\" x=\"2909\" y=\"-483.8\" font-family=\"Helvetica,sans-Serif\" font-size=\"14.00\" fill=\"#000000\">value = [3, 3]</text>\n<text text-anchor=\"start\" x=\"2924\" y=\"-468.8\" font-family=\"Helvetica,sans-Serif\" font-size=\"14.00\" fill=\"#000000\">class = l</text>\n</g>\n<!-- 169&#45;&gt;170 -->\n<g id=\"edge170\" class=\"edge\">\n<title>169&#45;&gt;170</title>\n<path fill=\"none\" stroke=\"#000000\" d=\"M3003.8204,-579.8796C2997.7385,-571.0534 2991.2578,-561.6485 2984.9859,-552.5466\"/>\n<polygon fill=\"#000000\" stroke=\"#000000\" points=\"2987.8582,-550.5465 2979.302,-544.2981 2982.0941,-554.5184 2987.8582,-550.5465\"/>\n</g>\n<!-- 175 -->\n<g id=\"node176\" class=\"node\">\n<title>175</title>\n<path fill=\"#b0d8f5\" stroke=\"#000000\" d=\"M3105,-544C3105,-544 3030,-544 3030,-544 3024,-544 3018,-538 3018,-532 3018,-532 3018,-473 3018,-473 3018,-467 3024,-461 3030,-461 3030,-461 3105,-461 3105,-461 3111,-461 3117,-467 3117,-473 3117,-473 3117,-532 3117,-532 3117,-538 3111,-544 3105,-544\"/>\n<text text-anchor=\"start\" x=\"3026.5\" y=\"-528.8\" font-family=\"Helvetica,sans-Serif\" font-size=\"14.00\" fill=\"#000000\">age ≤ &#45;0.239</text>\n<text text-anchor=\"start\" x=\"3029.5\" y=\"-513.8\" font-family=\"Helvetica,sans-Serif\" font-size=\"14.00\" fill=\"#000000\">gini = 0.469</text>\n<text text-anchor=\"start\" x=\"3028\" y=\"-498.8\" font-family=\"Helvetica,sans-Serif\" font-size=\"14.00\" fill=\"#000000\">samples = 8</text>\n<text text-anchor=\"start\" x=\"3026\" y=\"-483.8\" font-family=\"Helvetica,sans-Serif\" font-size=\"14.00\" fill=\"#000000\">value = [3, 5]</text>\n<text text-anchor=\"start\" x=\"3038.5\" y=\"-468.8\" font-family=\"Helvetica,sans-Serif\" font-size=\"14.00\" fill=\"#000000\">class = o</text>\n</g>\n<!-- 169&#45;&gt;175 -->\n<g id=\"edge175\" class=\"edge\">\n<title>169&#45;&gt;175</title>\n<path fill=\"none\" stroke=\"#000000\" d=\"M3044.7413,-579.8796C3047.2048,-571.5037 3049.8216,-562.6067 3052.37,-553.942\"/>\n<polygon fill=\"#000000\" stroke=\"#000000\" points=\"3055.7425,-554.8793 3055.2064,-544.2981 3049.0269,-552.9041 3055.7425,-554.8793\"/>\n</g>\n<!-- 171 -->\n<g id=\"node172\" class=\"node\">\n<title>171</title>\n<path fill=\"#e58139\" stroke=\"#000000\" d=\"M2871,-417.5C2871,-417.5 2796,-417.5 2796,-417.5 2790,-417.5 2784,-411.5 2784,-405.5 2784,-405.5 2784,-361.5 2784,-361.5 2784,-355.5 2790,-349.5 2796,-349.5 2796,-349.5 2871,-349.5 2871,-349.5 2877,-349.5 2883,-355.5 2883,-361.5 2883,-361.5 2883,-405.5 2883,-405.5 2883,-411.5 2877,-417.5 2871,-417.5\"/>\n<text text-anchor=\"start\" x=\"2804\" y=\"-402.3\" font-family=\"Helvetica,sans-Serif\" font-size=\"14.00\" fill=\"#000000\">gini = 0.0</text>\n<text text-anchor=\"start\" x=\"2794\" y=\"-387.3\" font-family=\"Helvetica,sans-Serif\" font-size=\"14.00\" fill=\"#000000\">samples = 1</text>\n<text text-anchor=\"start\" x=\"2792\" y=\"-372.3\" font-family=\"Helvetica,sans-Serif\" font-size=\"14.00\" fill=\"#000000\">value = [1, 0]</text>\n<text text-anchor=\"start\" x=\"2807\" y=\"-357.3\" font-family=\"Helvetica,sans-Serif\" font-size=\"14.00\" fill=\"#000000\">class = l</text>\n</g>\n<!-- 170&#45;&gt;171 -->\n<g id=\"edge171\" class=\"edge\">\n<title>170&#45;&gt;171</title>\n<path fill=\"none\" stroke=\"#000000\" d=\"M2909.5791,-460.8796C2898.2272,-449.3337 2885.9018,-436.7976 2874.543,-425.2446\"/>\n<polygon fill=\"#000000\" stroke=\"#000000\" points=\"2876.7449,-422.4919 2867.2382,-417.8149 2871.7534,-427.3995 2876.7449,-422.4919\"/>\n</g>\n<!-- 172 -->\n<g id=\"node173\" class=\"node\">\n<title>172</title>\n<path fill=\"#bddef6\" stroke=\"#000000\" d=\"M2988,-425C2988,-425 2913,-425 2913,-425 2907,-425 2901,-419 2901,-413 2901,-413 2901,-354 2901,-354 2901,-348 2907,-342 2913,-342 2913,-342 2988,-342 2988,-342 2994,-342 3000,-348 3000,-354 3000,-354 3000,-413 3000,-413 3000,-419 2994,-425 2988,-425\"/>\n<text text-anchor=\"start\" x=\"2909.5\" y=\"-409.8\" font-family=\"Helvetica,sans-Serif\" font-size=\"14.00\" fill=\"#000000\">age ≤ &#45;0.073</text>\n<text text-anchor=\"start\" x=\"2917\" y=\"-394.8\" font-family=\"Helvetica,sans-Serif\" font-size=\"14.00\" fill=\"#000000\">gini = 0.48</text>\n<text text-anchor=\"start\" x=\"2911\" y=\"-379.8\" font-family=\"Helvetica,sans-Serif\" font-size=\"14.00\" fill=\"#000000\">samples = 5</text>\n<text text-anchor=\"start\" x=\"2909\" y=\"-364.8\" font-family=\"Helvetica,sans-Serif\" font-size=\"14.00\" fill=\"#000000\">value = [2, 3]</text>\n<text text-anchor=\"start\" x=\"2921.5\" y=\"-349.8\" font-family=\"Helvetica,sans-Serif\" font-size=\"14.00\" fill=\"#000000\">class = o</text>\n</g>\n<!-- 170&#45;&gt;172 -->\n<g id=\"edge172\" class=\"edge\">\n<title>170&#45;&gt;172</title>\n<path fill=\"none\" stroke=\"#000000\" d=\"M2950.5,-460.8796C2950.5,-452.6838 2950.5,-443.9891 2950.5,-435.5013\"/>\n<polygon fill=\"#000000\" stroke=\"#000000\" points=\"2954.0001,-435.298 2950.5,-425.2981 2947.0001,-435.2981 2954.0001,-435.298\"/>\n</g>\n<!-- 173 -->\n<g id=\"node174\" class=\"node\">\n<title>173</title>\n<path fill=\"#9ccef2\" stroke=\"#000000\" d=\"M2899,-298.5C2899,-298.5 2824,-298.5 2824,-298.5 2818,-298.5 2812,-292.5 2812,-286.5 2812,-286.5 2812,-242.5 2812,-242.5 2812,-236.5 2818,-230.5 2824,-230.5 2824,-230.5 2899,-230.5 2899,-230.5 2905,-230.5 2911,-236.5 2911,-242.5 2911,-242.5 2911,-286.5 2911,-286.5 2911,-292.5 2905,-298.5 2899,-298.5\"/>\n<text text-anchor=\"start\" x=\"2823.5\" y=\"-283.3\" font-family=\"Helvetica,sans-Serif\" font-size=\"14.00\" fill=\"#000000\">gini = 0.444</text>\n<text text-anchor=\"start\" x=\"2822\" y=\"-268.3\" font-family=\"Helvetica,sans-Serif\" font-size=\"14.00\" fill=\"#000000\">samples = 3</text>\n<text text-anchor=\"start\" x=\"2820\" y=\"-253.3\" font-family=\"Helvetica,sans-Serif\" font-size=\"14.00\" fill=\"#000000\">value = [1, 2]</text>\n<text text-anchor=\"start\" x=\"2832.5\" y=\"-238.3\" font-family=\"Helvetica,sans-Serif\" font-size=\"14.00\" fill=\"#000000\">class = o</text>\n</g>\n<!-- 172&#45;&gt;173 -->\n<g id=\"edge173\" class=\"edge\">\n<title>172&#45;&gt;173</title>\n<path fill=\"none\" stroke=\"#000000\" d=\"M2919.3721,-341.8796C2910.9014,-330.5536 2901.7181,-318.2748 2893.2153,-306.9058\"/>\n<polygon fill=\"#000000\" stroke=\"#000000\" points=\"2895.9562,-304.7268 2887.1641,-298.8149 2890.3505,-308.9193 2895.9562,-304.7268\"/>\n</g>\n<!-- 174 -->\n<g id=\"node175\" class=\"node\">\n<title>174</title>\n<path fill=\"#ffffff\" stroke=\"#000000\" d=\"M3016,-298.5C3016,-298.5 2941,-298.5 2941,-298.5 2935,-298.5 2929,-292.5 2929,-286.5 2929,-286.5 2929,-242.5 2929,-242.5 2929,-236.5 2935,-230.5 2941,-230.5 2941,-230.5 3016,-230.5 3016,-230.5 3022,-230.5 3028,-236.5 3028,-242.5 3028,-242.5 3028,-286.5 3028,-286.5 3028,-292.5 3022,-298.5 3016,-298.5\"/>\n<text text-anchor=\"start\" x=\"2949\" y=\"-283.3\" font-family=\"Helvetica,sans-Serif\" font-size=\"14.00\" fill=\"#000000\">gini = 0.5</text>\n<text text-anchor=\"start\" x=\"2939\" y=\"-268.3\" font-family=\"Helvetica,sans-Serif\" font-size=\"14.00\" fill=\"#000000\">samples = 2</text>\n<text text-anchor=\"start\" x=\"2937\" y=\"-253.3\" font-family=\"Helvetica,sans-Serif\" font-size=\"14.00\" fill=\"#000000\">value = [1, 1]</text>\n<text text-anchor=\"start\" x=\"2952\" y=\"-238.3\" font-family=\"Helvetica,sans-Serif\" font-size=\"14.00\" fill=\"#000000\">class = l</text>\n</g>\n<!-- 172&#45;&gt;174 -->\n<g id=\"edge174\" class=\"edge\">\n<title>172&#45;&gt;174</title>\n<path fill=\"none\" stroke=\"#000000\" d=\"M2960.293,-341.8796C2962.8286,-331.1034 2965.5671,-319.4647 2968.1311,-308.5677\"/>\n<polygon fill=\"#000000\" stroke=\"#000000\" points=\"2971.5424,-309.3508 2970.4259,-298.8149 2964.7285,-307.7474 2971.5424,-309.3508\"/>\n</g>\n<!-- 176 -->\n<g id=\"node177\" class=\"node\">\n<title>176</title>\n<path fill=\"#399de5\" stroke=\"#000000\" d=\"M3105,-417.5C3105,-417.5 3030,-417.5 3030,-417.5 3024,-417.5 3018,-411.5 3018,-405.5 3018,-405.5 3018,-361.5 3018,-361.5 3018,-355.5 3024,-349.5 3030,-349.5 3030,-349.5 3105,-349.5 3105,-349.5 3111,-349.5 3117,-355.5 3117,-361.5 3117,-361.5 3117,-405.5 3117,-405.5 3117,-411.5 3111,-417.5 3105,-417.5\"/>\n<text text-anchor=\"start\" x=\"3038\" y=\"-402.3\" font-family=\"Helvetica,sans-Serif\" font-size=\"14.00\" fill=\"#000000\">gini = 0.0</text>\n<text text-anchor=\"start\" x=\"3028\" y=\"-387.3\" font-family=\"Helvetica,sans-Serif\" font-size=\"14.00\" fill=\"#000000\">samples = 1</text>\n<text text-anchor=\"start\" x=\"3026\" y=\"-372.3\" font-family=\"Helvetica,sans-Serif\" font-size=\"14.00\" fill=\"#000000\">value = [0, 1]</text>\n<text text-anchor=\"start\" x=\"3038.5\" y=\"-357.3\" font-family=\"Helvetica,sans-Serif\" font-size=\"14.00\" fill=\"#000000\">class = o</text>\n</g>\n<!-- 175&#45;&gt;176 -->\n<g id=\"edge176\" class=\"edge\">\n<title>175&#45;&gt;176</title>\n<path fill=\"none\" stroke=\"#000000\" d=\"M3067.5,-460.8796C3067.5,-450.2134 3067.5,-438.7021 3067.5,-427.9015\"/>\n<polygon fill=\"#000000\" stroke=\"#000000\" points=\"3071.0001,-427.8149 3067.5,-417.8149 3064.0001,-427.815 3071.0001,-427.8149\"/>\n</g>\n<!-- 177 -->\n<g id=\"node178\" class=\"node\">\n<title>177</title>\n<path fill=\"#cee6f8\" stroke=\"#000000\" d=\"M3222,-425C3222,-425 3147,-425 3147,-425 3141,-425 3135,-419 3135,-413 3135,-413 3135,-354 3135,-354 3135,-348 3141,-342 3147,-342 3147,-342 3222,-342 3222,-342 3228,-342 3234,-348 3234,-354 3234,-354 3234,-413 3234,-413 3234,-419 3228,-425 3222,-425\"/>\n<text text-anchor=\"start\" x=\"3146\" y=\"-409.8\" font-family=\"Helvetica,sans-Serif\" font-size=\"14.00\" fill=\"#000000\">age ≤ 0.093</text>\n<text text-anchor=\"start\" x=\"3151\" y=\"-394.8\" font-family=\"Helvetica,sans-Serif\" font-size=\"14.00\" fill=\"#000000\">gini = 0.49</text>\n<text text-anchor=\"start\" x=\"3145\" y=\"-379.8\" font-family=\"Helvetica,sans-Serif\" font-size=\"14.00\" fill=\"#000000\">samples = 7</text>\n<text text-anchor=\"start\" x=\"3143\" y=\"-364.8\" font-family=\"Helvetica,sans-Serif\" font-size=\"14.00\" fill=\"#000000\">value = [3, 4]</text>\n<text text-anchor=\"start\" x=\"3155.5\" y=\"-349.8\" font-family=\"Helvetica,sans-Serif\" font-size=\"14.00\" fill=\"#000000\">class = o</text>\n</g>\n<!-- 175&#45;&gt;177 -->\n<g id=\"edge177\" class=\"edge\">\n<title>175&#45;&gt;177</title>\n<path fill=\"none\" stroke=\"#000000\" d=\"M3108.4209,-460.8796C3117.453,-451.6931 3127.1013,-441.8798 3136.3888,-432.4336\"/>\n<polygon fill=\"#000000\" stroke=\"#000000\" points=\"3138.8893,-434.8827 3143.4044,-425.2981 3133.8977,-429.975 3138.8893,-434.8827\"/>\n</g>\n<!-- 178 -->\n<g id=\"node179\" class=\"node\">\n<title>178</title>\n<path fill=\"#ffffff\" stroke=\"#000000\" d=\"M3191,-306C3191,-306 3116,-306 3116,-306 3110,-306 3104,-300 3104,-294 3104,-294 3104,-235 3104,-235 3104,-229 3110,-223 3116,-223 3116,-223 3191,-223 3191,-223 3197,-223 3203,-229 3203,-235 3203,-235 3203,-294 3203,-294 3203,-300 3197,-306 3191,-306\"/>\n<text text-anchor=\"start\" x=\"3112.5\" y=\"-290.8\" font-family=\"Helvetica,sans-Serif\" font-size=\"14.00\" fill=\"#000000\">age ≤ &#45;0.073</text>\n<text text-anchor=\"start\" x=\"3124\" y=\"-275.8\" font-family=\"Helvetica,sans-Serif\" font-size=\"14.00\" fill=\"#000000\">gini = 0.5</text>\n<text text-anchor=\"start\" x=\"3114\" y=\"-260.8\" font-family=\"Helvetica,sans-Serif\" font-size=\"14.00\" fill=\"#000000\">samples = 4</text>\n<text text-anchor=\"start\" x=\"3112\" y=\"-245.8\" font-family=\"Helvetica,sans-Serif\" font-size=\"14.00\" fill=\"#000000\">value = [2, 2]</text>\n<text text-anchor=\"start\" x=\"3127\" y=\"-230.8\" font-family=\"Helvetica,sans-Serif\" font-size=\"14.00\" fill=\"#000000\">class = l</text>\n</g>\n<!-- 177&#45;&gt;178 -->\n<g id=\"edge178\" class=\"edge\">\n<title>177&#45;&gt;178</title>\n<path fill=\"none\" stroke=\"#000000\" d=\"M3173.6577,-341.8796C3171.4992,-333.5938 3169.2079,-324.798 3166.9737,-316.2216\"/>\n<polygon fill=\"#000000\" stroke=\"#000000\" points=\"3170.2965,-315.0928 3164.3886,-306.2981 3163.5226,-316.8575 3170.2965,-315.0928\"/>\n</g>\n<!-- 181 -->\n<g id=\"node182\" class=\"node\">\n<title>181</title>\n<path fill=\"#9ccef2\" stroke=\"#000000\" d=\"M3308,-298.5C3308,-298.5 3233,-298.5 3233,-298.5 3227,-298.5 3221,-292.5 3221,-286.5 3221,-286.5 3221,-242.5 3221,-242.5 3221,-236.5 3227,-230.5 3233,-230.5 3233,-230.5 3308,-230.5 3308,-230.5 3314,-230.5 3320,-236.5 3320,-242.5 3320,-242.5 3320,-286.5 3320,-286.5 3320,-292.5 3314,-298.5 3308,-298.5\"/>\n<text text-anchor=\"start\" x=\"3232.5\" y=\"-283.3\" font-family=\"Helvetica,sans-Serif\" font-size=\"14.00\" fill=\"#000000\">gini = 0.444</text>\n<text text-anchor=\"start\" x=\"3231\" y=\"-268.3\" font-family=\"Helvetica,sans-Serif\" font-size=\"14.00\" fill=\"#000000\">samples = 3</text>\n<text text-anchor=\"start\" x=\"3229\" y=\"-253.3\" font-family=\"Helvetica,sans-Serif\" font-size=\"14.00\" fill=\"#000000\">value = [1, 2]</text>\n<text text-anchor=\"start\" x=\"3241.5\" y=\"-238.3\" font-family=\"Helvetica,sans-Serif\" font-size=\"14.00\" fill=\"#000000\">class = o</text>\n</g>\n<!-- 177&#45;&gt;181 -->\n<g id=\"edge181\" class=\"edge\">\n<title>177&#45;&gt;181</title>\n<path fill=\"none\" stroke=\"#000000\" d=\"M3214.5786,-341.8796C3222.6843,-330.6636 3231.4653,-318.5131 3239.6143,-307.2372\"/>\n<polygon fill=\"#000000\" stroke=\"#000000\" points=\"3242.6803,-308.9701 3245.701,-298.8149 3237.0068,-304.8698 3242.6803,-308.9701\"/>\n</g>\n<!-- 179 -->\n<g id=\"node180\" class=\"node\">\n<title>179</title>\n<path fill=\"#ffffff\" stroke=\"#000000\" d=\"M3132,-179.5C3132,-179.5 3057,-179.5 3057,-179.5 3051,-179.5 3045,-173.5 3045,-167.5 3045,-167.5 3045,-123.5 3045,-123.5 3045,-117.5 3051,-111.5 3057,-111.5 3057,-111.5 3132,-111.5 3132,-111.5 3138,-111.5 3144,-117.5 3144,-123.5 3144,-123.5 3144,-167.5 3144,-167.5 3144,-173.5 3138,-179.5 3132,-179.5\"/>\n<text text-anchor=\"start\" x=\"3065\" y=\"-164.3\" font-family=\"Helvetica,sans-Serif\" font-size=\"14.00\" fill=\"#000000\">gini = 0.5</text>\n<text text-anchor=\"start\" x=\"3055\" y=\"-149.3\" font-family=\"Helvetica,sans-Serif\" font-size=\"14.00\" fill=\"#000000\">samples = 2</text>\n<text text-anchor=\"start\" x=\"3053\" y=\"-134.3\" font-family=\"Helvetica,sans-Serif\" font-size=\"14.00\" fill=\"#000000\">value = [1, 1]</text>\n<text text-anchor=\"start\" x=\"3068\" y=\"-119.3\" font-family=\"Helvetica,sans-Serif\" font-size=\"14.00\" fill=\"#000000\">class = l</text>\n</g>\n<!-- 178&#45;&gt;179 -->\n<g id=\"edge179\" class=\"edge\">\n<title>178&#45;&gt;179</title>\n<path fill=\"none\" stroke=\"#000000\" d=\"M3132.8647,-222.8796C3127.4128,-211.8835 3121.5157,-199.9893 3116.0184,-188.9015\"/>\n<polygon fill=\"#000000\" stroke=\"#000000\" points=\"3119.0911,-187.2195 3111.5133,-179.8149 3112.8196,-190.3289 3119.0911,-187.2195\"/>\n</g>\n<!-- 180 -->\n<g id=\"node181\" class=\"node\">\n<title>180</title>\n<path fill=\"#ffffff\" stroke=\"#000000\" d=\"M3249,-179.5C3249,-179.5 3174,-179.5 3174,-179.5 3168,-179.5 3162,-173.5 3162,-167.5 3162,-167.5 3162,-123.5 3162,-123.5 3162,-117.5 3168,-111.5 3174,-111.5 3174,-111.5 3249,-111.5 3249,-111.5 3255,-111.5 3261,-117.5 3261,-123.5 3261,-123.5 3261,-167.5 3261,-167.5 3261,-173.5 3255,-179.5 3249,-179.5\"/>\n<text text-anchor=\"start\" x=\"3182\" y=\"-164.3\" font-family=\"Helvetica,sans-Serif\" font-size=\"14.00\" fill=\"#000000\">gini = 0.5</text>\n<text text-anchor=\"start\" x=\"3172\" y=\"-149.3\" font-family=\"Helvetica,sans-Serif\" font-size=\"14.00\" fill=\"#000000\">samples = 2</text>\n<text text-anchor=\"start\" x=\"3170\" y=\"-134.3\" font-family=\"Helvetica,sans-Serif\" font-size=\"14.00\" fill=\"#000000\">value = [1, 1]</text>\n<text text-anchor=\"start\" x=\"3185\" y=\"-119.3\" font-family=\"Helvetica,sans-Serif\" font-size=\"14.00\" fill=\"#000000\">class = l</text>\n</g>\n<!-- 178&#45;&gt;180 -->\n<g id=\"edge180\" class=\"edge\">\n<title>178&#45;&gt;180</title>\n<path fill=\"none\" stroke=\"#000000\" d=\"M3173.7856,-222.8796C3179.145,-211.8835 3184.9422,-199.9893 3190.3463,-188.9015\"/>\n<polygon fill=\"#000000\" stroke=\"#000000\" points=\"3193.54,-190.3375 3194.7751,-179.8149 3187.2476,-187.2706 3193.54,-190.3375\"/>\n</g>\n<!-- 183 -->\n<g id=\"node184\" class=\"node\">\n<title>183</title>\n<path fill=\"#ffffff\" stroke=\"#000000\" d=\"M3222,-536.5C3222,-536.5 3147,-536.5 3147,-536.5 3141,-536.5 3135,-530.5 3135,-524.5 3135,-524.5 3135,-480.5 3135,-480.5 3135,-474.5 3141,-468.5 3147,-468.5 3147,-468.5 3222,-468.5 3222,-468.5 3228,-468.5 3234,-474.5 3234,-480.5 3234,-480.5 3234,-524.5 3234,-524.5 3234,-530.5 3228,-536.5 3222,-536.5\"/>\n<text text-anchor=\"start\" x=\"3155\" y=\"-521.3\" font-family=\"Helvetica,sans-Serif\" font-size=\"14.00\" fill=\"#000000\">gini = 0.5</text>\n<text text-anchor=\"start\" x=\"3145\" y=\"-506.3\" font-family=\"Helvetica,sans-Serif\" font-size=\"14.00\" fill=\"#000000\">samples = 2</text>\n<text text-anchor=\"start\" x=\"3143\" y=\"-491.3\" font-family=\"Helvetica,sans-Serif\" font-size=\"14.00\" fill=\"#000000\">value = [1, 1]</text>\n<text text-anchor=\"start\" x=\"3158\" y=\"-476.3\" font-family=\"Helvetica,sans-Serif\" font-size=\"14.00\" fill=\"#000000\">class = l</text>\n</g>\n<!-- 182&#45;&gt;183 -->\n<g id=\"edge183\" class=\"edge\">\n<title>182&#45;&gt;183</title>\n<path fill=\"none\" stroke=\"#000000\" d=\"M3184.5,-579.8796C3184.5,-569.2134 3184.5,-557.7021 3184.5,-546.9015\"/>\n<polygon fill=\"#000000\" stroke=\"#000000\" points=\"3188.0001,-546.8149 3184.5,-536.8149 3181.0001,-546.815 3188.0001,-546.8149\"/>\n</g>\n<!-- 184 -->\n<g id=\"node185\" class=\"node\">\n<title>184</title>\n<path fill=\"#efb388\" stroke=\"#000000\" d=\"M3339,-544C3339,-544 3264,-544 3264,-544 3258,-544 3252,-538 3252,-532 3252,-532 3252,-473 3252,-473 3252,-467 3258,-461 3264,-461 3264,-461 3339,-461 3339,-461 3345,-461 3351,-467 3351,-473 3351,-473 3351,-532 3351,-532 3351,-538 3345,-544 3339,-544\"/>\n<text text-anchor=\"start\" x=\"3263\" y=\"-528.8\" font-family=\"Helvetica,sans-Serif\" font-size=\"14.00\" fill=\"#000000\">age ≤ 0.425</text>\n<text text-anchor=\"start\" x=\"3263.5\" y=\"-513.8\" font-family=\"Helvetica,sans-Serif\" font-size=\"14.00\" fill=\"#000000\">gini = 0.408</text>\n<text text-anchor=\"start\" x=\"3262\" y=\"-498.8\" font-family=\"Helvetica,sans-Serif\" font-size=\"14.00\" fill=\"#000000\">samples = 7</text>\n<text text-anchor=\"start\" x=\"3260\" y=\"-483.8\" font-family=\"Helvetica,sans-Serif\" font-size=\"14.00\" fill=\"#000000\">value = [5, 2]</text>\n<text text-anchor=\"start\" x=\"3275\" y=\"-468.8\" font-family=\"Helvetica,sans-Serif\" font-size=\"14.00\" fill=\"#000000\">class = l</text>\n</g>\n<!-- 182&#45;&gt;184 -->\n<g id=\"edge184\" class=\"edge\">\n<title>182&#45;&gt;184</title>\n<path fill=\"none\" stroke=\"#000000\" d=\"M3225.4209,-579.8796C3234.453,-570.6931 3244.1013,-560.8798 3253.3888,-551.4336\"/>\n<polygon fill=\"#000000\" stroke=\"#000000\" points=\"3255.8893,-553.8827 3260.4044,-544.2981 3250.8977,-548.975 3255.8893,-553.8827\"/>\n</g>\n<!-- 185 -->\n<g id=\"node186\" class=\"node\">\n<title>185</title>\n<path fill=\"#eeab7b\" stroke=\"#000000\" d=\"M3339,-417.5C3339,-417.5 3264,-417.5 3264,-417.5 3258,-417.5 3252,-411.5 3252,-405.5 3252,-405.5 3252,-361.5 3252,-361.5 3252,-355.5 3258,-349.5 3264,-349.5 3264,-349.5 3339,-349.5 3339,-349.5 3345,-349.5 3351,-355.5 3351,-361.5 3351,-361.5 3351,-405.5 3351,-405.5 3351,-411.5 3345,-417.5 3339,-417.5\"/>\n<text text-anchor=\"start\" x=\"3263.5\" y=\"-402.3\" font-family=\"Helvetica,sans-Serif\" font-size=\"14.00\" fill=\"#000000\">gini = 0.375</text>\n<text text-anchor=\"start\" x=\"3262\" y=\"-387.3\" font-family=\"Helvetica,sans-Serif\" font-size=\"14.00\" fill=\"#000000\">samples = 4</text>\n<text text-anchor=\"start\" x=\"3260\" y=\"-372.3\" font-family=\"Helvetica,sans-Serif\" font-size=\"14.00\" fill=\"#000000\">value = [3, 1]</text>\n<text text-anchor=\"start\" x=\"3275\" y=\"-357.3\" font-family=\"Helvetica,sans-Serif\" font-size=\"14.00\" fill=\"#000000\">class = l</text>\n</g>\n<!-- 184&#45;&gt;185 -->\n<g id=\"edge185\" class=\"edge\">\n<title>184&#45;&gt;185</title>\n<path fill=\"none\" stroke=\"#000000\" d=\"M3301.5,-460.8796C3301.5,-450.2134 3301.5,-438.7021 3301.5,-427.9015\"/>\n<polygon fill=\"#000000\" stroke=\"#000000\" points=\"3305.0001,-427.8149 3301.5,-417.8149 3298.0001,-427.815 3305.0001,-427.8149\"/>\n</g>\n<!-- 186 -->\n<g id=\"node187\" class=\"node\">\n<title>186</title>\n<path fill=\"#f2c09c\" stroke=\"#000000\" d=\"M3456,-417.5C3456,-417.5 3381,-417.5 3381,-417.5 3375,-417.5 3369,-411.5 3369,-405.5 3369,-405.5 3369,-361.5 3369,-361.5 3369,-355.5 3375,-349.5 3381,-349.5 3381,-349.5 3456,-349.5 3456,-349.5 3462,-349.5 3468,-355.5 3468,-361.5 3468,-361.5 3468,-405.5 3468,-405.5 3468,-411.5 3462,-417.5 3456,-417.5\"/>\n<text text-anchor=\"start\" x=\"3380.5\" y=\"-402.3\" font-family=\"Helvetica,sans-Serif\" font-size=\"14.00\" fill=\"#000000\">gini = 0.444</text>\n<text text-anchor=\"start\" x=\"3379\" y=\"-387.3\" font-family=\"Helvetica,sans-Serif\" font-size=\"14.00\" fill=\"#000000\">samples = 3</text>\n<text text-anchor=\"start\" x=\"3377\" y=\"-372.3\" font-family=\"Helvetica,sans-Serif\" font-size=\"14.00\" fill=\"#000000\">value = [2, 1]</text>\n<text text-anchor=\"start\" x=\"3392\" y=\"-357.3\" font-family=\"Helvetica,sans-Serif\" font-size=\"14.00\" fill=\"#000000\">class = l</text>\n</g>\n<!-- 184&#45;&gt;186 -->\n<g id=\"edge186\" class=\"edge\">\n<title>184&#45;&gt;186</title>\n<path fill=\"none\" stroke=\"#000000\" d=\"M3342.4209,-460.8796C3353.7728,-449.3337 3366.0982,-436.7976 3377.457,-425.2446\"/>\n<polygon fill=\"#000000\" stroke=\"#000000\" points=\"3380.2466,-427.3995 3384.7618,-417.8149 3375.2551,-422.4919 3380.2466,-427.3995\"/>\n</g>\n<!-- 188 -->\n<g id=\"node189\" class=\"node\">\n<title>188</title>\n<path fill=\"#ffffff\" stroke=\"#000000\" d=\"M2455.5,-1377C2455.5,-1377 2353.5,-1377 2353.5,-1377 2347.5,-1377 2341.5,-1371 2341.5,-1365 2341.5,-1365 2341.5,-1306 2341.5,-1306 2341.5,-1300 2347.5,-1294 2353.5,-1294 2353.5,-1294 2455.5,-1294 2455.5,-1294 2461.5,-1294 2467.5,-1300 2467.5,-1306 2467.5,-1306 2467.5,-1365 2467.5,-1365 2467.5,-1371 2461.5,-1377 2455.5,-1377\"/>\n<text text-anchor=\"start\" x=\"2349.5\" y=\"-1361.8\" font-family=\"Helvetica,sans-Serif\" font-size=\"14.00\" fill=\"#000000\">Bechalor ≤ 0.313</text>\n<text text-anchor=\"start\" x=\"2375\" y=\"-1346.8\" font-family=\"Helvetica,sans-Serif\" font-size=\"14.00\" fill=\"#000000\">gini = 0.5</text>\n<text text-anchor=\"start\" x=\"2365\" y=\"-1331.8\" font-family=\"Helvetica,sans-Serif\" font-size=\"14.00\" fill=\"#000000\">samples = 2</text>\n<text text-anchor=\"start\" x=\"2363\" y=\"-1316.8\" font-family=\"Helvetica,sans-Serif\" font-size=\"14.00\" fill=\"#000000\">value = [1, 1]</text>\n<text text-anchor=\"start\" x=\"2378\" y=\"-1301.8\" font-family=\"Helvetica,sans-Serif\" font-size=\"14.00\" fill=\"#000000\">class = l</text>\n</g>\n<!-- 187&#45;&gt;188 -->\n<g id=\"edge188\" class=\"edge\">\n<title>187&#45;&gt;188</title>\n<path fill=\"none\" stroke=\"#000000\" d=\"M2404.5,-1412.8796C2404.5,-1404.6838 2404.5,-1395.9891 2404.5,-1387.5013\"/>\n<polygon fill=\"#000000\" stroke=\"#000000\" points=\"2408.0001,-1387.298 2404.5,-1377.2981 2401.0001,-1387.2981 2408.0001,-1387.298\"/>\n</g>\n<!-- 191 -->\n<g id=\"node192\" class=\"node\">\n<title>191</title>\n<path fill=\"#e88f4f\" stroke=\"#000000\" d=\"M2645.5,-1377C2645.5,-1377 2541.5,-1377 2541.5,-1377 2535.5,-1377 2529.5,-1371 2529.5,-1365 2529.5,-1365 2529.5,-1306 2529.5,-1306 2529.5,-1300 2535.5,-1294 2541.5,-1294 2541.5,-1294 2645.5,-1294 2645.5,-1294 2651.5,-1294 2657.5,-1300 2657.5,-1306 2657.5,-1306 2657.5,-1365 2657.5,-1365 2657.5,-1371 2651.5,-1377 2645.5,-1377\"/>\n<text text-anchor=\"start\" x=\"2537.5\" y=\"-1361.8\" font-family=\"Helvetica,sans-Serif\" font-size=\"14.00\" fill=\"#000000\">Principal ≤ &#45;0.399</text>\n<text text-anchor=\"start\" x=\"2560\" y=\"-1346.8\" font-family=\"Helvetica,sans-Serif\" font-size=\"14.00\" fill=\"#000000\">gini = 0.18</text>\n<text text-anchor=\"start\" x=\"2549.5\" y=\"-1331.8\" font-family=\"Helvetica,sans-Serif\" font-size=\"14.00\" fill=\"#000000\">samples = 10</text>\n<text text-anchor=\"start\" x=\"2552\" y=\"-1316.8\" font-family=\"Helvetica,sans-Serif\" font-size=\"14.00\" fill=\"#000000\">value = [9, 1]</text>\n<text text-anchor=\"start\" x=\"2567\" y=\"-1301.8\" font-family=\"Helvetica,sans-Serif\" font-size=\"14.00\" fill=\"#000000\">class = l</text>\n</g>\n<!-- 187&#45;&gt;191 -->\n<g id=\"edge191\" class=\"edge\">\n<title>187&#45;&gt;191</title>\n<path fill=\"none\" stroke=\"#000000\" d=\"M2467.697,-1414.7093C2484.7579,-1403.9672 2503.3534,-1392.259 2520.8855,-1381.2203\"/>\n<polygon fill=\"#000000\" stroke=\"#000000\" points=\"2522.7978,-1384.1522 2529.3953,-1375.8622 2519.0681,-1378.2286 2522.7978,-1384.1522\"/>\n</g>\n<!-- 189 -->\n<g id=\"node190\" class=\"node\">\n<title>189</title>\n<path fill=\"#e58139\" stroke=\"#000000\" d=\"M2397,-1250.5C2397,-1250.5 2322,-1250.5 2322,-1250.5 2316,-1250.5 2310,-1244.5 2310,-1238.5 2310,-1238.5 2310,-1194.5 2310,-1194.5 2310,-1188.5 2316,-1182.5 2322,-1182.5 2322,-1182.5 2397,-1182.5 2397,-1182.5 2403,-1182.5 2409,-1188.5 2409,-1194.5 2409,-1194.5 2409,-1238.5 2409,-1238.5 2409,-1244.5 2403,-1250.5 2397,-1250.5\"/>\n<text text-anchor=\"start\" x=\"2330\" y=\"-1235.3\" font-family=\"Helvetica,sans-Serif\" font-size=\"14.00\" fill=\"#000000\">gini = 0.0</text>\n<text text-anchor=\"start\" x=\"2320\" y=\"-1220.3\" font-family=\"Helvetica,sans-Serif\" font-size=\"14.00\" fill=\"#000000\">samples = 1</text>\n<text text-anchor=\"start\" x=\"2318\" y=\"-1205.3\" font-family=\"Helvetica,sans-Serif\" font-size=\"14.00\" fill=\"#000000\">value = [1, 0]</text>\n<text text-anchor=\"start\" x=\"2333\" y=\"-1190.3\" font-family=\"Helvetica,sans-Serif\" font-size=\"14.00\" fill=\"#000000\">class = l</text>\n</g>\n<!-- 188&#45;&gt;189 -->\n<g id=\"edge189\" class=\"edge\">\n<title>188&#45;&gt;189</title>\n<path fill=\"none\" stroke=\"#000000\" d=\"M2388.7612,-1293.8796C2384.6446,-1282.9935 2380.1951,-1271.227 2376.0382,-1260.2344\"/>\n<polygon fill=\"#000000\" stroke=\"#000000\" points=\"2379.2871,-1258.9305 2372.4762,-1250.8149 2372.7396,-1261.4065 2379.2871,-1258.9305\"/>\n</g>\n<!-- 190 -->\n<g id=\"node191\" class=\"node\">\n<title>190</title>\n<path fill=\"#399de5\" stroke=\"#000000\" d=\"M2514,-1250.5C2514,-1250.5 2439,-1250.5 2439,-1250.5 2433,-1250.5 2427,-1244.5 2427,-1238.5 2427,-1238.5 2427,-1194.5 2427,-1194.5 2427,-1188.5 2433,-1182.5 2439,-1182.5 2439,-1182.5 2514,-1182.5 2514,-1182.5 2520,-1182.5 2526,-1188.5 2526,-1194.5 2526,-1194.5 2526,-1238.5 2526,-1238.5 2526,-1244.5 2520,-1250.5 2514,-1250.5\"/>\n<text text-anchor=\"start\" x=\"2447\" y=\"-1235.3\" font-family=\"Helvetica,sans-Serif\" font-size=\"14.00\" fill=\"#000000\">gini = 0.0</text>\n<text text-anchor=\"start\" x=\"2437\" y=\"-1220.3\" font-family=\"Helvetica,sans-Serif\" font-size=\"14.00\" fill=\"#000000\">samples = 1</text>\n<text text-anchor=\"start\" x=\"2435\" y=\"-1205.3\" font-family=\"Helvetica,sans-Serif\" font-size=\"14.00\" fill=\"#000000\">value = [0, 1]</text>\n<text text-anchor=\"start\" x=\"2447.5\" y=\"-1190.3\" font-family=\"Helvetica,sans-Serif\" font-size=\"14.00\" fill=\"#000000\">class = o</text>\n</g>\n<!-- 188&#45;&gt;190 -->\n<g id=\"edge190\" class=\"edge\">\n<title>188&#45;&gt;190</title>\n<path fill=\"none\" stroke=\"#000000\" d=\"M2429.6821,-1293.8796C2436.4017,-1282.7735 2443.6757,-1270.7513 2450.4414,-1259.5691\"/>\n<polygon fill=\"#000000\" stroke=\"#000000\" points=\"2453.5559,-1261.1826 2455.738,-1250.8149 2447.5668,-1257.5589 2453.5559,-1261.1826\"/>\n</g>\n<!-- 192 -->\n<g id=\"node193\" class=\"node\">\n<title>192</title>\n<path fill=\"#f2c09c\" stroke=\"#000000\" d=\"M2631,-1258C2631,-1258 2556,-1258 2556,-1258 2550,-1258 2544,-1252 2544,-1246 2544,-1246 2544,-1187 2544,-1187 2544,-1181 2550,-1175 2556,-1175 2556,-1175 2631,-1175 2631,-1175 2637,-1175 2643,-1181 2643,-1187 2643,-1187 2643,-1246 2643,-1246 2643,-1252 2637,-1258 2631,-1258\"/>\n<text text-anchor=\"start\" x=\"2555\" y=\"-1242.8\" font-family=\"Helvetica,sans-Serif\" font-size=\"14.00\" fill=\"#000000\">age ≤ 1.337</text>\n<text text-anchor=\"start\" x=\"2555.5\" y=\"-1227.8\" font-family=\"Helvetica,sans-Serif\" font-size=\"14.00\" fill=\"#000000\">gini = 0.444</text>\n<text text-anchor=\"start\" x=\"2554\" y=\"-1212.8\" font-family=\"Helvetica,sans-Serif\" font-size=\"14.00\" fill=\"#000000\">samples = 3</text>\n<text text-anchor=\"start\" x=\"2552\" y=\"-1197.8\" font-family=\"Helvetica,sans-Serif\" font-size=\"14.00\" fill=\"#000000\">value = [2, 1]</text>\n<text text-anchor=\"start\" x=\"2567\" y=\"-1182.8\" font-family=\"Helvetica,sans-Serif\" font-size=\"14.00\" fill=\"#000000\">class = l</text>\n</g>\n<!-- 191&#45;&gt;192 -->\n<g id=\"edge192\" class=\"edge\">\n<title>191&#45;&gt;192</title>\n<path fill=\"none\" stroke=\"#000000\" d=\"M2593.5,-1293.8796C2593.5,-1285.6838 2593.5,-1276.9891 2593.5,-1268.5013\"/>\n<polygon fill=\"#000000\" stroke=\"#000000\" points=\"2597.0001,-1268.298 2593.5,-1258.2981 2590.0001,-1268.2981 2597.0001,-1268.298\"/>\n</g>\n<!-- 195 -->\n<g id=\"node196\" class=\"node\">\n<title>195</title>\n<path fill=\"#e58139\" stroke=\"#000000\" d=\"M2748,-1250.5C2748,-1250.5 2673,-1250.5 2673,-1250.5 2667,-1250.5 2661,-1244.5 2661,-1238.5 2661,-1238.5 2661,-1194.5 2661,-1194.5 2661,-1188.5 2667,-1182.5 2673,-1182.5 2673,-1182.5 2748,-1182.5 2748,-1182.5 2754,-1182.5 2760,-1188.5 2760,-1194.5 2760,-1194.5 2760,-1238.5 2760,-1238.5 2760,-1244.5 2754,-1250.5 2748,-1250.5\"/>\n<text text-anchor=\"start\" x=\"2681\" y=\"-1235.3\" font-family=\"Helvetica,sans-Serif\" font-size=\"14.00\" fill=\"#000000\">gini = 0.0</text>\n<text text-anchor=\"start\" x=\"2671\" y=\"-1220.3\" font-family=\"Helvetica,sans-Serif\" font-size=\"14.00\" fill=\"#000000\">samples = 7</text>\n<text text-anchor=\"start\" x=\"2669\" y=\"-1205.3\" font-family=\"Helvetica,sans-Serif\" font-size=\"14.00\" fill=\"#000000\">value = [7, 0]</text>\n<text text-anchor=\"start\" x=\"2684\" y=\"-1190.3\" font-family=\"Helvetica,sans-Serif\" font-size=\"14.00\" fill=\"#000000\">class = l</text>\n</g>\n<!-- 191&#45;&gt;195 -->\n<g id=\"edge195\" class=\"edge\">\n<title>191&#45;&gt;195</title>\n<path fill=\"none\" stroke=\"#000000\" d=\"M2634.4209,-1293.8796C2645.7728,-1282.3337 2658.0982,-1269.7976 2669.457,-1258.2446\"/>\n<polygon fill=\"#000000\" stroke=\"#000000\" points=\"2672.2466,-1260.3995 2676.7618,-1250.8149 2667.2551,-1255.4919 2672.2466,-1260.3995\"/>\n</g>\n<!-- 193 -->\n<g id=\"node194\" class=\"node\">\n<title>193</title>\n<path fill=\"#e58139\" stroke=\"#000000\" d=\"M2585,-1131.5C2585,-1131.5 2510,-1131.5 2510,-1131.5 2504,-1131.5 2498,-1125.5 2498,-1119.5 2498,-1119.5 2498,-1075.5 2498,-1075.5 2498,-1069.5 2504,-1063.5 2510,-1063.5 2510,-1063.5 2585,-1063.5 2585,-1063.5 2591,-1063.5 2597,-1069.5 2597,-1075.5 2597,-1075.5 2597,-1119.5 2597,-1119.5 2597,-1125.5 2591,-1131.5 2585,-1131.5\"/>\n<text text-anchor=\"start\" x=\"2518\" y=\"-1116.3\" font-family=\"Helvetica,sans-Serif\" font-size=\"14.00\" fill=\"#000000\">gini = 0.0</text>\n<text text-anchor=\"start\" x=\"2508\" y=\"-1101.3\" font-family=\"Helvetica,sans-Serif\" font-size=\"14.00\" fill=\"#000000\">samples = 2</text>\n<text text-anchor=\"start\" x=\"2506\" y=\"-1086.3\" font-family=\"Helvetica,sans-Serif\" font-size=\"14.00\" fill=\"#000000\">value = [2, 0]</text>\n<text text-anchor=\"start\" x=\"2521\" y=\"-1071.3\" font-family=\"Helvetica,sans-Serif\" font-size=\"14.00\" fill=\"#000000\">class = l</text>\n</g>\n<!-- 192&#45;&gt;193 -->\n<g id=\"edge193\" class=\"edge\">\n<title>192&#45;&gt;193</title>\n<path fill=\"none\" stroke=\"#000000\" d=\"M2577.4114,-1174.8796C2573.2034,-1163.9935 2568.655,-1152.227 2564.4057,-1141.2344\"/>\n<polygon fill=\"#000000\" stroke=\"#000000\" points=\"2567.6348,-1139.8804 2560.7646,-1131.8149 2561.1056,-1142.4043 2567.6348,-1139.8804\"/>\n</g>\n<!-- 194 -->\n<g id=\"node195\" class=\"node\">\n<title>194</title>\n<path fill=\"#399de5\" stroke=\"#000000\" d=\"M2702,-1131.5C2702,-1131.5 2627,-1131.5 2627,-1131.5 2621,-1131.5 2615,-1125.5 2615,-1119.5 2615,-1119.5 2615,-1075.5 2615,-1075.5 2615,-1069.5 2621,-1063.5 2627,-1063.5 2627,-1063.5 2702,-1063.5 2702,-1063.5 2708,-1063.5 2714,-1069.5 2714,-1075.5 2714,-1075.5 2714,-1119.5 2714,-1119.5 2714,-1125.5 2708,-1131.5 2702,-1131.5\"/>\n<text text-anchor=\"start\" x=\"2635\" y=\"-1116.3\" font-family=\"Helvetica,sans-Serif\" font-size=\"14.00\" fill=\"#000000\">gini = 0.0</text>\n<text text-anchor=\"start\" x=\"2625\" y=\"-1101.3\" font-family=\"Helvetica,sans-Serif\" font-size=\"14.00\" fill=\"#000000\">samples = 1</text>\n<text text-anchor=\"start\" x=\"2623\" y=\"-1086.3\" font-family=\"Helvetica,sans-Serif\" font-size=\"14.00\" fill=\"#000000\">value = [0, 1]</text>\n<text text-anchor=\"start\" x=\"2635.5\" y=\"-1071.3\" font-family=\"Helvetica,sans-Serif\" font-size=\"14.00\" fill=\"#000000\">class = o</text>\n</g>\n<!-- 192&#45;&gt;194 -->\n<g id=\"edge194\" class=\"edge\">\n<title>192&#45;&gt;194</title>\n<path fill=\"none\" stroke=\"#000000\" d=\"M2618.3324,-1174.8796C2624.9587,-1163.7735 2632.1316,-1151.7513 2638.8033,-1140.5691\"/>\n<polygon fill=\"#000000\" stroke=\"#000000\" points=\"2641.9083,-1142.1959 2644.0264,-1131.8149 2635.8969,-1138.6093 2641.9083,-1142.1959\"/>\n</g>\n<!-- 197 -->\n<g id=\"node198\" class=\"node\">\n<title>197</title>\n<path fill=\"#ffffff\" stroke=\"#000000\" d=\"M2980.5,-1615C2980.5,-1615 2900.5,-1615 2900.5,-1615 2894.5,-1615 2888.5,-1609 2888.5,-1603 2888.5,-1603 2888.5,-1544 2888.5,-1544 2888.5,-1538 2894.5,-1532 2900.5,-1532 2900.5,-1532 2980.5,-1532 2980.5,-1532 2986.5,-1532 2992.5,-1538 2992.5,-1544 2992.5,-1544 2992.5,-1603 2992.5,-1603 2992.5,-1609 2986.5,-1615 2980.5,-1615\"/>\n<text text-anchor=\"start\" x=\"2899.5\" y=\"-1599.8\" font-family=\"Helvetica,sans-Serif\" font-size=\"14.00\" fill=\"#000000\">age ≤ &#45;0.404</text>\n<text text-anchor=\"start\" x=\"2911\" y=\"-1584.8\" font-family=\"Helvetica,sans-Serif\" font-size=\"14.00\" fill=\"#000000\">gini = 0.5</text>\n<text text-anchor=\"start\" x=\"2896.5\" y=\"-1569.8\" font-family=\"Helvetica,sans-Serif\" font-size=\"14.00\" fill=\"#000000\">samples = 12</text>\n<text text-anchor=\"start\" x=\"2899\" y=\"-1554.8\" font-family=\"Helvetica,sans-Serif\" font-size=\"14.00\" fill=\"#000000\">value = [6, 6]</text>\n<text text-anchor=\"start\" x=\"2914\" y=\"-1539.8\" font-family=\"Helvetica,sans-Serif\" font-size=\"14.00\" fill=\"#000000\">class = l</text>\n</g>\n<!-- 196&#45;&gt;197 -->\n<g id=\"edge197\" class=\"edge\">\n<title>196&#45;&gt;197</title>\n<path fill=\"none\" stroke=\"#000000\" d=\"M2940.5,-1650.8796C2940.5,-1642.6838 2940.5,-1633.9891 2940.5,-1625.5013\"/>\n<polygon fill=\"#000000\" stroke=\"#000000\" points=\"2944.0001,-1625.298 2940.5,-1615.2981 2937.0001,-1625.2981 2944.0001,-1625.298\"/>\n</g>\n<!-- 208 -->\n<g id=\"node209\" class=\"node\">\n<title>208</title>\n<path fill=\"#e78c49\" stroke=\"#000000\" d=\"M3165,-1615C3165,-1615 3082,-1615 3082,-1615 3076,-1615 3070,-1609 3070,-1603 3070,-1603 3070,-1544 3070,-1544 3070,-1538 3076,-1532 3082,-1532 3082,-1532 3165,-1532 3165,-1532 3171,-1532 3177,-1538 3177,-1544 3177,-1544 3177,-1603 3177,-1603 3177,-1609 3171,-1615 3165,-1615\"/>\n<text text-anchor=\"start\" x=\"3085\" y=\"-1599.8\" font-family=\"Helvetica,sans-Serif\" font-size=\"14.00\" fill=\"#000000\">age ≤ 0.922</text>\n<text text-anchor=\"start\" x=\"3085.5\" y=\"-1584.8\" font-family=\"Helvetica,sans-Serif\" font-size=\"14.00\" fill=\"#000000\">gini = 0.142</text>\n<text text-anchor=\"start\" x=\"3079.5\" y=\"-1569.8\" font-family=\"Helvetica,sans-Serif\" font-size=\"14.00\" fill=\"#000000\">samples = 13</text>\n<text text-anchor=\"start\" x=\"3078\" y=\"-1554.8\" font-family=\"Helvetica,sans-Serif\" font-size=\"14.00\" fill=\"#000000\">value = [12, 1]</text>\n<text text-anchor=\"start\" x=\"3097\" y=\"-1539.8\" font-family=\"Helvetica,sans-Serif\" font-size=\"14.00\" fill=\"#000000\">class = l</text>\n</g>\n<!-- 196&#45;&gt;208 -->\n<g id=\"edge208\" class=\"edge\">\n<title>196&#45;&gt;208</title>\n<path fill=\"none\" stroke=\"#000000\" d=\"M2994.4163,-1657.4397C3015.4513,-1643.7612 3039.6939,-1627.9969 3061.4499,-1613.8495\"/>\n<polygon fill=\"#000000\" stroke=\"#000000\" points=\"3063.4937,-1616.6954 3069.9691,-1608.3097 3059.6777,-1610.8271 3063.4937,-1616.6954\"/>\n</g>\n<!-- 198 -->\n<g id=\"node199\" class=\"node\">\n<title>198</title>\n<path fill=\"#f2c09c\" stroke=\"#000000\" d=\"M2927,-1496C2927,-1496 2836,-1496 2836,-1496 2830,-1496 2824,-1490 2824,-1484 2824,-1484 2824,-1425 2824,-1425 2824,-1419 2830,-1413 2836,-1413 2836,-1413 2927,-1413 2927,-1413 2933,-1413 2939,-1419 2939,-1425 2939,-1425 2939,-1484 2939,-1484 2939,-1490 2933,-1496 2927,-1496\"/>\n<text text-anchor=\"start\" x=\"2832\" y=\"-1480.8\" font-family=\"Helvetica,sans-Serif\" font-size=\"14.00\" fill=\"#000000\">college ≤ 0.128</text>\n<text text-anchor=\"start\" x=\"2843.5\" y=\"-1465.8\" font-family=\"Helvetica,sans-Serif\" font-size=\"14.00\" fill=\"#000000\">gini = 0.444</text>\n<text text-anchor=\"start\" x=\"2842\" y=\"-1450.8\" font-family=\"Helvetica,sans-Serif\" font-size=\"14.00\" fill=\"#000000\">samples = 9</text>\n<text text-anchor=\"start\" x=\"2840\" y=\"-1435.8\" font-family=\"Helvetica,sans-Serif\" font-size=\"14.00\" fill=\"#000000\">value = [6, 3]</text>\n<text text-anchor=\"start\" x=\"2855\" y=\"-1420.8\" font-family=\"Helvetica,sans-Serif\" font-size=\"14.00\" fill=\"#000000\">class = l</text>\n</g>\n<!-- 197&#45;&gt;198 -->\n<g id=\"edge198\" class=\"edge\">\n<title>197&#45;&gt;198</title>\n<path fill=\"none\" stroke=\"#000000\" d=\"M2919.8647,-1531.8796C2915.6226,-1523.3236 2911.111,-1514.2238 2906.7279,-1505.3833\"/>\n<polygon fill=\"#000000\" stroke=\"#000000\" points=\"2909.8012,-1503.7026 2902.2234,-1496.2981 2903.5297,-1506.8121 2909.8012,-1503.7026\"/>\n</g>\n<!-- 207 -->\n<g id=\"node208\" class=\"node\">\n<title>207</title>\n<path fill=\"#399de5\" stroke=\"#000000\" d=\"M3044,-1488.5C3044,-1488.5 2969,-1488.5 2969,-1488.5 2963,-1488.5 2957,-1482.5 2957,-1476.5 2957,-1476.5 2957,-1432.5 2957,-1432.5 2957,-1426.5 2963,-1420.5 2969,-1420.5 2969,-1420.5 3044,-1420.5 3044,-1420.5 3050,-1420.5 3056,-1426.5 3056,-1432.5 3056,-1432.5 3056,-1476.5 3056,-1476.5 3056,-1482.5 3050,-1488.5 3044,-1488.5\"/>\n<text text-anchor=\"start\" x=\"2977\" y=\"-1473.3\" font-family=\"Helvetica,sans-Serif\" font-size=\"14.00\" fill=\"#000000\">gini = 0.0</text>\n<text text-anchor=\"start\" x=\"2967\" y=\"-1458.3\" font-family=\"Helvetica,sans-Serif\" font-size=\"14.00\" fill=\"#000000\">samples = 3</text>\n<text text-anchor=\"start\" x=\"2965\" y=\"-1443.3\" font-family=\"Helvetica,sans-Serif\" font-size=\"14.00\" fill=\"#000000\">value = [0, 3]</text>\n<text text-anchor=\"start\" x=\"2977.5\" y=\"-1428.3\" font-family=\"Helvetica,sans-Serif\" font-size=\"14.00\" fill=\"#000000\">class = o</text>\n</g>\n<!-- 197&#45;&gt;207 -->\n<g id=\"edge207\" class=\"edge\">\n<title>197&#45;&gt;207</title>\n<path fill=\"none\" stroke=\"#000000\" d=\"M2963.5836,-1531.8796C2969.7433,-1520.7735 2976.4111,-1508.7513 2982.6129,-1497.5691\"/>\n<polygon fill=\"#000000\" stroke=\"#000000\" points=\"2985.6787,-1499.2576 2987.4682,-1488.8149 2979.5572,-1495.8624 2985.6787,-1499.2576\"/>\n</g>\n<!-- 199 -->\n<g id=\"node200\" class=\"node\">\n<title>199</title>\n<path fill=\"#ea9a61\" stroke=\"#000000\" d=\"M2924,-1377C2924,-1377 2839,-1377 2839,-1377 2833,-1377 2827,-1371 2827,-1365 2827,-1365 2827,-1306 2827,-1306 2827,-1300 2833,-1294 2839,-1294 2839,-1294 2924,-1294 2924,-1294 2930,-1294 2936,-1300 2936,-1306 2936,-1306 2936,-1365 2936,-1365 2936,-1371 2930,-1377 2924,-1377\"/>\n<text text-anchor=\"start\" x=\"2835\" y=\"-1361.8\" font-family=\"Helvetica,sans-Serif\" font-size=\"14.00\" fill=\"#000000\">terms ≤ &#45;0.019</text>\n<text text-anchor=\"start\" x=\"2843.5\" y=\"-1346.8\" font-family=\"Helvetica,sans-Serif\" font-size=\"14.00\" fill=\"#000000\">gini = 0.278</text>\n<text text-anchor=\"start\" x=\"2842\" y=\"-1331.8\" font-family=\"Helvetica,sans-Serif\" font-size=\"14.00\" fill=\"#000000\">samples = 6</text>\n<text text-anchor=\"start\" x=\"2840\" y=\"-1316.8\" font-family=\"Helvetica,sans-Serif\" font-size=\"14.00\" fill=\"#000000\">value = [5, 1]</text>\n<text text-anchor=\"start\" x=\"2855\" y=\"-1301.8\" font-family=\"Helvetica,sans-Serif\" font-size=\"14.00\" fill=\"#000000\">class = l</text>\n</g>\n<!-- 198&#45;&gt;199 -->\n<g id=\"edge199\" class=\"edge\">\n<title>198&#45;&gt;199</title>\n<path fill=\"none\" stroke=\"#000000\" d=\"M2881.5,-1412.8796C2881.5,-1404.6838 2881.5,-1395.9891 2881.5,-1387.5013\"/>\n<polygon fill=\"#000000\" stroke=\"#000000\" points=\"2885.0001,-1387.298 2881.5,-1377.2981 2878.0001,-1387.2981 2885.0001,-1387.298\"/>\n</g>\n<!-- 204 -->\n<g id=\"node205\" class=\"node\">\n<title>204</title>\n<path fill=\"#9ccef2\" stroke=\"#000000\" d=\"M3099,-1377C3099,-1377 3024,-1377 3024,-1377 3018,-1377 3012,-1371 3012,-1365 3012,-1365 3012,-1306 3012,-1306 3012,-1300 3018,-1294 3024,-1294 3024,-1294 3099,-1294 3099,-1294 3105,-1294 3111,-1300 3111,-1306 3111,-1306 3111,-1365 3111,-1365 3111,-1371 3105,-1377 3099,-1377\"/>\n<text text-anchor=\"start\" x=\"3020.5\" y=\"-1361.8\" font-family=\"Helvetica,sans-Serif\" font-size=\"14.00\" fill=\"#000000\">age ≤ &#45;0.985</text>\n<text text-anchor=\"start\" x=\"3023.5\" y=\"-1346.8\" font-family=\"Helvetica,sans-Serif\" font-size=\"14.00\" fill=\"#000000\">gini = 0.444</text>\n<text text-anchor=\"start\" x=\"3022\" y=\"-1331.8\" font-family=\"Helvetica,sans-Serif\" font-size=\"14.00\" fill=\"#000000\">samples = 3</text>\n<text text-anchor=\"start\" x=\"3020\" y=\"-1316.8\" font-family=\"Helvetica,sans-Serif\" font-size=\"14.00\" fill=\"#000000\">value = [1, 2]</text>\n<text text-anchor=\"start\" x=\"3032.5\" y=\"-1301.8\" font-family=\"Helvetica,sans-Serif\" font-size=\"14.00\" fill=\"#000000\">class = o</text>\n</g>\n<!-- 198&#45;&gt;204 -->\n<g id=\"edge204\" class=\"edge\">\n<title>198&#45;&gt;204</title>\n<path fill=\"none\" stroke=\"#000000\" d=\"M2939.4439,-1416.1926C2959.8572,-1402.6972 2982.8013,-1387.5286 3003.2405,-1374.016\"/>\n<polygon fill=\"#000000\" stroke=\"#000000\" points=\"3005.4205,-1376.7705 3011.8321,-1368.336 3001.5601,-1370.9313 3005.4205,-1376.7705\"/>\n</g>\n<!-- 200 -->\n<g id=\"node201\" class=\"node\">\n<title>200</title>\n<path fill=\"#ffffff\" stroke=\"#000000\" d=\"M2865,-1258C2865,-1258 2790,-1258 2790,-1258 2784,-1258 2778,-1252 2778,-1246 2778,-1246 2778,-1187 2778,-1187 2778,-1181 2784,-1175 2790,-1175 2790,-1175 2865,-1175 2865,-1175 2871,-1175 2877,-1181 2877,-1187 2877,-1187 2877,-1246 2877,-1246 2877,-1252 2871,-1258 2865,-1258\"/>\n<text text-anchor=\"start\" x=\"2786.5\" y=\"-1242.8\" font-family=\"Helvetica,sans-Serif\" font-size=\"14.00\" fill=\"#000000\">age ≤ &#45;0.902</text>\n<text text-anchor=\"start\" x=\"2798\" y=\"-1227.8\" font-family=\"Helvetica,sans-Serif\" font-size=\"14.00\" fill=\"#000000\">gini = 0.5</text>\n<text text-anchor=\"start\" x=\"2788\" y=\"-1212.8\" font-family=\"Helvetica,sans-Serif\" font-size=\"14.00\" fill=\"#000000\">samples = 2</text>\n<text text-anchor=\"start\" x=\"2786\" y=\"-1197.8\" font-family=\"Helvetica,sans-Serif\" font-size=\"14.00\" fill=\"#000000\">value = [1, 1]</text>\n<text text-anchor=\"start\" x=\"2801\" y=\"-1182.8\" font-family=\"Helvetica,sans-Serif\" font-size=\"14.00\" fill=\"#000000\">class = l</text>\n</g>\n<!-- 199&#45;&gt;200 -->\n<g id=\"edge200\" class=\"edge\">\n<title>199&#45;&gt;200</title>\n<path fill=\"none\" stroke=\"#000000\" d=\"M2862.6134,-1293.8796C2858.7717,-1285.4136 2854.6885,-1276.4153 2850.7166,-1267.6626\"/>\n<polygon fill=\"#000000\" stroke=\"#000000\" points=\"2853.7867,-1265.9581 2846.4672,-1258.2981 2847.4123,-1268.8507 2853.7867,-1265.9581\"/>\n</g>\n<!-- 203 -->\n<g id=\"node204\" class=\"node\">\n<title>203</title>\n<path fill=\"#e58139\" stroke=\"#000000\" d=\"M2982,-1250.5C2982,-1250.5 2907,-1250.5 2907,-1250.5 2901,-1250.5 2895,-1244.5 2895,-1238.5 2895,-1238.5 2895,-1194.5 2895,-1194.5 2895,-1188.5 2901,-1182.5 2907,-1182.5 2907,-1182.5 2982,-1182.5 2982,-1182.5 2988,-1182.5 2994,-1188.5 2994,-1194.5 2994,-1194.5 2994,-1238.5 2994,-1238.5 2994,-1244.5 2988,-1250.5 2982,-1250.5\"/>\n<text text-anchor=\"start\" x=\"2915\" y=\"-1235.3\" font-family=\"Helvetica,sans-Serif\" font-size=\"14.00\" fill=\"#000000\">gini = 0.0</text>\n<text text-anchor=\"start\" x=\"2905\" y=\"-1220.3\" font-family=\"Helvetica,sans-Serif\" font-size=\"14.00\" fill=\"#000000\">samples = 4</text>\n<text text-anchor=\"start\" x=\"2903\" y=\"-1205.3\" font-family=\"Helvetica,sans-Serif\" font-size=\"14.00\" fill=\"#000000\">value = [4, 0]</text>\n<text text-anchor=\"start\" x=\"2918\" y=\"-1190.3\" font-family=\"Helvetica,sans-Serif\" font-size=\"14.00\" fill=\"#000000\">class = l</text>\n</g>\n<!-- 199&#45;&gt;203 -->\n<g id=\"edge203\" class=\"edge\">\n<title>199&#45;&gt;203</title>\n<path fill=\"none\" stroke=\"#000000\" d=\"M2903.5343,-1293.8796C2909.3558,-1282.8835 2915.6527,-1270.9893 2921.5227,-1259.9015\"/>\n<polygon fill=\"#000000\" stroke=\"#000000\" points=\"2924.7476,-1261.2905 2926.3333,-1250.8149 2918.5611,-1258.0152 2924.7476,-1261.2905\"/>\n</g>\n<!-- 201 -->\n<g id=\"node202\" class=\"node\">\n<title>201</title>\n<path fill=\"#e58139\" stroke=\"#000000\" d=\"M2836,-1131.5C2836,-1131.5 2761,-1131.5 2761,-1131.5 2755,-1131.5 2749,-1125.5 2749,-1119.5 2749,-1119.5 2749,-1075.5 2749,-1075.5 2749,-1069.5 2755,-1063.5 2761,-1063.5 2761,-1063.5 2836,-1063.5 2836,-1063.5 2842,-1063.5 2848,-1069.5 2848,-1075.5 2848,-1075.5 2848,-1119.5 2848,-1119.5 2848,-1125.5 2842,-1131.5 2836,-1131.5\"/>\n<text text-anchor=\"start\" x=\"2769\" y=\"-1116.3\" font-family=\"Helvetica,sans-Serif\" font-size=\"14.00\" fill=\"#000000\">gini = 0.0</text>\n<text text-anchor=\"start\" x=\"2759\" y=\"-1101.3\" font-family=\"Helvetica,sans-Serif\" font-size=\"14.00\" fill=\"#000000\">samples = 1</text>\n<text text-anchor=\"start\" x=\"2757\" y=\"-1086.3\" font-family=\"Helvetica,sans-Serif\" font-size=\"14.00\" fill=\"#000000\">value = [1, 0]</text>\n<text text-anchor=\"start\" x=\"2772\" y=\"-1071.3\" font-family=\"Helvetica,sans-Serif\" font-size=\"14.00\" fill=\"#000000\">class = l</text>\n</g>\n<!-- 200&#45;&gt;201 -->\n<g id=\"edge201\" class=\"edge\">\n<title>200&#45;&gt;201</title>\n<path fill=\"none\" stroke=\"#000000\" d=\"M2817.3572,-1174.8796C2814.7311,-1164.1034 2811.8948,-1152.4647 2809.2392,-1141.5677\"/>\n<polygon fill=\"#000000\" stroke=\"#000000\" points=\"2812.6307,-1140.7019 2806.8625,-1131.8149 2805.8297,-1142.3593 2812.6307,-1140.7019\"/>\n</g>\n<!-- 202 -->\n<g id=\"node203\" class=\"node\">\n<title>202</title>\n<path fill=\"#399de5\" stroke=\"#000000\" d=\"M2953,-1131.5C2953,-1131.5 2878,-1131.5 2878,-1131.5 2872,-1131.5 2866,-1125.5 2866,-1119.5 2866,-1119.5 2866,-1075.5 2866,-1075.5 2866,-1069.5 2872,-1063.5 2878,-1063.5 2878,-1063.5 2953,-1063.5 2953,-1063.5 2959,-1063.5 2965,-1069.5 2965,-1075.5 2965,-1075.5 2965,-1119.5 2965,-1119.5 2965,-1125.5 2959,-1131.5 2953,-1131.5\"/>\n<text text-anchor=\"start\" x=\"2886\" y=\"-1116.3\" font-family=\"Helvetica,sans-Serif\" font-size=\"14.00\" fill=\"#000000\">gini = 0.0</text>\n<text text-anchor=\"start\" x=\"2876\" y=\"-1101.3\" font-family=\"Helvetica,sans-Serif\" font-size=\"14.00\" fill=\"#000000\">samples = 1</text>\n<text text-anchor=\"start\" x=\"2874\" y=\"-1086.3\" font-family=\"Helvetica,sans-Serif\" font-size=\"14.00\" fill=\"#000000\">value = [0, 1]</text>\n<text text-anchor=\"start\" x=\"2886.5\" y=\"-1071.3\" font-family=\"Helvetica,sans-Serif\" font-size=\"14.00\" fill=\"#000000\">class = o</text>\n</g>\n<!-- 200&#45;&gt;202 -->\n<g id=\"edge202\" class=\"edge\">\n<title>200&#45;&gt;202</title>\n<path fill=\"none\" stroke=\"#000000\" d=\"M2858.2781,-1174.8796C2866.6536,-1163.5536 2875.7338,-1151.2748 2884.1411,-1139.9058\"/>\n<polygon fill=\"#000000\" stroke=\"#000000\" points=\"2886.9925,-1141.9364 2890.1242,-1131.8149 2881.3643,-1137.7743 2886.9925,-1141.9364\"/>\n</g>\n<!-- 205 -->\n<g id=\"node206\" class=\"node\">\n<title>205</title>\n<path fill=\"#e58139\" stroke=\"#000000\" d=\"M3099,-1250.5C3099,-1250.5 3024,-1250.5 3024,-1250.5 3018,-1250.5 3012,-1244.5 3012,-1238.5 3012,-1238.5 3012,-1194.5 3012,-1194.5 3012,-1188.5 3018,-1182.5 3024,-1182.5 3024,-1182.5 3099,-1182.5 3099,-1182.5 3105,-1182.5 3111,-1188.5 3111,-1194.5 3111,-1194.5 3111,-1238.5 3111,-1238.5 3111,-1244.5 3105,-1250.5 3099,-1250.5\"/>\n<text text-anchor=\"start\" x=\"3032\" y=\"-1235.3\" font-family=\"Helvetica,sans-Serif\" font-size=\"14.00\" fill=\"#000000\">gini = 0.0</text>\n<text text-anchor=\"start\" x=\"3022\" y=\"-1220.3\" font-family=\"Helvetica,sans-Serif\" font-size=\"14.00\" fill=\"#000000\">samples = 1</text>\n<text text-anchor=\"start\" x=\"3020\" y=\"-1205.3\" font-family=\"Helvetica,sans-Serif\" font-size=\"14.00\" fill=\"#000000\">value = [1, 0]</text>\n<text text-anchor=\"start\" x=\"3035\" y=\"-1190.3\" font-family=\"Helvetica,sans-Serif\" font-size=\"14.00\" fill=\"#000000\">class = l</text>\n</g>\n<!-- 204&#45;&gt;205 -->\n<g id=\"edge205\" class=\"edge\">\n<title>204&#45;&gt;205</title>\n<path fill=\"none\" stroke=\"#000000\" d=\"M3061.5,-1293.8796C3061.5,-1283.2134 3061.5,-1271.7021 3061.5,-1260.9015\"/>\n<polygon fill=\"#000000\" stroke=\"#000000\" points=\"3065.0001,-1260.8149 3061.5,-1250.8149 3058.0001,-1260.815 3065.0001,-1260.8149\"/>\n</g>\n<!-- 206 -->\n<g id=\"node207\" class=\"node\">\n<title>206</title>\n<path fill=\"#399de5\" stroke=\"#000000\" d=\"M3216,-1250.5C3216,-1250.5 3141,-1250.5 3141,-1250.5 3135,-1250.5 3129,-1244.5 3129,-1238.5 3129,-1238.5 3129,-1194.5 3129,-1194.5 3129,-1188.5 3135,-1182.5 3141,-1182.5 3141,-1182.5 3216,-1182.5 3216,-1182.5 3222,-1182.5 3228,-1188.5 3228,-1194.5 3228,-1194.5 3228,-1238.5 3228,-1238.5 3228,-1244.5 3222,-1250.5 3216,-1250.5\"/>\n<text text-anchor=\"start\" x=\"3149\" y=\"-1235.3\" font-family=\"Helvetica,sans-Serif\" font-size=\"14.00\" fill=\"#000000\">gini = 0.0</text>\n<text text-anchor=\"start\" x=\"3139\" y=\"-1220.3\" font-family=\"Helvetica,sans-Serif\" font-size=\"14.00\" fill=\"#000000\">samples = 2</text>\n<text text-anchor=\"start\" x=\"3137\" y=\"-1205.3\" font-family=\"Helvetica,sans-Serif\" font-size=\"14.00\" fill=\"#000000\">value = [0, 2]</text>\n<text text-anchor=\"start\" x=\"3149.5\" y=\"-1190.3\" font-family=\"Helvetica,sans-Serif\" font-size=\"14.00\" fill=\"#000000\">class = o</text>\n</g>\n<!-- 204&#45;&gt;206 -->\n<g id=\"edge206\" class=\"edge\">\n<title>204&#45;&gt;206</title>\n<path fill=\"none\" stroke=\"#000000\" d=\"M3102.4209,-1293.8796C3113.7728,-1282.3337 3126.0982,-1269.7976 3137.457,-1258.2446\"/>\n<polygon fill=\"#000000\" stroke=\"#000000\" points=\"3140.2466,-1260.3995 3144.7618,-1250.8149 3135.2551,-1255.4919 3140.2466,-1260.3995\"/>\n</g>\n<!-- 209 -->\n<g id=\"node210\" class=\"node\">\n<title>209</title>\n<path fill=\"#e58139\" stroke=\"#000000\" d=\"M3161,-1488.5C3161,-1488.5 3086,-1488.5 3086,-1488.5 3080,-1488.5 3074,-1482.5 3074,-1476.5 3074,-1476.5 3074,-1432.5 3074,-1432.5 3074,-1426.5 3080,-1420.5 3086,-1420.5 3086,-1420.5 3161,-1420.5 3161,-1420.5 3167,-1420.5 3173,-1426.5 3173,-1432.5 3173,-1432.5 3173,-1476.5 3173,-1476.5 3173,-1482.5 3167,-1488.5 3161,-1488.5\"/>\n<text text-anchor=\"start\" x=\"3094\" y=\"-1473.3\" font-family=\"Helvetica,sans-Serif\" font-size=\"14.00\" fill=\"#000000\">gini = 0.0</text>\n<text text-anchor=\"start\" x=\"3084\" y=\"-1458.3\" font-family=\"Helvetica,sans-Serif\" font-size=\"14.00\" fill=\"#000000\">samples = 9</text>\n<text text-anchor=\"start\" x=\"3082\" y=\"-1443.3\" font-family=\"Helvetica,sans-Serif\" font-size=\"14.00\" fill=\"#000000\">value = [9, 0]</text>\n<text text-anchor=\"start\" x=\"3097\" y=\"-1428.3\" font-family=\"Helvetica,sans-Serif\" font-size=\"14.00\" fill=\"#000000\">class = l</text>\n</g>\n<!-- 208&#45;&gt;209 -->\n<g id=\"edge209\" class=\"edge\">\n<title>208&#45;&gt;209</title>\n<path fill=\"none\" stroke=\"#000000\" d=\"M3123.5,-1531.8796C3123.5,-1521.2134 3123.5,-1509.7021 3123.5,-1498.9015\"/>\n<polygon fill=\"#000000\" stroke=\"#000000\" points=\"3127.0001,-1498.8149 3123.5,-1488.8149 3120.0001,-1498.815 3127.0001,-1498.8149\"/>\n</g>\n<!-- 210 -->\n<g id=\"node211\" class=\"node\">\n<title>210</title>\n<path fill=\"#eeab7b\" stroke=\"#000000\" d=\"M3294,-1496C3294,-1496 3203,-1496 3203,-1496 3197,-1496 3191,-1490 3191,-1484 3191,-1484 3191,-1425 3191,-1425 3191,-1419 3197,-1413 3203,-1413 3203,-1413 3294,-1413 3294,-1413 3300,-1413 3306,-1419 3306,-1425 3306,-1425 3306,-1484 3306,-1484 3306,-1490 3300,-1496 3294,-1496\"/>\n<text text-anchor=\"start\" x=\"3199\" y=\"-1480.8\" font-family=\"Helvetica,sans-Serif\" font-size=\"14.00\" fill=\"#000000\">college ≤ 0.128</text>\n<text text-anchor=\"start\" x=\"3210.5\" y=\"-1465.8\" font-family=\"Helvetica,sans-Serif\" font-size=\"14.00\" fill=\"#000000\">gini = 0.375</text>\n<text text-anchor=\"start\" x=\"3209\" y=\"-1450.8\" font-family=\"Helvetica,sans-Serif\" font-size=\"14.00\" fill=\"#000000\">samples = 4</text>\n<text text-anchor=\"start\" x=\"3207\" y=\"-1435.8\" font-family=\"Helvetica,sans-Serif\" font-size=\"14.00\" fill=\"#000000\">value = [3, 1]</text>\n<text text-anchor=\"start\" x=\"3222\" y=\"-1420.8\" font-family=\"Helvetica,sans-Serif\" font-size=\"14.00\" fill=\"#000000\">class = l</text>\n</g>\n<!-- 208&#45;&gt;210 -->\n<g id=\"edge210\" class=\"edge\">\n<title>208&#45;&gt;210</title>\n<path fill=\"none\" stroke=\"#000000\" d=\"M3167.2189,-1531.8796C3176.8686,-1522.6931 3187.1766,-1512.8798 3197.0991,-1503.4336\"/>\n<polygon fill=\"#000000\" stroke=\"#000000\" points=\"3199.765,-1505.7282 3204.5945,-1496.2981 3194.9384,-1500.6582 3199.765,-1505.7282\"/>\n</g>\n<!-- 211 -->\n<g id=\"node212\" class=\"node\">\n<title>211</title>\n<path fill=\"#399de5\" stroke=\"#000000\" d=\"M3224,-1369.5C3224,-1369.5 3149,-1369.5 3149,-1369.5 3143,-1369.5 3137,-1363.5 3137,-1357.5 3137,-1357.5 3137,-1313.5 3137,-1313.5 3137,-1307.5 3143,-1301.5 3149,-1301.5 3149,-1301.5 3224,-1301.5 3224,-1301.5 3230,-1301.5 3236,-1307.5 3236,-1313.5 3236,-1313.5 3236,-1357.5 3236,-1357.5 3236,-1363.5 3230,-1369.5 3224,-1369.5\"/>\n<text text-anchor=\"start\" x=\"3157\" y=\"-1354.3\" font-family=\"Helvetica,sans-Serif\" font-size=\"14.00\" fill=\"#000000\">gini = 0.0</text>\n<text text-anchor=\"start\" x=\"3147\" y=\"-1339.3\" font-family=\"Helvetica,sans-Serif\" font-size=\"14.00\" fill=\"#000000\">samples = 1</text>\n<text text-anchor=\"start\" x=\"3145\" y=\"-1324.3\" font-family=\"Helvetica,sans-Serif\" font-size=\"14.00\" fill=\"#000000\">value = [0, 1]</text>\n<text text-anchor=\"start\" x=\"3157.5\" y=\"-1309.3\" font-family=\"Helvetica,sans-Serif\" font-size=\"14.00\" fill=\"#000000\">class = o</text>\n</g>\n<!-- 210&#45;&gt;211 -->\n<g id=\"edge211\" class=\"edge\">\n<title>210&#45;&gt;211</title>\n<path fill=\"none\" stroke=\"#000000\" d=\"M3226.8154,-1412.8796C3221.0864,-1401.8835 3214.8894,-1389.9893 3209.1126,-1378.9015\"/>\n<polygon fill=\"#000000\" stroke=\"#000000\" points=\"3212.103,-1377.0662 3204.3784,-1369.8149 3205.895,-1380.3007 3212.103,-1377.0662\"/>\n</g>\n<!-- 212 -->\n<g id=\"node213\" class=\"node\">\n<title>212</title>\n<path fill=\"#e58139\" stroke=\"#000000\" d=\"M3341,-1369.5C3341,-1369.5 3266,-1369.5 3266,-1369.5 3260,-1369.5 3254,-1363.5 3254,-1357.5 3254,-1357.5 3254,-1313.5 3254,-1313.5 3254,-1307.5 3260,-1301.5 3266,-1301.5 3266,-1301.5 3341,-1301.5 3341,-1301.5 3347,-1301.5 3353,-1307.5 3353,-1313.5 3353,-1313.5 3353,-1357.5 3353,-1357.5 3353,-1363.5 3347,-1369.5 3341,-1369.5\"/>\n<text text-anchor=\"start\" x=\"3274\" y=\"-1354.3\" font-family=\"Helvetica,sans-Serif\" font-size=\"14.00\" fill=\"#000000\">gini = 0.0</text>\n<text text-anchor=\"start\" x=\"3264\" y=\"-1339.3\" font-family=\"Helvetica,sans-Serif\" font-size=\"14.00\" fill=\"#000000\">samples = 3</text>\n<text text-anchor=\"start\" x=\"3262\" y=\"-1324.3\" font-family=\"Helvetica,sans-Serif\" font-size=\"14.00\" fill=\"#000000\">value = [3, 0]</text>\n<text text-anchor=\"start\" x=\"3277\" y=\"-1309.3\" font-family=\"Helvetica,sans-Serif\" font-size=\"14.00\" fill=\"#000000\">class = l</text>\n</g>\n<!-- 210&#45;&gt;212 -->\n<g id=\"edge212\" class=\"edge\">\n<title>210&#45;&gt;212</title>\n<path fill=\"none\" stroke=\"#000000\" d=\"M3267.7363,-1412.8796C3272.8186,-1401.8835 3278.3159,-1389.9893 3283.4405,-1378.9015\"/>\n<polygon fill=\"#000000\" stroke=\"#000000\" points=\"3286.6218,-1380.3607 3287.6402,-1369.8149 3280.2676,-1377.4239 3286.6218,-1380.3607\"/>\n</g>\n</g>\n</svg>\n"
          },
          "metadata": {
            "tags": []
          },
          "execution_count": 34
        }
      ]
    },
    {
      "cell_type": "markdown",
      "metadata": {
        "id": "T1CDc8WPJw6M",
        "colab_type": "text"
      },
      "source": [
        "## **SVM (Support Vector Machine )**"
      ]
    },
    {
      "cell_type": "code",
      "metadata": {
        "id": "wcWAv6qdJv6s",
        "colab_type": "code",
        "colab": {}
      },
      "source": [
        "y_train = y_train.astype(float)"
      ],
      "execution_count": 0,
      "outputs": []
    },
    {
      "cell_type": "code",
      "metadata": {
        "id": "EbzFbAcQKE_D",
        "colab_type": "code",
        "colab": {}
      },
      "source": [
        "from sklearn import svm\n",
        "\n",
        "clf_svm = svm.LinearSVC( random_state = 7)\n",
        "clf_svm.fit(X_train, y_train)\n",
        "\n",
        "y_pred = clf_svm.predict(X_train)"
      ],
      "execution_count": 0,
      "outputs": []
    },
    {
      "cell_type": "code",
      "metadata": {
        "id": "1cYxEiREKirO",
        "colab_type": "code",
        "colab": {
          "base_uri": "https://localhost:8080/",
          "height": 52
        },
        "outputId": "aa652897-04cf-4335-e62c-95d3869692bf"
      },
      "source": [
        "trainScores['SVM - jaccard'] = jaccard_similarity_score(y_train,y_pred)\n",
        "trainScores['SVM - f1-score'] = f1_score(y_train,y_pred,average='weighted')"
      ],
      "execution_count": 37,
      "outputs": [
        {
          "output_type": "stream",
          "text": [
            "/usr/local/lib/python3.6/dist-packages/sklearn/metrics/_classification.py:664: FutureWarning: jaccard_similarity_score has been deprecated and replaced with jaccard_score. It will be removed in version 0.23. This implementation has surprising behavior for binary and multiclass classification tasks.\n",
            "  FutureWarning)\n"
          ],
          "name": "stderr"
        }
      ]
    },
    {
      "cell_type": "code",
      "metadata": {
        "id": "YtQDC9zVK7J0",
        "colab_type": "code",
        "colab": {
          "base_uri": "https://localhost:8080/",
          "height": 121
        },
        "outputId": "700243e4-0953-41b1-fb4b-0002857828fa"
      },
      "source": [
        "trainScores"
      ],
      "execution_count": 38,
      "outputs": [
        {
          "output_type": "execute_result",
          "data": {
            "text/plain": [
              "{'SVM - f1-score': 0.6689062277741139,\n",
              " 'SVM - jaccard': 0.7514450867052023,\n",
              " 'd-Tree-f1-score': 0.8387096774193549,\n",
              " 'd-Tree-jaccard': 0.9277456647398844,\n",
              " 'kNN- f1-score': 0.7701843558681992,\n",
              " 'kNN- jaccard': 0.7947976878612717}"
            ]
          },
          "metadata": {
            "tags": []
          },
          "execution_count": 38
        }
      ]
    },
    {
      "cell_type": "markdown",
      "metadata": {
        "id": "lHxvinfDLOwJ",
        "colab_type": "text"
      },
      "source": [
        "### **Logistic Regression**"
      ]
    },
    {
      "cell_type": "code",
      "metadata": {
        "id": "h2m3BozXLOB6",
        "colab_type": "code",
        "colab": {}
      },
      "source": [
        "from sklearn.linear_model import LogisticRegression\n",
        "\n",
        "clf_log = LogisticRegression(random_state=0, solver='lbfgs', multi_class = 'multinomial')\n",
        "clf_log.fit(X_train, y_train)\n",
        "\n",
        "y_pred = clf_log.predict(X_train)\n",
        "y_proba = clf_log.predict_proba(X_train)"
      ],
      "execution_count": 0,
      "outputs": []
    },
    {
      "cell_type": "code",
      "metadata": {
        "id": "R52UO-SwNj6x",
        "colab_type": "code",
        "colab": {
          "base_uri": "https://localhost:8080/",
          "height": 71
        },
        "outputId": "ff4480e8-82fd-4e69-b187-8ac2300db832"
      },
      "source": [
        "trainScores['LogReg-jaccard']=jaccard_similarity_score(y_train, y_pred)\n",
        "trainScores['LogReg-f1-score']=f1_score(y_train, y_pred, average='weighted')  \n",
        "trainScores['LogReg-logLoss']=log_loss(y_train, y_proba)"
      ],
      "execution_count": 40,
      "outputs": [
        {
          "output_type": "stream",
          "text": [
            "/usr/local/lib/python3.6/dist-packages/sklearn/metrics/_classification.py:664: FutureWarning: jaccard_similarity_score has been deprecated and replaced with jaccard_score. It will be removed in version 0.23. This implementation has surprising behavior for binary and multiclass classification tasks.\n",
            "  FutureWarning)\n"
          ],
          "name": "stderr"
        }
      ]
    },
    {
      "cell_type": "code",
      "metadata": {
        "id": "ZZ8Bqa9mN5df",
        "colab_type": "code",
        "colab": {
          "base_uri": "https://localhost:8080/",
          "height": 170
        },
        "outputId": "42732af9-a2ba-43ca-b35b-d33c0d8e59e4"
      },
      "source": [
        "trainScores"
      ],
      "execution_count": 41,
      "outputs": [
        {
          "output_type": "execute_result",
          "data": {
            "text/plain": [
              "{'LogReg-f1-score': 0.7088399037150602,\n",
              " 'LogReg-jaccard': 0.7630057803468208,\n",
              " 'LogReg-logLoss': 0.43174993676801543,\n",
              " 'SVM - f1-score': 0.6689062277741139,\n",
              " 'SVM - jaccard': 0.7514450867052023,\n",
              " 'd-Tree-f1-score': 0.8387096774193549,\n",
              " 'd-Tree-jaccard': 0.9277456647398844,\n",
              " 'kNN- f1-score': 0.7701843558681992,\n",
              " 'kNN- jaccard': 0.7947976878612717}"
            ]
          },
          "metadata": {
            "tags": []
          },
          "execution_count": 41
        }
      ]
    },
    {
      "cell_type": "markdown",
      "metadata": {
        "id": "osIHFqjMPH61",
        "colab_type": "text"
      },
      "source": [
        "# **MODEL EVALUATION USING TEST SET**"
      ]
    },
    {
      "cell_type": "code",
      "metadata": {
        "id": "62viBECfPS5k",
        "colab_type": "code",
        "colab": {
          "base_uri": "https://localhost:8080/",
          "height": 204
        },
        "outputId": "e3404098-b71c-4c3e-c99f-6aa5e7d9476e"
      },
      "source": [
        "!wget -O loan_test.csv https://s3-api.us-geo.objectstorage.softlayer.net/cf-courses-data/CognitiveClass/ML0101ENv3/labs/loan_test.csv"
      ],
      "execution_count": 42,
      "outputs": [
        {
          "output_type": "stream",
          "text": [
            "--2020-05-16 07:30:22--  https://s3-api.us-geo.objectstorage.softlayer.net/cf-courses-data/CognitiveClass/ML0101ENv3/labs/loan_test.csv\n",
            "Resolving s3-api.us-geo.objectstorage.softlayer.net (s3-api.us-geo.objectstorage.softlayer.net)... 67.228.254.196\n",
            "Connecting to s3-api.us-geo.objectstorage.softlayer.net (s3-api.us-geo.objectstorage.softlayer.net)|67.228.254.196|:443... connected.\n",
            "HTTP request sent, awaiting response... 200 OK\n",
            "Length: 3642 (3.6K) [text/csv]\n",
            "Saving to: ‘loan_test.csv’\n",
            "\n",
            "\rloan_test.csv         0%[                    ]       0  --.-KB/s               \rloan_test.csv       100%[===================>]   3.56K  --.-KB/s    in 0s      \n",
            "\n",
            "2020-05-16 07:30:23 (709 MB/s) - ‘loan_test.csv’ saved [3642/3642]\n",
            "\n"
          ],
          "name": "stdout"
        }
      ]
    },
    {
      "cell_type": "code",
      "metadata": {
        "id": "KByk_8hLPj5D",
        "colab_type": "code",
        "colab": {
          "base_uri": "https://localhost:8080/",
          "height": 204
        },
        "outputId": "cb8f93b2-f84b-40bb-c177-301d61c81622"
      },
      "source": [
        "test_df = pd.read_csv('loan_test.csv')\n",
        "test_df.head()"
      ],
      "execution_count": 43,
      "outputs": [
        {
          "output_type": "execute_result",
          "data": {
            "text/html": [
              "<div>\n",
              "<style scoped>\n",
              "    .dataframe tbody tr th:only-of-type {\n",
              "        vertical-align: middle;\n",
              "    }\n",
              "\n",
              "    .dataframe tbody tr th {\n",
              "        vertical-align: top;\n",
              "    }\n",
              "\n",
              "    .dataframe thead th {\n",
              "        text-align: right;\n",
              "    }\n",
              "</style>\n",
              "<table border=\"1\" class=\"dataframe\">\n",
              "  <thead>\n",
              "    <tr style=\"text-align: right;\">\n",
              "      <th></th>\n",
              "      <th>Unnamed: 0</th>\n",
              "      <th>Unnamed: 0.1</th>\n",
              "      <th>loan_status</th>\n",
              "      <th>Principal</th>\n",
              "      <th>terms</th>\n",
              "      <th>effective_date</th>\n",
              "      <th>due_date</th>\n",
              "      <th>age</th>\n",
              "      <th>education</th>\n",
              "      <th>Gender</th>\n",
              "    </tr>\n",
              "  </thead>\n",
              "  <tbody>\n",
              "    <tr>\n",
              "      <th>0</th>\n",
              "      <td>1</td>\n",
              "      <td>1</td>\n",
              "      <td>PAIDOFF</td>\n",
              "      <td>1000</td>\n",
              "      <td>30</td>\n",
              "      <td>9/8/2016</td>\n",
              "      <td>10/7/2016</td>\n",
              "      <td>50</td>\n",
              "      <td>Bechalor</td>\n",
              "      <td>female</td>\n",
              "    </tr>\n",
              "    <tr>\n",
              "      <th>1</th>\n",
              "      <td>5</td>\n",
              "      <td>5</td>\n",
              "      <td>PAIDOFF</td>\n",
              "      <td>300</td>\n",
              "      <td>7</td>\n",
              "      <td>9/9/2016</td>\n",
              "      <td>9/15/2016</td>\n",
              "      <td>35</td>\n",
              "      <td>Master or Above</td>\n",
              "      <td>male</td>\n",
              "    </tr>\n",
              "    <tr>\n",
              "      <th>2</th>\n",
              "      <td>21</td>\n",
              "      <td>21</td>\n",
              "      <td>PAIDOFF</td>\n",
              "      <td>1000</td>\n",
              "      <td>30</td>\n",
              "      <td>9/10/2016</td>\n",
              "      <td>10/9/2016</td>\n",
              "      <td>43</td>\n",
              "      <td>High School or Below</td>\n",
              "      <td>female</td>\n",
              "    </tr>\n",
              "    <tr>\n",
              "      <th>3</th>\n",
              "      <td>24</td>\n",
              "      <td>24</td>\n",
              "      <td>PAIDOFF</td>\n",
              "      <td>1000</td>\n",
              "      <td>30</td>\n",
              "      <td>9/10/2016</td>\n",
              "      <td>10/9/2016</td>\n",
              "      <td>26</td>\n",
              "      <td>college</td>\n",
              "      <td>male</td>\n",
              "    </tr>\n",
              "    <tr>\n",
              "      <th>4</th>\n",
              "      <td>35</td>\n",
              "      <td>35</td>\n",
              "      <td>PAIDOFF</td>\n",
              "      <td>800</td>\n",
              "      <td>15</td>\n",
              "      <td>9/11/2016</td>\n",
              "      <td>9/25/2016</td>\n",
              "      <td>29</td>\n",
              "      <td>Bechalor</td>\n",
              "      <td>male</td>\n",
              "    </tr>\n",
              "  </tbody>\n",
              "</table>\n",
              "</div>"
            ],
            "text/plain": [
              "   Unnamed: 0  Unnamed: 0.1 loan_status  ...  age             education  Gender\n",
              "0           1             1     PAIDOFF  ...   50              Bechalor  female\n",
              "1           5             5     PAIDOFF  ...   35       Master or Above    male\n",
              "2          21            21     PAIDOFF  ...   43  High School or Below  female\n",
              "3          24            24     PAIDOFF  ...   26               college    male\n",
              "4          35            35     PAIDOFF  ...   29              Bechalor    male\n",
              "\n",
              "[5 rows x 10 columns]"
            ]
          },
          "metadata": {
            "tags": []
          },
          "execution_count": 43
        }
      ]
    },
    {
      "cell_type": "code",
      "metadata": {
        "id": "J1EVG2jwP1M4",
        "colab_type": "code",
        "colab": {}
      },
      "source": [
        "#Converting the columns of the test dataframe\n",
        "\n",
        "test_df['due_date'] = pd.to_datetime(test_df['due_date'])\n",
        "test_df['effective_date'] = pd.to_datetime(test_df['effective_date'])\n",
        "test_df['dayofweek'] = test_df['effective_date'].dt.dayofweek\n",
        "test_df['weekend'] = test_df['dayofweek'].apply(lambda x: 1 if (x>3) else 0)\n",
        "test_df.replace(to_replace=['male','female'],value=[0,1],inplace=True)\n",
        "test_df['Month'] = test_df.due_date.dt.month \n",
        "test_df ['deadline']=test_df['due_date']-test_df['effective_date']\n",
        "test_df['deadline']=test_df['deadline'].dt.days\n",
        "test_df\n",
        "\n",
        "Feature = test_df[['Principal','terms','age','Gender','weekend','dayofweek']]\n",
        "Feature = pd.concat([Feature,pd.get_dummies(test_df['education'])],axis=1)\n",
        "Feature.drop(['Master or Above'], axis=1,inplace=True)\n",
        "#Feature.head()\n",
        "\n",
        "X = Feature\n",
        "y = test_df['loan_status'].replace(to_replace=['PAIDOFF','COLLECTION'], value=[0,1]).values\n",
        "testy=y.astype('float64')\n",
        "#X.fillna(X.mean(), inplace=True)\n",
        "testX= preprocessing.StandardScaler().fit_transform(X)\n",
        "#testX[0:5]"
      ],
      "execution_count": 0,
      "outputs": []
    },
    {
      "cell_type": "code",
      "metadata": {
        "id": "KVlRHY_pSQTS",
        "colab_type": "code",
        "colab": {}
      },
      "source": [
        "testScores = {}"
      ],
      "execution_count": 0,
      "outputs": []
    },
    {
      "cell_type": "code",
      "metadata": {
        "id": "HYu4vRlJSTQ_",
        "colab_type": "code",
        "colab": {
          "base_uri": "https://localhost:8080/",
          "height": 71
        },
        "outputId": "78ded5cb-95b5-48b5-f120-4f46e0049ab3"
      },
      "source": [
        "#Calculating Scores of kNN\n",
        "knn_pred=clf_knn.predict(testX)\n",
        "testScores['kNN-jaccard']=jaccard_similarity_score(testy, knn_pred)\n",
        "testScores['kNN-f1-score']=f1_score(testy, knn_pred, average='weighted')"
      ],
      "execution_count": 46,
      "outputs": [
        {
          "output_type": "stream",
          "text": [
            "/usr/local/lib/python3.6/dist-packages/sklearn/metrics/_classification.py:664: FutureWarning: jaccard_similarity_score has been deprecated and replaced with jaccard_score. It will be removed in version 0.23. This implementation has surprising behavior for binary and multiclass classification tasks.\n",
            "  FutureWarning)\n"
          ],
          "name": "stderr"
        }
      ]
    },
    {
      "cell_type": "code",
      "metadata": {
        "id": "Ienhj79NYl4x",
        "colab_type": "code",
        "colab": {
          "base_uri": "https://localhost:8080/",
          "height": 71
        },
        "outputId": "70e145d5-995b-4226-dac9-03674b9ec2df"
      },
      "source": [
        "#Calculating Scores of d-Tree\n",
        "tree_pred=clf_tree.predict(testX)\n",
        "testScores['d-Tree-jaccard']=jaccard_similarity_score(testy, tree_pred)\n",
        "testScores['d-Tree-f1-score']=f1_score(testy, tree_pred, average='weighted')"
      ],
      "execution_count": 47,
      "outputs": [
        {
          "output_type": "stream",
          "text": [
            "/usr/local/lib/python3.6/dist-packages/sklearn/metrics/_classification.py:664: FutureWarning: jaccard_similarity_score has been deprecated and replaced with jaccard_score. It will be removed in version 0.23. This implementation has surprising behavior for binary and multiclass classification tasks.\n",
            "  FutureWarning)\n"
          ],
          "name": "stderr"
        }
      ]
    },
    {
      "cell_type": "code",
      "metadata": {
        "id": "cQcwzA6NZGW0",
        "colab_type": "code",
        "colab": {
          "base_uri": "https://localhost:8080/",
          "height": 71
        },
        "outputId": "ef18fcc4-0709-4599-eb70-0b7ff49e4501"
      },
      "source": [
        "#Calculating Scores of SVM\n",
        "svm_pred=clf_svm.predict(testX)\n",
        "testScores['SVM-jaccard']=jaccard_similarity_score(testy, svm_pred)\n",
        "testScores['SVM-f1-score']=f1_score(testy, svm_pred, average='weighted')"
      ],
      "execution_count": 48,
      "outputs": [
        {
          "output_type": "stream",
          "text": [
            "/usr/local/lib/python3.6/dist-packages/sklearn/metrics/_classification.py:664: FutureWarning: jaccard_similarity_score has been deprecated and replaced with jaccard_score. It will be removed in version 0.23. This implementation has surprising behavior for binary and multiclass classification tasks.\n",
            "  FutureWarning)\n"
          ],
          "name": "stderr"
        }
      ]
    },
    {
      "cell_type": "code",
      "metadata": {
        "id": "vHEl2jypZNqt",
        "colab_type": "code",
        "colab": {
          "base_uri": "https://localhost:8080/",
          "height": 71
        },
        "outputId": "174708ed-8296-4dd9-fc78-73a90dec5bec"
      },
      "source": [
        "#Calculating Scores of LogReg\n",
        "log_pred=clf_log.predict(testX)\n",
        "proba=clf_log.predict_proba(testX)\n",
        "testScores['LogReg-jaccard']=jaccard_similarity_score(testy, log_pred)\n",
        "testScores['LogReg-f1-score']=f1_score(testy, log_pred, average='weighted')  \n",
        "testScores['LogReg-logLoss']=log_loss(testy, proba)"
      ],
      "execution_count": 49,
      "outputs": [
        {
          "output_type": "stream",
          "text": [
            "/usr/local/lib/python3.6/dist-packages/sklearn/metrics/_classification.py:664: FutureWarning: jaccard_similarity_score has been deprecated and replaced with jaccard_score. It will be removed in version 0.23. This implementation has surprising behavior for binary and multiclass classification tasks.\n",
            "  FutureWarning)\n"
          ],
          "name": "stderr"
        }
      ]
    },
    {
      "cell_type": "code",
      "metadata": {
        "id": "7DhJ6uOeZY4W",
        "colab_type": "code",
        "colab": {
          "base_uri": "https://localhost:8080/",
          "height": 170
        },
        "outputId": "ba2a1e63-6a2a-4ddc-84ff-8fd0a2d77592"
      },
      "source": [
        "trainScores"
      ],
      "execution_count": 50,
      "outputs": [
        {
          "output_type": "execute_result",
          "data": {
            "text/plain": [
              "{'LogReg-f1-score': 0.7088399037150602,\n",
              " 'LogReg-jaccard': 0.7630057803468208,\n",
              " 'LogReg-logLoss': 0.43174993676801543,\n",
              " 'SVM - f1-score': 0.6689062277741139,\n",
              " 'SVM - jaccard': 0.7514450867052023,\n",
              " 'd-Tree-f1-score': 0.8387096774193549,\n",
              " 'd-Tree-jaccard': 0.9277456647398844,\n",
              " 'kNN- f1-score': 0.7701843558681992,\n",
              " 'kNN- jaccard': 0.7947976878612717}"
            ]
          },
          "metadata": {
            "tags": []
          },
          "execution_count": 50
        }
      ]
    },
    {
      "cell_type": "code",
      "metadata": {
        "id": "oQN_2jDUZlV3",
        "colab_type": "code",
        "colab": {
          "base_uri": "https://localhost:8080/",
          "height": 170
        },
        "outputId": "cd15d066-5836-435f-9e5a-48cd813edaa1"
      },
      "source": [
        "testScores"
      ],
      "execution_count": 51,
      "outputs": [
        {
          "output_type": "execute_result",
          "data": {
            "text/plain": [
              "{'LogReg-f1-score': 0.708937198067633,\n",
              " 'LogReg-jaccard': 0.7777777777777778,\n",
              " 'LogReg-logLoss': 0.4739578521073105,\n",
              " 'SVM-f1-score': 0.6959228135698723,\n",
              " 'SVM-jaccard': 0.7592592592592593,\n",
              " 'd-Tree-f1-score': 0.7823361823361823,\n",
              " 'd-Tree-jaccard': 0.7777777777777778,\n",
              " 'kNN-f1-score': 0.7144311330357843,\n",
              " 'kNN-jaccard': 0.7407407407407407}"
            ]
          },
          "metadata": {
            "tags": []
          },
          "execution_count": 51
        }
      ]
    },
    {
      "cell_type": "code",
      "metadata": {
        "id": "MD2xvQpZZ6zV",
        "colab_type": "code",
        "colab": {
          "base_uri": "https://localhost:8080/",
          "height": 170
        },
        "outputId": "3e5cc66d-ae70-4f34-99ee-763d727885a2"
      },
      "source": [
        "#Features Used in the Models\n",
        "list(Feature.columns)"
      ],
      "execution_count": 52,
      "outputs": [
        {
          "output_type": "execute_result",
          "data": {
            "text/plain": [
              "['Principal',\n",
              " 'terms',\n",
              " 'age',\n",
              " 'Gender',\n",
              " 'weekend',\n",
              " 'dayofweek',\n",
              " 'Bechalor',\n",
              " 'High School or Below',\n",
              " 'college']"
            ]
          },
          "metadata": {
            "tags": []
          },
          "execution_count": 52
        }
      ]
    }
  ]
}